{
 "cells": [
  {
   "cell_type": "markdown",
   "id": "3c85cedf",
   "metadata": {},
   "source": [
    "# Introduction\n",
    "This notebook contains the work for [Homework 3](https://github.com/lucamaiano/ADM/tree/master/2022/Homework_3) \n",
    "of [Algorithmic Methods for Data Mining 2022](http://aris.me/index.php/data-mining-ds-2022).\n",
    "\n",
    "## Group Members\n",
    "* Laura Mignella\n",
    "* Paolo Barba\n",
    "* Jonas Barth\n",
    "\n",
    "## Index\n",
    "* [Data Collection](#1.-Data-Collection)\n",
    "    * [Get the list of places](#1.1.-Get-the-list-of-places)\n",
    "    * [Crawl Places](#1.2.-Crawl-places)\n",
    "    * [Parse Pages](#1.3.-Parse-Pages)\n",
    "* [Search Engine](#2.-Search-Engine)\n",
    "    * [Conjunctive Index](#2.1.-Conjunctive-Index)\n",
    "        * [Create Index](#2.1.1.-Create-Index)\n",
    "        * [Create Search Engine and Run Search](#2.1.2.-Create-Search-Engine-and-Run-Search)\n",
    "    * [TF-IDF Index](#2.2.-TF-IDF-Index)\n",
    "        * [Create TF-IDF Index](#2.2.1.-Create-TF-IDF-Index)\n",
    "        * [Create TF-IDF Search Engine and Run Search](#2.2.2.-Create-TF-IDF-Search-Engine-and-Run-Search)\n",
    "* [Own Score](#3.-Own-Score)\n",
    "    * [Proximity](#3.1.-Proximity)\n",
    "    * [Popularity](#3.2.-Popularity)\n",
    "    * [Proximity & Popularity](#3.3.-Proximity-&-Popularity)\n",
    "* [Visualizing the most relevant places](#4.-Visualizing-the-most-relevant-places)"
   ]
  },
  {
   "cell_type": "markdown",
   "id": "eaa29842",
   "metadata": {},
   "source": [
    "# Imports"
   ]
  },
  {
   "cell_type": "code",
   "execution_count": 2,
   "id": "64c71e64",
   "metadata": {},
   "outputs": [],
   "source": [
    "import pandas as pd\n",
    "from parse import parse_htmls\n",
    "from util import read_place_desc, read_htmls_in, write_places_to_tsv, read_places\n",
    "from service import PlaceService, SearchEngine\n",
    "from index import preprocess, Index, TfIdfIndex\n",
    "\n",
    "import requests\n",
    "from tqdm import tqdm\n",
    "import os\n",
    "import time\n",
    "import util\n",
    "import plotly.express as px"
   ]
  },
  {
   "cell_type": "markdown",
   "id": "39ba5f60",
   "metadata": {},
   "source": [
    "# 1. Data Collection\n",
    "##  1.1. Get the list of places\n",
    "\n",
    "\n",
    "\n"
   ]
  },
  {
   "cell_type": "code",
   "execution_count": null,
   "id": "5f80fc83",
   "metadata": {},
   "outputs": [],
   "source": [
    "with open('most_popular_places.txt', 'w') as file:\n",
    "    for i in tqdm(range(400)):\n",
    "        \n",
    "        url = 'https://www.atlasobscura.com/places?page='+str(i+1)+'&sort=likes_count'\n",
    "        list_page = requests.get(url)\n",
    "        list_soup = BeautifulSoup(list_page.text)\n",
    "        list_places = [x['href'] for x in list_soup.find_all('a', {'class':\"content-card content-card-place\"})]\n",
    "        for place in tqdm(list_places):\n",
    "            file.write('https://www.atlasobscura.com' + str(place))\n",
    "            file.write('\\n')"
   ]
  },
  {
   "cell_type": "markdown",
   "id": "767196a7",
   "metadata": {},
   "source": [
    "## 1.2. Crawl places"
   ]
  },
  {
   "cell_type": "code",
   "execution_count": null,
   "id": "64f19d0d",
   "metadata": {},
   "outputs": [],
   "source": [
    "f= open('most_popular_places.txt', 'r')\n",
    "for j, url in enumerate(f):\n",
    "    \n",
    "    if j %18 == 0:\n",
    "        dir_path = f'page{j//18+1}'\n",
    "        if not os.path.isdir(dir_path):\n",
    "            os.mkdir(dir_path)\n",
    "            \n",
    "    response = requests.get(url.strip())\n",
    "    with open(f'{dir_path}/{j+1}.html','w') as file:\n",
    "        print()\n",
    "        file.write(response.text)\n",
    "        \n",
    "    time.sleep(1)"
   ]
  },
  {
   "cell_type": "markdown",
   "id": "b3a67110",
   "metadata": {},
   "source": [
    "# 1.3. Parse Pages"
   ]
  },
  {
   "cell_type": "code",
   "execution_count": null,
   "id": "05956a7c",
   "metadata": {},
   "outputs": [],
   "source": [
    "all_htmls = read_htmls_in('./pages')"
   ]
  },
  {
   "cell_type": "code",
   "execution_count": null,
   "id": "ddb8fd25",
   "metadata": {},
   "outputs": [],
   "source": [
    "all_places = parse_htmls(htmls)"
   ]
  },
  {
   "cell_type": "code",
   "execution_count": null,
   "id": "d263fed0",
   "metadata": {},
   "outputs": [],
   "source": [
    "tsv_path = write_places_to_tsv('./', all_places)"
   ]
  },
  {
   "cell_type": "code",
   "execution_count": 4,
   "id": "4fdb537d",
   "metadata": {},
   "outputs": [],
   "source": [
    "place_service = PlaceService()\n",
    "place_service.load('./places.tsv')"
   ]
  },
  {
   "cell_type": "markdown",
   "id": "0b3e465e",
   "metadata": {},
   "source": [
    "---"
   ]
  },
  {
   "cell_type": "markdown",
   "id": "8a1b1318",
   "metadata": {},
   "source": [
    "# 2. Search Engine \n",
    "\n",
    "## 2.1. Conjunctive Index"
   ]
  },
  {
   "cell_type": "markdown",
   "id": "83c2128c",
   "metadata": {},
   "source": [
    "## 2.1.1. Create Index\n",
    "The index can either be created from the parsed and saved files or from an already saved index.\n",
    "### Create from saved `.tsv` file."
   ]
  },
  {
   "cell_type": "code",
   "execution_count": 71,
   "id": "70e3ba06",
   "metadata": {},
   "outputs": [],
   "source": [
    "ids, descriptions = read_place_desc('./places.tsv')\n",
    "index = Index.create_from(ids, descriptions)"
   ]
  },
  {
   "cell_type": "markdown",
   "id": "ce7cfc21",
   "metadata": {},
   "source": [
    "### Load saved index"
   ]
  },
  {
   "cell_type": "code",
   "execution_count": 72,
   "id": "5bbf1b5d",
   "metadata": {},
   "outputs": [],
   "source": [
    "index = Index.load_from('./resources/index.pickle')"
   ]
  },
  {
   "cell_type": "markdown",
   "id": "a4e17528",
   "metadata": {},
   "source": [
    "### 2.1.2. Create Search Engine and Run Search"
   ]
  },
  {
   "cell_type": "code",
   "execution_count": 73,
   "id": "713c4356",
   "metadata": {},
   "outputs": [],
   "source": [
    "search_engine = SearchEngine(index, place_service)"
   ]
  },
  {
   "cell_type": "code",
   "execution_count": 74,
   "id": "1dd10032",
   "metadata": {},
   "outputs": [
    {
     "data": {
      "text/html": [
       "<div>\n",
       "<style scoped>\n",
       "    .dataframe tbody tr th:only-of-type {\n",
       "        vertical-align: middle;\n",
       "    }\n",
       "\n",
       "    .dataframe tbody tr th {\n",
       "        vertical-align: top;\n",
       "    }\n",
       "\n",
       "    .dataframe thead th {\n",
       "        text-align: right;\n",
       "    }\n",
       "</style>\n",
       "<table border=\"1\" class=\"dataframe\">\n",
       "  <thead>\n",
       "    <tr style=\"text-align: right;\">\n",
       "      <th></th>\n",
       "      <th>name</th>\n",
       "      <th>desc</th>\n",
       "      <th>url</th>\n",
       "    </tr>\n",
       "  </thead>\n",
       "  <tbody>\n",
       "    <tr>\n",
       "      <th>1804</th>\n",
       "      <td>Uncommon Objects</td>\n",
       "      <td>Like an elegant antiques mall gone horribly wr...</td>\n",
       "      <td>https://www.atlasobscura.com/places/uncommon-o...</td>\n",
       "    </tr>\n",
       "    <tr>\n",
       "      <th>2458</th>\n",
       "      <td>Tamástslikt Cultural Institute</td>\n",
       "      <td>The Tamástslikt Cultural Institute, situated o...</td>\n",
       "      <td>https://www.atlasobscura.com/places/tamastslik...</td>\n",
       "    </tr>\n",
       "    <tr>\n",
       "      <th>349</th>\n",
       "      <td>Mitsitam Native Foods Cafe</td>\n",
       "      <td>A visit to the National Mall in Washington, D....</td>\n",
       "      <td>https://www.atlasobscura.com/places/mitsitam-n...</td>\n",
       "    </tr>\n",
       "    <tr>\n",
       "      <th>3701</th>\n",
       "      <td>Museum of Chinese in America</td>\n",
       "      <td>The Museum of Chinese in America is nestled—al...</td>\n",
       "      <td>https://www.atlasobscura.com/places/museum-of-...</td>\n",
       "    </tr>\n",
       "    <tr>\n",
       "      <th>1087</th>\n",
       "      <td>Museum of Mourning Art</td>\n",
       "      <td>Mourning and personal response to death are un...</td>\n",
       "      <td>https://www.atlasobscura.com/places/museum-of-...</td>\n",
       "    </tr>\n",
       "    <tr>\n",
       "      <th>...</th>\n",
       "      <td>...</td>\n",
       "      <td>...</td>\n",
       "      <td>...</td>\n",
       "    </tr>\n",
       "    <tr>\n",
       "      <th>6473</th>\n",
       "      <td>Museum of the American Cocktail</td>\n",
       "      <td>They say that New Orleans is the home of the f...</td>\n",
       "      <td>https://www.atlasobscura.com/places/museum-ame...</td>\n",
       "    </tr>\n",
       "    <tr>\n",
       "      <th>1934</th>\n",
       "      <td>Unto These Hills Cherokee Theatre</td>\n",
       "      <td>Since 1950, members of the local Cherokee trib...</td>\n",
       "      <td>https://www.atlasobscura.com/places/unto-these...</td>\n",
       "    </tr>\n",
       "    <tr>\n",
       "      <th>984</th>\n",
       "      <td>Theodore Roosevelt Birthplace Museum</td>\n",
       "      <td>Behind an otherwise innocuous (if immaculately...</td>\n",
       "      <td>https://www.atlasobscura.com/places/theodore-r...</td>\n",
       "    </tr>\n",
       "    <tr>\n",
       "      <th>620</th>\n",
       "      <td>Canyons of the Ancients</td>\n",
       "      <td>Ripe for quiet reflection and simply awe-inspi...</td>\n",
       "      <td>https://www.atlasobscura.com/places/canyons-of...</td>\n",
       "    </tr>\n",
       "    <tr>\n",
       "      <th>5850</th>\n",
       "      <td>Wilbur D. May Museum</td>\n",
       "      <td>There is only one place in Nevada where you wi...</td>\n",
       "      <td>https://www.atlasobscura.com/places/wilbur-d-m...</td>\n",
       "    </tr>\n",
       "  </tbody>\n",
       "</table>\n",
       "<p>244 rows × 3 columns</p>\n",
       "</div>"
      ],
      "text/plain": [
       "                                      name  \\\n",
       "1804                      Uncommon Objects   \n",
       "2458        Tamástslikt Cultural Institute   \n",
       "349             Mitsitam Native Foods Cafe   \n",
       "3701          Museum of Chinese in America   \n",
       "1087                Museum of Mourning Art   \n",
       "...                                    ...   \n",
       "6473       Museum of the American Cocktail   \n",
       "1934     Unto These Hills Cherokee Theatre   \n",
       "984   Theodore Roosevelt Birthplace Museum   \n",
       "620                Canyons of the Ancients   \n",
       "5850                  Wilbur D. May Museum   \n",
       "\n",
       "                                                   desc  \\\n",
       "1804  Like an elegant antiques mall gone horribly wr...   \n",
       "2458  The Tamástslikt Cultural Institute, situated o...   \n",
       "349   A visit to the National Mall in Washington, D....   \n",
       "3701  The Museum of Chinese in America is nestled—al...   \n",
       "1087  Mourning and personal response to death are un...   \n",
       "...                                                 ...   \n",
       "6473  They say that New Orleans is the home of the f...   \n",
       "1934  Since 1950, members of the local Cherokee trib...   \n",
       "984   Behind an otherwise innocuous (if immaculately...   \n",
       "620   Ripe for quiet reflection and simply awe-inspi...   \n",
       "5850  There is only one place in Nevada where you wi...   \n",
       "\n",
       "                                                    url  \n",
       "1804  https://www.atlasobscura.com/places/uncommon-o...  \n",
       "2458  https://www.atlasobscura.com/places/tamastslik...  \n",
       "349   https://www.atlasobscura.com/places/mitsitam-n...  \n",
       "3701  https://www.atlasobscura.com/places/museum-of-...  \n",
       "1087  https://www.atlasobscura.com/places/museum-of-...  \n",
       "...                                                 ...  \n",
       "6473  https://www.atlasobscura.com/places/museum-ame...  \n",
       "1934  https://www.atlasobscura.com/places/unto-these...  \n",
       "984   https://www.atlasobscura.com/places/theodore-r...  \n",
       "620   https://www.atlasobscura.com/places/canyons-of...  \n",
       "5850  https://www.atlasobscura.com/places/wilbur-d-m...  \n",
       "\n",
       "[244 rows x 3 columns]"
      ]
     },
     "execution_count": 74,
     "metadata": {},
     "output_type": "execute_result"
    }
   ],
   "source": [
    "search_engine.query('american museum')"
   ]
  },
  {
   "cell_type": "markdown",
   "id": "f3a0e312",
   "metadata": {},
   "source": [
    "## 2.2. TF-IDF Index\n",
    "### 2.2.1. Create TF-IDF Index\n",
    "The index can either be created from the parsed and saved files or from an already saved index."
   ]
  },
  {
   "cell_type": "markdown",
   "id": "625dcb6e",
   "metadata": {},
   "source": [
    "### Ceate from saved `.tsv` file"
   ]
  },
  {
   "cell_type": "code",
   "execution_count": 75,
   "id": "7991f5bf",
   "metadata": {},
   "outputs": [],
   "source": [
    "tf_idf_index = TfIdfIndex.create_from(ids, descriptions)"
   ]
  },
  {
   "cell_type": "markdown",
   "id": "da4eabba",
   "metadata": {},
   "source": [
    "### Load saved index"
   ]
  },
  {
   "cell_type": "code",
   "execution_count": 76,
   "id": "94bb6e4a",
   "metadata": {},
   "outputs": [],
   "source": [
    "tf_idf_index = TfIdfIndex.load_from('./resources/tf_idf_index.pickle')"
   ]
  },
  {
   "cell_type": "markdown",
   "id": "1b3d7c3f",
   "metadata": {},
   "source": [
    "### 2.2.2. Create TF-IDF Search Engine and Run Search"
   ]
  },
  {
   "cell_type": "code",
   "execution_count": 77,
   "id": "826d850c",
   "metadata": {},
   "outputs": [
    {
     "data": {
      "text/html": [
       "<div>\n",
       "<style scoped>\n",
       "    .dataframe tbody tr th:only-of-type {\n",
       "        vertical-align: middle;\n",
       "    }\n",
       "\n",
       "    .dataframe tbody tr th {\n",
       "        vertical-align: top;\n",
       "    }\n",
       "\n",
       "    .dataframe thead th {\n",
       "        text-align: right;\n",
       "    }\n",
       "</style>\n",
       "<table border=\"1\" class=\"dataframe\">\n",
       "  <thead>\n",
       "    <tr style=\"text-align: right;\">\n",
       "      <th></th>\n",
       "      <th>name</th>\n",
       "      <th>desc</th>\n",
       "      <th>url</th>\n",
       "      <th>similarity</th>\n",
       "      <th>lat</th>\n",
       "      <th>lon</th>\n",
       "    </tr>\n",
       "  </thead>\n",
       "  <tbody>\n",
       "    <tr>\n",
       "      <th>3926</th>\n",
       "      <td>Smithsonian Sushi Collection</td>\n",
       "      <td>The American History Museum has collected an a...</td>\n",
       "      <td>https://www.atlasobscura.com/places/smithsonia...</td>\n",
       "      <td>0.999944</td>\n",
       "      <td>38.890729</td>\n",
       "      <td>-77.030003</td>\n",
       "    </tr>\n",
       "    <tr>\n",
       "      <th>6489</th>\n",
       "      <td>Mercer Museum and Fonthill Castle</td>\n",
       "      <td>Henry Chapman Mercer, a renowned archaeologist...</td>\n",
       "      <td>https://www.atlasobscura.com/places/fonthill</td>\n",
       "      <td>0.998837</td>\n",
       "      <td>40.306903</td>\n",
       "      <td>-75.128278</td>\n",
       "    </tr>\n",
       "    <tr>\n",
       "      <th>2458</th>\n",
       "      <td>Tamástslikt Cultural Institute</td>\n",
       "      <td>The Tamástslikt Cultural Institute, situated o...</td>\n",
       "      <td>https://www.atlasobscura.com/places/tamastslik...</td>\n",
       "      <td>0.998837</td>\n",
       "      <td>45.653710</td>\n",
       "      <td>-118.663375</td>\n",
       "    </tr>\n",
       "    <tr>\n",
       "      <th>4697</th>\n",
       "      <td>Zippo/Case Museum</td>\n",
       "      <td>Invented in and still proudly manufactured in ...</td>\n",
       "      <td>https://www.atlasobscura.com/places/zippo-case...</td>\n",
       "      <td>0.998837</td>\n",
       "      <td>41.943399</td>\n",
       "      <td>-78.650932</td>\n",
       "    </tr>\n",
       "    <tr>\n",
       "      <th>238</th>\n",
       "      <td>Off the Rez Cafe</td>\n",
       "      <td>The U.S. government’s forced relocation of Nat...</td>\n",
       "      <td>https://www.atlasobscura.com/places/off-the-re...</td>\n",
       "      <td>0.998837</td>\n",
       "      <td>47.660263</td>\n",
       "      <td>-122.311556</td>\n",
       "    </tr>\n",
       "    <tr>\n",
       "      <th>6238</th>\n",
       "      <td>Oak Ridge &amp;quot;The Secret City&amp;quot;</td>\n",
       "      <td>The city of Oak Ridge was established by the U...</td>\n",
       "      <td>https://www.atlasobscura.com/places/the-secret...</td>\n",
       "      <td>0.998837</td>\n",
       "      <td>36.008880</td>\n",
       "      <td>-84.257149</td>\n",
       "    </tr>\n",
       "    <tr>\n",
       "      <th>5429</th>\n",
       "      <td>Old Time Wooden Nickel Company</td>\n",
       "      <td>The adage goes, “don’t take any wooden nickels...</td>\n",
       "      <td>https://www.atlasobscura.com/places/old-time-w...</td>\n",
       "      <td>0.994973</td>\n",
       "      <td>29.456517</td>\n",
       "      <td>-98.456341</td>\n",
       "    </tr>\n",
       "    <tr>\n",
       "      <th>5068</th>\n",
       "      <td>Self-Taught Genius Gallery</td>\n",
       "      <td>In 2017, the American Folk Art Museum in Manha...</td>\n",
       "      <td>https://www.atlasobscura.com/places/self-taugh...</td>\n",
       "      <td>0.992310</td>\n",
       "      <td>40.740928</td>\n",
       "      <td>-73.933380</td>\n",
       "    </tr>\n",
       "    <tr>\n",
       "      <th>5517</th>\n",
       "      <td>Niles Essanay Silent Film Museum</td>\n",
       "      <td>It was Spring in San Francisco. One quiet Apri...</td>\n",
       "      <td>https://www.atlasobscura.com/places/niles-essa...</td>\n",
       "      <td>0.988467</td>\n",
       "      <td>37.577097</td>\n",
       "      <td>-121.980132</td>\n",
       "    </tr>\n",
       "    <tr>\n",
       "      <th>343</th>\n",
       "      <td>Gillette Castle State Park</td>\n",
       "      <td>High above the Connecticut River, Gillette Cas...</td>\n",
       "      <td>https://www.atlasobscura.com/places/gillettes-...</td>\n",
       "      <td>0.988467</td>\n",
       "      <td>41.422983</td>\n",
       "      <td>-72.428414</td>\n",
       "    </tr>\n",
       "  </tbody>\n",
       "</table>\n",
       "</div>"
      ],
      "text/plain": [
       "                                       name  \\\n",
       "3926           Smithsonian Sushi Collection   \n",
       "6489      Mercer Museum and Fonthill Castle   \n",
       "2458         Tamástslikt Cultural Institute   \n",
       "4697                      Zippo/Case Museum   \n",
       "238                        Off the Rez Cafe   \n",
       "6238  Oak Ridge &quot;The Secret City&quot;   \n",
       "5429         Old Time Wooden Nickel Company   \n",
       "5068             Self-Taught Genius Gallery   \n",
       "5517       Niles Essanay Silent Film Museum   \n",
       "343              Gillette Castle State Park   \n",
       "\n",
       "                                                   desc  \\\n",
       "3926  The American History Museum has collected an a...   \n",
       "6489  Henry Chapman Mercer, a renowned archaeologist...   \n",
       "2458  The Tamástslikt Cultural Institute, situated o...   \n",
       "4697  Invented in and still proudly manufactured in ...   \n",
       "238   The U.S. government’s forced relocation of Nat...   \n",
       "6238  The city of Oak Ridge was established by the U...   \n",
       "5429  The adage goes, “don’t take any wooden nickels...   \n",
       "5068  In 2017, the American Folk Art Museum in Manha...   \n",
       "5517  It was Spring in San Francisco. One quiet Apri...   \n",
       "343   High above the Connecticut River, Gillette Cas...   \n",
       "\n",
       "                                                    url  similarity  \\\n",
       "3926  https://www.atlasobscura.com/places/smithsonia...    0.999944   \n",
       "6489       https://www.atlasobscura.com/places/fonthill    0.998837   \n",
       "2458  https://www.atlasobscura.com/places/tamastslik...    0.998837   \n",
       "4697  https://www.atlasobscura.com/places/zippo-case...    0.998837   \n",
       "238   https://www.atlasobscura.com/places/off-the-re...    0.998837   \n",
       "6238  https://www.atlasobscura.com/places/the-secret...    0.998837   \n",
       "5429  https://www.atlasobscura.com/places/old-time-w...    0.994973   \n",
       "5068  https://www.atlasobscura.com/places/self-taugh...    0.992310   \n",
       "5517  https://www.atlasobscura.com/places/niles-essa...    0.988467   \n",
       "343   https://www.atlasobscura.com/places/gillettes-...    0.988467   \n",
       "\n",
       "            lat         lon  \n",
       "3926  38.890729  -77.030003  \n",
       "6489  40.306903  -75.128278  \n",
       "2458  45.653710 -118.663375  \n",
       "4697  41.943399  -78.650932  \n",
       "238   47.660263 -122.311556  \n",
       "6238  36.008880  -84.257149  \n",
       "5429  29.456517  -98.456341  \n",
       "5068  40.740928  -73.933380  \n",
       "5517  37.577097 -121.980132  \n",
       "343   41.422983  -72.428414  "
      ]
     },
     "execution_count": 77,
     "metadata": {},
     "output_type": "execute_result"
    }
   ],
   "source": [
    "tf_idf_search_engine = SearchEngine(tf_idf_index, place_service)\n",
    "tf_idf_search_engine.query_top_k(\"american museum\", 10)"
   ]
  },
  {
   "cell_type": "markdown",
   "id": "222d04b4",
   "metadata": {},
   "source": [
    "---"
   ]
  },
  {
   "cell_type": "markdown",
   "id": "524f0606",
   "metadata": {},
   "source": [
    "# 3. Own Score\n",
    "For our own score, we decided to give the users three ways to rank the places:\n",
    "\n",
    "1. [Proximity](#3.1.-Proximity)\n",
    "1. [Popularity](#3.2.-Popularity)\n",
    "1. [Proximity & Popularity](#3.3.-Proximity-&-Popularity)\n",
    "\n",
    "## 3.1. Proximity\n",
    "The proximity score is based on the user's current location. Places that are closer to the user's location are ranked higher than places that are further away. To user's location is obtained by fetching the currently used IP address and finding the latitudes and longitudes associated with it. Although not exact and prone to manipulation (a VPN could be used to \"change\" location), we avoid having to clean and parse more user input.\n",
    "\n",
    "The similarity score for a place is calculated by subtracting the distance between the user location from the maximum possible distance, and normalising it over the maximum possible distance. Given a distance function $dist(p_1, p_2)$ that returns the distance between two positions on the surface of the earth, the proximity score is defined as:\n",
    "\n",
    "$$proximity(place) = \\frac{max\\_distance - dist(place, user)}{max\\_distance}$$\n",
    "\n",
    "The $max\\_distance$ is simply the earth's circumference divided by two, as this is the maximum possible distance between any two points on the surface of the earth.\n",
    "\n",
    "The reason for subtracting the distance between the user and the place from the maximum distance is so that scores closer to 1 correspond to a higher similarity and scores closer to 0 to lower similarity. More formally:\n",
    "\n",
    "$$\\lim_{dist(place, user) \\to 0} proximity(place) = 1$$\n",
    "\n",
    "$$\\lim_{dist(place, user) \\to max\\_distance} proximity(place) = 0$$"
   ]
  },
  {
   "cell_type": "code",
   "execution_count": 85,
   "id": "f1dbaeed",
   "metadata": {},
   "outputs": [
    {
     "data": {
      "text/html": [
       "<div>\n",
       "<style scoped>\n",
       "    .dataframe tbody tr th:only-of-type {\n",
       "        vertical-align: middle;\n",
       "    }\n",
       "\n",
       "    .dataframe tbody tr th {\n",
       "        vertical-align: top;\n",
       "    }\n",
       "\n",
       "    .dataframe thead th {\n",
       "        text-align: right;\n",
       "    }\n",
       "</style>\n",
       "<table border=\"1\" class=\"dataframe\">\n",
       "  <thead>\n",
       "    <tr style=\"text-align: right;\">\n",
       "      <th></th>\n",
       "      <th>name</th>\n",
       "      <th>desc</th>\n",
       "      <th>address</th>\n",
       "      <th>similarity</th>\n",
       "    </tr>\n",
       "  </thead>\n",
       "  <tbody>\n",
       "    <tr>\n",
       "      <th>2917</th>\n",
       "      <td>Cesare Lombroso&amp;#39;s Museum of Criminal Anthr...</td>\n",
       "      <td>Once only open to academics, Lombroso’s Museum...</td>\n",
       "      <td>University of Turin, Via Pietro Giuria 15, Tur...</td>\n",
       "      <td>0.993611</td>\n",
       "    </tr>\n",
       "    <tr>\n",
       "      <th>3001</th>\n",
       "      <td>Christ of the Abyss</td>\n",
       "      <td>While figures of the divine and the decorative...</td>\n",
       "      <td>San Fruttuoso Coast, San Fruttuoso, 16034, Italy</td>\n",
       "      <td>0.993545</td>\n",
       "    </tr>\n",
       "    <tr>\n",
       "      <th>4863</th>\n",
       "      <td>Lovers of Valdaro</td>\n",
       "      <td>Arms and legs entwined, the couple lay facing ...</td>\n",
       "      <td>Piazza Castello, Mantua, Italy</td>\n",
       "      <td>0.993472</td>\n",
       "    </tr>\n",
       "    <tr>\n",
       "      <th>1522</th>\n",
       "      <td>Nautilus Antiques and Old Oddities</td>\n",
       "      <td>With the tagline “Antique Scientific Instrumen...</td>\n",
       "      <td>Bellezia 15/b, Modena, 41121, Italy</td>\n",
       "      <td>0.991769</td>\n",
       "    </tr>\n",
       "    <tr>\n",
       "      <th>157</th>\n",
       "      <td>St. Beatus Cave</td>\n",
       "      <td>The legend of the cave revolves around its nam...</td>\n",
       "      <td>Lake Thun, Beatenberg, 3800, Switzerland</td>\n",
       "      <td>0.991382</td>\n",
       "    </tr>\n",
       "    <tr>\n",
       "      <th>4759</th>\n",
       "      <td>Barryland</td>\n",
       "      <td>The Musée et Chiens du Saint-Bernard, aka “Bar...</td>\n",
       "      <td>34 Rue du Levant, Martigny, Switzerland</td>\n",
       "      <td>0.991099</td>\n",
       "    </tr>\n",
       "    <tr>\n",
       "      <th>1289</th>\n",
       "      <td>The Town Of Witches</td>\n",
       "      <td>“Are you a good witch, or a bad witch?” In Tri...</td>\n",
       "      <td>Triora, 18010, Italy</td>\n",
       "      <td>0.990016</td>\n",
       "    </tr>\n",
       "    <tr>\n",
       "      <th>5534</th>\n",
       "      <td>Otzi the Iceman</td>\n",
       "      <td>Three basic conditions can lead to natural mum...</td>\n",
       "      <td>Via Museo 43, South Tyrol Museum of Archaeolog...</td>\n",
       "      <td>0.989922</td>\n",
       "    </tr>\n",
       "    <tr>\n",
       "      <th>5753</th>\n",
       "      <td>Museo di Palazzo Poggi Anatomy &amp;amp; Obstetric...</td>\n",
       "      <td>The Anatomical and Obstetrics Collection at th...</td>\n",
       "      <td>Museo de Palazzo Poggi, Via Zamboni, 33, Bolog...</td>\n",
       "      <td>0.989905</td>\n",
       "    </tr>\n",
       "    <tr>\n",
       "      <th>6672</th>\n",
       "      <td>H.R. Giger Museum</td>\n",
       "      <td>In the quaint medieval city of Gruyères, Switz...</td>\n",
       "      <td>Château St. Germain, Gruyères, 1663, Switzerland</td>\n",
       "      <td>0.989803</td>\n",
       "    </tr>\n",
       "  </tbody>\n",
       "</table>\n",
       "</div>"
      ],
      "text/plain": [
       "                                                   name  \\\n",
       "2917  Cesare Lombroso&#39;s Museum of Criminal Anthr...   \n",
       "3001                                Christ of the Abyss   \n",
       "4863                                  Lovers of Valdaro   \n",
       "1522                 Nautilus Antiques and Old Oddities   \n",
       "157                                     St. Beatus Cave   \n",
       "4759                                          Barryland   \n",
       "1289                                The Town Of Witches   \n",
       "5534                                    Otzi the Iceman   \n",
       "5753  Museo di Palazzo Poggi Anatomy &amp; Obstetric...   \n",
       "6672                                  H.R. Giger Museum   \n",
       "\n",
       "                                                   desc  \\\n",
       "2917  Once only open to academics, Lombroso’s Museum...   \n",
       "3001  While figures of the divine and the decorative...   \n",
       "4863  Arms and legs entwined, the couple lay facing ...   \n",
       "1522  With the tagline “Antique Scientific Instrumen...   \n",
       "157   The legend of the cave revolves around its nam...   \n",
       "4759  The Musée et Chiens du Saint-Bernard, aka “Bar...   \n",
       "1289  “Are you a good witch, or a bad witch?” In Tri...   \n",
       "5534  Three basic conditions can lead to natural mum...   \n",
       "5753  The Anatomical and Obstetrics Collection at th...   \n",
       "6672  In the quaint medieval city of Gruyères, Switz...   \n",
       "\n",
       "                                                address  similarity  \n",
       "2917  University of Turin, Via Pietro Giuria 15, Tur...    0.993611  \n",
       "3001   San Fruttuoso Coast, San Fruttuoso, 16034, Italy    0.993545  \n",
       "4863                     Piazza Castello, Mantua, Italy    0.993472  \n",
       "1522                Bellezia 15/b, Modena, 41121, Italy    0.991769  \n",
       "157            Lake Thun, Beatenberg, 3800, Switzerland    0.991382  \n",
       "4759            34 Rue du Levant, Martigny, Switzerland    0.991099  \n",
       "1289                               Triora, 18010, Italy    0.990016  \n",
       "5534  Via Museo 43, South Tyrol Museum of Archaeolog...    0.989922  \n",
       "5753  Museo de Palazzo Poggi, Via Zamboni, 33, Bolog...    0.989905  \n",
       "6672   Château St. Germain, Gruyères, 1663, Switzerland    0.989803  "
      ]
     },
     "execution_count": 85,
     "metadata": {},
     "output_type": "execute_result"
    }
   ],
   "source": [
    "search_engine.query_custom('museum', top_k=10, proximity=True, popularity=False)[[\"name\",\"desc\",\"address\",\"similarity\"]]"
   ]
  },
  {
   "cell_type": "markdown",
   "id": "1dbb301a",
   "metadata": {},
   "source": [
    "## 3.2. Popularity\n",
    "The popularity score ranks places by popularity, with more popular places being above less popular places. The popularity of a place is calculated using the number of people that have visited it and the number of people that want to go. We chose these two variables, because the very meaning of popularity is that many people are interested in a place. If many people want to go to a place or have visited it, it therefore means that is popular.\n",
    "\n",
    "For the number of people that went and number of people that want to go, we calculate their ratio over the total number of people that visited all places and the total number, sum them, and equally weigh the two ratios. \n",
    "\n",
    "$$popularity = \\frac{1}{2} \\times \\left(\\frac{num\\_people\\_went}{total\\_people\\_went} + \\frac{num\\_people\\_want}{total\\_people\\_want}\\right)$$\n",
    "\n"
   ]
  },
  {
   "cell_type": "code",
   "execution_count": 86,
   "id": "036b9a00",
   "metadata": {},
   "outputs": [
    {
     "data": {
      "text/html": [
       "<div>\n",
       "<style scoped>\n",
       "    .dataframe tbody tr th:only-of-type {\n",
       "        vertical-align: middle;\n",
       "    }\n",
       "\n",
       "    .dataframe tbody tr th {\n",
       "        vertical-align: top;\n",
       "    }\n",
       "\n",
       "    .dataframe thead th {\n",
       "        text-align: right;\n",
       "    }\n",
       "</style>\n",
       "<table border=\"1\" class=\"dataframe\">\n",
       "  <thead>\n",
       "    <tr style=\"text-align: right;\">\n",
       "      <th></th>\n",
       "      <th>name</th>\n",
       "      <th>desc</th>\n",
       "      <th>address</th>\n",
       "      <th>similarity</th>\n",
       "    </tr>\n",
       "  </thead>\n",
       "  <tbody>\n",
       "    <tr>\n",
       "      <th>2000</th>\n",
       "      <td>Mütter Museum</td>\n",
       "      <td>Located inside the headquarters of the College...</td>\n",
       "      <td>19 South 22nd Street, Philadelphia, Pennsylvan...</td>\n",
       "      <td>0.005018</td>\n",
       "    </tr>\n",
       "    <tr>\n",
       "      <th>6820</th>\n",
       "      <td>Museum of Pop Culture</td>\n",
       "      <td>In Seattle, where art seems to spring from the...</td>\n",
       "      <td>325 5th Avenue North, Seattle, Washington, 981...</td>\n",
       "      <td>0.004714</td>\n",
       "    </tr>\n",
       "    <tr>\n",
       "      <th>0</th>\n",
       "      <td>City Hall Station</td>\n",
       "      <td>The first New York City subway was built and o...</td>\n",
       "      <td>31 Centre St, New York, New York, 10007, Unite...</td>\n",
       "      <td>0.004609</td>\n",
       "    </tr>\n",
       "    <tr>\n",
       "      <th>614</th>\n",
       "      <td>Natural History Museum of London</td>\n",
       "      <td>Established in 1881, the Natural History Museu...</td>\n",
       "      <td>Cromwell Road, London, England, SW7 2DD, Unite...</td>\n",
       "      <td>0.004500</td>\n",
       "    </tr>\n",
       "    <tr>\n",
       "      <th>14</th>\n",
       "      <td>The Evolution Store</td>\n",
       "      <td>Evolution stands out among the clothing stores...</td>\n",
       "      <td>687 Broadway, New York, New York, 10012, Unite...</td>\n",
       "      <td>0.004283</td>\n",
       "    </tr>\n",
       "    <tr>\n",
       "      <th>5999</th>\n",
       "      <td>The Witch House of Salem</td>\n",
       "      <td>The Salem witchcraft trials took place between...</td>\n",
       "      <td>310 1/2 Essex Street, Salem, Massachusetts, 01...</td>\n",
       "      <td>0.003955</td>\n",
       "    </tr>\n",
       "    <tr>\n",
       "      <th>825</th>\n",
       "      <td>Casa Batlló</td>\n",
       "      <td>One of Gaudí’s most iconic works, Casa Batlló ...</td>\n",
       "      <td>43 Passeig de Gràcia, Barcelona, 08007, Spain</td>\n",
       "      <td>0.003873</td>\n",
       "    </tr>\n",
       "    <tr>\n",
       "      <th>5011</th>\n",
       "      <td>Park Güell</td>\n",
       "      <td>At Park Güell, stone, tile, plants, and Medite...</td>\n",
       "      <td>s/n Carrer d'Olot, Barcelona, 08024, Spain</td>\n",
       "      <td>0.003774</td>\n",
       "    </tr>\n",
       "    <tr>\n",
       "      <th>4411</th>\n",
       "      <td>Centre Pompidou</td>\n",
       "      <td>Located in Paris’ 4th arrondissement, Centre G...</td>\n",
       "      <td>Centre Georges Pompidou, Paris, 75004, France</td>\n",
       "      <td>0.003709</td>\n",
       "    </tr>\n",
       "    <tr>\n",
       "      <th>1010</th>\n",
       "      <td>La Brea Tar Pits Dragonfly Fossils</td>\n",
       "      <td>The landmarked La Brea Tar Pits and Museum is ...</td>\n",
       "      <td>La Brea Tar Pits and Museum, 5801 Wilshire Bou...</td>\n",
       "      <td>0.003677</td>\n",
       "    </tr>\n",
       "  </tbody>\n",
       "</table>\n",
       "</div>"
      ],
      "text/plain": [
       "                                    name  \\\n",
       "2000                       Mütter Museum   \n",
       "6820               Museum of Pop Culture   \n",
       "0                      City Hall Station   \n",
       "614     Natural History Museum of London   \n",
       "14                   The Evolution Store   \n",
       "5999            The Witch House of Salem   \n",
       "825                          Casa Batlló   \n",
       "5011                          Park Güell   \n",
       "4411                     Centre Pompidou   \n",
       "1010  La Brea Tar Pits Dragonfly Fossils   \n",
       "\n",
       "                                                   desc  \\\n",
       "2000  Located inside the headquarters of the College...   \n",
       "6820  In Seattle, where art seems to spring from the...   \n",
       "0     The first New York City subway was built and o...   \n",
       "614   Established in 1881, the Natural History Museu...   \n",
       "14    Evolution stands out among the clothing stores...   \n",
       "5999  The Salem witchcraft trials took place between...   \n",
       "825   One of Gaudí’s most iconic works, Casa Batlló ...   \n",
       "5011  At Park Güell, stone, tile, plants, and Medite...   \n",
       "4411  Located in Paris’ 4th arrondissement, Centre G...   \n",
       "1010  The landmarked La Brea Tar Pits and Museum is ...   \n",
       "\n",
       "                                                address  similarity  \n",
       "2000  19 South 22nd Street, Philadelphia, Pennsylvan...    0.005018  \n",
       "6820  325 5th Avenue North, Seattle, Washington, 981...    0.004714  \n",
       "0     31 Centre St, New York, New York, 10007, Unite...    0.004609  \n",
       "614   Cromwell Road, London, England, SW7 2DD, Unite...    0.004500  \n",
       "14    687 Broadway, New York, New York, 10012, Unite...    0.004283  \n",
       "5999  310 1/2 Essex Street, Salem, Massachusetts, 01...    0.003955  \n",
       "825       43 Passeig de Gràcia, Barcelona, 08007, Spain    0.003873  \n",
       "5011         s/n Carrer d'Olot, Barcelona, 08024, Spain    0.003774  \n",
       "4411      Centre Georges Pompidou, Paris, 75004, France    0.003709  \n",
       "1010  La Brea Tar Pits and Museum, 5801 Wilshire Bou...    0.003677  "
      ]
     },
     "execution_count": 86,
     "metadata": {},
     "output_type": "execute_result"
    }
   ],
   "source": [
    "search_engine.query_custom(\"museum\", top_k=10, proximity=False, popularity=True)[[\"name\",\"desc\",\"address\",\"similarity\"]]"
   ]
  },
  {
   "cell_type": "markdown",
   "id": "e1144db0",
   "metadata": {},
   "source": [
    "## 3.3. Proximity & Popularity\n",
    "For the combination of proximity and popularity, the two scores are simply multiplied together.\n",
    "\n",
    "$$proximity \\times popularity$$"
   ]
  },
  {
   "cell_type": "code",
   "execution_count": 87,
   "id": "00697624",
   "metadata": {},
   "outputs": [
    {
     "data": {
      "text/html": [
       "<div>\n",
       "<style scoped>\n",
       "    .dataframe tbody tr th:only-of-type {\n",
       "        vertical-align: middle;\n",
       "    }\n",
       "\n",
       "    .dataframe tbody tr th {\n",
       "        vertical-align: top;\n",
       "    }\n",
       "\n",
       "    .dataframe thead th {\n",
       "        text-align: right;\n",
       "    }\n",
       "</style>\n",
       "<table border=\"1\" class=\"dataframe\">\n",
       "  <thead>\n",
       "    <tr style=\"text-align: right;\">\n",
       "      <th></th>\n",
       "      <th>name</th>\n",
       "      <th>desc</th>\n",
       "      <th>address</th>\n",
       "      <th>similarity</th>\n",
       "    </tr>\n",
       "  </thead>\n",
       "  <tbody>\n",
       "    <tr>\n",
       "      <th>614</th>\n",
       "      <td>Natural History Museum of London</td>\n",
       "      <td>Established in 1881, the Natural History Museu...</td>\n",
       "      <td>Cromwell Road, London, England, SW7 2DD, Unite...</td>\n",
       "      <td>0.004284</td>\n",
       "    </tr>\n",
       "    <tr>\n",
       "      <th>825</th>\n",
       "      <td>Casa Batlló</td>\n",
       "      <td>One of Gaudí’s most iconic works, Casa Batlló ...</td>\n",
       "      <td>43 Passeig de Gràcia, Barcelona, 08007, Spain</td>\n",
       "      <td>0.003733</td>\n",
       "    </tr>\n",
       "    <tr>\n",
       "      <th>5011</th>\n",
       "      <td>Park Güell</td>\n",
       "      <td>At Park Güell, stone, tile, plants, and Medite...</td>\n",
       "      <td>s/n Carrer d'Olot, Barcelona, 08024, Spain</td>\n",
       "      <td>0.003637</td>\n",
       "    </tr>\n",
       "    <tr>\n",
       "      <th>4411</th>\n",
       "      <td>Centre Pompidou</td>\n",
       "      <td>Located in Paris’ 4th arrondissement, Centre G...</td>\n",
       "      <td>Centre Georges Pompidou, Paris, 75004, France</td>\n",
       "      <td>0.003591</td>\n",
       "    </tr>\n",
       "    <tr>\n",
       "      <th>2000</th>\n",
       "      <td>Mütter Museum</td>\n",
       "      <td>Located inside the headquarters of the College...</td>\n",
       "      <td>19 South 22nd Street, Philadelphia, Pennsylvan...</td>\n",
       "      <td>0.003363</td>\n",
       "    </tr>\n",
       "    <tr>\n",
       "      <th>0</th>\n",
       "      <td>City Hall Station</td>\n",
       "      <td>The first New York City subway was built and o...</td>\n",
       "      <td>31 Centre St, New York, New York, 10007, Unite...</td>\n",
       "      <td>0.003118</td>\n",
       "    </tr>\n",
       "    <tr>\n",
       "      <th>14</th>\n",
       "      <td>The Evolution Store</td>\n",
       "      <td>Evolution stands out among the clothing stores...</td>\n",
       "      <td>687 Broadway, New York, New York, 10012, Unite...</td>\n",
       "      <td>0.002898</td>\n",
       "    </tr>\n",
       "    <tr>\n",
       "      <th>5999</th>\n",
       "      <td>The Witch House of Salem</td>\n",
       "      <td>The Salem witchcraft trials took place between...</td>\n",
       "      <td>310 1/2 Essex Street, Salem, Massachusetts, 01...</td>\n",
       "      <td>0.002740</td>\n",
       "    </tr>\n",
       "    <tr>\n",
       "      <th>7008</th>\n",
       "      <td>221b Baker Street</td>\n",
       "      <td>Beeton’s Christmas Annual was a hugely popular...</td>\n",
       "      <td>237 Baker Street, Devon, London, England, NW1 ...</td>\n",
       "      <td>0.002696</td>\n",
       "    </tr>\n",
       "    <tr>\n",
       "      <th>6820</th>\n",
       "      <td>Museum of Pop Culture</td>\n",
       "      <td>In Seattle, where art seems to spring from the...</td>\n",
       "      <td>325 5th Avenue North, Seattle, Washington, 981...</td>\n",
       "      <td>0.002676</td>\n",
       "    </tr>\n",
       "  </tbody>\n",
       "</table>\n",
       "</div>"
      ],
      "text/plain": [
       "                                  name  \\\n",
       "614   Natural History Museum of London   \n",
       "825                        Casa Batlló   \n",
       "5011                        Park Güell   \n",
       "4411                   Centre Pompidou   \n",
       "2000                     Mütter Museum   \n",
       "0                    City Hall Station   \n",
       "14                 The Evolution Store   \n",
       "5999          The Witch House of Salem   \n",
       "7008                 221b Baker Street   \n",
       "6820             Museum of Pop Culture   \n",
       "\n",
       "                                                   desc  \\\n",
       "614   Established in 1881, the Natural History Museu...   \n",
       "825   One of Gaudí’s most iconic works, Casa Batlló ...   \n",
       "5011  At Park Güell, stone, tile, plants, and Medite...   \n",
       "4411  Located in Paris’ 4th arrondissement, Centre G...   \n",
       "2000  Located inside the headquarters of the College...   \n",
       "0     The first New York City subway was built and o...   \n",
       "14    Evolution stands out among the clothing stores...   \n",
       "5999  The Salem witchcraft trials took place between...   \n",
       "7008  Beeton’s Christmas Annual was a hugely popular...   \n",
       "6820  In Seattle, where art seems to spring from the...   \n",
       "\n",
       "                                                address  similarity  \n",
       "614   Cromwell Road, London, England, SW7 2DD, Unite...    0.004284  \n",
       "825       43 Passeig de Gràcia, Barcelona, 08007, Spain    0.003733  \n",
       "5011         s/n Carrer d'Olot, Barcelona, 08024, Spain    0.003637  \n",
       "4411      Centre Georges Pompidou, Paris, 75004, France    0.003591  \n",
       "2000  19 South 22nd Street, Philadelphia, Pennsylvan...    0.003363  \n",
       "0     31 Centre St, New York, New York, 10007, Unite...    0.003118  \n",
       "14    687 Broadway, New York, New York, 10012, Unite...    0.002898  \n",
       "5999  310 1/2 Essex Street, Salem, Massachusetts, 01...    0.002740  \n",
       "7008  237 Baker Street, Devon, London, England, NW1 ...    0.002696  \n",
       "6820  325 5th Avenue North, Seattle, Washington, 981...    0.002676  "
      ]
     },
     "execution_count": 87,
     "metadata": {},
     "output_type": "execute_result"
    }
   ],
   "source": [
    "search_engine.query_custom(\"museum\" , top_k=10, proximity=True, popularity=True)[[\"name\",\"desc\",\"address\",\"similarity\"]]"
   ]
  },
  {
   "cell_type": "markdown",
   "id": "b9c4628e",
   "metadata": {},
   "source": [
    "---"
   ]
  },
  {
   "cell_type": "markdown",
   "id": "8d1baeca",
   "metadata": {},
   "source": [
    "# 4. Visualizing the most relevant places"
   ]
  },
  {
   "cell_type": "code",
   "execution_count": 88,
   "id": "a2a91cbb",
   "metadata": {},
   "outputs": [],
   "source": [
    "d_cosine = tf_idf_search_engine.query_top_k(\"american museum\", 10)\n",
    "d_proximity = search_engine.query_custom('american museum', top_k=10, proximity=True, popularity=False)\n",
    "d_popularity = search_engine.query_custom(\"american museum\", top_k=10, proximity=False, popularity=True)\n",
    "d_combination = search_engine.query_custom(\"american museum\" , top_k=10, proximity=True, popularity=True)"
   ]
  },
  {
   "cell_type": "code",
   "execution_count": 97,
   "id": "c54108ca",
   "metadata": {},
   "outputs": [
    {
     "data": {
      "application/vnd.plotly.v1+json": {
       "config": {
        "plotlyServerURL": "https://plot.ly"
       },
       "data": [
        {
         "customdata": [
          [
           "Smithsonian Sushi Collection"
          ],
          [
           "Mercer Museum and Fonthill Castle"
          ],
          [
           "Tamástslikt Cultural Institute"
          ],
          [
           "Zippo/Case Museum"
          ],
          [
           "Off the Rez Cafe"
          ],
          [
           "Oak Ridge &quot;The Secret City&quot;"
          ],
          [
           "Old Time Wooden Nickel Company"
          ],
          [
           "Self-Taught Genius Gallery"
          ],
          [
           "Niles Essanay Silent Film Museum"
          ],
          [
           "Gillette Castle State Park"
          ]
         ],
         "hovertemplate": "similarity=%{marker.color}<br>lat=%{lat}<br>lon=%{lon}<br>name=%{customdata[0]}<extra></extra>",
         "lat": [
          38.890729,
          40.306903,
          45.65371,
          41.943399,
          47.660263,
          36.00888,
          29.456517,
          40.740928,
          37.577097,
          41.422983
         ],
         "legendgroup": "",
         "lon": [
          -77.030003,
          -75.128278,
          -118.663375,
          -78.650932,
          -122.311556,
          -84.257149,
          -98.456341,
          -73.93338,
          -121.980132,
          -72.428414
         ],
         "marker": {
          "color": [
           0.9999440444478744,
           0.9988368275010288,
           0.9988368275010288,
           0.9988368275010288,
           0.9988368275010286,
           0.9988368275010286,
           0.9949729339942093,
           0.9923103037561561,
           0.9884667730909569,
           0.9884667730909569
          ],
          "coloraxis": "coloraxis",
          "size": [
           0.9999440444478744,
           0.9988368275010288,
           0.9988368275010288,
           0.9988368275010288,
           0.9988368275010286,
           0.9988368275010286,
           0.9949729339942093,
           0.9923103037561561,
           0.9884667730909569,
           0.9884667730909569
          ],
          "sizemode": "area",
          "sizeref": 0.002499860111119686
         },
         "mode": "markers",
         "name": "",
         "showlegend": false,
         "subplot": "mapbox",
         "type": "scattermapbox"
        }
       ],
       "layout": {
        "coloraxis": {
         "colorbar": {
          "title": {
           "text": "similarity"
          }
         },
         "colorscale": [
          [
           0,
           "#0d0887"
          ],
          [
           0.1111111111111111,
           "#46039f"
          ],
          [
           0.2222222222222222,
           "#7201a8"
          ],
          [
           0.3333333333333333,
           "#9c179e"
          ],
          [
           0.4444444444444444,
           "#bd3786"
          ],
          [
           0.5555555555555556,
           "#d8576b"
          ],
          [
           0.6666666666666666,
           "#ed7953"
          ],
          [
           0.7777777777777778,
           "#fb9f3a"
          ],
          [
           0.8888888888888888,
           "#fdca26"
          ],
          [
           1,
           "#f0f921"
          ]
         ]
        },
        "height": 600,
        "legend": {
         "itemsizing": "constant",
         "tracegroupgap": 0
        },
        "mapbox": {
         "center": {
          "lat": 40.77,
          "lon": -73.96
         },
         "domain": {
          "x": [
           0,
           1
          ],
          "y": [
           0,
           1
          ]
         },
         "style": "stamen-toner",
         "zoom": 0.7
        },
        "margin": {
         "t": 60
        },
        "template": {
         "data": {
          "bar": [
           {
            "error_x": {
             "color": "#2a3f5f"
            },
            "error_y": {
             "color": "#2a3f5f"
            },
            "marker": {
             "line": {
              "color": "#E5ECF6",
              "width": 0.5
             },
             "pattern": {
              "fillmode": "overlay",
              "size": 10,
              "solidity": 0.2
             }
            },
            "type": "bar"
           }
          ],
          "barpolar": [
           {
            "marker": {
             "line": {
              "color": "#E5ECF6",
              "width": 0.5
             },
             "pattern": {
              "fillmode": "overlay",
              "size": 10,
              "solidity": 0.2
             }
            },
            "type": "barpolar"
           }
          ],
          "carpet": [
           {
            "aaxis": {
             "endlinecolor": "#2a3f5f",
             "gridcolor": "white",
             "linecolor": "white",
             "minorgridcolor": "white",
             "startlinecolor": "#2a3f5f"
            },
            "baxis": {
             "endlinecolor": "#2a3f5f",
             "gridcolor": "white",
             "linecolor": "white",
             "minorgridcolor": "white",
             "startlinecolor": "#2a3f5f"
            },
            "type": "carpet"
           }
          ],
          "choropleth": [
           {
            "colorbar": {
             "outlinewidth": 0,
             "ticks": ""
            },
            "type": "choropleth"
           }
          ],
          "contour": [
           {
            "colorbar": {
             "outlinewidth": 0,
             "ticks": ""
            },
            "colorscale": [
             [
              0,
              "#0d0887"
             ],
             [
              0.1111111111111111,
              "#46039f"
             ],
             [
              0.2222222222222222,
              "#7201a8"
             ],
             [
              0.3333333333333333,
              "#9c179e"
             ],
             [
              0.4444444444444444,
              "#bd3786"
             ],
             [
              0.5555555555555556,
              "#d8576b"
             ],
             [
              0.6666666666666666,
              "#ed7953"
             ],
             [
              0.7777777777777778,
              "#fb9f3a"
             ],
             [
              0.8888888888888888,
              "#fdca26"
             ],
             [
              1,
              "#f0f921"
             ]
            ],
            "type": "contour"
           }
          ],
          "contourcarpet": [
           {
            "colorbar": {
             "outlinewidth": 0,
             "ticks": ""
            },
            "type": "contourcarpet"
           }
          ],
          "heatmap": [
           {
            "colorbar": {
             "outlinewidth": 0,
             "ticks": ""
            },
            "colorscale": [
             [
              0,
              "#0d0887"
             ],
             [
              0.1111111111111111,
              "#46039f"
             ],
             [
              0.2222222222222222,
              "#7201a8"
             ],
             [
              0.3333333333333333,
              "#9c179e"
             ],
             [
              0.4444444444444444,
              "#bd3786"
             ],
             [
              0.5555555555555556,
              "#d8576b"
             ],
             [
              0.6666666666666666,
              "#ed7953"
             ],
             [
              0.7777777777777778,
              "#fb9f3a"
             ],
             [
              0.8888888888888888,
              "#fdca26"
             ],
             [
              1,
              "#f0f921"
             ]
            ],
            "type": "heatmap"
           }
          ],
          "heatmapgl": [
           {
            "colorbar": {
             "outlinewidth": 0,
             "ticks": ""
            },
            "colorscale": [
             [
              0,
              "#0d0887"
             ],
             [
              0.1111111111111111,
              "#46039f"
             ],
             [
              0.2222222222222222,
              "#7201a8"
             ],
             [
              0.3333333333333333,
              "#9c179e"
             ],
             [
              0.4444444444444444,
              "#bd3786"
             ],
             [
              0.5555555555555556,
              "#d8576b"
             ],
             [
              0.6666666666666666,
              "#ed7953"
             ],
             [
              0.7777777777777778,
              "#fb9f3a"
             ],
             [
              0.8888888888888888,
              "#fdca26"
             ],
             [
              1,
              "#f0f921"
             ]
            ],
            "type": "heatmapgl"
           }
          ],
          "histogram": [
           {
            "marker": {
             "pattern": {
              "fillmode": "overlay",
              "size": 10,
              "solidity": 0.2
             }
            },
            "type": "histogram"
           }
          ],
          "histogram2d": [
           {
            "colorbar": {
             "outlinewidth": 0,
             "ticks": ""
            },
            "colorscale": [
             [
              0,
              "#0d0887"
             ],
             [
              0.1111111111111111,
              "#46039f"
             ],
             [
              0.2222222222222222,
              "#7201a8"
             ],
             [
              0.3333333333333333,
              "#9c179e"
             ],
             [
              0.4444444444444444,
              "#bd3786"
             ],
             [
              0.5555555555555556,
              "#d8576b"
             ],
             [
              0.6666666666666666,
              "#ed7953"
             ],
             [
              0.7777777777777778,
              "#fb9f3a"
             ],
             [
              0.8888888888888888,
              "#fdca26"
             ],
             [
              1,
              "#f0f921"
             ]
            ],
            "type": "histogram2d"
           }
          ],
          "histogram2dcontour": [
           {
            "colorbar": {
             "outlinewidth": 0,
             "ticks": ""
            },
            "colorscale": [
             [
              0,
              "#0d0887"
             ],
             [
              0.1111111111111111,
              "#46039f"
             ],
             [
              0.2222222222222222,
              "#7201a8"
             ],
             [
              0.3333333333333333,
              "#9c179e"
             ],
             [
              0.4444444444444444,
              "#bd3786"
             ],
             [
              0.5555555555555556,
              "#d8576b"
             ],
             [
              0.6666666666666666,
              "#ed7953"
             ],
             [
              0.7777777777777778,
              "#fb9f3a"
             ],
             [
              0.8888888888888888,
              "#fdca26"
             ],
             [
              1,
              "#f0f921"
             ]
            ],
            "type": "histogram2dcontour"
           }
          ],
          "mesh3d": [
           {
            "colorbar": {
             "outlinewidth": 0,
             "ticks": ""
            },
            "type": "mesh3d"
           }
          ],
          "parcoords": [
           {
            "line": {
             "colorbar": {
              "outlinewidth": 0,
              "ticks": ""
             }
            },
            "type": "parcoords"
           }
          ],
          "pie": [
           {
            "automargin": true,
            "type": "pie"
           }
          ],
          "scatter": [
           {
            "marker": {
             "colorbar": {
              "outlinewidth": 0,
              "ticks": ""
             }
            },
            "type": "scatter"
           }
          ],
          "scatter3d": [
           {
            "line": {
             "colorbar": {
              "outlinewidth": 0,
              "ticks": ""
             }
            },
            "marker": {
             "colorbar": {
              "outlinewidth": 0,
              "ticks": ""
             }
            },
            "type": "scatter3d"
           }
          ],
          "scattercarpet": [
           {
            "marker": {
             "colorbar": {
              "outlinewidth": 0,
              "ticks": ""
             }
            },
            "type": "scattercarpet"
           }
          ],
          "scattergeo": [
           {
            "marker": {
             "colorbar": {
              "outlinewidth": 0,
              "ticks": ""
             }
            },
            "type": "scattergeo"
           }
          ],
          "scattergl": [
           {
            "marker": {
             "colorbar": {
              "outlinewidth": 0,
              "ticks": ""
             }
            },
            "type": "scattergl"
           }
          ],
          "scattermapbox": [
           {
            "marker": {
             "colorbar": {
              "outlinewidth": 0,
              "ticks": ""
             }
            },
            "type": "scattermapbox"
           }
          ],
          "scatterpolar": [
           {
            "marker": {
             "colorbar": {
              "outlinewidth": 0,
              "ticks": ""
             }
            },
            "type": "scatterpolar"
           }
          ],
          "scatterpolargl": [
           {
            "marker": {
             "colorbar": {
              "outlinewidth": 0,
              "ticks": ""
             }
            },
            "type": "scatterpolargl"
           }
          ],
          "scatterternary": [
           {
            "marker": {
             "colorbar": {
              "outlinewidth": 0,
              "ticks": ""
             }
            },
            "type": "scatterternary"
           }
          ],
          "surface": [
           {
            "colorbar": {
             "outlinewidth": 0,
             "ticks": ""
            },
            "colorscale": [
             [
              0,
              "#0d0887"
             ],
             [
              0.1111111111111111,
              "#46039f"
             ],
             [
              0.2222222222222222,
              "#7201a8"
             ],
             [
              0.3333333333333333,
              "#9c179e"
             ],
             [
              0.4444444444444444,
              "#bd3786"
             ],
             [
              0.5555555555555556,
              "#d8576b"
             ],
             [
              0.6666666666666666,
              "#ed7953"
             ],
             [
              0.7777777777777778,
              "#fb9f3a"
             ],
             [
              0.8888888888888888,
              "#fdca26"
             ],
             [
              1,
              "#f0f921"
             ]
            ],
            "type": "surface"
           }
          ],
          "table": [
           {
            "cells": {
             "fill": {
              "color": "#EBF0F8"
             },
             "line": {
              "color": "white"
             }
            },
            "header": {
             "fill": {
              "color": "#C8D4E3"
             },
             "line": {
              "color": "white"
             }
            },
            "type": "table"
           }
          ]
         },
         "layout": {
          "annotationdefaults": {
           "arrowcolor": "#2a3f5f",
           "arrowhead": 0,
           "arrowwidth": 1
          },
          "autotypenumbers": "strict",
          "coloraxis": {
           "colorbar": {
            "outlinewidth": 0,
            "ticks": ""
           }
          },
          "colorscale": {
           "diverging": [
            [
             0,
             "#8e0152"
            ],
            [
             0.1,
             "#c51b7d"
            ],
            [
             0.2,
             "#de77ae"
            ],
            [
             0.3,
             "#f1b6da"
            ],
            [
             0.4,
             "#fde0ef"
            ],
            [
             0.5,
             "#f7f7f7"
            ],
            [
             0.6,
             "#e6f5d0"
            ],
            [
             0.7,
             "#b8e186"
            ],
            [
             0.8,
             "#7fbc41"
            ],
            [
             0.9,
             "#4d9221"
            ],
            [
             1,
             "#276419"
            ]
           ],
           "sequential": [
            [
             0,
             "#0d0887"
            ],
            [
             0.1111111111111111,
             "#46039f"
            ],
            [
             0.2222222222222222,
             "#7201a8"
            ],
            [
             0.3333333333333333,
             "#9c179e"
            ],
            [
             0.4444444444444444,
             "#bd3786"
            ],
            [
             0.5555555555555556,
             "#d8576b"
            ],
            [
             0.6666666666666666,
             "#ed7953"
            ],
            [
             0.7777777777777778,
             "#fb9f3a"
            ],
            [
             0.8888888888888888,
             "#fdca26"
            ],
            [
             1,
             "#f0f921"
            ]
           ],
           "sequentialminus": [
            [
             0,
             "#0d0887"
            ],
            [
             0.1111111111111111,
             "#46039f"
            ],
            [
             0.2222222222222222,
             "#7201a8"
            ],
            [
             0.3333333333333333,
             "#9c179e"
            ],
            [
             0.4444444444444444,
             "#bd3786"
            ],
            [
             0.5555555555555556,
             "#d8576b"
            ],
            [
             0.6666666666666666,
             "#ed7953"
            ],
            [
             0.7777777777777778,
             "#fb9f3a"
            ],
            [
             0.8888888888888888,
             "#fdca26"
            ],
            [
             1,
             "#f0f921"
            ]
           ]
          },
          "colorway": [
           "#636efa",
           "#EF553B",
           "#00cc96",
           "#ab63fa",
           "#FFA15A",
           "#19d3f3",
           "#FF6692",
           "#B6E880",
           "#FF97FF",
           "#FECB52"
          ],
          "font": {
           "color": "#2a3f5f"
          },
          "geo": {
           "bgcolor": "white",
           "lakecolor": "white",
           "landcolor": "#E5ECF6",
           "showlakes": true,
           "showland": true,
           "subunitcolor": "white"
          },
          "hoverlabel": {
           "align": "left"
          },
          "hovermode": "closest",
          "mapbox": {
           "style": "light"
          },
          "paper_bgcolor": "white",
          "plot_bgcolor": "#E5ECF6",
          "polar": {
           "angularaxis": {
            "gridcolor": "white",
            "linecolor": "white",
            "ticks": ""
           },
           "bgcolor": "#E5ECF6",
           "radialaxis": {
            "gridcolor": "white",
            "linecolor": "white",
            "ticks": ""
           }
          },
          "scene": {
           "xaxis": {
            "backgroundcolor": "#E5ECF6",
            "gridcolor": "white",
            "gridwidth": 2,
            "linecolor": "white",
            "showbackground": true,
            "ticks": "",
            "zerolinecolor": "white"
           },
           "yaxis": {
            "backgroundcolor": "#E5ECF6",
            "gridcolor": "white",
            "gridwidth": 2,
            "linecolor": "white",
            "showbackground": true,
            "ticks": "",
            "zerolinecolor": "white"
           },
           "zaxis": {
            "backgroundcolor": "#E5ECF6",
            "gridcolor": "white",
            "gridwidth": 2,
            "linecolor": "white",
            "showbackground": true,
            "ticks": "",
            "zerolinecolor": "white"
           }
          },
          "shapedefaults": {
           "line": {
            "color": "#2a3f5f"
           }
          },
          "ternary": {
           "aaxis": {
            "gridcolor": "white",
            "linecolor": "white",
            "ticks": ""
           },
           "baxis": {
            "gridcolor": "white",
            "linecolor": "white",
            "ticks": ""
           },
           "bgcolor": "#E5ECF6",
           "caxis": {
            "gridcolor": "white",
            "linecolor": "white",
            "ticks": ""
           }
          },
          "title": {
           "x": 0.05
          },
          "xaxis": {
           "automargin": true,
           "gridcolor": "white",
           "linecolor": "white",
           "ticks": "",
           "title": {
            "standoff": 15
           },
           "zerolinecolor": "white",
           "zerolinewidth": 2
          },
          "yaxis": {
           "automargin": true,
           "gridcolor": "white",
           "linecolor": "white",
           "ticks": "",
           "title": {
            "standoff": 15
           },
           "zerolinecolor": "white",
           "zerolinewidth": 2
          }
         }
        },
        "title": {
         "text": "Maps visualization of the most relevant place according to cosine similarity",
         "x": 0.45,
         "xanchor": "center",
         "y": 0.95,
         "yanchor": "top"
        },
        "width": 1000
       }
      },
      "text/html": [
       "<div>                            <div id=\"fbb1e364-c59c-4295-8426-3b97f58e3aa6\" class=\"plotly-graph-div\" style=\"height:600px; width:1000px;\"></div>            <script type=\"text/javascript\">                require([\"plotly\"], function(Plotly) {                    window.PLOTLYENV=window.PLOTLYENV || {};                                    if (document.getElementById(\"fbb1e364-c59c-4295-8426-3b97f58e3aa6\")) {                    Plotly.newPlot(                        \"fbb1e364-c59c-4295-8426-3b97f58e3aa6\",                        [{\"customdata\":[[\"Smithsonian Sushi Collection\"],[\"Mercer Museum and Fonthill Castle\"],[\"Tam\\u00e1stslikt Cultural Institute\"],[\"Zippo/Case Museum\"],[\"Off the Rez Cafe\"],[\"Oak Ridge &quot;The Secret City&quot;\"],[\"Old Time Wooden Nickel Company\"],[\"Self-Taught Genius Gallery\"],[\"Niles Essanay Silent Film Museum\"],[\"Gillette Castle State Park\"]],\"hovertemplate\":\"similarity=%{marker.color}<br>lat=%{lat}<br>lon=%{lon}<br>name=%{customdata[0]}<extra></extra>\",\"lat\":[38.890729,40.306903,45.65371,41.943399,47.660263,36.00888,29.456517,40.740928,37.577097,41.422983],\"legendgroup\":\"\",\"lon\":[-77.030003,-75.128278,-118.663375,-78.650932,-122.311556,-84.257149,-98.456341,-73.93338,-121.980132,-72.428414],\"marker\":{\"color\":[0.9999440444478744,0.9988368275010288,0.9988368275010288,0.9988368275010288,0.9988368275010286,0.9988368275010286,0.9949729339942093,0.9923103037561561,0.9884667730909569,0.9884667730909569],\"coloraxis\":\"coloraxis\",\"size\":[0.9999440444478744,0.9988368275010288,0.9988368275010288,0.9988368275010288,0.9988368275010286,0.9988368275010286,0.9949729339942093,0.9923103037561561,0.9884667730909569,0.9884667730909569],\"sizemode\":\"area\",\"sizeref\":0.002499860111119686},\"mode\":\"markers\",\"name\":\"\",\"showlegend\":false,\"subplot\":\"mapbox\",\"type\":\"scattermapbox\"}],                        {\"template\":{\"data\":{\"bar\":[{\"error_x\":{\"color\":\"#2a3f5f\"},\"error_y\":{\"color\":\"#2a3f5f\"},\"marker\":{\"line\":{\"color\":\"#E5ECF6\",\"width\":0.5},\"pattern\":{\"fillmode\":\"overlay\",\"size\":10,\"solidity\":0.2}},\"type\":\"bar\"}],\"barpolar\":[{\"marker\":{\"line\":{\"color\":\"#E5ECF6\",\"width\":0.5},\"pattern\":{\"fillmode\":\"overlay\",\"size\":10,\"solidity\":0.2}},\"type\":\"barpolar\"}],\"carpet\":[{\"aaxis\":{\"endlinecolor\":\"#2a3f5f\",\"gridcolor\":\"white\",\"linecolor\":\"white\",\"minorgridcolor\":\"white\",\"startlinecolor\":\"#2a3f5f\"},\"baxis\":{\"endlinecolor\":\"#2a3f5f\",\"gridcolor\":\"white\",\"linecolor\":\"white\",\"minorgridcolor\":\"white\",\"startlinecolor\":\"#2a3f5f\"},\"type\":\"carpet\"}],\"choropleth\":[{\"colorbar\":{\"outlinewidth\":0,\"ticks\":\"\"},\"type\":\"choropleth\"}],\"contour\":[{\"colorbar\":{\"outlinewidth\":0,\"ticks\":\"\"},\"colorscale\":[[0.0,\"#0d0887\"],[0.1111111111111111,\"#46039f\"],[0.2222222222222222,\"#7201a8\"],[0.3333333333333333,\"#9c179e\"],[0.4444444444444444,\"#bd3786\"],[0.5555555555555556,\"#d8576b\"],[0.6666666666666666,\"#ed7953\"],[0.7777777777777778,\"#fb9f3a\"],[0.8888888888888888,\"#fdca26\"],[1.0,\"#f0f921\"]],\"type\":\"contour\"}],\"contourcarpet\":[{\"colorbar\":{\"outlinewidth\":0,\"ticks\":\"\"},\"type\":\"contourcarpet\"}],\"heatmap\":[{\"colorbar\":{\"outlinewidth\":0,\"ticks\":\"\"},\"colorscale\":[[0.0,\"#0d0887\"],[0.1111111111111111,\"#46039f\"],[0.2222222222222222,\"#7201a8\"],[0.3333333333333333,\"#9c179e\"],[0.4444444444444444,\"#bd3786\"],[0.5555555555555556,\"#d8576b\"],[0.6666666666666666,\"#ed7953\"],[0.7777777777777778,\"#fb9f3a\"],[0.8888888888888888,\"#fdca26\"],[1.0,\"#f0f921\"]],\"type\":\"heatmap\"}],\"heatmapgl\":[{\"colorbar\":{\"outlinewidth\":0,\"ticks\":\"\"},\"colorscale\":[[0.0,\"#0d0887\"],[0.1111111111111111,\"#46039f\"],[0.2222222222222222,\"#7201a8\"],[0.3333333333333333,\"#9c179e\"],[0.4444444444444444,\"#bd3786\"],[0.5555555555555556,\"#d8576b\"],[0.6666666666666666,\"#ed7953\"],[0.7777777777777778,\"#fb9f3a\"],[0.8888888888888888,\"#fdca26\"],[1.0,\"#f0f921\"]],\"type\":\"heatmapgl\"}],\"histogram\":[{\"marker\":{\"pattern\":{\"fillmode\":\"overlay\",\"size\":10,\"solidity\":0.2}},\"type\":\"histogram\"}],\"histogram2d\":[{\"colorbar\":{\"outlinewidth\":0,\"ticks\":\"\"},\"colorscale\":[[0.0,\"#0d0887\"],[0.1111111111111111,\"#46039f\"],[0.2222222222222222,\"#7201a8\"],[0.3333333333333333,\"#9c179e\"],[0.4444444444444444,\"#bd3786\"],[0.5555555555555556,\"#d8576b\"],[0.6666666666666666,\"#ed7953\"],[0.7777777777777778,\"#fb9f3a\"],[0.8888888888888888,\"#fdca26\"],[1.0,\"#f0f921\"]],\"type\":\"histogram2d\"}],\"histogram2dcontour\":[{\"colorbar\":{\"outlinewidth\":0,\"ticks\":\"\"},\"colorscale\":[[0.0,\"#0d0887\"],[0.1111111111111111,\"#46039f\"],[0.2222222222222222,\"#7201a8\"],[0.3333333333333333,\"#9c179e\"],[0.4444444444444444,\"#bd3786\"],[0.5555555555555556,\"#d8576b\"],[0.6666666666666666,\"#ed7953\"],[0.7777777777777778,\"#fb9f3a\"],[0.8888888888888888,\"#fdca26\"],[1.0,\"#f0f921\"]],\"type\":\"histogram2dcontour\"}],\"mesh3d\":[{\"colorbar\":{\"outlinewidth\":0,\"ticks\":\"\"},\"type\":\"mesh3d\"}],\"parcoords\":[{\"line\":{\"colorbar\":{\"outlinewidth\":0,\"ticks\":\"\"}},\"type\":\"parcoords\"}],\"pie\":[{\"automargin\":true,\"type\":\"pie\"}],\"scatter\":[{\"marker\":{\"colorbar\":{\"outlinewidth\":0,\"ticks\":\"\"}},\"type\":\"scatter\"}],\"scatter3d\":[{\"line\":{\"colorbar\":{\"outlinewidth\":0,\"ticks\":\"\"}},\"marker\":{\"colorbar\":{\"outlinewidth\":0,\"ticks\":\"\"}},\"type\":\"scatter3d\"}],\"scattercarpet\":[{\"marker\":{\"colorbar\":{\"outlinewidth\":0,\"ticks\":\"\"}},\"type\":\"scattercarpet\"}],\"scattergeo\":[{\"marker\":{\"colorbar\":{\"outlinewidth\":0,\"ticks\":\"\"}},\"type\":\"scattergeo\"}],\"scattergl\":[{\"marker\":{\"colorbar\":{\"outlinewidth\":0,\"ticks\":\"\"}},\"type\":\"scattergl\"}],\"scattermapbox\":[{\"marker\":{\"colorbar\":{\"outlinewidth\":0,\"ticks\":\"\"}},\"type\":\"scattermapbox\"}],\"scatterpolar\":[{\"marker\":{\"colorbar\":{\"outlinewidth\":0,\"ticks\":\"\"}},\"type\":\"scatterpolar\"}],\"scatterpolargl\":[{\"marker\":{\"colorbar\":{\"outlinewidth\":0,\"ticks\":\"\"}},\"type\":\"scatterpolargl\"}],\"scatterternary\":[{\"marker\":{\"colorbar\":{\"outlinewidth\":0,\"ticks\":\"\"}},\"type\":\"scatterternary\"}],\"surface\":[{\"colorbar\":{\"outlinewidth\":0,\"ticks\":\"\"},\"colorscale\":[[0.0,\"#0d0887\"],[0.1111111111111111,\"#46039f\"],[0.2222222222222222,\"#7201a8\"],[0.3333333333333333,\"#9c179e\"],[0.4444444444444444,\"#bd3786\"],[0.5555555555555556,\"#d8576b\"],[0.6666666666666666,\"#ed7953\"],[0.7777777777777778,\"#fb9f3a\"],[0.8888888888888888,\"#fdca26\"],[1.0,\"#f0f921\"]],\"type\":\"surface\"}],\"table\":[{\"cells\":{\"fill\":{\"color\":\"#EBF0F8\"},\"line\":{\"color\":\"white\"}},\"header\":{\"fill\":{\"color\":\"#C8D4E3\"},\"line\":{\"color\":\"white\"}},\"type\":\"table\"}]},\"layout\":{\"annotationdefaults\":{\"arrowcolor\":\"#2a3f5f\",\"arrowhead\":0,\"arrowwidth\":1},\"autotypenumbers\":\"strict\",\"coloraxis\":{\"colorbar\":{\"outlinewidth\":0,\"ticks\":\"\"}},\"colorscale\":{\"diverging\":[[0,\"#8e0152\"],[0.1,\"#c51b7d\"],[0.2,\"#de77ae\"],[0.3,\"#f1b6da\"],[0.4,\"#fde0ef\"],[0.5,\"#f7f7f7\"],[0.6,\"#e6f5d0\"],[0.7,\"#b8e186\"],[0.8,\"#7fbc41\"],[0.9,\"#4d9221\"],[1,\"#276419\"]],\"sequential\":[[0.0,\"#0d0887\"],[0.1111111111111111,\"#46039f\"],[0.2222222222222222,\"#7201a8\"],[0.3333333333333333,\"#9c179e\"],[0.4444444444444444,\"#bd3786\"],[0.5555555555555556,\"#d8576b\"],[0.6666666666666666,\"#ed7953\"],[0.7777777777777778,\"#fb9f3a\"],[0.8888888888888888,\"#fdca26\"],[1.0,\"#f0f921\"]],\"sequentialminus\":[[0.0,\"#0d0887\"],[0.1111111111111111,\"#46039f\"],[0.2222222222222222,\"#7201a8\"],[0.3333333333333333,\"#9c179e\"],[0.4444444444444444,\"#bd3786\"],[0.5555555555555556,\"#d8576b\"],[0.6666666666666666,\"#ed7953\"],[0.7777777777777778,\"#fb9f3a\"],[0.8888888888888888,\"#fdca26\"],[1.0,\"#f0f921\"]]},\"colorway\":[\"#636efa\",\"#EF553B\",\"#00cc96\",\"#ab63fa\",\"#FFA15A\",\"#19d3f3\",\"#FF6692\",\"#B6E880\",\"#FF97FF\",\"#FECB52\"],\"font\":{\"color\":\"#2a3f5f\"},\"geo\":{\"bgcolor\":\"white\",\"lakecolor\":\"white\",\"landcolor\":\"#E5ECF6\",\"showlakes\":true,\"showland\":true,\"subunitcolor\":\"white\"},\"hoverlabel\":{\"align\":\"left\"},\"hovermode\":\"closest\",\"mapbox\":{\"style\":\"light\"},\"paper_bgcolor\":\"white\",\"plot_bgcolor\":\"#E5ECF6\",\"polar\":{\"angularaxis\":{\"gridcolor\":\"white\",\"linecolor\":\"white\",\"ticks\":\"\"},\"bgcolor\":\"#E5ECF6\",\"radialaxis\":{\"gridcolor\":\"white\",\"linecolor\":\"white\",\"ticks\":\"\"}},\"scene\":{\"xaxis\":{\"backgroundcolor\":\"#E5ECF6\",\"gridcolor\":\"white\",\"gridwidth\":2,\"linecolor\":\"white\",\"showbackground\":true,\"ticks\":\"\",\"zerolinecolor\":\"white\"},\"yaxis\":{\"backgroundcolor\":\"#E5ECF6\",\"gridcolor\":\"white\",\"gridwidth\":2,\"linecolor\":\"white\",\"showbackground\":true,\"ticks\":\"\",\"zerolinecolor\":\"white\"},\"zaxis\":{\"backgroundcolor\":\"#E5ECF6\",\"gridcolor\":\"white\",\"gridwidth\":2,\"linecolor\":\"white\",\"showbackground\":true,\"ticks\":\"\",\"zerolinecolor\":\"white\"}},\"shapedefaults\":{\"line\":{\"color\":\"#2a3f5f\"}},\"ternary\":{\"aaxis\":{\"gridcolor\":\"white\",\"linecolor\":\"white\",\"ticks\":\"\"},\"baxis\":{\"gridcolor\":\"white\",\"linecolor\":\"white\",\"ticks\":\"\"},\"bgcolor\":\"#E5ECF6\",\"caxis\":{\"gridcolor\":\"white\",\"linecolor\":\"white\",\"ticks\":\"\"}},\"title\":{\"x\":0.05},\"xaxis\":{\"automargin\":true,\"gridcolor\":\"white\",\"linecolor\":\"white\",\"ticks\":\"\",\"title\":{\"standoff\":15},\"zerolinecolor\":\"white\",\"zerolinewidth\":2},\"yaxis\":{\"automargin\":true,\"gridcolor\":\"white\",\"linecolor\":\"white\",\"ticks\":\"\",\"title\":{\"standoff\":15},\"zerolinecolor\":\"white\",\"zerolinewidth\":2}}},\"mapbox\":{\"domain\":{\"x\":[0.0,1.0],\"y\":[0.0,1.0]},\"center\":{\"lat\":40.77,\"lon\":-73.96},\"zoom\":0.7,\"style\":\"stamen-toner\"},\"coloraxis\":{\"colorbar\":{\"title\":{\"text\":\"similarity\"}},\"colorscale\":[[0.0,\"#0d0887\"],[0.1111111111111111,\"#46039f\"],[0.2222222222222222,\"#7201a8\"],[0.3333333333333333,\"#9c179e\"],[0.4444444444444444,\"#bd3786\"],[0.5555555555555556,\"#d8576b\"],[0.6666666666666666,\"#ed7953\"],[0.7777777777777778,\"#fb9f3a\"],[0.8888888888888888,\"#fdca26\"],[1.0,\"#f0f921\"]]},\"legend\":{\"tracegroupgap\":0,\"itemsizing\":\"constant\"},\"margin\":{\"t\":60},\"height\":600,\"width\":1000,\"title\":{\"text\":\"Maps visualization of the most relevant place according to cosine similarity\",\"y\":0.95,\"x\":0.45,\"xanchor\":\"center\",\"yanchor\":\"top\"}},                        {\"responsive\": true}                    ).then(function(){\n",
       "                            \n",
       "var gd = document.getElementById('fbb1e364-c59c-4295-8426-3b97f58e3aa6');\n",
       "var x = new MutationObserver(function (mutations, observer) {{\n",
       "        var display = window.getComputedStyle(gd).display;\n",
       "        if (!display || display === 'none') {{\n",
       "            console.log([gd, 'removed!']);\n",
       "            Plotly.purge(gd);\n",
       "            observer.disconnect();\n",
       "        }}\n",
       "}});\n",
       "\n",
       "// Listen for the removal of the full notebook cells\n",
       "var notebookContainer = gd.closest('#notebook-container');\n",
       "if (notebookContainer) {{\n",
       "    x.observe(notebookContainer, {childList: true});\n",
       "}}\n",
       "\n",
       "// Listen for the clearing of the current output cell\n",
       "var outputEl = gd.closest('.output');\n",
       "if (outputEl) {{\n",
       "    x.observe(outputEl, {childList: true});\n",
       "}}\n",
       "\n",
       "                        })                };                });            </script>        </div>"
      ]
     },
     "metadata": {},
     "output_type": "display_data"
    }
   ],
   "source": [
    "fig = px.scatter_mapbox(\n",
    "    d_cosine,  # Our DataFrame\n",
    "    lat = \"lat\",\n",
    "    lon = \"lon\",\n",
    "    center = {\"lat\": 40.77, \"lon\": -73.96},  # where map will be centered (New York)\n",
    "    width = 1000,  # Width of map\n",
    "    height = 600,  # Height of map\n",
    "    color=\"similarity\", size=\"similarity\",\n",
    "    zoom=0.7,\n",
    "    hover_data = [\"name\"],\n",
    "    # what to display when hovering mouse over coordinate\n",
    ")\n",
    "fig.update_layout(\n",
    "    title={\n",
    "        'text': \"Maps visualization of the most relevant place according to cosine similarity\",\n",
    "        'y':0.95,\n",
    "        'x':0.45,\n",
    "        'xanchor': 'center',\n",
    "        'yanchor': 'top'})\n",
    "\n",
    "fig.update_layout(mapbox_style=\"stamen-toner\") \n",
    "fig.show()"
   ]
  },
  {
   "cell_type": "code",
   "execution_count": 98,
   "id": "326a633c",
   "metadata": {},
   "outputs": [
    {
     "data": {
      "application/vnd.plotly.v1+json": {
       "config": {
        "plotlyServerURL": "https://plot.ly"
       },
       "data": [
        {
         "customdata": [
          [
           "The Witch House of Salem",
           "310 1/2 Essex Street, Salem, Massachusetts, 01970, United States"
          ],
          [
           "Blue Mustang",
           "Peña Blvd, Denver, Colorado, 80249, United States"
          ],
          [
           "Crazy Horse Memorial",
           "12151 Avenue of the Chiefs, Custer, South Dakota, 57730, United States"
          ],
          [
           "The Natural Bridge",
           "15 Appledore Lane, Natural Bridge, Virginia, 24578, United States"
          ],
          [
           "Uncommon Objects",
           "1602 Fortview, Austin, Texas, 78704, United States"
          ],
          [
           "Museum of the Weird",
           "Museum of the Weird, 412 E 6th St., Austin, Texas, 78701, United States"
          ],
          [
           "National Atomic Testing Museum",
           "755 E Flamingo Rd, Las Vegas, Nevada, 89119, United States"
          ],
          [
           "U-505",
           "5700 S. Lake Shore Drive, Chicago, Illinois, 60637, United States"
          ],
          [
           "Biosphere of Montreal",
           "160, Chemin Tour-de-l'Isle, Île Sainte-Hélène, Montreal, Québec, H3C 0K7, Canada"
          ],
          [
           "Petra",
           "On the slope of Mount Hor, Arabah, Jordan"
          ]
         ],
         "hovertemplate": "similarity=%{marker.color}<br>lat=%{lat}<br>lon=%{lon}<br>name=%{customdata[0]}<br>address=%{customdata[1]}<extra></extra>",
         "lat": [
          42.521507,
          39.834223,
          43.836789,
          37.6282,
          30.229086,
          30.267022,
          36.114064,
          41.790609,
          45.518988,
          30.328467
         ],
         "legendgroup": "",
         "lon": [
          -70.898894,
          -104.675916,
          -103.624386,
          -79.544653,
          -97.783036,
          -97.738744,
          -115.148354,
          -87.583059,
          -73.534194,
          35.442662
         ],
         "marker": {
          "color": [
           0.023958238495832954,
           0.018338614617387786,
           0.014962157592016318,
           0.013287358026669822,
           0.012106483607682909,
           0.01194187831389032,
           0.011894603160726795,
           0.01093134795728396,
           0.01035026277454396,
           0.009878054956258561
          ],
          "coloraxis": "coloraxis",
          "size": [
           0.023958238495832954,
           0.018338614617387786,
           0.014962157592016318,
           0.013287358026669822,
           0.012106483607682909,
           0.01194187831389032,
           0.011894603160726795,
           0.01093134795728396,
           0.01035026277454396,
           0.009878054956258561
          ],
          "sizemode": "area",
          "sizeref": 5.989559623958239e-05
         },
         "mode": "markers",
         "name": "",
         "showlegend": false,
         "subplot": "mapbox",
         "type": "scattermapbox"
        }
       ],
       "layout": {
        "coloraxis": {
         "colorbar": {
          "title": {
           "text": "similarity"
          }
         },
         "colorscale": [
          [
           0,
           "#0d0887"
          ],
          [
           0.1111111111111111,
           "#46039f"
          ],
          [
           0.2222222222222222,
           "#7201a8"
          ],
          [
           0.3333333333333333,
           "#9c179e"
          ],
          [
           0.4444444444444444,
           "#bd3786"
          ],
          [
           0.5555555555555556,
           "#d8576b"
          ],
          [
           0.6666666666666666,
           "#ed7953"
          ],
          [
           0.7777777777777778,
           "#fb9f3a"
          ],
          [
           0.8888888888888888,
           "#fdca26"
          ],
          [
           1,
           "#f0f921"
          ]
         ]
        },
        "height": 600,
        "legend": {
         "itemsizing": "constant",
         "tracegroupgap": 0
        },
        "mapbox": {
         "center": {
          "lat": 40.77,
          "lon": -73.96
         },
         "domain": {
          "x": [
           0,
           1
          ],
          "y": [
           0,
           1
          ]
         },
         "style": "stamen-toner",
         "zoom": 0.7
        },
        "margin": {
         "t": 60
        },
        "template": {
         "data": {
          "bar": [
           {
            "error_x": {
             "color": "#2a3f5f"
            },
            "error_y": {
             "color": "#2a3f5f"
            },
            "marker": {
             "line": {
              "color": "#E5ECF6",
              "width": 0.5
             },
             "pattern": {
              "fillmode": "overlay",
              "size": 10,
              "solidity": 0.2
             }
            },
            "type": "bar"
           }
          ],
          "barpolar": [
           {
            "marker": {
             "line": {
              "color": "#E5ECF6",
              "width": 0.5
             },
             "pattern": {
              "fillmode": "overlay",
              "size": 10,
              "solidity": 0.2
             }
            },
            "type": "barpolar"
           }
          ],
          "carpet": [
           {
            "aaxis": {
             "endlinecolor": "#2a3f5f",
             "gridcolor": "white",
             "linecolor": "white",
             "minorgridcolor": "white",
             "startlinecolor": "#2a3f5f"
            },
            "baxis": {
             "endlinecolor": "#2a3f5f",
             "gridcolor": "white",
             "linecolor": "white",
             "minorgridcolor": "white",
             "startlinecolor": "#2a3f5f"
            },
            "type": "carpet"
           }
          ],
          "choropleth": [
           {
            "colorbar": {
             "outlinewidth": 0,
             "ticks": ""
            },
            "type": "choropleth"
           }
          ],
          "contour": [
           {
            "colorbar": {
             "outlinewidth": 0,
             "ticks": ""
            },
            "colorscale": [
             [
              0,
              "#0d0887"
             ],
             [
              0.1111111111111111,
              "#46039f"
             ],
             [
              0.2222222222222222,
              "#7201a8"
             ],
             [
              0.3333333333333333,
              "#9c179e"
             ],
             [
              0.4444444444444444,
              "#bd3786"
             ],
             [
              0.5555555555555556,
              "#d8576b"
             ],
             [
              0.6666666666666666,
              "#ed7953"
             ],
             [
              0.7777777777777778,
              "#fb9f3a"
             ],
             [
              0.8888888888888888,
              "#fdca26"
             ],
             [
              1,
              "#f0f921"
             ]
            ],
            "type": "contour"
           }
          ],
          "contourcarpet": [
           {
            "colorbar": {
             "outlinewidth": 0,
             "ticks": ""
            },
            "type": "contourcarpet"
           }
          ],
          "heatmap": [
           {
            "colorbar": {
             "outlinewidth": 0,
             "ticks": ""
            },
            "colorscale": [
             [
              0,
              "#0d0887"
             ],
             [
              0.1111111111111111,
              "#46039f"
             ],
             [
              0.2222222222222222,
              "#7201a8"
             ],
             [
              0.3333333333333333,
              "#9c179e"
             ],
             [
              0.4444444444444444,
              "#bd3786"
             ],
             [
              0.5555555555555556,
              "#d8576b"
             ],
             [
              0.6666666666666666,
              "#ed7953"
             ],
             [
              0.7777777777777778,
              "#fb9f3a"
             ],
             [
              0.8888888888888888,
              "#fdca26"
             ],
             [
              1,
              "#f0f921"
             ]
            ],
            "type": "heatmap"
           }
          ],
          "heatmapgl": [
           {
            "colorbar": {
             "outlinewidth": 0,
             "ticks": ""
            },
            "colorscale": [
             [
              0,
              "#0d0887"
             ],
             [
              0.1111111111111111,
              "#46039f"
             ],
             [
              0.2222222222222222,
              "#7201a8"
             ],
             [
              0.3333333333333333,
              "#9c179e"
             ],
             [
              0.4444444444444444,
              "#bd3786"
             ],
             [
              0.5555555555555556,
              "#d8576b"
             ],
             [
              0.6666666666666666,
              "#ed7953"
             ],
             [
              0.7777777777777778,
              "#fb9f3a"
             ],
             [
              0.8888888888888888,
              "#fdca26"
             ],
             [
              1,
              "#f0f921"
             ]
            ],
            "type": "heatmapgl"
           }
          ],
          "histogram": [
           {
            "marker": {
             "pattern": {
              "fillmode": "overlay",
              "size": 10,
              "solidity": 0.2
             }
            },
            "type": "histogram"
           }
          ],
          "histogram2d": [
           {
            "colorbar": {
             "outlinewidth": 0,
             "ticks": ""
            },
            "colorscale": [
             [
              0,
              "#0d0887"
             ],
             [
              0.1111111111111111,
              "#46039f"
             ],
             [
              0.2222222222222222,
              "#7201a8"
             ],
             [
              0.3333333333333333,
              "#9c179e"
             ],
             [
              0.4444444444444444,
              "#bd3786"
             ],
             [
              0.5555555555555556,
              "#d8576b"
             ],
             [
              0.6666666666666666,
              "#ed7953"
             ],
             [
              0.7777777777777778,
              "#fb9f3a"
             ],
             [
              0.8888888888888888,
              "#fdca26"
             ],
             [
              1,
              "#f0f921"
             ]
            ],
            "type": "histogram2d"
           }
          ],
          "histogram2dcontour": [
           {
            "colorbar": {
             "outlinewidth": 0,
             "ticks": ""
            },
            "colorscale": [
             [
              0,
              "#0d0887"
             ],
             [
              0.1111111111111111,
              "#46039f"
             ],
             [
              0.2222222222222222,
              "#7201a8"
             ],
             [
              0.3333333333333333,
              "#9c179e"
             ],
             [
              0.4444444444444444,
              "#bd3786"
             ],
             [
              0.5555555555555556,
              "#d8576b"
             ],
             [
              0.6666666666666666,
              "#ed7953"
             ],
             [
              0.7777777777777778,
              "#fb9f3a"
             ],
             [
              0.8888888888888888,
              "#fdca26"
             ],
             [
              1,
              "#f0f921"
             ]
            ],
            "type": "histogram2dcontour"
           }
          ],
          "mesh3d": [
           {
            "colorbar": {
             "outlinewidth": 0,
             "ticks": ""
            },
            "type": "mesh3d"
           }
          ],
          "parcoords": [
           {
            "line": {
             "colorbar": {
              "outlinewidth": 0,
              "ticks": ""
             }
            },
            "type": "parcoords"
           }
          ],
          "pie": [
           {
            "automargin": true,
            "type": "pie"
           }
          ],
          "scatter": [
           {
            "marker": {
             "colorbar": {
              "outlinewidth": 0,
              "ticks": ""
             }
            },
            "type": "scatter"
           }
          ],
          "scatter3d": [
           {
            "line": {
             "colorbar": {
              "outlinewidth": 0,
              "ticks": ""
             }
            },
            "marker": {
             "colorbar": {
              "outlinewidth": 0,
              "ticks": ""
             }
            },
            "type": "scatter3d"
           }
          ],
          "scattercarpet": [
           {
            "marker": {
             "colorbar": {
              "outlinewidth": 0,
              "ticks": ""
             }
            },
            "type": "scattercarpet"
           }
          ],
          "scattergeo": [
           {
            "marker": {
             "colorbar": {
              "outlinewidth": 0,
              "ticks": ""
             }
            },
            "type": "scattergeo"
           }
          ],
          "scattergl": [
           {
            "marker": {
             "colorbar": {
              "outlinewidth": 0,
              "ticks": ""
             }
            },
            "type": "scattergl"
           }
          ],
          "scattermapbox": [
           {
            "marker": {
             "colorbar": {
              "outlinewidth": 0,
              "ticks": ""
             }
            },
            "type": "scattermapbox"
           }
          ],
          "scatterpolar": [
           {
            "marker": {
             "colorbar": {
              "outlinewidth": 0,
              "ticks": ""
             }
            },
            "type": "scatterpolar"
           }
          ],
          "scatterpolargl": [
           {
            "marker": {
             "colorbar": {
              "outlinewidth": 0,
              "ticks": ""
             }
            },
            "type": "scatterpolargl"
           }
          ],
          "scatterternary": [
           {
            "marker": {
             "colorbar": {
              "outlinewidth": 0,
              "ticks": ""
             }
            },
            "type": "scatterternary"
           }
          ],
          "surface": [
           {
            "colorbar": {
             "outlinewidth": 0,
             "ticks": ""
            },
            "colorscale": [
             [
              0,
              "#0d0887"
             ],
             [
              0.1111111111111111,
              "#46039f"
             ],
             [
              0.2222222222222222,
              "#7201a8"
             ],
             [
              0.3333333333333333,
              "#9c179e"
             ],
             [
              0.4444444444444444,
              "#bd3786"
             ],
             [
              0.5555555555555556,
              "#d8576b"
             ],
             [
              0.6666666666666666,
              "#ed7953"
             ],
             [
              0.7777777777777778,
              "#fb9f3a"
             ],
             [
              0.8888888888888888,
              "#fdca26"
             ],
             [
              1,
              "#f0f921"
             ]
            ],
            "type": "surface"
           }
          ],
          "table": [
           {
            "cells": {
             "fill": {
              "color": "#EBF0F8"
             },
             "line": {
              "color": "white"
             }
            },
            "header": {
             "fill": {
              "color": "#C8D4E3"
             },
             "line": {
              "color": "white"
             }
            },
            "type": "table"
           }
          ]
         },
         "layout": {
          "annotationdefaults": {
           "arrowcolor": "#2a3f5f",
           "arrowhead": 0,
           "arrowwidth": 1
          },
          "autotypenumbers": "strict",
          "coloraxis": {
           "colorbar": {
            "outlinewidth": 0,
            "ticks": ""
           }
          },
          "colorscale": {
           "diverging": [
            [
             0,
             "#8e0152"
            ],
            [
             0.1,
             "#c51b7d"
            ],
            [
             0.2,
             "#de77ae"
            ],
            [
             0.3,
             "#f1b6da"
            ],
            [
             0.4,
             "#fde0ef"
            ],
            [
             0.5,
             "#f7f7f7"
            ],
            [
             0.6,
             "#e6f5d0"
            ],
            [
             0.7,
             "#b8e186"
            ],
            [
             0.8,
             "#7fbc41"
            ],
            [
             0.9,
             "#4d9221"
            ],
            [
             1,
             "#276419"
            ]
           ],
           "sequential": [
            [
             0,
             "#0d0887"
            ],
            [
             0.1111111111111111,
             "#46039f"
            ],
            [
             0.2222222222222222,
             "#7201a8"
            ],
            [
             0.3333333333333333,
             "#9c179e"
            ],
            [
             0.4444444444444444,
             "#bd3786"
            ],
            [
             0.5555555555555556,
             "#d8576b"
            ],
            [
             0.6666666666666666,
             "#ed7953"
            ],
            [
             0.7777777777777778,
             "#fb9f3a"
            ],
            [
             0.8888888888888888,
             "#fdca26"
            ],
            [
             1,
             "#f0f921"
            ]
           ],
           "sequentialminus": [
            [
             0,
             "#0d0887"
            ],
            [
             0.1111111111111111,
             "#46039f"
            ],
            [
             0.2222222222222222,
             "#7201a8"
            ],
            [
             0.3333333333333333,
             "#9c179e"
            ],
            [
             0.4444444444444444,
             "#bd3786"
            ],
            [
             0.5555555555555556,
             "#d8576b"
            ],
            [
             0.6666666666666666,
             "#ed7953"
            ],
            [
             0.7777777777777778,
             "#fb9f3a"
            ],
            [
             0.8888888888888888,
             "#fdca26"
            ],
            [
             1,
             "#f0f921"
            ]
           ]
          },
          "colorway": [
           "#636efa",
           "#EF553B",
           "#00cc96",
           "#ab63fa",
           "#FFA15A",
           "#19d3f3",
           "#FF6692",
           "#B6E880",
           "#FF97FF",
           "#FECB52"
          ],
          "font": {
           "color": "#2a3f5f"
          },
          "geo": {
           "bgcolor": "white",
           "lakecolor": "white",
           "landcolor": "#E5ECF6",
           "showlakes": true,
           "showland": true,
           "subunitcolor": "white"
          },
          "hoverlabel": {
           "align": "left"
          },
          "hovermode": "closest",
          "mapbox": {
           "style": "light"
          },
          "paper_bgcolor": "white",
          "plot_bgcolor": "#E5ECF6",
          "polar": {
           "angularaxis": {
            "gridcolor": "white",
            "linecolor": "white",
            "ticks": ""
           },
           "bgcolor": "#E5ECF6",
           "radialaxis": {
            "gridcolor": "white",
            "linecolor": "white",
            "ticks": ""
           }
          },
          "scene": {
           "xaxis": {
            "backgroundcolor": "#E5ECF6",
            "gridcolor": "white",
            "gridwidth": 2,
            "linecolor": "white",
            "showbackground": true,
            "ticks": "",
            "zerolinecolor": "white"
           },
           "yaxis": {
            "backgroundcolor": "#E5ECF6",
            "gridcolor": "white",
            "gridwidth": 2,
            "linecolor": "white",
            "showbackground": true,
            "ticks": "",
            "zerolinecolor": "white"
           },
           "zaxis": {
            "backgroundcolor": "#E5ECF6",
            "gridcolor": "white",
            "gridwidth": 2,
            "linecolor": "white",
            "showbackground": true,
            "ticks": "",
            "zerolinecolor": "white"
           }
          },
          "shapedefaults": {
           "line": {
            "color": "#2a3f5f"
           }
          },
          "ternary": {
           "aaxis": {
            "gridcolor": "white",
            "linecolor": "white",
            "ticks": ""
           },
           "baxis": {
            "gridcolor": "white",
            "linecolor": "white",
            "ticks": ""
           },
           "bgcolor": "#E5ECF6",
           "caxis": {
            "gridcolor": "white",
            "linecolor": "white",
            "ticks": ""
           }
          },
          "title": {
           "x": 0.05
          },
          "xaxis": {
           "automargin": true,
           "gridcolor": "white",
           "linecolor": "white",
           "ticks": "",
           "title": {
            "standoff": 15
           },
           "zerolinecolor": "white",
           "zerolinewidth": 2
          },
          "yaxis": {
           "automargin": true,
           "gridcolor": "white",
           "linecolor": "white",
           "ticks": "",
           "title": {
            "standoff": 15
           },
           "zerolinecolor": "white",
           "zerolinewidth": 2
          }
         }
        },
        "title": {
         "text": "Maps visualization of the most relevant place according to popularity",
         "x": 0.45,
         "xanchor": "center",
         "y": 0.95,
         "yanchor": "top"
        },
        "width": 1000
       }
      },
      "text/html": [
       "<div>                            <div id=\"98fe20a0-7713-4b7d-9fde-74b9d0b31f7e\" class=\"plotly-graph-div\" style=\"height:600px; width:1000px;\"></div>            <script type=\"text/javascript\">                require([\"plotly\"], function(Plotly) {                    window.PLOTLYENV=window.PLOTLYENV || {};                                    if (document.getElementById(\"98fe20a0-7713-4b7d-9fde-74b9d0b31f7e\")) {                    Plotly.newPlot(                        \"98fe20a0-7713-4b7d-9fde-74b9d0b31f7e\",                        [{\"customdata\":[[\"The Witch House of Salem\",\"310 1/2 Essex Street, Salem, Massachusetts, 01970, United States\"],[\"Blue Mustang\",\"Pe\\u00f1a Blvd, Denver, Colorado, 80249, United States\"],[\"Crazy Horse Memorial\",\"12151 Avenue of the Chiefs, Custer, South Dakota, 57730, United States\"],[\"The Natural Bridge\",\"15 Appledore Lane, Natural Bridge, Virginia, 24578, United States\"],[\"Uncommon Objects\",\"1602 Fortview, Austin, Texas, 78704, United States\"],[\"Museum of the Weird\",\"Museum of the Weird, 412 E 6th St., Austin, Texas, 78701, United States\"],[\"National Atomic Testing Museum\",\"755 E Flamingo Rd, Las Vegas, Nevada, 89119, United States\"],[\"U-505\",\"5700 S. Lake Shore Drive, Chicago, Illinois, 60637, United States\"],[\"Biosphere of Montreal\",\"160, Chemin Tour-de-l'Isle, \\u00cele Sainte-H\\u00e9l\\u00e8ne, Montreal, Qu\\u00e9bec, H3C 0K7, Canada\"],[\"Petra\",\"On the slope of Mount Hor, Arabah, Jordan\"]],\"hovertemplate\":\"similarity=%{marker.color}<br>lat=%{lat}<br>lon=%{lon}<br>name=%{customdata[0]}<br>address=%{customdata[1]}<extra></extra>\",\"lat\":[42.521507,39.834223,43.836789,37.6282,30.229086,30.267022,36.114064,41.790609,45.518988,30.328467],\"legendgroup\":\"\",\"lon\":[-70.898894,-104.675916,-103.624386,-79.544653,-97.783036,-97.738744,-115.148354,-87.583059,-73.534194,35.442662],\"marker\":{\"color\":[0.023958238495832954,0.018338614617387786,0.014962157592016318,0.013287358026669822,0.012106483607682909,0.01194187831389032,0.011894603160726795,0.01093134795728396,0.01035026277454396,0.009878054956258561],\"coloraxis\":\"coloraxis\",\"size\":[0.023958238495832954,0.018338614617387786,0.014962157592016318,0.013287358026669822,0.012106483607682909,0.01194187831389032,0.011894603160726795,0.01093134795728396,0.01035026277454396,0.009878054956258561],\"sizemode\":\"area\",\"sizeref\":5.989559623958239e-05},\"mode\":\"markers\",\"name\":\"\",\"showlegend\":false,\"subplot\":\"mapbox\",\"type\":\"scattermapbox\"}],                        {\"template\":{\"data\":{\"bar\":[{\"error_x\":{\"color\":\"#2a3f5f\"},\"error_y\":{\"color\":\"#2a3f5f\"},\"marker\":{\"line\":{\"color\":\"#E5ECF6\",\"width\":0.5},\"pattern\":{\"fillmode\":\"overlay\",\"size\":10,\"solidity\":0.2}},\"type\":\"bar\"}],\"barpolar\":[{\"marker\":{\"line\":{\"color\":\"#E5ECF6\",\"width\":0.5},\"pattern\":{\"fillmode\":\"overlay\",\"size\":10,\"solidity\":0.2}},\"type\":\"barpolar\"}],\"carpet\":[{\"aaxis\":{\"endlinecolor\":\"#2a3f5f\",\"gridcolor\":\"white\",\"linecolor\":\"white\",\"minorgridcolor\":\"white\",\"startlinecolor\":\"#2a3f5f\"},\"baxis\":{\"endlinecolor\":\"#2a3f5f\",\"gridcolor\":\"white\",\"linecolor\":\"white\",\"minorgridcolor\":\"white\",\"startlinecolor\":\"#2a3f5f\"},\"type\":\"carpet\"}],\"choropleth\":[{\"colorbar\":{\"outlinewidth\":0,\"ticks\":\"\"},\"type\":\"choropleth\"}],\"contour\":[{\"colorbar\":{\"outlinewidth\":0,\"ticks\":\"\"},\"colorscale\":[[0.0,\"#0d0887\"],[0.1111111111111111,\"#46039f\"],[0.2222222222222222,\"#7201a8\"],[0.3333333333333333,\"#9c179e\"],[0.4444444444444444,\"#bd3786\"],[0.5555555555555556,\"#d8576b\"],[0.6666666666666666,\"#ed7953\"],[0.7777777777777778,\"#fb9f3a\"],[0.8888888888888888,\"#fdca26\"],[1.0,\"#f0f921\"]],\"type\":\"contour\"}],\"contourcarpet\":[{\"colorbar\":{\"outlinewidth\":0,\"ticks\":\"\"},\"type\":\"contourcarpet\"}],\"heatmap\":[{\"colorbar\":{\"outlinewidth\":0,\"ticks\":\"\"},\"colorscale\":[[0.0,\"#0d0887\"],[0.1111111111111111,\"#46039f\"],[0.2222222222222222,\"#7201a8\"],[0.3333333333333333,\"#9c179e\"],[0.4444444444444444,\"#bd3786\"],[0.5555555555555556,\"#d8576b\"],[0.6666666666666666,\"#ed7953\"],[0.7777777777777778,\"#fb9f3a\"],[0.8888888888888888,\"#fdca26\"],[1.0,\"#f0f921\"]],\"type\":\"heatmap\"}],\"heatmapgl\":[{\"colorbar\":{\"outlinewidth\":0,\"ticks\":\"\"},\"colorscale\":[[0.0,\"#0d0887\"],[0.1111111111111111,\"#46039f\"],[0.2222222222222222,\"#7201a8\"],[0.3333333333333333,\"#9c179e\"],[0.4444444444444444,\"#bd3786\"],[0.5555555555555556,\"#d8576b\"],[0.6666666666666666,\"#ed7953\"],[0.7777777777777778,\"#fb9f3a\"],[0.8888888888888888,\"#fdca26\"],[1.0,\"#f0f921\"]],\"type\":\"heatmapgl\"}],\"histogram\":[{\"marker\":{\"pattern\":{\"fillmode\":\"overlay\",\"size\":10,\"solidity\":0.2}},\"type\":\"histogram\"}],\"histogram2d\":[{\"colorbar\":{\"outlinewidth\":0,\"ticks\":\"\"},\"colorscale\":[[0.0,\"#0d0887\"],[0.1111111111111111,\"#46039f\"],[0.2222222222222222,\"#7201a8\"],[0.3333333333333333,\"#9c179e\"],[0.4444444444444444,\"#bd3786\"],[0.5555555555555556,\"#d8576b\"],[0.6666666666666666,\"#ed7953\"],[0.7777777777777778,\"#fb9f3a\"],[0.8888888888888888,\"#fdca26\"],[1.0,\"#f0f921\"]],\"type\":\"histogram2d\"}],\"histogram2dcontour\":[{\"colorbar\":{\"outlinewidth\":0,\"ticks\":\"\"},\"colorscale\":[[0.0,\"#0d0887\"],[0.1111111111111111,\"#46039f\"],[0.2222222222222222,\"#7201a8\"],[0.3333333333333333,\"#9c179e\"],[0.4444444444444444,\"#bd3786\"],[0.5555555555555556,\"#d8576b\"],[0.6666666666666666,\"#ed7953\"],[0.7777777777777778,\"#fb9f3a\"],[0.8888888888888888,\"#fdca26\"],[1.0,\"#f0f921\"]],\"type\":\"histogram2dcontour\"}],\"mesh3d\":[{\"colorbar\":{\"outlinewidth\":0,\"ticks\":\"\"},\"type\":\"mesh3d\"}],\"parcoords\":[{\"line\":{\"colorbar\":{\"outlinewidth\":0,\"ticks\":\"\"}},\"type\":\"parcoords\"}],\"pie\":[{\"automargin\":true,\"type\":\"pie\"}],\"scatter\":[{\"marker\":{\"colorbar\":{\"outlinewidth\":0,\"ticks\":\"\"}},\"type\":\"scatter\"}],\"scatter3d\":[{\"line\":{\"colorbar\":{\"outlinewidth\":0,\"ticks\":\"\"}},\"marker\":{\"colorbar\":{\"outlinewidth\":0,\"ticks\":\"\"}},\"type\":\"scatter3d\"}],\"scattercarpet\":[{\"marker\":{\"colorbar\":{\"outlinewidth\":0,\"ticks\":\"\"}},\"type\":\"scattercarpet\"}],\"scattergeo\":[{\"marker\":{\"colorbar\":{\"outlinewidth\":0,\"ticks\":\"\"}},\"type\":\"scattergeo\"}],\"scattergl\":[{\"marker\":{\"colorbar\":{\"outlinewidth\":0,\"ticks\":\"\"}},\"type\":\"scattergl\"}],\"scattermapbox\":[{\"marker\":{\"colorbar\":{\"outlinewidth\":0,\"ticks\":\"\"}},\"type\":\"scattermapbox\"}],\"scatterpolar\":[{\"marker\":{\"colorbar\":{\"outlinewidth\":0,\"ticks\":\"\"}},\"type\":\"scatterpolar\"}],\"scatterpolargl\":[{\"marker\":{\"colorbar\":{\"outlinewidth\":0,\"ticks\":\"\"}},\"type\":\"scatterpolargl\"}],\"scatterternary\":[{\"marker\":{\"colorbar\":{\"outlinewidth\":0,\"ticks\":\"\"}},\"type\":\"scatterternary\"}],\"surface\":[{\"colorbar\":{\"outlinewidth\":0,\"ticks\":\"\"},\"colorscale\":[[0.0,\"#0d0887\"],[0.1111111111111111,\"#46039f\"],[0.2222222222222222,\"#7201a8\"],[0.3333333333333333,\"#9c179e\"],[0.4444444444444444,\"#bd3786\"],[0.5555555555555556,\"#d8576b\"],[0.6666666666666666,\"#ed7953\"],[0.7777777777777778,\"#fb9f3a\"],[0.8888888888888888,\"#fdca26\"],[1.0,\"#f0f921\"]],\"type\":\"surface\"}],\"table\":[{\"cells\":{\"fill\":{\"color\":\"#EBF0F8\"},\"line\":{\"color\":\"white\"}},\"header\":{\"fill\":{\"color\":\"#C8D4E3\"},\"line\":{\"color\":\"white\"}},\"type\":\"table\"}]},\"layout\":{\"annotationdefaults\":{\"arrowcolor\":\"#2a3f5f\",\"arrowhead\":0,\"arrowwidth\":1},\"autotypenumbers\":\"strict\",\"coloraxis\":{\"colorbar\":{\"outlinewidth\":0,\"ticks\":\"\"}},\"colorscale\":{\"diverging\":[[0,\"#8e0152\"],[0.1,\"#c51b7d\"],[0.2,\"#de77ae\"],[0.3,\"#f1b6da\"],[0.4,\"#fde0ef\"],[0.5,\"#f7f7f7\"],[0.6,\"#e6f5d0\"],[0.7,\"#b8e186\"],[0.8,\"#7fbc41\"],[0.9,\"#4d9221\"],[1,\"#276419\"]],\"sequential\":[[0.0,\"#0d0887\"],[0.1111111111111111,\"#46039f\"],[0.2222222222222222,\"#7201a8\"],[0.3333333333333333,\"#9c179e\"],[0.4444444444444444,\"#bd3786\"],[0.5555555555555556,\"#d8576b\"],[0.6666666666666666,\"#ed7953\"],[0.7777777777777778,\"#fb9f3a\"],[0.8888888888888888,\"#fdca26\"],[1.0,\"#f0f921\"]],\"sequentialminus\":[[0.0,\"#0d0887\"],[0.1111111111111111,\"#46039f\"],[0.2222222222222222,\"#7201a8\"],[0.3333333333333333,\"#9c179e\"],[0.4444444444444444,\"#bd3786\"],[0.5555555555555556,\"#d8576b\"],[0.6666666666666666,\"#ed7953\"],[0.7777777777777778,\"#fb9f3a\"],[0.8888888888888888,\"#fdca26\"],[1.0,\"#f0f921\"]]},\"colorway\":[\"#636efa\",\"#EF553B\",\"#00cc96\",\"#ab63fa\",\"#FFA15A\",\"#19d3f3\",\"#FF6692\",\"#B6E880\",\"#FF97FF\",\"#FECB52\"],\"font\":{\"color\":\"#2a3f5f\"},\"geo\":{\"bgcolor\":\"white\",\"lakecolor\":\"white\",\"landcolor\":\"#E5ECF6\",\"showlakes\":true,\"showland\":true,\"subunitcolor\":\"white\"},\"hoverlabel\":{\"align\":\"left\"},\"hovermode\":\"closest\",\"mapbox\":{\"style\":\"light\"},\"paper_bgcolor\":\"white\",\"plot_bgcolor\":\"#E5ECF6\",\"polar\":{\"angularaxis\":{\"gridcolor\":\"white\",\"linecolor\":\"white\",\"ticks\":\"\"},\"bgcolor\":\"#E5ECF6\",\"radialaxis\":{\"gridcolor\":\"white\",\"linecolor\":\"white\",\"ticks\":\"\"}},\"scene\":{\"xaxis\":{\"backgroundcolor\":\"#E5ECF6\",\"gridcolor\":\"white\",\"gridwidth\":2,\"linecolor\":\"white\",\"showbackground\":true,\"ticks\":\"\",\"zerolinecolor\":\"white\"},\"yaxis\":{\"backgroundcolor\":\"#E5ECF6\",\"gridcolor\":\"white\",\"gridwidth\":2,\"linecolor\":\"white\",\"showbackground\":true,\"ticks\":\"\",\"zerolinecolor\":\"white\"},\"zaxis\":{\"backgroundcolor\":\"#E5ECF6\",\"gridcolor\":\"white\",\"gridwidth\":2,\"linecolor\":\"white\",\"showbackground\":true,\"ticks\":\"\",\"zerolinecolor\":\"white\"}},\"shapedefaults\":{\"line\":{\"color\":\"#2a3f5f\"}},\"ternary\":{\"aaxis\":{\"gridcolor\":\"white\",\"linecolor\":\"white\",\"ticks\":\"\"},\"baxis\":{\"gridcolor\":\"white\",\"linecolor\":\"white\",\"ticks\":\"\"},\"bgcolor\":\"#E5ECF6\",\"caxis\":{\"gridcolor\":\"white\",\"linecolor\":\"white\",\"ticks\":\"\"}},\"title\":{\"x\":0.05},\"xaxis\":{\"automargin\":true,\"gridcolor\":\"white\",\"linecolor\":\"white\",\"ticks\":\"\",\"title\":{\"standoff\":15},\"zerolinecolor\":\"white\",\"zerolinewidth\":2},\"yaxis\":{\"automargin\":true,\"gridcolor\":\"white\",\"linecolor\":\"white\",\"ticks\":\"\",\"title\":{\"standoff\":15},\"zerolinecolor\":\"white\",\"zerolinewidth\":2}}},\"mapbox\":{\"domain\":{\"x\":[0.0,1.0],\"y\":[0.0,1.0]},\"center\":{\"lat\":40.77,\"lon\":-73.96},\"zoom\":0.7,\"style\":\"stamen-toner\"},\"coloraxis\":{\"colorbar\":{\"title\":{\"text\":\"similarity\"}},\"colorscale\":[[0.0,\"#0d0887\"],[0.1111111111111111,\"#46039f\"],[0.2222222222222222,\"#7201a8\"],[0.3333333333333333,\"#9c179e\"],[0.4444444444444444,\"#bd3786\"],[0.5555555555555556,\"#d8576b\"],[0.6666666666666666,\"#ed7953\"],[0.7777777777777778,\"#fb9f3a\"],[0.8888888888888888,\"#fdca26\"],[1.0,\"#f0f921\"]]},\"legend\":{\"tracegroupgap\":0,\"itemsizing\":\"constant\"},\"margin\":{\"t\":60},\"height\":600,\"width\":1000,\"title\":{\"text\":\"Maps visualization of the most relevant place according to popularity\",\"y\":0.95,\"x\":0.45,\"xanchor\":\"center\",\"yanchor\":\"top\"}},                        {\"responsive\": true}                    ).then(function(){\n",
       "                            \n",
       "var gd = document.getElementById('98fe20a0-7713-4b7d-9fde-74b9d0b31f7e');\n",
       "var x = new MutationObserver(function (mutations, observer) {{\n",
       "        var display = window.getComputedStyle(gd).display;\n",
       "        if (!display || display === 'none') {{\n",
       "            console.log([gd, 'removed!']);\n",
       "            Plotly.purge(gd);\n",
       "            observer.disconnect();\n",
       "        }}\n",
       "}});\n",
       "\n",
       "// Listen for the removal of the full notebook cells\n",
       "var notebookContainer = gd.closest('#notebook-container');\n",
       "if (notebookContainer) {{\n",
       "    x.observe(notebookContainer, {childList: true});\n",
       "}}\n",
       "\n",
       "// Listen for the clearing of the current output cell\n",
       "var outputEl = gd.closest('.output');\n",
       "if (outputEl) {{\n",
       "    x.observe(outputEl, {childList: true});\n",
       "}}\n",
       "\n",
       "                        })                };                });            </script>        </div>"
      ]
     },
     "metadata": {},
     "output_type": "display_data"
    }
   ],
   "source": [
    "fig = px.scatter_mapbox(\n",
    "    d_popularity,  # Our DataFrame\n",
    "    lat = \"lat\",\n",
    "    lon = \"lon\",\n",
    "    center = {\"lat\": 40.77, \"lon\": -73.96},  # where map will be centered\n",
    "    width = 1000,  # Width of map\n",
    "    height = 600,  # Height of map\n",
    "    color=\"similarity\", size=\"similarity\",\n",
    "    zoom=0.7,\n",
    "    hover_data = [\"name\", \"address\"],\n",
    "    # what to display when hovering mouse over coordinate\n",
    ")\n",
    "fig.update_layout(\n",
    "    title={\n",
    "        'text': \"Maps visualization of the most relevant place according to popularity\",\n",
    "        'y':0.95,\n",
    "        'x':0.45,\n",
    "        'xanchor': 'center',\n",
    "        'yanchor': 'top'})\n",
    "\n",
    "fig.update_layout(mapbox_style=\"stamen-toner\") \n",
    "fig.show()"
   ]
  },
  {
   "cell_type": "code",
   "execution_count": 99,
   "id": "e0cd2890",
   "metadata": {},
   "outputs": [
    {
     "data": {
      "application/vnd.plotly.v1+json": {
       "config": {
        "plotlyServerURL": "https://plot.ly"
       },
       "data": [
        {
         "customdata": [
          [
           "Cesare Lombroso&#39;s Museum of Criminal Anthropology",
           "University of Turin, Via Pietro Giuria 15, Turin, 10126, Italy"
          ],
          [
           "Deutsches Jagd und Fischereimuseum (German Museum of Hunting and Fishing)",
           "Neuhauser Straße 2, Munich, 80331, Germany"
          ],
          [
           "Batalion Comic Book Museum and Club",
           "5 28. října, Prague, 110 00, Czechia"
          ],
          [
           "Museum of Communism",
           "4 V Celnici, Prague, 110 00, Czechia"
          ],
          [
           "Zwack Unicum Museum",
           "1 Dandár u., Budapest, 1095, Hungary"
          ],
          [
           "KattenKabinet",
           "497 Herengracht, Amsterdam, Netherlands"
          ],
          [
           "Pianola Museum",
           "Westerstraat 106, Amsterdam, 1015, Netherlands"
          ],
          [
           "Hitler&#39;s Olympic Village",
           "3-5 Zum Wasserwerk, Wustermark, 14641, Germany"
          ],
          [
           "Horniman Museum and Gardens",
           "100 London Rd, Forest Hill, London, England, SE23 3PQ, United Kingdom"
          ],
          [
           "The Monty Python Foot",
           "National Gallery, Trafalgar Square, London, England, WC2H, United Kingdom"
          ]
         ],
         "hovertemplate": "similarity=%{marker.color}<br>lat=%{lat}<br>lon=%{lon}<br>name=%{customdata[0]}<br>address=%{customdata[1]}<extra></extra>",
         "lat": [
          45.049399,
          48.13845,
          50.083451,
          50.087886,
          47.475926,
          52.365629,
          52.37851,
          52.536573,
          51.441035,
          51.508929
         ],
         "legendgroup": "",
         "lon": [
          7.679334,
          11.57135,
          14.42221,
          14.430074,
          19.069707,
          4.891552,
          4.883544,
          13.010494,
          -0.061009,
          -0.128299
         ],
         "marker": {
          "color": [
           0.9936105214948394,
           0.9826908058222327,
           0.9678439166377223,
           0.9678070628706211,
           0.96059088973315,
           0.9586911942598652,
           0.9586147767532326,
           0.9584425006641104,
           0.952518168906639,
           0.9520956996750747
          ],
          "coloraxis": "coloraxis",
          "size": [
           0.9936105214948394,
           0.9826908058222327,
           0.9678439166377223,
           0.9678070628706211,
           0.96059088973315,
           0.9586911942598652,
           0.9586147767532326,
           0.9584425006641104,
           0.952518168906639,
           0.9520956996750747
          ],
          "sizemode": "area",
          "sizeref": 0.0024840263037370987
         },
         "mode": "markers",
         "name": "",
         "showlegend": false,
         "subplot": "mapbox",
         "type": "scattermapbox"
        }
       ],
       "layout": {
        "coloraxis": {
         "colorbar": {
          "title": {
           "text": "similarity"
          }
         },
         "colorscale": [
          [
           0,
           "#0d0887"
          ],
          [
           0.1111111111111111,
           "#46039f"
          ],
          [
           0.2222222222222222,
           "#7201a8"
          ],
          [
           0.3333333333333333,
           "#9c179e"
          ],
          [
           0.4444444444444444,
           "#bd3786"
          ],
          [
           0.5555555555555556,
           "#d8576b"
          ],
          [
           0.6666666666666666,
           "#ed7953"
          ],
          [
           0.7777777777777778,
           "#fb9f3a"
          ],
          [
           0.8888888888888888,
           "#fdca26"
          ],
          [
           1,
           "#f0f921"
          ]
         ]
        },
        "height": 600,
        "legend": {
         "itemsizing": "constant",
         "tracegroupgap": 0
        },
        "mapbox": {
         "center": {
          "lat": 40.77,
          "lon": -73.96
         },
         "domain": {
          "x": [
           0,
           1
          ],
          "y": [
           0,
           1
          ]
         },
         "style": "stamen-toner",
         "zoom": 0.5
        },
        "margin": {
         "t": 60
        },
        "template": {
         "data": {
          "bar": [
           {
            "error_x": {
             "color": "#2a3f5f"
            },
            "error_y": {
             "color": "#2a3f5f"
            },
            "marker": {
             "line": {
              "color": "#E5ECF6",
              "width": 0.5
             },
             "pattern": {
              "fillmode": "overlay",
              "size": 10,
              "solidity": 0.2
             }
            },
            "type": "bar"
           }
          ],
          "barpolar": [
           {
            "marker": {
             "line": {
              "color": "#E5ECF6",
              "width": 0.5
             },
             "pattern": {
              "fillmode": "overlay",
              "size": 10,
              "solidity": 0.2
             }
            },
            "type": "barpolar"
           }
          ],
          "carpet": [
           {
            "aaxis": {
             "endlinecolor": "#2a3f5f",
             "gridcolor": "white",
             "linecolor": "white",
             "minorgridcolor": "white",
             "startlinecolor": "#2a3f5f"
            },
            "baxis": {
             "endlinecolor": "#2a3f5f",
             "gridcolor": "white",
             "linecolor": "white",
             "minorgridcolor": "white",
             "startlinecolor": "#2a3f5f"
            },
            "type": "carpet"
           }
          ],
          "choropleth": [
           {
            "colorbar": {
             "outlinewidth": 0,
             "ticks": ""
            },
            "type": "choropleth"
           }
          ],
          "contour": [
           {
            "colorbar": {
             "outlinewidth": 0,
             "ticks": ""
            },
            "colorscale": [
             [
              0,
              "#0d0887"
             ],
             [
              0.1111111111111111,
              "#46039f"
             ],
             [
              0.2222222222222222,
              "#7201a8"
             ],
             [
              0.3333333333333333,
              "#9c179e"
             ],
             [
              0.4444444444444444,
              "#bd3786"
             ],
             [
              0.5555555555555556,
              "#d8576b"
             ],
             [
              0.6666666666666666,
              "#ed7953"
             ],
             [
              0.7777777777777778,
              "#fb9f3a"
             ],
             [
              0.8888888888888888,
              "#fdca26"
             ],
             [
              1,
              "#f0f921"
             ]
            ],
            "type": "contour"
           }
          ],
          "contourcarpet": [
           {
            "colorbar": {
             "outlinewidth": 0,
             "ticks": ""
            },
            "type": "contourcarpet"
           }
          ],
          "heatmap": [
           {
            "colorbar": {
             "outlinewidth": 0,
             "ticks": ""
            },
            "colorscale": [
             [
              0,
              "#0d0887"
             ],
             [
              0.1111111111111111,
              "#46039f"
             ],
             [
              0.2222222222222222,
              "#7201a8"
             ],
             [
              0.3333333333333333,
              "#9c179e"
             ],
             [
              0.4444444444444444,
              "#bd3786"
             ],
             [
              0.5555555555555556,
              "#d8576b"
             ],
             [
              0.6666666666666666,
              "#ed7953"
             ],
             [
              0.7777777777777778,
              "#fb9f3a"
             ],
             [
              0.8888888888888888,
              "#fdca26"
             ],
             [
              1,
              "#f0f921"
             ]
            ],
            "type": "heatmap"
           }
          ],
          "heatmapgl": [
           {
            "colorbar": {
             "outlinewidth": 0,
             "ticks": ""
            },
            "colorscale": [
             [
              0,
              "#0d0887"
             ],
             [
              0.1111111111111111,
              "#46039f"
             ],
             [
              0.2222222222222222,
              "#7201a8"
             ],
             [
              0.3333333333333333,
              "#9c179e"
             ],
             [
              0.4444444444444444,
              "#bd3786"
             ],
             [
              0.5555555555555556,
              "#d8576b"
             ],
             [
              0.6666666666666666,
              "#ed7953"
             ],
             [
              0.7777777777777778,
              "#fb9f3a"
             ],
             [
              0.8888888888888888,
              "#fdca26"
             ],
             [
              1,
              "#f0f921"
             ]
            ],
            "type": "heatmapgl"
           }
          ],
          "histogram": [
           {
            "marker": {
             "pattern": {
              "fillmode": "overlay",
              "size": 10,
              "solidity": 0.2
             }
            },
            "type": "histogram"
           }
          ],
          "histogram2d": [
           {
            "colorbar": {
             "outlinewidth": 0,
             "ticks": ""
            },
            "colorscale": [
             [
              0,
              "#0d0887"
             ],
             [
              0.1111111111111111,
              "#46039f"
             ],
             [
              0.2222222222222222,
              "#7201a8"
             ],
             [
              0.3333333333333333,
              "#9c179e"
             ],
             [
              0.4444444444444444,
              "#bd3786"
             ],
             [
              0.5555555555555556,
              "#d8576b"
             ],
             [
              0.6666666666666666,
              "#ed7953"
             ],
             [
              0.7777777777777778,
              "#fb9f3a"
             ],
             [
              0.8888888888888888,
              "#fdca26"
             ],
             [
              1,
              "#f0f921"
             ]
            ],
            "type": "histogram2d"
           }
          ],
          "histogram2dcontour": [
           {
            "colorbar": {
             "outlinewidth": 0,
             "ticks": ""
            },
            "colorscale": [
             [
              0,
              "#0d0887"
             ],
             [
              0.1111111111111111,
              "#46039f"
             ],
             [
              0.2222222222222222,
              "#7201a8"
             ],
             [
              0.3333333333333333,
              "#9c179e"
             ],
             [
              0.4444444444444444,
              "#bd3786"
             ],
             [
              0.5555555555555556,
              "#d8576b"
             ],
             [
              0.6666666666666666,
              "#ed7953"
             ],
             [
              0.7777777777777778,
              "#fb9f3a"
             ],
             [
              0.8888888888888888,
              "#fdca26"
             ],
             [
              1,
              "#f0f921"
             ]
            ],
            "type": "histogram2dcontour"
           }
          ],
          "mesh3d": [
           {
            "colorbar": {
             "outlinewidth": 0,
             "ticks": ""
            },
            "type": "mesh3d"
           }
          ],
          "parcoords": [
           {
            "line": {
             "colorbar": {
              "outlinewidth": 0,
              "ticks": ""
             }
            },
            "type": "parcoords"
           }
          ],
          "pie": [
           {
            "automargin": true,
            "type": "pie"
           }
          ],
          "scatter": [
           {
            "marker": {
             "colorbar": {
              "outlinewidth": 0,
              "ticks": ""
             }
            },
            "type": "scatter"
           }
          ],
          "scatter3d": [
           {
            "line": {
             "colorbar": {
              "outlinewidth": 0,
              "ticks": ""
             }
            },
            "marker": {
             "colorbar": {
              "outlinewidth": 0,
              "ticks": ""
             }
            },
            "type": "scatter3d"
           }
          ],
          "scattercarpet": [
           {
            "marker": {
             "colorbar": {
              "outlinewidth": 0,
              "ticks": ""
             }
            },
            "type": "scattercarpet"
           }
          ],
          "scattergeo": [
           {
            "marker": {
             "colorbar": {
              "outlinewidth": 0,
              "ticks": ""
             }
            },
            "type": "scattergeo"
           }
          ],
          "scattergl": [
           {
            "marker": {
             "colorbar": {
              "outlinewidth": 0,
              "ticks": ""
             }
            },
            "type": "scattergl"
           }
          ],
          "scattermapbox": [
           {
            "marker": {
             "colorbar": {
              "outlinewidth": 0,
              "ticks": ""
             }
            },
            "type": "scattermapbox"
           }
          ],
          "scatterpolar": [
           {
            "marker": {
             "colorbar": {
              "outlinewidth": 0,
              "ticks": ""
             }
            },
            "type": "scatterpolar"
           }
          ],
          "scatterpolargl": [
           {
            "marker": {
             "colorbar": {
              "outlinewidth": 0,
              "ticks": ""
             }
            },
            "type": "scatterpolargl"
           }
          ],
          "scatterternary": [
           {
            "marker": {
             "colorbar": {
              "outlinewidth": 0,
              "ticks": ""
             }
            },
            "type": "scatterternary"
           }
          ],
          "surface": [
           {
            "colorbar": {
             "outlinewidth": 0,
             "ticks": ""
            },
            "colorscale": [
             [
              0,
              "#0d0887"
             ],
             [
              0.1111111111111111,
              "#46039f"
             ],
             [
              0.2222222222222222,
              "#7201a8"
             ],
             [
              0.3333333333333333,
              "#9c179e"
             ],
             [
              0.4444444444444444,
              "#bd3786"
             ],
             [
              0.5555555555555556,
              "#d8576b"
             ],
             [
              0.6666666666666666,
              "#ed7953"
             ],
             [
              0.7777777777777778,
              "#fb9f3a"
             ],
             [
              0.8888888888888888,
              "#fdca26"
             ],
             [
              1,
              "#f0f921"
             ]
            ],
            "type": "surface"
           }
          ],
          "table": [
           {
            "cells": {
             "fill": {
              "color": "#EBF0F8"
             },
             "line": {
              "color": "white"
             }
            },
            "header": {
             "fill": {
              "color": "#C8D4E3"
             },
             "line": {
              "color": "white"
             }
            },
            "type": "table"
           }
          ]
         },
         "layout": {
          "annotationdefaults": {
           "arrowcolor": "#2a3f5f",
           "arrowhead": 0,
           "arrowwidth": 1
          },
          "autotypenumbers": "strict",
          "coloraxis": {
           "colorbar": {
            "outlinewidth": 0,
            "ticks": ""
           }
          },
          "colorscale": {
           "diverging": [
            [
             0,
             "#8e0152"
            ],
            [
             0.1,
             "#c51b7d"
            ],
            [
             0.2,
             "#de77ae"
            ],
            [
             0.3,
             "#f1b6da"
            ],
            [
             0.4,
             "#fde0ef"
            ],
            [
             0.5,
             "#f7f7f7"
            ],
            [
             0.6,
             "#e6f5d0"
            ],
            [
             0.7,
             "#b8e186"
            ],
            [
             0.8,
             "#7fbc41"
            ],
            [
             0.9,
             "#4d9221"
            ],
            [
             1,
             "#276419"
            ]
           ],
           "sequential": [
            [
             0,
             "#0d0887"
            ],
            [
             0.1111111111111111,
             "#46039f"
            ],
            [
             0.2222222222222222,
             "#7201a8"
            ],
            [
             0.3333333333333333,
             "#9c179e"
            ],
            [
             0.4444444444444444,
             "#bd3786"
            ],
            [
             0.5555555555555556,
             "#d8576b"
            ],
            [
             0.6666666666666666,
             "#ed7953"
            ],
            [
             0.7777777777777778,
             "#fb9f3a"
            ],
            [
             0.8888888888888888,
             "#fdca26"
            ],
            [
             1,
             "#f0f921"
            ]
           ],
           "sequentialminus": [
            [
             0,
             "#0d0887"
            ],
            [
             0.1111111111111111,
             "#46039f"
            ],
            [
             0.2222222222222222,
             "#7201a8"
            ],
            [
             0.3333333333333333,
             "#9c179e"
            ],
            [
             0.4444444444444444,
             "#bd3786"
            ],
            [
             0.5555555555555556,
             "#d8576b"
            ],
            [
             0.6666666666666666,
             "#ed7953"
            ],
            [
             0.7777777777777778,
             "#fb9f3a"
            ],
            [
             0.8888888888888888,
             "#fdca26"
            ],
            [
             1,
             "#f0f921"
            ]
           ]
          },
          "colorway": [
           "#636efa",
           "#EF553B",
           "#00cc96",
           "#ab63fa",
           "#FFA15A",
           "#19d3f3",
           "#FF6692",
           "#B6E880",
           "#FF97FF",
           "#FECB52"
          ],
          "font": {
           "color": "#2a3f5f"
          },
          "geo": {
           "bgcolor": "white",
           "lakecolor": "white",
           "landcolor": "#E5ECF6",
           "showlakes": true,
           "showland": true,
           "subunitcolor": "white"
          },
          "hoverlabel": {
           "align": "left"
          },
          "hovermode": "closest",
          "mapbox": {
           "style": "light"
          },
          "paper_bgcolor": "white",
          "plot_bgcolor": "#E5ECF6",
          "polar": {
           "angularaxis": {
            "gridcolor": "white",
            "linecolor": "white",
            "ticks": ""
           },
           "bgcolor": "#E5ECF6",
           "radialaxis": {
            "gridcolor": "white",
            "linecolor": "white",
            "ticks": ""
           }
          },
          "scene": {
           "xaxis": {
            "backgroundcolor": "#E5ECF6",
            "gridcolor": "white",
            "gridwidth": 2,
            "linecolor": "white",
            "showbackground": true,
            "ticks": "",
            "zerolinecolor": "white"
           },
           "yaxis": {
            "backgroundcolor": "#E5ECF6",
            "gridcolor": "white",
            "gridwidth": 2,
            "linecolor": "white",
            "showbackground": true,
            "ticks": "",
            "zerolinecolor": "white"
           },
           "zaxis": {
            "backgroundcolor": "#E5ECF6",
            "gridcolor": "white",
            "gridwidth": 2,
            "linecolor": "white",
            "showbackground": true,
            "ticks": "",
            "zerolinecolor": "white"
           }
          },
          "shapedefaults": {
           "line": {
            "color": "#2a3f5f"
           }
          },
          "ternary": {
           "aaxis": {
            "gridcolor": "white",
            "linecolor": "white",
            "ticks": ""
           },
           "baxis": {
            "gridcolor": "white",
            "linecolor": "white",
            "ticks": ""
           },
           "bgcolor": "#E5ECF6",
           "caxis": {
            "gridcolor": "white",
            "linecolor": "white",
            "ticks": ""
           }
          },
          "title": {
           "x": 0.05
          },
          "xaxis": {
           "automargin": true,
           "gridcolor": "white",
           "linecolor": "white",
           "ticks": "",
           "title": {
            "standoff": 15
           },
           "zerolinecolor": "white",
           "zerolinewidth": 2
          },
          "yaxis": {
           "automargin": true,
           "gridcolor": "white",
           "linecolor": "white",
           "ticks": "",
           "title": {
            "standoff": 15
           },
           "zerolinecolor": "white",
           "zerolinewidth": 2
          }
         }
        },
        "title": {
         "text": "Maps visualization of the most relevant place according to proximity",
         "x": 0.45,
         "xanchor": "center",
         "y": 0.95,
         "yanchor": "top"
        },
        "width": 1000
       }
      },
      "text/html": [
       "<div>                            <div id=\"48e07167-243d-45b6-90b9-43a3ddeb2a43\" class=\"plotly-graph-div\" style=\"height:600px; width:1000px;\"></div>            <script type=\"text/javascript\">                require([\"plotly\"], function(Plotly) {                    window.PLOTLYENV=window.PLOTLYENV || {};                                    if (document.getElementById(\"48e07167-243d-45b6-90b9-43a3ddeb2a43\")) {                    Plotly.newPlot(                        \"48e07167-243d-45b6-90b9-43a3ddeb2a43\",                        [{\"customdata\":[[\"Cesare Lombroso&#39;s Museum of Criminal Anthropology\",\"University of Turin, Via Pietro Giuria 15, Turin, 10126, Italy\"],[\"Deutsches Jagd und Fischereimuseum (German Museum of Hunting and Fishing)\",\"Neuhauser Stra\\u00dfe 2, Munich, 80331, Germany\"],[\"Batalion Comic Book Museum and Club\",\"5 28. \\u0159\\u00edjna, Prague, 110 00, Czechia\"],[\"Museum of Communism\",\"4 V Celnici, Prague, 110 00, Czechia\"],[\"Zwack Unicum Museum\",\"1 Dand\\u00e1r u., Budapest, 1095, Hungary\"],[\"KattenKabinet\",\"497 Herengracht, Amsterdam, Netherlands\"],[\"Pianola Museum\",\"Westerstraat 106, Amsterdam, 1015, Netherlands\"],[\"Hitler&#39;s Olympic Village\",\"3-5 Zum Wasserwerk, Wustermark, 14641, Germany\"],[\"Horniman Museum and Gardens\",\"100 London Rd, Forest Hill, London, England, SE23 3PQ, United Kingdom\"],[\"The Monty Python Foot\",\"National Gallery, Trafalgar Square, London, England, WC2H, United Kingdom\"]],\"hovertemplate\":\"similarity=%{marker.color}<br>lat=%{lat}<br>lon=%{lon}<br>name=%{customdata[0]}<br>address=%{customdata[1]}<extra></extra>\",\"lat\":[45.049399,48.13845,50.083451,50.087886,47.475926,52.365629,52.37851,52.536573,51.441035,51.508929],\"legendgroup\":\"\",\"lon\":[7.679334,11.57135,14.42221,14.430074,19.069707,4.891552,4.883544,13.010494,-0.061009,-0.128299],\"marker\":{\"color\":[0.9936105214948394,0.9826908058222327,0.9678439166377223,0.9678070628706211,0.96059088973315,0.9586911942598652,0.9586147767532326,0.9584425006641104,0.952518168906639,0.9520956996750747],\"coloraxis\":\"coloraxis\",\"size\":[0.9936105214948394,0.9826908058222327,0.9678439166377223,0.9678070628706211,0.96059088973315,0.9586911942598652,0.9586147767532326,0.9584425006641104,0.952518168906639,0.9520956996750747],\"sizemode\":\"area\",\"sizeref\":0.0024840263037370987},\"mode\":\"markers\",\"name\":\"\",\"showlegend\":false,\"subplot\":\"mapbox\",\"type\":\"scattermapbox\"}],                        {\"template\":{\"data\":{\"bar\":[{\"error_x\":{\"color\":\"#2a3f5f\"},\"error_y\":{\"color\":\"#2a3f5f\"},\"marker\":{\"line\":{\"color\":\"#E5ECF6\",\"width\":0.5},\"pattern\":{\"fillmode\":\"overlay\",\"size\":10,\"solidity\":0.2}},\"type\":\"bar\"}],\"barpolar\":[{\"marker\":{\"line\":{\"color\":\"#E5ECF6\",\"width\":0.5},\"pattern\":{\"fillmode\":\"overlay\",\"size\":10,\"solidity\":0.2}},\"type\":\"barpolar\"}],\"carpet\":[{\"aaxis\":{\"endlinecolor\":\"#2a3f5f\",\"gridcolor\":\"white\",\"linecolor\":\"white\",\"minorgridcolor\":\"white\",\"startlinecolor\":\"#2a3f5f\"},\"baxis\":{\"endlinecolor\":\"#2a3f5f\",\"gridcolor\":\"white\",\"linecolor\":\"white\",\"minorgridcolor\":\"white\",\"startlinecolor\":\"#2a3f5f\"},\"type\":\"carpet\"}],\"choropleth\":[{\"colorbar\":{\"outlinewidth\":0,\"ticks\":\"\"},\"type\":\"choropleth\"}],\"contour\":[{\"colorbar\":{\"outlinewidth\":0,\"ticks\":\"\"},\"colorscale\":[[0.0,\"#0d0887\"],[0.1111111111111111,\"#46039f\"],[0.2222222222222222,\"#7201a8\"],[0.3333333333333333,\"#9c179e\"],[0.4444444444444444,\"#bd3786\"],[0.5555555555555556,\"#d8576b\"],[0.6666666666666666,\"#ed7953\"],[0.7777777777777778,\"#fb9f3a\"],[0.8888888888888888,\"#fdca26\"],[1.0,\"#f0f921\"]],\"type\":\"contour\"}],\"contourcarpet\":[{\"colorbar\":{\"outlinewidth\":0,\"ticks\":\"\"},\"type\":\"contourcarpet\"}],\"heatmap\":[{\"colorbar\":{\"outlinewidth\":0,\"ticks\":\"\"},\"colorscale\":[[0.0,\"#0d0887\"],[0.1111111111111111,\"#46039f\"],[0.2222222222222222,\"#7201a8\"],[0.3333333333333333,\"#9c179e\"],[0.4444444444444444,\"#bd3786\"],[0.5555555555555556,\"#d8576b\"],[0.6666666666666666,\"#ed7953\"],[0.7777777777777778,\"#fb9f3a\"],[0.8888888888888888,\"#fdca26\"],[1.0,\"#f0f921\"]],\"type\":\"heatmap\"}],\"heatmapgl\":[{\"colorbar\":{\"outlinewidth\":0,\"ticks\":\"\"},\"colorscale\":[[0.0,\"#0d0887\"],[0.1111111111111111,\"#46039f\"],[0.2222222222222222,\"#7201a8\"],[0.3333333333333333,\"#9c179e\"],[0.4444444444444444,\"#bd3786\"],[0.5555555555555556,\"#d8576b\"],[0.6666666666666666,\"#ed7953\"],[0.7777777777777778,\"#fb9f3a\"],[0.8888888888888888,\"#fdca26\"],[1.0,\"#f0f921\"]],\"type\":\"heatmapgl\"}],\"histogram\":[{\"marker\":{\"pattern\":{\"fillmode\":\"overlay\",\"size\":10,\"solidity\":0.2}},\"type\":\"histogram\"}],\"histogram2d\":[{\"colorbar\":{\"outlinewidth\":0,\"ticks\":\"\"},\"colorscale\":[[0.0,\"#0d0887\"],[0.1111111111111111,\"#46039f\"],[0.2222222222222222,\"#7201a8\"],[0.3333333333333333,\"#9c179e\"],[0.4444444444444444,\"#bd3786\"],[0.5555555555555556,\"#d8576b\"],[0.6666666666666666,\"#ed7953\"],[0.7777777777777778,\"#fb9f3a\"],[0.8888888888888888,\"#fdca26\"],[1.0,\"#f0f921\"]],\"type\":\"histogram2d\"}],\"histogram2dcontour\":[{\"colorbar\":{\"outlinewidth\":0,\"ticks\":\"\"},\"colorscale\":[[0.0,\"#0d0887\"],[0.1111111111111111,\"#46039f\"],[0.2222222222222222,\"#7201a8\"],[0.3333333333333333,\"#9c179e\"],[0.4444444444444444,\"#bd3786\"],[0.5555555555555556,\"#d8576b\"],[0.6666666666666666,\"#ed7953\"],[0.7777777777777778,\"#fb9f3a\"],[0.8888888888888888,\"#fdca26\"],[1.0,\"#f0f921\"]],\"type\":\"histogram2dcontour\"}],\"mesh3d\":[{\"colorbar\":{\"outlinewidth\":0,\"ticks\":\"\"},\"type\":\"mesh3d\"}],\"parcoords\":[{\"line\":{\"colorbar\":{\"outlinewidth\":0,\"ticks\":\"\"}},\"type\":\"parcoords\"}],\"pie\":[{\"automargin\":true,\"type\":\"pie\"}],\"scatter\":[{\"marker\":{\"colorbar\":{\"outlinewidth\":0,\"ticks\":\"\"}},\"type\":\"scatter\"}],\"scatter3d\":[{\"line\":{\"colorbar\":{\"outlinewidth\":0,\"ticks\":\"\"}},\"marker\":{\"colorbar\":{\"outlinewidth\":0,\"ticks\":\"\"}},\"type\":\"scatter3d\"}],\"scattercarpet\":[{\"marker\":{\"colorbar\":{\"outlinewidth\":0,\"ticks\":\"\"}},\"type\":\"scattercarpet\"}],\"scattergeo\":[{\"marker\":{\"colorbar\":{\"outlinewidth\":0,\"ticks\":\"\"}},\"type\":\"scattergeo\"}],\"scattergl\":[{\"marker\":{\"colorbar\":{\"outlinewidth\":0,\"ticks\":\"\"}},\"type\":\"scattergl\"}],\"scattermapbox\":[{\"marker\":{\"colorbar\":{\"outlinewidth\":0,\"ticks\":\"\"}},\"type\":\"scattermapbox\"}],\"scatterpolar\":[{\"marker\":{\"colorbar\":{\"outlinewidth\":0,\"ticks\":\"\"}},\"type\":\"scatterpolar\"}],\"scatterpolargl\":[{\"marker\":{\"colorbar\":{\"outlinewidth\":0,\"ticks\":\"\"}},\"type\":\"scatterpolargl\"}],\"scatterternary\":[{\"marker\":{\"colorbar\":{\"outlinewidth\":0,\"ticks\":\"\"}},\"type\":\"scatterternary\"}],\"surface\":[{\"colorbar\":{\"outlinewidth\":0,\"ticks\":\"\"},\"colorscale\":[[0.0,\"#0d0887\"],[0.1111111111111111,\"#46039f\"],[0.2222222222222222,\"#7201a8\"],[0.3333333333333333,\"#9c179e\"],[0.4444444444444444,\"#bd3786\"],[0.5555555555555556,\"#d8576b\"],[0.6666666666666666,\"#ed7953\"],[0.7777777777777778,\"#fb9f3a\"],[0.8888888888888888,\"#fdca26\"],[1.0,\"#f0f921\"]],\"type\":\"surface\"}],\"table\":[{\"cells\":{\"fill\":{\"color\":\"#EBF0F8\"},\"line\":{\"color\":\"white\"}},\"header\":{\"fill\":{\"color\":\"#C8D4E3\"},\"line\":{\"color\":\"white\"}},\"type\":\"table\"}]},\"layout\":{\"annotationdefaults\":{\"arrowcolor\":\"#2a3f5f\",\"arrowhead\":0,\"arrowwidth\":1},\"autotypenumbers\":\"strict\",\"coloraxis\":{\"colorbar\":{\"outlinewidth\":0,\"ticks\":\"\"}},\"colorscale\":{\"diverging\":[[0,\"#8e0152\"],[0.1,\"#c51b7d\"],[0.2,\"#de77ae\"],[0.3,\"#f1b6da\"],[0.4,\"#fde0ef\"],[0.5,\"#f7f7f7\"],[0.6,\"#e6f5d0\"],[0.7,\"#b8e186\"],[0.8,\"#7fbc41\"],[0.9,\"#4d9221\"],[1,\"#276419\"]],\"sequential\":[[0.0,\"#0d0887\"],[0.1111111111111111,\"#46039f\"],[0.2222222222222222,\"#7201a8\"],[0.3333333333333333,\"#9c179e\"],[0.4444444444444444,\"#bd3786\"],[0.5555555555555556,\"#d8576b\"],[0.6666666666666666,\"#ed7953\"],[0.7777777777777778,\"#fb9f3a\"],[0.8888888888888888,\"#fdca26\"],[1.0,\"#f0f921\"]],\"sequentialminus\":[[0.0,\"#0d0887\"],[0.1111111111111111,\"#46039f\"],[0.2222222222222222,\"#7201a8\"],[0.3333333333333333,\"#9c179e\"],[0.4444444444444444,\"#bd3786\"],[0.5555555555555556,\"#d8576b\"],[0.6666666666666666,\"#ed7953\"],[0.7777777777777778,\"#fb9f3a\"],[0.8888888888888888,\"#fdca26\"],[1.0,\"#f0f921\"]]},\"colorway\":[\"#636efa\",\"#EF553B\",\"#00cc96\",\"#ab63fa\",\"#FFA15A\",\"#19d3f3\",\"#FF6692\",\"#B6E880\",\"#FF97FF\",\"#FECB52\"],\"font\":{\"color\":\"#2a3f5f\"},\"geo\":{\"bgcolor\":\"white\",\"lakecolor\":\"white\",\"landcolor\":\"#E5ECF6\",\"showlakes\":true,\"showland\":true,\"subunitcolor\":\"white\"},\"hoverlabel\":{\"align\":\"left\"},\"hovermode\":\"closest\",\"mapbox\":{\"style\":\"light\"},\"paper_bgcolor\":\"white\",\"plot_bgcolor\":\"#E5ECF6\",\"polar\":{\"angularaxis\":{\"gridcolor\":\"white\",\"linecolor\":\"white\",\"ticks\":\"\"},\"bgcolor\":\"#E5ECF6\",\"radialaxis\":{\"gridcolor\":\"white\",\"linecolor\":\"white\",\"ticks\":\"\"}},\"scene\":{\"xaxis\":{\"backgroundcolor\":\"#E5ECF6\",\"gridcolor\":\"white\",\"gridwidth\":2,\"linecolor\":\"white\",\"showbackground\":true,\"ticks\":\"\",\"zerolinecolor\":\"white\"},\"yaxis\":{\"backgroundcolor\":\"#E5ECF6\",\"gridcolor\":\"white\",\"gridwidth\":2,\"linecolor\":\"white\",\"showbackground\":true,\"ticks\":\"\",\"zerolinecolor\":\"white\"},\"zaxis\":{\"backgroundcolor\":\"#E5ECF6\",\"gridcolor\":\"white\",\"gridwidth\":2,\"linecolor\":\"white\",\"showbackground\":true,\"ticks\":\"\",\"zerolinecolor\":\"white\"}},\"shapedefaults\":{\"line\":{\"color\":\"#2a3f5f\"}},\"ternary\":{\"aaxis\":{\"gridcolor\":\"white\",\"linecolor\":\"white\",\"ticks\":\"\"},\"baxis\":{\"gridcolor\":\"white\",\"linecolor\":\"white\",\"ticks\":\"\"},\"bgcolor\":\"#E5ECF6\",\"caxis\":{\"gridcolor\":\"white\",\"linecolor\":\"white\",\"ticks\":\"\"}},\"title\":{\"x\":0.05},\"xaxis\":{\"automargin\":true,\"gridcolor\":\"white\",\"linecolor\":\"white\",\"ticks\":\"\",\"title\":{\"standoff\":15},\"zerolinecolor\":\"white\",\"zerolinewidth\":2},\"yaxis\":{\"automargin\":true,\"gridcolor\":\"white\",\"linecolor\":\"white\",\"ticks\":\"\",\"title\":{\"standoff\":15},\"zerolinecolor\":\"white\",\"zerolinewidth\":2}}},\"mapbox\":{\"domain\":{\"x\":[0.0,1.0],\"y\":[0.0,1.0]},\"center\":{\"lat\":40.77,\"lon\":-73.96},\"zoom\":0.5,\"style\":\"stamen-toner\"},\"coloraxis\":{\"colorbar\":{\"title\":{\"text\":\"similarity\"}},\"colorscale\":[[0.0,\"#0d0887\"],[0.1111111111111111,\"#46039f\"],[0.2222222222222222,\"#7201a8\"],[0.3333333333333333,\"#9c179e\"],[0.4444444444444444,\"#bd3786\"],[0.5555555555555556,\"#d8576b\"],[0.6666666666666666,\"#ed7953\"],[0.7777777777777778,\"#fb9f3a\"],[0.8888888888888888,\"#fdca26\"],[1.0,\"#f0f921\"]]},\"legend\":{\"tracegroupgap\":0,\"itemsizing\":\"constant\"},\"margin\":{\"t\":60},\"height\":600,\"width\":1000,\"title\":{\"text\":\"Maps visualization of the most relevant place according to proximity\",\"y\":0.95,\"x\":0.45,\"xanchor\":\"center\",\"yanchor\":\"top\"}},                        {\"responsive\": true}                    ).then(function(){\n",
       "                            \n",
       "var gd = document.getElementById('48e07167-243d-45b6-90b9-43a3ddeb2a43');\n",
       "var x = new MutationObserver(function (mutations, observer) {{\n",
       "        var display = window.getComputedStyle(gd).display;\n",
       "        if (!display || display === 'none') {{\n",
       "            console.log([gd, 'removed!']);\n",
       "            Plotly.purge(gd);\n",
       "            observer.disconnect();\n",
       "        }}\n",
       "}});\n",
       "\n",
       "// Listen for the removal of the full notebook cells\n",
       "var notebookContainer = gd.closest('#notebook-container');\n",
       "if (notebookContainer) {{\n",
       "    x.observe(notebookContainer, {childList: true});\n",
       "}}\n",
       "\n",
       "// Listen for the clearing of the current output cell\n",
       "var outputEl = gd.closest('.output');\n",
       "if (outputEl) {{\n",
       "    x.observe(outputEl, {childList: true});\n",
       "}}\n",
       "\n",
       "                        })                };                });            </script>        </div>"
      ]
     },
     "metadata": {},
     "output_type": "display_data"
    }
   ],
   "source": [
    "fig = px.scatter_mapbox(\n",
    "    d_proximity,  # Our DataFrame\n",
    "    lat = \"lat\",\n",
    "    lon = \"lon\",\n",
    "    center = {\"lat\": 40.77, \"lon\": -73.96},  # where map will be centered\n",
    "    width = 1000,  # Width of map\n",
    "    height = 600,  # Height of map\n",
    "    color=\"similarity\", size=\"similarity\",\n",
    "    zoom=0.5,\n",
    "    hover_data = [\"name\", \"address\"],\n",
    "    # what to display when hovering mouse over coordinate\n",
    ")\n",
    "fig.update_layout(\n",
    "    title={\n",
    "        'text': \"Maps visualization of the most relevant place according to proximity\",\n",
    "        'y':0.95,\n",
    "        'x':0.45,\n",
    "        'xanchor': 'center',\n",
    "        'yanchor': 'top'})\n",
    "\n",
    "fig.update_layout(mapbox_style=\"stamen-toner\") \n",
    "fig.show()"
   ]
  },
  {
   "cell_type": "code",
   "execution_count": 100,
   "id": "9089a187",
   "metadata": {},
   "outputs": [
    {
     "data": {
      "application/vnd.plotly.v1+json": {
       "config": {
        "plotlyServerURL": "https://plot.ly"
       },
       "data": [
        {
         "customdata": [
          [
           "The Witch House of Salem",
           "310 1/2 Essex Street, Salem, Massachusetts, 01970, United States"
          ],
          [
           "Blue Mustang",
           "Peña Blvd, Denver, Colorado, 80249, United States"
          ],
          [
           "Crazy Horse Memorial",
           "12151 Avenue of the Chiefs, Custer, South Dakota, 57730, United States"
          ],
          [
           "The Natural Bridge",
           "15 Appledore Lane, Natural Bridge, Virginia, 24578, United States"
          ],
          [
           "Petra",
           "On the slope of Mount Hor, Arabah, Jordan"
          ],
          [
           "The Athenian Agora",
           "46 Adrianou, Athens, 105 55, Greece"
          ],
          [
           "KattenKabinet",
           "497 Herengracht, Amsterdam, Netherlands"
          ],
          [
           "Biosphere of Montreal",
           "160, Chemin Tour-de-l'Isle, Île Sainte-Hélène, Montreal, Québec, H3C 0K7, Canada"
          ],
          [
           "U-505",
           "5700 S. Lake Shore Drive, Chicago, Illinois, 60637, United States"
          ],
          [
           "Uncommon Objects",
           "1602 Fortview, Austin, Texas, 78704, United States"
          ]
         ],
         "hovertemplate": "similarity=%{marker.color}<br>lat=%{lat}<br>lon=%{lon}<br>name=%{customdata[0]}<br>address=%{customdata[1]}<extra></extra>",
         "lat": [
          42.521507,
          39.834223,
          43.836789,
          37.6282,
          30.328467,
          37.975764,
          52.365629,
          45.518988,
          41.790609,
          30.229086
         ],
         "legendgroup": "",
         "lon": [
          -70.898894,
          -104.675916,
          -103.624386,
          -79.544653,
          35.442662,
          23.724734,
          4.891552,
          -73.534194,
          -87.583059,
          -97.783036
         ],
         "marker": {
          "color": [
           0.016600309332310534,
           0.010565909320005288,
           0.008911048674442756,
           0.008599759904127879,
           0.008480719750882262,
           0.008189674069242963,
           0.007880120891690276,
           0.007171608641983902,
           0.006942697954277262,
           0.006753316711582317
          ],
          "coloraxis": "coloraxis",
          "size": [
           0.016600309332310534,
           0.010565909320005288,
           0.008911048674442756,
           0.008599759904127879,
           0.008480719750882262,
           0.008189674069242963,
           0.007880120891690276,
           0.007171608641983902,
           0.006942697954277262,
           0.006753316711582317
          ],
          "sizemode": "area",
          "sizeref": 4.1500773330776334e-05
         },
         "mode": "markers",
         "name": "",
         "showlegend": false,
         "subplot": "mapbox",
         "type": "scattermapbox"
        }
       ],
       "layout": {
        "coloraxis": {
         "colorbar": {
          "title": {
           "text": "similarity"
          }
         },
         "colorscale": [
          [
           0,
           "#0d0887"
          ],
          [
           0.1111111111111111,
           "#46039f"
          ],
          [
           0.2222222222222222,
           "#7201a8"
          ],
          [
           0.3333333333333333,
           "#9c179e"
          ],
          [
           0.4444444444444444,
           "#bd3786"
          ],
          [
           0.5555555555555556,
           "#d8576b"
          ],
          [
           0.6666666666666666,
           "#ed7953"
          ],
          [
           0.7777777777777778,
           "#fb9f3a"
          ],
          [
           0.8888888888888888,
           "#fdca26"
          ],
          [
           1,
           "#f0f921"
          ]
         ]
        },
        "height": 600,
        "legend": {
         "itemsizing": "constant",
         "tracegroupgap": 0
        },
        "mapbox": {
         "center": {
          "lat": 40.77,
          "lon": -73.96
         },
         "domain": {
          "x": [
           0,
           1
          ],
          "y": [
           0,
           1
          ]
         },
         "style": "stamen-toner",
         "zoom": 0.5
        },
        "margin": {
         "t": 60
        },
        "template": {
         "data": {
          "bar": [
           {
            "error_x": {
             "color": "#2a3f5f"
            },
            "error_y": {
             "color": "#2a3f5f"
            },
            "marker": {
             "line": {
              "color": "#E5ECF6",
              "width": 0.5
             },
             "pattern": {
              "fillmode": "overlay",
              "size": 10,
              "solidity": 0.2
             }
            },
            "type": "bar"
           }
          ],
          "barpolar": [
           {
            "marker": {
             "line": {
              "color": "#E5ECF6",
              "width": 0.5
             },
             "pattern": {
              "fillmode": "overlay",
              "size": 10,
              "solidity": 0.2
             }
            },
            "type": "barpolar"
           }
          ],
          "carpet": [
           {
            "aaxis": {
             "endlinecolor": "#2a3f5f",
             "gridcolor": "white",
             "linecolor": "white",
             "minorgridcolor": "white",
             "startlinecolor": "#2a3f5f"
            },
            "baxis": {
             "endlinecolor": "#2a3f5f",
             "gridcolor": "white",
             "linecolor": "white",
             "minorgridcolor": "white",
             "startlinecolor": "#2a3f5f"
            },
            "type": "carpet"
           }
          ],
          "choropleth": [
           {
            "colorbar": {
             "outlinewidth": 0,
             "ticks": ""
            },
            "type": "choropleth"
           }
          ],
          "contour": [
           {
            "colorbar": {
             "outlinewidth": 0,
             "ticks": ""
            },
            "colorscale": [
             [
              0,
              "#0d0887"
             ],
             [
              0.1111111111111111,
              "#46039f"
             ],
             [
              0.2222222222222222,
              "#7201a8"
             ],
             [
              0.3333333333333333,
              "#9c179e"
             ],
             [
              0.4444444444444444,
              "#bd3786"
             ],
             [
              0.5555555555555556,
              "#d8576b"
             ],
             [
              0.6666666666666666,
              "#ed7953"
             ],
             [
              0.7777777777777778,
              "#fb9f3a"
             ],
             [
              0.8888888888888888,
              "#fdca26"
             ],
             [
              1,
              "#f0f921"
             ]
            ],
            "type": "contour"
           }
          ],
          "contourcarpet": [
           {
            "colorbar": {
             "outlinewidth": 0,
             "ticks": ""
            },
            "type": "contourcarpet"
           }
          ],
          "heatmap": [
           {
            "colorbar": {
             "outlinewidth": 0,
             "ticks": ""
            },
            "colorscale": [
             [
              0,
              "#0d0887"
             ],
             [
              0.1111111111111111,
              "#46039f"
             ],
             [
              0.2222222222222222,
              "#7201a8"
             ],
             [
              0.3333333333333333,
              "#9c179e"
             ],
             [
              0.4444444444444444,
              "#bd3786"
             ],
             [
              0.5555555555555556,
              "#d8576b"
             ],
             [
              0.6666666666666666,
              "#ed7953"
             ],
             [
              0.7777777777777778,
              "#fb9f3a"
             ],
             [
              0.8888888888888888,
              "#fdca26"
             ],
             [
              1,
              "#f0f921"
             ]
            ],
            "type": "heatmap"
           }
          ],
          "heatmapgl": [
           {
            "colorbar": {
             "outlinewidth": 0,
             "ticks": ""
            },
            "colorscale": [
             [
              0,
              "#0d0887"
             ],
             [
              0.1111111111111111,
              "#46039f"
             ],
             [
              0.2222222222222222,
              "#7201a8"
             ],
             [
              0.3333333333333333,
              "#9c179e"
             ],
             [
              0.4444444444444444,
              "#bd3786"
             ],
             [
              0.5555555555555556,
              "#d8576b"
             ],
             [
              0.6666666666666666,
              "#ed7953"
             ],
             [
              0.7777777777777778,
              "#fb9f3a"
             ],
             [
              0.8888888888888888,
              "#fdca26"
             ],
             [
              1,
              "#f0f921"
             ]
            ],
            "type": "heatmapgl"
           }
          ],
          "histogram": [
           {
            "marker": {
             "pattern": {
              "fillmode": "overlay",
              "size": 10,
              "solidity": 0.2
             }
            },
            "type": "histogram"
           }
          ],
          "histogram2d": [
           {
            "colorbar": {
             "outlinewidth": 0,
             "ticks": ""
            },
            "colorscale": [
             [
              0,
              "#0d0887"
             ],
             [
              0.1111111111111111,
              "#46039f"
             ],
             [
              0.2222222222222222,
              "#7201a8"
             ],
             [
              0.3333333333333333,
              "#9c179e"
             ],
             [
              0.4444444444444444,
              "#bd3786"
             ],
             [
              0.5555555555555556,
              "#d8576b"
             ],
             [
              0.6666666666666666,
              "#ed7953"
             ],
             [
              0.7777777777777778,
              "#fb9f3a"
             ],
             [
              0.8888888888888888,
              "#fdca26"
             ],
             [
              1,
              "#f0f921"
             ]
            ],
            "type": "histogram2d"
           }
          ],
          "histogram2dcontour": [
           {
            "colorbar": {
             "outlinewidth": 0,
             "ticks": ""
            },
            "colorscale": [
             [
              0,
              "#0d0887"
             ],
             [
              0.1111111111111111,
              "#46039f"
             ],
             [
              0.2222222222222222,
              "#7201a8"
             ],
             [
              0.3333333333333333,
              "#9c179e"
             ],
             [
              0.4444444444444444,
              "#bd3786"
             ],
             [
              0.5555555555555556,
              "#d8576b"
             ],
             [
              0.6666666666666666,
              "#ed7953"
             ],
             [
              0.7777777777777778,
              "#fb9f3a"
             ],
             [
              0.8888888888888888,
              "#fdca26"
             ],
             [
              1,
              "#f0f921"
             ]
            ],
            "type": "histogram2dcontour"
           }
          ],
          "mesh3d": [
           {
            "colorbar": {
             "outlinewidth": 0,
             "ticks": ""
            },
            "type": "mesh3d"
           }
          ],
          "parcoords": [
           {
            "line": {
             "colorbar": {
              "outlinewidth": 0,
              "ticks": ""
             }
            },
            "type": "parcoords"
           }
          ],
          "pie": [
           {
            "automargin": true,
            "type": "pie"
           }
          ],
          "scatter": [
           {
            "marker": {
             "colorbar": {
              "outlinewidth": 0,
              "ticks": ""
             }
            },
            "type": "scatter"
           }
          ],
          "scatter3d": [
           {
            "line": {
             "colorbar": {
              "outlinewidth": 0,
              "ticks": ""
             }
            },
            "marker": {
             "colorbar": {
              "outlinewidth": 0,
              "ticks": ""
             }
            },
            "type": "scatter3d"
           }
          ],
          "scattercarpet": [
           {
            "marker": {
             "colorbar": {
              "outlinewidth": 0,
              "ticks": ""
             }
            },
            "type": "scattercarpet"
           }
          ],
          "scattergeo": [
           {
            "marker": {
             "colorbar": {
              "outlinewidth": 0,
              "ticks": ""
             }
            },
            "type": "scattergeo"
           }
          ],
          "scattergl": [
           {
            "marker": {
             "colorbar": {
              "outlinewidth": 0,
              "ticks": ""
             }
            },
            "type": "scattergl"
           }
          ],
          "scattermapbox": [
           {
            "marker": {
             "colorbar": {
              "outlinewidth": 0,
              "ticks": ""
             }
            },
            "type": "scattermapbox"
           }
          ],
          "scatterpolar": [
           {
            "marker": {
             "colorbar": {
              "outlinewidth": 0,
              "ticks": ""
             }
            },
            "type": "scatterpolar"
           }
          ],
          "scatterpolargl": [
           {
            "marker": {
             "colorbar": {
              "outlinewidth": 0,
              "ticks": ""
             }
            },
            "type": "scatterpolargl"
           }
          ],
          "scatterternary": [
           {
            "marker": {
             "colorbar": {
              "outlinewidth": 0,
              "ticks": ""
             }
            },
            "type": "scatterternary"
           }
          ],
          "surface": [
           {
            "colorbar": {
             "outlinewidth": 0,
             "ticks": ""
            },
            "colorscale": [
             [
              0,
              "#0d0887"
             ],
             [
              0.1111111111111111,
              "#46039f"
             ],
             [
              0.2222222222222222,
              "#7201a8"
             ],
             [
              0.3333333333333333,
              "#9c179e"
             ],
             [
              0.4444444444444444,
              "#bd3786"
             ],
             [
              0.5555555555555556,
              "#d8576b"
             ],
             [
              0.6666666666666666,
              "#ed7953"
             ],
             [
              0.7777777777777778,
              "#fb9f3a"
             ],
             [
              0.8888888888888888,
              "#fdca26"
             ],
             [
              1,
              "#f0f921"
             ]
            ],
            "type": "surface"
           }
          ],
          "table": [
           {
            "cells": {
             "fill": {
              "color": "#EBF0F8"
             },
             "line": {
              "color": "white"
             }
            },
            "header": {
             "fill": {
              "color": "#C8D4E3"
             },
             "line": {
              "color": "white"
             }
            },
            "type": "table"
           }
          ]
         },
         "layout": {
          "annotationdefaults": {
           "arrowcolor": "#2a3f5f",
           "arrowhead": 0,
           "arrowwidth": 1
          },
          "autotypenumbers": "strict",
          "coloraxis": {
           "colorbar": {
            "outlinewidth": 0,
            "ticks": ""
           }
          },
          "colorscale": {
           "diverging": [
            [
             0,
             "#8e0152"
            ],
            [
             0.1,
             "#c51b7d"
            ],
            [
             0.2,
             "#de77ae"
            ],
            [
             0.3,
             "#f1b6da"
            ],
            [
             0.4,
             "#fde0ef"
            ],
            [
             0.5,
             "#f7f7f7"
            ],
            [
             0.6,
             "#e6f5d0"
            ],
            [
             0.7,
             "#b8e186"
            ],
            [
             0.8,
             "#7fbc41"
            ],
            [
             0.9,
             "#4d9221"
            ],
            [
             1,
             "#276419"
            ]
           ],
           "sequential": [
            [
             0,
             "#0d0887"
            ],
            [
             0.1111111111111111,
             "#46039f"
            ],
            [
             0.2222222222222222,
             "#7201a8"
            ],
            [
             0.3333333333333333,
             "#9c179e"
            ],
            [
             0.4444444444444444,
             "#bd3786"
            ],
            [
             0.5555555555555556,
             "#d8576b"
            ],
            [
             0.6666666666666666,
             "#ed7953"
            ],
            [
             0.7777777777777778,
             "#fb9f3a"
            ],
            [
             0.8888888888888888,
             "#fdca26"
            ],
            [
             1,
             "#f0f921"
            ]
           ],
           "sequentialminus": [
            [
             0,
             "#0d0887"
            ],
            [
             0.1111111111111111,
             "#46039f"
            ],
            [
             0.2222222222222222,
             "#7201a8"
            ],
            [
             0.3333333333333333,
             "#9c179e"
            ],
            [
             0.4444444444444444,
             "#bd3786"
            ],
            [
             0.5555555555555556,
             "#d8576b"
            ],
            [
             0.6666666666666666,
             "#ed7953"
            ],
            [
             0.7777777777777778,
             "#fb9f3a"
            ],
            [
             0.8888888888888888,
             "#fdca26"
            ],
            [
             1,
             "#f0f921"
            ]
           ]
          },
          "colorway": [
           "#636efa",
           "#EF553B",
           "#00cc96",
           "#ab63fa",
           "#FFA15A",
           "#19d3f3",
           "#FF6692",
           "#B6E880",
           "#FF97FF",
           "#FECB52"
          ],
          "font": {
           "color": "#2a3f5f"
          },
          "geo": {
           "bgcolor": "white",
           "lakecolor": "white",
           "landcolor": "#E5ECF6",
           "showlakes": true,
           "showland": true,
           "subunitcolor": "white"
          },
          "hoverlabel": {
           "align": "left"
          },
          "hovermode": "closest",
          "mapbox": {
           "style": "light"
          },
          "paper_bgcolor": "white",
          "plot_bgcolor": "#E5ECF6",
          "polar": {
           "angularaxis": {
            "gridcolor": "white",
            "linecolor": "white",
            "ticks": ""
           },
           "bgcolor": "#E5ECF6",
           "radialaxis": {
            "gridcolor": "white",
            "linecolor": "white",
            "ticks": ""
           }
          },
          "scene": {
           "xaxis": {
            "backgroundcolor": "#E5ECF6",
            "gridcolor": "white",
            "gridwidth": 2,
            "linecolor": "white",
            "showbackground": true,
            "ticks": "",
            "zerolinecolor": "white"
           },
           "yaxis": {
            "backgroundcolor": "#E5ECF6",
            "gridcolor": "white",
            "gridwidth": 2,
            "linecolor": "white",
            "showbackground": true,
            "ticks": "",
            "zerolinecolor": "white"
           },
           "zaxis": {
            "backgroundcolor": "#E5ECF6",
            "gridcolor": "white",
            "gridwidth": 2,
            "linecolor": "white",
            "showbackground": true,
            "ticks": "",
            "zerolinecolor": "white"
           }
          },
          "shapedefaults": {
           "line": {
            "color": "#2a3f5f"
           }
          },
          "ternary": {
           "aaxis": {
            "gridcolor": "white",
            "linecolor": "white",
            "ticks": ""
           },
           "baxis": {
            "gridcolor": "white",
            "linecolor": "white",
            "ticks": ""
           },
           "bgcolor": "#E5ECF6",
           "caxis": {
            "gridcolor": "white",
            "linecolor": "white",
            "ticks": ""
           }
          },
          "title": {
           "x": 0.05
          },
          "xaxis": {
           "automargin": true,
           "gridcolor": "white",
           "linecolor": "white",
           "ticks": "",
           "title": {
            "standoff": 15
           },
           "zerolinecolor": "white",
           "zerolinewidth": 2
          },
          "yaxis": {
           "automargin": true,
           "gridcolor": "white",
           "linecolor": "white",
           "ticks": "",
           "title": {
            "standoff": 15
           },
           "zerolinecolor": "white",
           "zerolinewidth": 2
          }
         }
        },
        "title": {
         "text": "Maps visualization of the most relevant place according to proximity and popularity ",
         "x": 0.45,
         "xanchor": "center",
         "y": 0.95,
         "yanchor": "top"
        },
        "width": 1000
       }
      },
      "text/html": [
       "<div>                            <div id=\"04cfa395-f741-4896-993f-06d717027822\" class=\"plotly-graph-div\" style=\"height:600px; width:1000px;\"></div>            <script type=\"text/javascript\">                require([\"plotly\"], function(Plotly) {                    window.PLOTLYENV=window.PLOTLYENV || {};                                    if (document.getElementById(\"04cfa395-f741-4896-993f-06d717027822\")) {                    Plotly.newPlot(                        \"04cfa395-f741-4896-993f-06d717027822\",                        [{\"customdata\":[[\"The Witch House of Salem\",\"310 1/2 Essex Street, Salem, Massachusetts, 01970, United States\"],[\"Blue Mustang\",\"Pe\\u00f1a Blvd, Denver, Colorado, 80249, United States\"],[\"Crazy Horse Memorial\",\"12151 Avenue of the Chiefs, Custer, South Dakota, 57730, United States\"],[\"The Natural Bridge\",\"15 Appledore Lane, Natural Bridge, Virginia, 24578, United States\"],[\"Petra\",\"On the slope of Mount Hor, Arabah, Jordan\"],[\"The Athenian Agora\",\"46 Adrianou, Athens, 105 55, Greece\"],[\"KattenKabinet\",\"497 Herengracht, Amsterdam, Netherlands\"],[\"Biosphere of Montreal\",\"160, Chemin Tour-de-l'Isle, \\u00cele Sainte-H\\u00e9l\\u00e8ne, Montreal, Qu\\u00e9bec, H3C 0K7, Canada\"],[\"U-505\",\"5700 S. Lake Shore Drive, Chicago, Illinois, 60637, United States\"],[\"Uncommon Objects\",\"1602 Fortview, Austin, Texas, 78704, United States\"]],\"hovertemplate\":\"similarity=%{marker.color}<br>lat=%{lat}<br>lon=%{lon}<br>name=%{customdata[0]}<br>address=%{customdata[1]}<extra></extra>\",\"lat\":[42.521507,39.834223,43.836789,37.6282,30.328467,37.975764,52.365629,45.518988,41.790609,30.229086],\"legendgroup\":\"\",\"lon\":[-70.898894,-104.675916,-103.624386,-79.544653,35.442662,23.724734,4.891552,-73.534194,-87.583059,-97.783036],\"marker\":{\"color\":[0.016600309332310534,0.010565909320005288,0.008911048674442756,0.008599759904127879,0.008480719750882262,0.008189674069242963,0.007880120891690276,0.007171608641983902,0.006942697954277262,0.006753316711582317],\"coloraxis\":\"coloraxis\",\"size\":[0.016600309332310534,0.010565909320005288,0.008911048674442756,0.008599759904127879,0.008480719750882262,0.008189674069242963,0.007880120891690276,0.007171608641983902,0.006942697954277262,0.006753316711582317],\"sizemode\":\"area\",\"sizeref\":4.1500773330776334e-05},\"mode\":\"markers\",\"name\":\"\",\"showlegend\":false,\"subplot\":\"mapbox\",\"type\":\"scattermapbox\"}],                        {\"template\":{\"data\":{\"bar\":[{\"error_x\":{\"color\":\"#2a3f5f\"},\"error_y\":{\"color\":\"#2a3f5f\"},\"marker\":{\"line\":{\"color\":\"#E5ECF6\",\"width\":0.5},\"pattern\":{\"fillmode\":\"overlay\",\"size\":10,\"solidity\":0.2}},\"type\":\"bar\"}],\"barpolar\":[{\"marker\":{\"line\":{\"color\":\"#E5ECF6\",\"width\":0.5},\"pattern\":{\"fillmode\":\"overlay\",\"size\":10,\"solidity\":0.2}},\"type\":\"barpolar\"}],\"carpet\":[{\"aaxis\":{\"endlinecolor\":\"#2a3f5f\",\"gridcolor\":\"white\",\"linecolor\":\"white\",\"minorgridcolor\":\"white\",\"startlinecolor\":\"#2a3f5f\"},\"baxis\":{\"endlinecolor\":\"#2a3f5f\",\"gridcolor\":\"white\",\"linecolor\":\"white\",\"minorgridcolor\":\"white\",\"startlinecolor\":\"#2a3f5f\"},\"type\":\"carpet\"}],\"choropleth\":[{\"colorbar\":{\"outlinewidth\":0,\"ticks\":\"\"},\"type\":\"choropleth\"}],\"contour\":[{\"colorbar\":{\"outlinewidth\":0,\"ticks\":\"\"},\"colorscale\":[[0.0,\"#0d0887\"],[0.1111111111111111,\"#46039f\"],[0.2222222222222222,\"#7201a8\"],[0.3333333333333333,\"#9c179e\"],[0.4444444444444444,\"#bd3786\"],[0.5555555555555556,\"#d8576b\"],[0.6666666666666666,\"#ed7953\"],[0.7777777777777778,\"#fb9f3a\"],[0.8888888888888888,\"#fdca26\"],[1.0,\"#f0f921\"]],\"type\":\"contour\"}],\"contourcarpet\":[{\"colorbar\":{\"outlinewidth\":0,\"ticks\":\"\"},\"type\":\"contourcarpet\"}],\"heatmap\":[{\"colorbar\":{\"outlinewidth\":0,\"ticks\":\"\"},\"colorscale\":[[0.0,\"#0d0887\"],[0.1111111111111111,\"#46039f\"],[0.2222222222222222,\"#7201a8\"],[0.3333333333333333,\"#9c179e\"],[0.4444444444444444,\"#bd3786\"],[0.5555555555555556,\"#d8576b\"],[0.6666666666666666,\"#ed7953\"],[0.7777777777777778,\"#fb9f3a\"],[0.8888888888888888,\"#fdca26\"],[1.0,\"#f0f921\"]],\"type\":\"heatmap\"}],\"heatmapgl\":[{\"colorbar\":{\"outlinewidth\":0,\"ticks\":\"\"},\"colorscale\":[[0.0,\"#0d0887\"],[0.1111111111111111,\"#46039f\"],[0.2222222222222222,\"#7201a8\"],[0.3333333333333333,\"#9c179e\"],[0.4444444444444444,\"#bd3786\"],[0.5555555555555556,\"#d8576b\"],[0.6666666666666666,\"#ed7953\"],[0.7777777777777778,\"#fb9f3a\"],[0.8888888888888888,\"#fdca26\"],[1.0,\"#f0f921\"]],\"type\":\"heatmapgl\"}],\"histogram\":[{\"marker\":{\"pattern\":{\"fillmode\":\"overlay\",\"size\":10,\"solidity\":0.2}},\"type\":\"histogram\"}],\"histogram2d\":[{\"colorbar\":{\"outlinewidth\":0,\"ticks\":\"\"},\"colorscale\":[[0.0,\"#0d0887\"],[0.1111111111111111,\"#46039f\"],[0.2222222222222222,\"#7201a8\"],[0.3333333333333333,\"#9c179e\"],[0.4444444444444444,\"#bd3786\"],[0.5555555555555556,\"#d8576b\"],[0.6666666666666666,\"#ed7953\"],[0.7777777777777778,\"#fb9f3a\"],[0.8888888888888888,\"#fdca26\"],[1.0,\"#f0f921\"]],\"type\":\"histogram2d\"}],\"histogram2dcontour\":[{\"colorbar\":{\"outlinewidth\":0,\"ticks\":\"\"},\"colorscale\":[[0.0,\"#0d0887\"],[0.1111111111111111,\"#46039f\"],[0.2222222222222222,\"#7201a8\"],[0.3333333333333333,\"#9c179e\"],[0.4444444444444444,\"#bd3786\"],[0.5555555555555556,\"#d8576b\"],[0.6666666666666666,\"#ed7953\"],[0.7777777777777778,\"#fb9f3a\"],[0.8888888888888888,\"#fdca26\"],[1.0,\"#f0f921\"]],\"type\":\"histogram2dcontour\"}],\"mesh3d\":[{\"colorbar\":{\"outlinewidth\":0,\"ticks\":\"\"},\"type\":\"mesh3d\"}],\"parcoords\":[{\"line\":{\"colorbar\":{\"outlinewidth\":0,\"ticks\":\"\"}},\"type\":\"parcoords\"}],\"pie\":[{\"automargin\":true,\"type\":\"pie\"}],\"scatter\":[{\"marker\":{\"colorbar\":{\"outlinewidth\":0,\"ticks\":\"\"}},\"type\":\"scatter\"}],\"scatter3d\":[{\"line\":{\"colorbar\":{\"outlinewidth\":0,\"ticks\":\"\"}},\"marker\":{\"colorbar\":{\"outlinewidth\":0,\"ticks\":\"\"}},\"type\":\"scatter3d\"}],\"scattercarpet\":[{\"marker\":{\"colorbar\":{\"outlinewidth\":0,\"ticks\":\"\"}},\"type\":\"scattercarpet\"}],\"scattergeo\":[{\"marker\":{\"colorbar\":{\"outlinewidth\":0,\"ticks\":\"\"}},\"type\":\"scattergeo\"}],\"scattergl\":[{\"marker\":{\"colorbar\":{\"outlinewidth\":0,\"ticks\":\"\"}},\"type\":\"scattergl\"}],\"scattermapbox\":[{\"marker\":{\"colorbar\":{\"outlinewidth\":0,\"ticks\":\"\"}},\"type\":\"scattermapbox\"}],\"scatterpolar\":[{\"marker\":{\"colorbar\":{\"outlinewidth\":0,\"ticks\":\"\"}},\"type\":\"scatterpolar\"}],\"scatterpolargl\":[{\"marker\":{\"colorbar\":{\"outlinewidth\":0,\"ticks\":\"\"}},\"type\":\"scatterpolargl\"}],\"scatterternary\":[{\"marker\":{\"colorbar\":{\"outlinewidth\":0,\"ticks\":\"\"}},\"type\":\"scatterternary\"}],\"surface\":[{\"colorbar\":{\"outlinewidth\":0,\"ticks\":\"\"},\"colorscale\":[[0.0,\"#0d0887\"],[0.1111111111111111,\"#46039f\"],[0.2222222222222222,\"#7201a8\"],[0.3333333333333333,\"#9c179e\"],[0.4444444444444444,\"#bd3786\"],[0.5555555555555556,\"#d8576b\"],[0.6666666666666666,\"#ed7953\"],[0.7777777777777778,\"#fb9f3a\"],[0.8888888888888888,\"#fdca26\"],[1.0,\"#f0f921\"]],\"type\":\"surface\"}],\"table\":[{\"cells\":{\"fill\":{\"color\":\"#EBF0F8\"},\"line\":{\"color\":\"white\"}},\"header\":{\"fill\":{\"color\":\"#C8D4E3\"},\"line\":{\"color\":\"white\"}},\"type\":\"table\"}]},\"layout\":{\"annotationdefaults\":{\"arrowcolor\":\"#2a3f5f\",\"arrowhead\":0,\"arrowwidth\":1},\"autotypenumbers\":\"strict\",\"coloraxis\":{\"colorbar\":{\"outlinewidth\":0,\"ticks\":\"\"}},\"colorscale\":{\"diverging\":[[0,\"#8e0152\"],[0.1,\"#c51b7d\"],[0.2,\"#de77ae\"],[0.3,\"#f1b6da\"],[0.4,\"#fde0ef\"],[0.5,\"#f7f7f7\"],[0.6,\"#e6f5d0\"],[0.7,\"#b8e186\"],[0.8,\"#7fbc41\"],[0.9,\"#4d9221\"],[1,\"#276419\"]],\"sequential\":[[0.0,\"#0d0887\"],[0.1111111111111111,\"#46039f\"],[0.2222222222222222,\"#7201a8\"],[0.3333333333333333,\"#9c179e\"],[0.4444444444444444,\"#bd3786\"],[0.5555555555555556,\"#d8576b\"],[0.6666666666666666,\"#ed7953\"],[0.7777777777777778,\"#fb9f3a\"],[0.8888888888888888,\"#fdca26\"],[1.0,\"#f0f921\"]],\"sequentialminus\":[[0.0,\"#0d0887\"],[0.1111111111111111,\"#46039f\"],[0.2222222222222222,\"#7201a8\"],[0.3333333333333333,\"#9c179e\"],[0.4444444444444444,\"#bd3786\"],[0.5555555555555556,\"#d8576b\"],[0.6666666666666666,\"#ed7953\"],[0.7777777777777778,\"#fb9f3a\"],[0.8888888888888888,\"#fdca26\"],[1.0,\"#f0f921\"]]},\"colorway\":[\"#636efa\",\"#EF553B\",\"#00cc96\",\"#ab63fa\",\"#FFA15A\",\"#19d3f3\",\"#FF6692\",\"#B6E880\",\"#FF97FF\",\"#FECB52\"],\"font\":{\"color\":\"#2a3f5f\"},\"geo\":{\"bgcolor\":\"white\",\"lakecolor\":\"white\",\"landcolor\":\"#E5ECF6\",\"showlakes\":true,\"showland\":true,\"subunitcolor\":\"white\"},\"hoverlabel\":{\"align\":\"left\"},\"hovermode\":\"closest\",\"mapbox\":{\"style\":\"light\"},\"paper_bgcolor\":\"white\",\"plot_bgcolor\":\"#E5ECF6\",\"polar\":{\"angularaxis\":{\"gridcolor\":\"white\",\"linecolor\":\"white\",\"ticks\":\"\"},\"bgcolor\":\"#E5ECF6\",\"radialaxis\":{\"gridcolor\":\"white\",\"linecolor\":\"white\",\"ticks\":\"\"}},\"scene\":{\"xaxis\":{\"backgroundcolor\":\"#E5ECF6\",\"gridcolor\":\"white\",\"gridwidth\":2,\"linecolor\":\"white\",\"showbackground\":true,\"ticks\":\"\",\"zerolinecolor\":\"white\"},\"yaxis\":{\"backgroundcolor\":\"#E5ECF6\",\"gridcolor\":\"white\",\"gridwidth\":2,\"linecolor\":\"white\",\"showbackground\":true,\"ticks\":\"\",\"zerolinecolor\":\"white\"},\"zaxis\":{\"backgroundcolor\":\"#E5ECF6\",\"gridcolor\":\"white\",\"gridwidth\":2,\"linecolor\":\"white\",\"showbackground\":true,\"ticks\":\"\",\"zerolinecolor\":\"white\"}},\"shapedefaults\":{\"line\":{\"color\":\"#2a3f5f\"}},\"ternary\":{\"aaxis\":{\"gridcolor\":\"white\",\"linecolor\":\"white\",\"ticks\":\"\"},\"baxis\":{\"gridcolor\":\"white\",\"linecolor\":\"white\",\"ticks\":\"\"},\"bgcolor\":\"#E5ECF6\",\"caxis\":{\"gridcolor\":\"white\",\"linecolor\":\"white\",\"ticks\":\"\"}},\"title\":{\"x\":0.05},\"xaxis\":{\"automargin\":true,\"gridcolor\":\"white\",\"linecolor\":\"white\",\"ticks\":\"\",\"title\":{\"standoff\":15},\"zerolinecolor\":\"white\",\"zerolinewidth\":2},\"yaxis\":{\"automargin\":true,\"gridcolor\":\"white\",\"linecolor\":\"white\",\"ticks\":\"\",\"title\":{\"standoff\":15},\"zerolinecolor\":\"white\",\"zerolinewidth\":2}}},\"mapbox\":{\"domain\":{\"x\":[0.0,1.0],\"y\":[0.0,1.0]},\"center\":{\"lat\":40.77,\"lon\":-73.96},\"zoom\":0.5,\"style\":\"stamen-toner\"},\"coloraxis\":{\"colorbar\":{\"title\":{\"text\":\"similarity\"}},\"colorscale\":[[0.0,\"#0d0887\"],[0.1111111111111111,\"#46039f\"],[0.2222222222222222,\"#7201a8\"],[0.3333333333333333,\"#9c179e\"],[0.4444444444444444,\"#bd3786\"],[0.5555555555555556,\"#d8576b\"],[0.6666666666666666,\"#ed7953\"],[0.7777777777777778,\"#fb9f3a\"],[0.8888888888888888,\"#fdca26\"],[1.0,\"#f0f921\"]]},\"legend\":{\"tracegroupgap\":0,\"itemsizing\":\"constant\"},\"margin\":{\"t\":60},\"height\":600,\"width\":1000,\"title\":{\"text\":\"Maps visualization of the most relevant place according to proximity and popularity \",\"y\":0.95,\"x\":0.45,\"xanchor\":\"center\",\"yanchor\":\"top\"}},                        {\"responsive\": true}                    ).then(function(){\n",
       "                            \n",
       "var gd = document.getElementById('04cfa395-f741-4896-993f-06d717027822');\n",
       "var x = new MutationObserver(function (mutations, observer) {{\n",
       "        var display = window.getComputedStyle(gd).display;\n",
       "        if (!display || display === 'none') {{\n",
       "            console.log([gd, 'removed!']);\n",
       "            Plotly.purge(gd);\n",
       "            observer.disconnect();\n",
       "        }}\n",
       "}});\n",
       "\n",
       "// Listen for the removal of the full notebook cells\n",
       "var notebookContainer = gd.closest('#notebook-container');\n",
       "if (notebookContainer) {{\n",
       "    x.observe(notebookContainer, {childList: true});\n",
       "}}\n",
       "\n",
       "// Listen for the clearing of the current output cell\n",
       "var outputEl = gd.closest('.output');\n",
       "if (outputEl) {{\n",
       "    x.observe(outputEl, {childList: true});\n",
       "}}\n",
       "\n",
       "                        })                };                });            </script>        </div>"
      ]
     },
     "metadata": {},
     "output_type": "display_data"
    }
   ],
   "source": [
    "fig = px.scatter_mapbox(\n",
    "    d_combination,  # Our DataFrame\n",
    "    lat = \"lat\",\n",
    "    lon = \"lon\",\n",
    "    center = {\"lat\": 40.77, \"lon\": -73.96},  # where map will be centered\n",
    "    width = 1000,  # Width of map\n",
    "    height = 600,  # Height of map\n",
    "    color=\"similarity\", size=\"similarity\",\n",
    "    zoom=0.5,\n",
    "    hover_data = [\"name\", \"address\"],\n",
    "    # what to display when hovering mouse over coordinate\n",
    ")\n",
    "fig.update_layout(\n",
    "    title={\n",
    "        'text': \"Maps visualization of the most relevant place according to proximity and popularity \",\n",
    "        'y':0.95,\n",
    "        'x':0.45,\n",
    "        'xanchor': 'center',\n",
    "        'yanchor': 'top'})\n",
    "\n",
    "fig.update_layout(mapbox_style=\"stamen-toner\") \n",
    "fig.show()"
   ]
  },
  {
   "cell_type": "code",
   "execution_count": null,
   "id": "3783c850",
   "metadata": {},
   "outputs": [],
   "source": []
  }
 ],
 "metadata": {
  "kernelspec": {
   "display_name": "Python 3 (ipykernel)",
   "language": "python",
   "name": "python3"
  },
  "language_info": {
   "codemirror_mode": {
    "name": "ipython",
    "version": 3
   },
   "file_extension": ".py",
   "mimetype": "text/x-python",
   "name": "python",
   "nbconvert_exporter": "python",
   "pygments_lexer": "ipython3",
   "version": "3.9.12"
  }
 },
 "nbformat": 4,
 "nbformat_minor": 5
}
