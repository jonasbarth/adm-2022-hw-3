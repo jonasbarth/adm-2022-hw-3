{
 "cells": [
  {
   "cell_type": "code",
   "execution_count": 1,
   "id": "64c71e64",
   "metadata": {},
   "outputs": [],
   "source": [
    "import pandas as pd\n",
    "from parse import parse_htmls\n",
    "from util import read_place_desc, read_htmls_in, write_places_to_tsv, read_places\n",
    "from service import PlaceService, SearchEngine\n",
    "from index import preprocess, Index, TfIdfIndex\n",
    "\n",
    "import requests\n",
    "from tqdm import tqdm\n",
    "import os\n",
    "import time\n",
    "import util"
   ]
  },
  {
   "cell_type": "markdown",
   "id": "39ba5f60",
   "metadata": {},
   "source": [
    "# Data collection\n",
    "##  1.1. Get the list of places\n",
    "\n",
    "\n",
    "\n"
   ]
  },
  {
   "cell_type": "code",
   "execution_count": null,
   "id": "5f80fc83",
   "metadata": {},
   "outputs": [],
   "source": [
    "with open('most_popular_places.txt', 'w') as file:\n",
    "    for i in tqdm(range(300)):\n",
    "        \n",
    "        url = 'https://www.atlasobscura.com/places?page='+str(i+1)+'&sort=likes_count'\n",
    "        list_page = requests.get(url)\n",
    "        list_soup = BeautifulSoup(list_page.text)\n",
    "        list_places = [x['href'] for x in list_soup.find_all('a', {'class':\"content-card content-card-place\"})]\n",
    "        for place in tqdm(list_places):\n",
    "            file.write('https://www.atlasobscura.com' + str(place))\n",
    "            file.write('\\n')"
   ]
  },
  {
   "cell_type": "markdown",
   "id": "767196a7",
   "metadata": {},
   "source": [
    "## 1.2. Crawl places"
   ]
  },
  {
   "cell_type": "code",
   "execution_count": null,
   "id": "64f19d0d",
   "metadata": {},
   "outputs": [],
   "source": [
    "f= open('most_popular_places.txt', 'r')\n",
    "for j, url in enumerate(f):\n",
    "    \n",
    "    if j %18 == 0:\n",
    "        dir_path = f'page{j//18+1}'\n",
    "        if not os.path.isdir(dir_path):\n",
    "            os.mkdir(dir_path)\n",
    "            \n",
    "    response = requests.get(url.strip())\n",
    "    with open(f'{dir_path}/{j+1}.html','w') as file:\n",
    "        print()\n",
    "        file.write(response.text)\n",
    "        \n",
    "    time.sleep(1)"
   ]
  },
  {
   "cell_type": "markdown",
   "id": "b3a67110",
   "metadata": {},
   "source": [
    "# 1.3 Parse Pages"
   ]
  },
  {
   "cell_type": "code",
   "execution_count": 3,
   "id": "62464a94",
   "metadata": {},
   "outputs": [],
   "source": [
    "all_htmls = read_htmls_in('./pages')"
   ]
  },
  {
   "cell_type": "code",
   "execution_count": 4,
   "id": "87773de7",
   "metadata": {},
   "outputs": [],
   "source": [
    "all_places = parse_htmls(all_htmls)"
   ]
  },
  {
   "cell_type": "code",
   "execution_count": 263,
   "id": "1e7799d1",
   "metadata": {},
   "outputs": [
    {
     "name": "stdout",
     "output_type": "stream",
     "text": [
      "Stored 'htmls' (list)\n"
     ]
    }
   ],
   "source": [
    "%store htmls"
   ]
  },
  {
   "cell_type": "code",
   "execution_count": 4,
   "id": "d499d499",
   "metadata": {},
   "outputs": [],
   "source": [
    "%store -r htmls"
   ]
  },
  {
   "cell_type": "code",
   "execution_count": 2,
   "id": "4fdb537d",
   "metadata": {},
   "outputs": [],
   "source": [
    "#tsv_path = write_places_to_tsv('./', all_places)\n",
    "names, descriptions = read_place_desc('./places.tsv')\n",
    "place_service = PlaceService()\n",
    "place_service.load('./places.tsv')"
   ]
  },
  {
   "cell_type": "markdown",
   "id": "8a1b1318",
   "metadata": {},
   "source": [
    "# Create Conjunctive Index"
   ]
  },
  {
   "cell_type": "code",
   "execution_count": 3,
   "id": "70e3ba06",
   "metadata": {},
   "outputs": [],
   "source": [
    "index = Index.create_from(names, descriptions)"
   ]
  },
  {
   "cell_type": "markdown",
   "id": "7ee73ed7",
   "metadata": {},
   "source": [
    "# Create Search Engine"
   ]
  },
  {
   "cell_type": "code",
   "execution_count": 4,
   "id": "67d51a74",
   "metadata": {},
   "outputs": [],
   "source": [
    "search_engine = SearchEngine(index, place_service)"
   ]
  },
  {
   "cell_type": "markdown",
   "id": "a4e17528",
   "metadata": {},
   "source": [
    "# Run Search"
   ]
  },
  {
   "cell_type": "code",
   "execution_count": 5,
   "id": "1dd10032",
   "metadata": {},
   "outputs": [
    {
     "data": {
      "text/html": [
       "<div>\n",
       "<style scoped>\n",
       "    .dataframe tbody tr th:only-of-type {\n",
       "        vertical-align: middle;\n",
       "    }\n",
       "\n",
       "    .dataframe tbody tr th {\n",
       "        vertical-align: top;\n",
       "    }\n",
       "\n",
       "    .dataframe thead th {\n",
       "        text-align: right;\n",
       "    }\n",
       "</style>\n",
       "<table border=\"1\" class=\"dataframe\">\n",
       "  <thead>\n",
       "    <tr style=\"text-align: right;\">\n",
       "      <th></th>\n",
       "      <th>name</th>\n",
       "      <th>desc</th>\n",
       "      <th>url</th>\n",
       "    </tr>\n",
       "  </thead>\n",
       "  <tbody>\n",
       "    <tr>\n",
       "      <th>1072</th>\n",
       "      <td>Early Television Museum</td>\n",
       "      <td>Steve McVoy was always fascinated by TV. In mi...</td>\n",
       "      <td>https://www.atlasobscura.com/places/early-tele...</td>\n",
       "    </tr>\n",
       "    <tr>\n",
       "      <th>4954</th>\n",
       "      <td>Madam C.J. Walker Museum &amp;amp; WERD Radio</td>\n",
       "      <td>This small brick building, located just a few ...</td>\n",
       "      <td>https://www.atlasobscura.com/places/madam-cj-w...</td>\n",
       "    </tr>\n",
       "    <tr>\n",
       "      <th>569</th>\n",
       "      <td>American Museum of Magic</td>\n",
       "      <td>Presto Change-o! Founded in 1978, the American...</td>\n",
       "      <td>https://www.atlasobscura.com/places/american-m...</td>\n",
       "    </tr>\n",
       "    <tr>\n",
       "      <th>4571</th>\n",
       "      <td>Deutsches Jagd und Fischereimuseum (German Mus...</td>\n",
       "      <td>With its rows of taxidermy animal heads and di...</td>\n",
       "      <td>https://www.atlasobscura.com/places/deutsches-...</td>\n",
       "    </tr>\n",
       "    <tr>\n",
       "      <th>904</th>\n",
       "      <td>Lunch Box Museum</td>\n",
       "      <td>Lunch boxes bring back a certain sense of nost...</td>\n",
       "      <td>https://www.atlasobscura.com/places/lunch-box-...</td>\n",
       "    </tr>\n",
       "    <tr>\n",
       "      <th>...</th>\n",
       "      <td>...</td>\n",
       "      <td>...</td>\n",
       "      <td>...</td>\n",
       "    </tr>\n",
       "    <tr>\n",
       "      <th>3250</th>\n",
       "      <td>Bare-Chested George Washington</td>\n",
       "      <td>At first glance, the Smithsonian’s bare-cheste...</td>\n",
       "      <td>https://www.atlasobscura.com/places/bare-chest...</td>\n",
       "    </tr>\n",
       "    <tr>\n",
       "      <th>7118</th>\n",
       "      <td>Castle Post</td>\n",
       "      <td>Looking more like an abandoned Medieval Times ...</td>\n",
       "      <td>https://www.atlasobscura.com/places/castle-post</td>\n",
       "    </tr>\n",
       "    <tr>\n",
       "      <th>5429</th>\n",
       "      <td>Old Time Wooden Nickel Company</td>\n",
       "      <td>The adage goes, “don’t take any wooden nickels...</td>\n",
       "      <td>https://www.atlasobscura.com/places/old-time-w...</td>\n",
       "    </tr>\n",
       "    <tr>\n",
       "      <th>456</th>\n",
       "      <td>Mildred E. Mathias Botanical Garden</td>\n",
       "      <td>Founded in 1929, the botanical garden at Unive...</td>\n",
       "      <td>https://www.atlasobscura.com/places/mildred-e-...</td>\n",
       "    </tr>\n",
       "    <tr>\n",
       "      <th>2031</th>\n",
       "      <td>KattenKabinet</td>\n",
       "      <td>The death of a pet can inspire a number of rea...</td>\n",
       "      <td>https://www.atlasobscura.com/places/kattenkabinet</td>\n",
       "    </tr>\n",
       "  </tbody>\n",
       "</table>\n",
       "<p>245 rows × 3 columns</p>\n",
       "</div>"
      ],
      "text/plain": [
       "                                                   name  \\\n",
       "1072                            Early Television Museum   \n",
       "4954          Madam C.J. Walker Museum &amp; WERD Radio   \n",
       "569                            American Museum of Magic   \n",
       "4571  Deutsches Jagd und Fischereimuseum (German Mus...   \n",
       "904                                    Lunch Box Museum   \n",
       "...                                                 ...   \n",
       "3250                     Bare-Chested George Washington   \n",
       "7118                                        Castle Post   \n",
       "5429                     Old Time Wooden Nickel Company   \n",
       "456                 Mildred E. Mathias Botanical Garden   \n",
       "2031                                      KattenKabinet   \n",
       "\n",
       "                                                   desc  \\\n",
       "1072  Steve McVoy was always fascinated by TV. In mi...   \n",
       "4954  This small brick building, located just a few ...   \n",
       "569   Presto Change-o! Founded in 1978, the American...   \n",
       "4571  With its rows of taxidermy animal heads and di...   \n",
       "904   Lunch boxes bring back a certain sense of nost...   \n",
       "...                                                 ...   \n",
       "3250  At first glance, the Smithsonian’s bare-cheste...   \n",
       "7118  Looking more like an abandoned Medieval Times ...   \n",
       "5429  The adage goes, “don’t take any wooden nickels...   \n",
       "456   Founded in 1929, the botanical garden at Unive...   \n",
       "2031  The death of a pet can inspire a number of rea...   \n",
       "\n",
       "                                                    url  \n",
       "1072  https://www.atlasobscura.com/places/early-tele...  \n",
       "4954  https://www.atlasobscura.com/places/madam-cj-w...  \n",
       "569   https://www.atlasobscura.com/places/american-m...  \n",
       "4571  https://www.atlasobscura.com/places/deutsches-...  \n",
       "904   https://www.atlasobscura.com/places/lunch-box-...  \n",
       "...                                                 ...  \n",
       "3250  https://www.atlasobscura.com/places/bare-chest...  \n",
       "7118    https://www.atlasobscura.com/places/castle-post  \n",
       "5429  https://www.atlasobscura.com/places/old-time-w...  \n",
       "456   https://www.atlasobscura.com/places/mildred-e-...  \n",
       "2031  https://www.atlasobscura.com/places/kattenkabinet  \n",
       "\n",
       "[245 rows x 3 columns]"
      ]
     },
     "execution_count": 5,
     "metadata": {},
     "output_type": "execute_result"
    }
   ],
   "source": [
    "search_engine.query('american museum')"
   ]
  },
  {
   "cell_type": "markdown",
   "id": "096200cb",
   "metadata": {},
   "source": [
    "# Create TF-IDF Index"
   ]
  },
  {
   "cell_type": "code",
   "execution_count": 6,
   "id": "893ee610",
   "metadata": {},
   "outputs": [],
   "source": [
    "tf_idf_index = TfIdfIndex.create_from(names, descriptions)"
   ]
  },
  {
   "cell_type": "markdown",
   "id": "10935dd2",
   "metadata": {},
   "source": [
    "# Create TF-IDF Search Engine"
   ]
  },
  {
   "cell_type": "code",
   "execution_count": null,
   "id": "03bf2f2c",
   "metadata": {},
   "outputs": [],
   "source": [
    "tf_idf_search_engine = SearchEngine(tf_idf_index, place_service)"
   ]
  },
  {
   "cell_type": "code",
   "execution_count": 8,
   "id": "091e1523",
   "metadata": {},
   "outputs": [
    {
     "data": {
      "text/html": [
       "<div>\n",
       "<style scoped>\n",
       "    .dataframe tbody tr th:only-of-type {\n",
       "        vertical-align: middle;\n",
       "    }\n",
       "\n",
       "    .dataframe tbody tr th {\n",
       "        vertical-align: top;\n",
       "    }\n",
       "\n",
       "    .dataframe thead th {\n",
       "        text-align: right;\n",
       "    }\n",
       "</style>\n",
       "<table border=\"1\" class=\"dataframe\">\n",
       "  <thead>\n",
       "    <tr style=\"text-align: right;\">\n",
       "      <th></th>\n",
       "      <th>name</th>\n",
       "      <th>desc</th>\n",
       "      <th>url</th>\n",
       "      <th>similarity</th>\n",
       "    </tr>\n",
       "  </thead>\n",
       "  <tbody>\n",
       "    <tr>\n",
       "      <th>4953</th>\n",
       "      <td>Siriraj Medical Museum</td>\n",
       "      <td>The Siriraj Medical Museum abounds with medica...</td>\n",
       "      <td>https://www.atlasobscura.com/places/siriraj-me...</td>\n",
       "      <td>0.327173</td>\n",
       "    </tr>\n",
       "    <tr>\n",
       "      <th>6562</th>\n",
       "      <td>Harvard Museum of Natural History</td>\n",
       "      <td>Collecting three different institutions into o...</td>\n",
       "      <td>https://www.atlasobscura.com/places/harvard-mu...</td>\n",
       "      <td>0.304600</td>\n",
       "    </tr>\n",
       "    <tr>\n",
       "      <th>991</th>\n",
       "      <td>Milwaukee Art Museum</td>\n",
       "      <td>Like the Guggenheim in New York and the Oaklan...</td>\n",
       "      <td>https://www.atlasobscura.com/places/milwaukee-...</td>\n",
       "      <td>0.294030</td>\n",
       "    </tr>\n",
       "    <tr>\n",
       "      <th>155</th>\n",
       "      <td>National World War II Museum</td>\n",
       "      <td>Perhaps once thought too narrowly focused, thi...</td>\n",
       "      <td>https://www.atlasobscura.com/places/national-w...</td>\n",
       "      <td>0.294030</td>\n",
       "    </tr>\n",
       "    <tr>\n",
       "      <th>7194</th>\n",
       "      <td>National Cryptologic Museum</td>\n",
       "      <td>Update as of October 2021: Currently closed fo...</td>\n",
       "      <td>https://www.atlasobscura.com/places/national-c...</td>\n",
       "      <td>0.294030</td>\n",
       "    </tr>\n",
       "    <tr>\n",
       "      <th>6638</th>\n",
       "      <td>Thorne Miniature Rooms</td>\n",
       "      <td>In the depths of the Museum of the Art Institu...</td>\n",
       "      <td>https://www.atlasobscura.com/places/thorne-min...</td>\n",
       "      <td>0.281102</td>\n",
       "    </tr>\n",
       "    <tr>\n",
       "      <th>5517</th>\n",
       "      <td>Niles Essanay Silent Film Museum</td>\n",
       "      <td>It was Spring in San Francisco. One quiet Apri...</td>\n",
       "      <td>https://www.atlasobscura.com/places/niles-essa...</td>\n",
       "      <td>0.281102</td>\n",
       "    </tr>\n",
       "    <tr>\n",
       "      <th>3530</th>\n",
       "      <td>Oscar Getz Museum of Whiskey History</td>\n",
       "      <td>If there is a place on earth that knows its wh...</td>\n",
       "      <td>https://www.atlasobscura.com/places/oscar-getz...</td>\n",
       "      <td>0.281102</td>\n",
       "    </tr>\n",
       "    <tr>\n",
       "      <th>5764</th>\n",
       "      <td>National Museum of the Pacific War</td>\n",
       "      <td>Dedicated specifically to remembering the stor...</td>\n",
       "      <td>https://www.atlasobscura.com/places/national-m...</td>\n",
       "      <td>0.281102</td>\n",
       "    </tr>\n",
       "    <tr>\n",
       "      <th>5778</th>\n",
       "      <td>Zwack Unicum Museum</td>\n",
       "      <td>Sometimes referred to as the Hungarian nationa...</td>\n",
       "      <td>https://www.atlasobscura.com/places/zwack-unic...</td>\n",
       "      <td>0.000000</td>\n",
       "    </tr>\n",
       "  </tbody>\n",
       "</table>\n",
       "</div>"
      ],
      "text/plain": [
       "                                      name  \\\n",
       "4953                Siriraj Medical Museum   \n",
       "6562     Harvard Museum of Natural History   \n",
       "991                   Milwaukee Art Museum   \n",
       "155           National World War II Museum   \n",
       "7194           National Cryptologic Museum   \n",
       "6638                Thorne Miniature Rooms   \n",
       "5517      Niles Essanay Silent Film Museum   \n",
       "3530  Oscar Getz Museum of Whiskey History   \n",
       "5764    National Museum of the Pacific War   \n",
       "5778                   Zwack Unicum Museum   \n",
       "\n",
       "                                                   desc  \\\n",
       "4953  The Siriraj Medical Museum abounds with medica...   \n",
       "6562  Collecting three different institutions into o...   \n",
       "991   Like the Guggenheim in New York and the Oaklan...   \n",
       "155   Perhaps once thought too narrowly focused, thi...   \n",
       "7194  Update as of October 2021: Currently closed fo...   \n",
       "6638  In the depths of the Museum of the Art Institu...   \n",
       "5517  It was Spring in San Francisco. One quiet Apri...   \n",
       "3530  If there is a place on earth that knows its wh...   \n",
       "5764  Dedicated specifically to remembering the stor...   \n",
       "5778  Sometimes referred to as the Hungarian nationa...   \n",
       "\n",
       "                                                    url  similarity  \n",
       "4953  https://www.atlasobscura.com/places/siriraj-me...    0.327173  \n",
       "6562  https://www.atlasobscura.com/places/harvard-mu...    0.304600  \n",
       "991   https://www.atlasobscura.com/places/milwaukee-...    0.294030  \n",
       "155   https://www.atlasobscura.com/places/national-w...    0.294030  \n",
       "7194  https://www.atlasobscura.com/places/national-c...    0.294030  \n",
       "6638  https://www.atlasobscura.com/places/thorne-min...    0.281102  \n",
       "5517  https://www.atlasobscura.com/places/niles-essa...    0.281102  \n",
       "3530  https://www.atlasobscura.com/places/oscar-getz...    0.281102  \n",
       "5764  https://www.atlasobscura.com/places/national-m...    0.281102  \n",
       "5778  https://www.atlasobscura.com/places/zwack-unic...    0.000000  "
      ]
     },
     "execution_count": 8,
     "metadata": {},
     "output_type": "execute_result"
    }
   ],
   "source": [
    "tf_idf_search_engine.query_top_k(\"american museum\", 10)"
   ]
  }
 ],
 "metadata": {
  "kernelspec": {
   "display_name": "Python 3 (ipykernel)",
   "language": "python",
   "name": "python3"
  },
  "language_info": {
   "codemirror_mode": {
    "name": "ipython",
    "version": 3
   },
   "file_extension": ".py",
   "mimetype": "text/x-python",
   "name": "python",
   "nbconvert_exporter": "python",
   "pygments_lexer": "ipython3",
   "version": "3.9.0"
  }
 },
 "nbformat": 4,
 "nbformat_minor": 5
}
