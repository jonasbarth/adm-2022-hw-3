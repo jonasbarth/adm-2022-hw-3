{
 "cells": [
  {
   "cell_type": "code",
   "execution_count": 1,
   "id": "64c71e64",
   "metadata": {},
   "outputs": [],
   "source": [
    "import pandas as pd\n",
    "from parse import parse_htmls\n",
    "from util import read_place_desc, read_htmls_in, write_places_to_tsv, read_places\n",
    "from service import PlaceService, SearchEngine\n",
    "from index import preprocess, Index, TfIdfIndex\n",
    "\n",
    "import requests\n",
    "from tqdm import tqdm\n",
    "import os\n",
    "import time\n",
    "import util"
   ]
  },
  {
   "cell_type": "markdown",
   "id": "39ba5f60",
   "metadata": {},
   "source": [
    "# Data collection\n",
    "##  1.1. Get the list of places\n",
    "\n",
    "\n",
    "\n"
   ]
  },
  {
   "cell_type": "code",
   "execution_count": null,
   "id": "5f80fc83",
   "metadata": {},
   "outputs": [],
   "source": [
    "with open('most_popular_places.txt', 'w') as file:\n",
    "    for i in tqdm(range(300)):\n",
    "        \n",
    "        url = 'https://www.atlasobscura.com/places?page='+str(i+1)+'&sort=likes_count'\n",
    "        list_page = requests.get(url)\n",
    "        list_soup = BeautifulSoup(list_page.text)\n",
    "        list_places = [x['href'] for x in list_soup.find_all('a', {'class':\"content-card content-card-place\"})]\n",
    "        for place in tqdm(list_places):\n",
    "            file.write('https://www.atlasobscura.com' + str(place))\n",
    "            file.write('\\n')"
   ]
  },
  {
   "cell_type": "markdown",
   "id": "767196a7",
   "metadata": {},
   "source": [
    "## 1.2. Crawl places"
   ]
  },
  {
   "cell_type": "code",
   "execution_count": null,
   "id": "64f19d0d",
   "metadata": {},
   "outputs": [],
   "source": [
    "f= open('most_popular_places.txt', 'r')\n",
    "for j, url in enumerate(f):\n",
    "    \n",
    "    if j %18 == 0:\n",
    "        dir_path = f'page{j//18+1}'\n",
    "        if not os.path.isdir(dir_path):\n",
    "            os.mkdir(dir_path)\n",
    "            \n",
    "    response = requests.get(url.strip())\n",
    "    with open(f'{dir_path}/{j+1}.html','w') as file:\n",
    "        print()\n",
    "        file.write(response.text)\n",
    "        \n",
    "    time.sleep(1)"
   ]
  },
  {
   "cell_type": "markdown",
   "id": "b3a67110",
   "metadata": {},
   "source": [
    "# 1.3 Parse Pages"
   ]
  },
  {
   "cell_type": "code",
   "execution_count": 3,
   "id": "c44c1c9f",
   "metadata": {},
   "outputs": [],
   "source": [
    "all_htmls = read_htmls_in('./pages')"
   ]
  },
  {
   "cell_type": "code",
   "execution_count": 4,
   "id": "febe95d0",
   "metadata": {},
   "outputs": [],
   "source": [
    "all_places = parse_htmls(all_htmls)"
   ]
  },
  {
   "cell_type": "code",
   "execution_count": 263,
   "id": "1e7799d1",
   "metadata": {},
   "outputs": [
    {
     "name": "stdout",
     "output_type": "stream",
     "text": [
      "Stored 'htmls' (list)\n"
     ]
    }
   ],
   "source": [
    "%store htmls"
   ]
  },
  {
   "cell_type": "code",
   "execution_count": 4,
   "id": "d499d499",
   "metadata": {},
   "outputs": [],
   "source": [
    "%store -r htmls"
   ]
  },
  {
   "cell_type": "code",
   "execution_count": 2,
   "id": "4fdb537d",
   "metadata": {},
   "outputs": [],
   "source": [
    "#tsv_path = write_places_to_tsv('./', all_places)\n",
    "names, descriptions = read_place_desc('./places.tsv')\n",
    "place_service = PlaceService()\n",
    "place_service.load('./places.tsv')"
   ]
  },
  {
   "cell_type": "markdown",
   "id": "8a1b1318",
   "metadata": {},
   "source": [
    "# Create Conjunctive Index"
   ]
  },
  {
   "cell_type": "code",
   "execution_count": 3,
   "id": "70e3ba06",
   "metadata": {},
   "outputs": [],
   "source": [
    "index = Index.create_from(names, descriptions)"
   ]
  },
  {
   "cell_type": "markdown",
   "id": "7ee73ed7",
   "metadata": {},
   "source": [
    "# Create Search Engine"
   ]
  },
  {
   "cell_type": "code",
   "execution_count": 4,
   "id": "67d51a74",
   "metadata": {},
   "outputs": [],
   "source": [
    "search_engine = SearchEngine(index, place_service)"
   ]
  },
  {
   "cell_type": "markdown",
   "id": "a4e17528",
   "metadata": {},
   "source": [
    "# Run Search"
   ]
  },
  {
   "cell_type": "code",
   "execution_count": 5,
   "id": "1dd10032",
   "metadata": {},
   "outputs": [
    {
     "data": {
      "text/html": [
       "<div>\n",
       "<style scoped>\n",
       "    .dataframe tbody tr th:only-of-type {\n",
       "        vertical-align: middle;\n",
       "    }\n",
       "\n",
       "    .dataframe tbody tr th {\n",
       "        vertical-align: top;\n",
       "    }\n",
       "\n",
       "    .dataframe thead th {\n",
       "        text-align: right;\n",
       "    }\n",
       "</style>\n",
       "<table border=\"1\" class=\"dataframe\">\n",
       "  <thead>\n",
       "    <tr style=\"text-align: right;\">\n",
       "      <th></th>\n",
       "      <th>name</th>\n",
       "      <th>desc</th>\n",
       "      <th>url</th>\n",
       "    </tr>\n",
       "  </thead>\n",
       "  <tbody>\n",
       "    <tr>\n",
       "      <th>1072</th>\n",
       "      <td>Early Television Museum</td>\n",
       "      <td>Steve McVoy was always fascinated by TV. In mi...</td>\n",
       "      <td>https://www.atlasobscura.com/places/early-tele...</td>\n",
       "    </tr>\n",
       "    <tr>\n",
       "      <th>4954</th>\n",
       "      <td>Madam C.J. Walker Museum &amp;amp; WERD Radio</td>\n",
       "      <td>This small brick building, located just a few ...</td>\n",
       "      <td>https://www.atlasobscura.com/places/madam-cj-w...</td>\n",
       "    </tr>\n",
       "    <tr>\n",
       "      <th>569</th>\n",
       "      <td>American Museum of Magic</td>\n",
       "      <td>Presto Change-o! Founded in 1978, the American...</td>\n",
       "      <td>https://www.atlasobscura.com/places/american-m...</td>\n",
       "    </tr>\n",
       "    <tr>\n",
       "      <th>4571</th>\n",
       "      <td>Deutsches Jagd und Fischereimuseum (German Mus...</td>\n",
       "      <td>With its rows of taxidermy animal heads and di...</td>\n",
       "      <td>https://www.atlasobscura.com/places/deutsches-...</td>\n",
       "    </tr>\n",
       "    <tr>\n",
       "      <th>904</th>\n",
       "      <td>Lunch Box Museum</td>\n",
       "      <td>Lunch boxes bring back a certain sense of nost...</td>\n",
       "      <td>https://www.atlasobscura.com/places/lunch-box-...</td>\n",
       "    </tr>\n",
       "    <tr>\n",
       "      <th>...</th>\n",
       "      <td>...</td>\n",
       "      <td>...</td>\n",
       "      <td>...</td>\n",
       "    </tr>\n",
       "    <tr>\n",
       "      <th>3250</th>\n",
       "      <td>Bare-Chested George Washington</td>\n",
       "      <td>At first glance, the Smithsonian’s bare-cheste...</td>\n",
       "      <td>https://www.atlasobscura.com/places/bare-chest...</td>\n",
       "    </tr>\n",
       "    <tr>\n",
       "      <th>7118</th>\n",
       "      <td>Castle Post</td>\n",
       "      <td>Looking more like an abandoned Medieval Times ...</td>\n",
       "      <td>https://www.atlasobscura.com/places/castle-post</td>\n",
       "    </tr>\n",
       "    <tr>\n",
       "      <th>5429</th>\n",
       "      <td>Old Time Wooden Nickel Company</td>\n",
       "      <td>The adage goes, “don’t take any wooden nickels...</td>\n",
       "      <td>https://www.atlasobscura.com/places/old-time-w...</td>\n",
       "    </tr>\n",
       "    <tr>\n",
       "      <th>456</th>\n",
       "      <td>Mildred E. Mathias Botanical Garden</td>\n",
       "      <td>Founded in 1929, the botanical garden at Unive...</td>\n",
       "      <td>https://www.atlasobscura.com/places/mildred-e-...</td>\n",
       "    </tr>\n",
       "    <tr>\n",
       "      <th>2031</th>\n",
       "      <td>KattenKabinet</td>\n",
       "      <td>The death of a pet can inspire a number of rea...</td>\n",
       "      <td>https://www.atlasobscura.com/places/kattenkabinet</td>\n",
       "    </tr>\n",
       "  </tbody>\n",
       "</table>\n",
       "<p>245 rows × 3 columns</p>\n",
       "</div>"
      ],
      "text/plain": [
       "                                                   name  \\\n",
       "1072                            Early Television Museum   \n",
       "4954          Madam C.J. Walker Museum &amp; WERD Radio   \n",
       "569                            American Museum of Magic   \n",
       "4571  Deutsches Jagd und Fischereimuseum (German Mus...   \n",
       "904                                    Lunch Box Museum   \n",
       "...                                                 ...   \n",
       "3250                     Bare-Chested George Washington   \n",
       "7118                                        Castle Post   \n",
       "5429                     Old Time Wooden Nickel Company   \n",
       "456                 Mildred E. Mathias Botanical Garden   \n",
       "2031                                      KattenKabinet   \n",
       "\n",
       "                                                   desc  \\\n",
       "1072  Steve McVoy was always fascinated by TV. In mi...   \n",
       "4954  This small brick building, located just a few ...   \n",
       "569   Presto Change-o! Founded in 1978, the American...   \n",
       "4571  With its rows of taxidermy animal heads and di...   \n",
       "904   Lunch boxes bring back a certain sense of nost...   \n",
       "...                                                 ...   \n",
       "3250  At first glance, the Smithsonian’s bare-cheste...   \n",
       "7118  Looking more like an abandoned Medieval Times ...   \n",
       "5429  The adage goes, “don’t take any wooden nickels...   \n",
       "456   Founded in 1929, the botanical garden at Unive...   \n",
       "2031  The death of a pet can inspire a number of rea...   \n",
       "\n",
       "                                                    url  \n",
       "1072  https://www.atlasobscura.com/places/early-tele...  \n",
       "4954  https://www.atlasobscura.com/places/madam-cj-w...  \n",
       "569   https://www.atlasobscura.com/places/american-m...  \n",
       "4571  https://www.atlasobscura.com/places/deutsches-...  \n",
       "904   https://www.atlasobscura.com/places/lunch-box-...  \n",
       "...                                                 ...  \n",
       "3250  https://www.atlasobscura.com/places/bare-chest...  \n",
       "7118    https://www.atlasobscura.com/places/castle-post  \n",
       "5429  https://www.atlasobscura.com/places/old-time-w...  \n",
       "456   https://www.atlasobscura.com/places/mildred-e-...  \n",
       "2031  https://www.atlasobscura.com/places/kattenkabinet  \n",
       "\n",
       "[245 rows x 3 columns]"
      ]
     },
     "execution_count": 5,
     "metadata": {},
     "output_type": "execute_result"
    }
   ],
   "source": [
    "search_engine.query('american museum')"
   ]
  },
  {
   "cell_type": "markdown",
   "id": "7a0b7e83",
   "metadata": {},
   "source": [
    "# Create TF-IDF Index"
   ]
  },
  {
   "cell_type": "code",
   "execution_count": 3,
   "id": "64d7f3b2",
   "metadata": {},
   "outputs": [],
   "source": [
    "tf_idf_index = TfIdfIndex.create_from(names, descriptions)"
   ]
  },
  {
   "cell_type": "markdown",
   "id": "a51e9c16",
   "metadata": {},
   "source": [
    "# Create TF-IDF Search Engine"
   ]
  },
  {
   "cell_type": "code",
   "execution_count": 4,
   "id": "307b0f21",
   "metadata": {},
   "outputs": [],
   "source": [
    "tf_idf_search_engine = SearchEngine(tf_idf_index, place_service)"
   ]
  },
  {
   "cell_type": "code",
   "execution_count": 5,
   "id": "4cc29e65",
   "metadata": {},
   "outputs": [
    {
     "data": {
      "text/html": [
       "<div>\n",
       "<style scoped>\n",
       "    .dataframe tbody tr th:only-of-type {\n",
       "        vertical-align: middle;\n",
       "    }\n",
       "\n",
       "    .dataframe tbody tr th {\n",
       "        vertical-align: top;\n",
       "    }\n",
       "\n",
       "    .dataframe thead th {\n",
       "        text-align: right;\n",
       "    }\n",
       "</style>\n",
       "<table border=\"1\" class=\"dataframe\">\n",
       "  <thead>\n",
       "    <tr style=\"text-align: right;\">\n",
       "      <th></th>\n",
       "      <th>name</th>\n",
       "      <th>desc</th>\n",
       "      <th>url</th>\n",
       "      <th>similarity</th>\n",
       "    </tr>\n",
       "  </thead>\n",
       "  <tbody>\n",
       "    <tr>\n",
       "      <th>1670</th>\n",
       "      <td>V. C. Morris Gift Shop</td>\n",
       "      <td>This building, on Maiden Lane in downtown San ...</td>\n",
       "      <td>https://www.atlasobscura.com/places/v-c-morris...</td>\n",
       "      <td>1.0</td>\n",
       "    </tr>\n",
       "    <tr>\n",
       "      <th>2802</th>\n",
       "      <td>The Hobo Museum</td>\n",
       "      <td>“Decide your own life, don’t let another perso...</td>\n",
       "      <td>https://www.atlasobscura.com/places/the-hobo-m...</td>\n",
       "      <td>1.0</td>\n",
       "    </tr>\n",
       "    <tr>\n",
       "      <th>6885</th>\n",
       "      <td>The Carson Mansion</td>\n",
       "      <td>Designed by Samuel and Joseph Newsom, architec...</td>\n",
       "      <td>https://www.atlasobscura.com/places/the-carson...</td>\n",
       "      <td>1.0</td>\n",
       "    </tr>\n",
       "    <tr>\n",
       "      <th>7043</th>\n",
       "      <td>Dumbarton Oaks</td>\n",
       "      <td>This stunning estate with sprawling formal gar...</td>\n",
       "      <td>https://www.atlasobscura.com/places/dumbarton-...</td>\n",
       "      <td>1.0</td>\n",
       "    </tr>\n",
       "    <tr>\n",
       "      <th>1317</th>\n",
       "      <td>Aria Antiques</td>\n",
       "      <td>Tucked between the Italian bakeries and laundr...</td>\n",
       "      <td>https://www.atlasobscura.com/places/aria-antiques</td>\n",
       "      <td>1.0</td>\n",
       "    </tr>\n",
       "    <tr>\n",
       "      <th>4382</th>\n",
       "      <td>Warther Museum</td>\n",
       "      <td>When Ernest “Mooney” Warther was a boy growing...</td>\n",
       "      <td>https://www.atlasobscura.com/places/warther-mu...</td>\n",
       "      <td>1.0</td>\n",
       "    </tr>\n",
       "    <tr>\n",
       "      <th>1804</th>\n",
       "      <td>Uncommon Objects</td>\n",
       "      <td>Like an elegant antiques mall gone horribly wr...</td>\n",
       "      <td>https://www.atlasobscura.com/places/uncommon-o...</td>\n",
       "      <td>1.0</td>\n",
       "    </tr>\n",
       "    <tr>\n",
       "      <th>2523</th>\n",
       "      <td>Treasures of the Steamboat Arabia</td>\n",
       "      <td>When the mighty Steamboat Arabia sank near Kan...</td>\n",
       "      <td>https://www.atlasobscura.com/places/treasures-...</td>\n",
       "      <td>1.0</td>\n",
       "    </tr>\n",
       "    <tr>\n",
       "      <th>5999</th>\n",
       "      <td>The Witch House of Salem</td>\n",
       "      <td>The Salem witchcraft trials took place between...</td>\n",
       "      <td>https://www.atlasobscura.com/places/witch-hous...</td>\n",
       "      <td>1.0</td>\n",
       "    </tr>\n",
       "    <tr>\n",
       "      <th>5778</th>\n",
       "      <td>Zwack Unicum Museum</td>\n",
       "      <td>Sometimes referred to as the Hungarian nationa...</td>\n",
       "      <td>https://www.atlasobscura.com/places/zwack-unic...</td>\n",
       "      <td>1.0</td>\n",
       "    </tr>\n",
       "  </tbody>\n",
       "</table>\n",
       "</div>"
      ],
      "text/plain": [
       "                                   name  \\\n",
       "1670             V. C. Morris Gift Shop   \n",
       "2802                    The Hobo Museum   \n",
       "6885                 The Carson Mansion   \n",
       "7043                     Dumbarton Oaks   \n",
       "1317                      Aria Antiques   \n",
       "4382                     Warther Museum   \n",
       "1804                   Uncommon Objects   \n",
       "2523  Treasures of the Steamboat Arabia   \n",
       "5999           The Witch House of Salem   \n",
       "5778                Zwack Unicum Museum   \n",
       "\n",
       "                                                   desc  \\\n",
       "1670  This building, on Maiden Lane in downtown San ...   \n",
       "2802  “Decide your own life, don’t let another perso...   \n",
       "6885  Designed by Samuel and Joseph Newsom, architec...   \n",
       "7043  This stunning estate with sprawling formal gar...   \n",
       "1317  Tucked between the Italian bakeries and laundr...   \n",
       "4382  When Ernest “Mooney” Warther was a boy growing...   \n",
       "1804  Like an elegant antiques mall gone horribly wr...   \n",
       "2523  When the mighty Steamboat Arabia sank near Kan...   \n",
       "5999  The Salem witchcraft trials took place between...   \n",
       "5778  Sometimes referred to as the Hungarian nationa...   \n",
       "\n",
       "                                                    url  similarity  \n",
       "1670  https://www.atlasobscura.com/places/v-c-morris...         1.0  \n",
       "2802  https://www.atlasobscura.com/places/the-hobo-m...         1.0  \n",
       "6885  https://www.atlasobscura.com/places/the-carson...         1.0  \n",
       "7043  https://www.atlasobscura.com/places/dumbarton-...         1.0  \n",
       "1317  https://www.atlasobscura.com/places/aria-antiques         1.0  \n",
       "4382  https://www.atlasobscura.com/places/warther-mu...         1.0  \n",
       "1804  https://www.atlasobscura.com/places/uncommon-o...         1.0  \n",
       "2523  https://www.atlasobscura.com/places/treasures-...         1.0  \n",
       "5999  https://www.atlasobscura.com/places/witch-hous...         1.0  \n",
       "5778  https://www.atlasobscura.com/places/zwack-unic...         1.0  "
      ]
     },
     "execution_count": 5,
     "metadata": {},
     "output_type": "execute_result"
    }
   ],
   "source": [
    "tf_idf_search_engine.query_top_k(\"american museum\", 10)"
   ]
  },
  {
   "cell_type": "code",
   "execution_count": 20,
   "id": "405d2df3",
   "metadata": {},
   "outputs": [
    {
     "data": {
      "text/plain": [
       "[[0.6455461258874972,\n",
       "  0.0036064029379189785,\n",
       "  0.0036064029379189785,\n",
       "  0.02163841762751387,\n",
       "  0.0018032014689594892,\n",
       "  0.027048022034392338,\n",
       "  0.0036064029379189785,\n",
       "  0.007212805875837957,\n",
       "  0.0036064029379189785,\n",
       "  0.0018032014689594892,\n",
       "  0.0036064029379189785,\n",
       "  0.0018032014689594892,\n",
       "  0.0018032014689594892,\n",
       "  0.0018032014689594892,\n",
       "  0.009016007344797445,\n",
       "  0.0018032014689594892,\n",
       "  0.0036064029379189785,\n",
       "  0.01803201468959489,\n",
       "  0.014425611751675914,\n",
       "  0.0018032014689594892,\n",
       "  0.009016007344797445,\n",
       "  0.010819208813756935,\n",
       "  0.0036064029379189785,\n",
       "  0.0018032014689594892,\n",
       "  0.005409604406878468,\n",
       "  0.0018032014689594892,\n",
       "  0.005409604406878468,\n",
       "  0.0018032014689594892,\n",
       "  0.01803201468959489,\n",
       "  0.0018032014689594892,\n",
       "  0.0018032014689594892,\n",
       "  0.005409604406878468,\n",
       "  0.2290065865578551,\n",
       "  0.04147363378606825,\n",
       "  0.07573446169629855,\n",
       "  0.1334369087030022,\n",
       "  0.34621468204022193,\n",
       "  0.037867230848149275,\n",
       "  0.050489641130865695,\n",
       "  0.14966572192363758,\n",
       "  0.16769773661323248,\n",
       "  0.005409604406878468,\n",
       "  0.030654424972311314,\n",
       "  0.12442090135820474,\n",
       "  0.03967043231710876,\n",
       "  0.2290065865578551,\n",
       "  0.24343219830953103,\n",
       "  0.046883238192946715,\n",
       "  0.0018032014689594892,\n",
       "  0.16048493073739453,\n",
       "  0.2001553630545033,\n",
       "  0.34260827910230296,\n",
       "  0.07393126022733905,\n",
       "  0.025244820565432848,\n",
       "  0.06130884994462263,\n",
       "  0.005409604406878468,\n",
       "  0.05950564847566314,\n",
       "  0.005409604406878468]]"
      ]
     },
     "execution_count": 20,
     "metadata": {},
     "output_type": "execute_result"
    }
   ],
   "source": [
    "result_dense_list"
   ]
  }
 ],
 "metadata": {
  "kernelspec": {
   "display_name": "Python 3 (ipykernel)",
   "language": "python",
   "name": "python3"
  },
  "language_info": {
   "codemirror_mode": {
    "name": "ipython",
    "version": 3
   },
   "file_extension": ".py",
   "mimetype": "text/x-python",
   "name": "python",
   "nbconvert_exporter": "python",
   "pygments_lexer": "ipython3",
   "version": "3.9.0"
  }
 },
 "nbformat": 4,
 "nbformat_minor": 5
}
