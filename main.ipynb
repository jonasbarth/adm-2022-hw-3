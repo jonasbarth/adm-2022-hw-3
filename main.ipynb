{
 "cells": [
  {
   "cell_type": "markdown",
   "id": "3c85cedf",
   "metadata": {},
   "source": [
    "# Introduction\n",
    "This notebook contains the work for [Homework 3](https://github.com/lucamaiano/ADM/tree/master/2022/Homework_3) \n",
    "of [Algorithmic Methods for Data Mining 2022](http://aris.me/index.php/data-mining-ds-2022).\n",
    "\n",
    "## Group Members\n",
    "* Laura Mignella\n",
    "* Paolo Barba\n",
    "* Jonas Barth\n",
    "\n",
    "## Index\n",
    "* [1. Data Collection](#1.-Data-Collection)\n",
    "    * [1.1. Get the list of places](#1.1.-Get-the-list-of-places)\n",
    "    * [1.2. Crawl Places](#1.2.-Crawl-places)\n",
    "    * [1.3. Parse Pages](#1.3.-Parse-Pages)\n",
    "* [2. Search Engine](#2.-Search-Engine)\n",
    "    * [2.1. Conjunctive Index](#2.1.-Conjunctive-Index)\n",
    "        * [2.1.1. Create Index](#2.1.1.-Create-Index)\n",
    "        * [2.1.2. Create Search Engine and Run Search](#2.1.2.-Create-Search-Engine-and-Run-Search)\n",
    "    * [2.2. TF-IDF Index](#2.2.-TF-IDF-Index)\n",
    "        * [2.2.1. Create TF-IDF Index](#2.2.1.-Create-TF-IDF-Index)\n",
    "        * [2.2.2. Create TF-IDF Search Engine and Run Search](#2.2.2.-Create-TF-IDF-Search-Engine-and-Run-Search)\n",
    "* [3. Own Score](#3.-Own-Score)\n",
    "    * [3.1. Proximity](#3.1.-Proximity)\n",
    "    * [3.2. Popularity](#3.2.-Popularity)\n",
    "    * [3.3. Proximity & Popularity](#3.3.-Proximity-&-Popularity)\n",
    "* [4. Visualizing the most relevant places](#4.-Visualizing-the-most-relevant-places)\n",
    "* [7. Theoretical Question](#7.-Theoretical-Question)\n",
    "    * [7.1. Bubble Sort](#7.1.-Bubble-Sort)\n",
    "        * [7.1.1. Time Complexity](#7.1.1.-Time-Complexity)\n",
    "    * [7.2. Merge Sort](#7.2.-Merge-Sort)\n",
    "        * [7.2.1. Time Complexity](#7.2.1.-Time-Complexity)\n",
    "    * [7.3. Quick Sort](#7.3.-Quick-Sort)\n",
    "        * [7.3.1. Time Complexity](#7.3.1.-Time-Complexity)\n",
    "    * [7.4. MapReduce Sort](#7.4.-MapReduce-Sort)\n",
    "    * [7.5. Sort Students](#7.5.-Sort-Students)\n",
    "    * [7.6. Save Students](#7.6.-Save-Students)\n",
    "    * [7.7. Evaluate Algorithms](#7.7.-Evaluate-Algorithms)\n",
    "        * [7.7.1. Time Complexity](#7.7.1.-Time-Complexity)\n",
    "        * [7.7.2. Space Complexity](#7.7.2.-Space-Complexity)\n",
    "        * [7.7.3. Conclusion](#7.7.3.-Conclusion)"
   ]
  },
  {
   "cell_type": "markdown",
   "id": "eaa29842",
   "metadata": {},
   "source": [
    "# Imports"
   ]
  },
  {
   "cell_type": "code",
   "execution_count": 1,
   "id": "64c71e64",
   "metadata": {},
   "outputs": [],
   "source": [
    "import pandas as pd\n",
    "from parse import parse_htmls\n",
    "from util import read_place_desc, read_htmls_in, write_places_to_tsv, read_places, plot_map\n",
    "from service import PlaceService, SearchEngine\n",
    "from index import preprocess, Index, TfIdfIndex\n",
    "\n",
    "import requests\n",
    "from tqdm import tqdm\n",
    "import os\n",
    "import time\n",
    "import util\n",
    "import plotly.express as px"
   ]
  },
  {
   "cell_type": "markdown",
   "id": "39ba5f60",
   "metadata": {},
   "source": [
    "# 1. Data Collection\n",
    "##  1.1. Get the list of places\n",
    "\n",
    "\n",
    "\n"
   ]
  },
  {
   "cell_type": "code",
   "execution_count": null,
   "id": "5f80fc83",
   "metadata": {},
   "outputs": [],
   "source": [
    "with open('./resources/most_popular_places.txt', 'w') as file:\n",
    "    for i in tqdm(range(400)):\n",
    "        \n",
    "        url = 'https://www.atlasobscura.com/places?page='+str(i+1)+'&sort=likes_count'\n",
    "        list_page = requests.get(url)\n",
    "        list_soup = BeautifulSoup(list_page.text)\n",
    "        list_places = [x['href'] for x in list_soup.find_all('a', {'class':\"content-card content-card-place\"})]\n",
    "        for place in tqdm(list_places):\n",
    "            file.write('https://www.atlasobscura.com' + str(place))\n",
    "            file.write('\\n')"
   ]
  },
  {
   "cell_type": "markdown",
   "id": "767196a7",
   "metadata": {},
   "source": [
    "## 1.2. Crawl places"
   ]
  },
  {
   "cell_type": "code",
   "execution_count": null,
   "id": "64f19d0d",
   "metadata": {},
   "outputs": [],
   "source": [
    "f= open('./resources/most_popular_places.txt', 'r')\n",
    "for j, url in enumerate(f):\n",
    "    \n",
    "    if j %18 == 0:\n",
    "        dir_path = f'page{j//18+1}'\n",
    "        if not os.path.isdir(dir_path):\n",
    "            os.mkdir(dir_path)\n",
    "            \n",
    "    response = requests.get(url.strip())\n",
    "    with open(f'{dir_path}/{j+1}.html','w') as file:\n",
    "        print()\n",
    "        file.write(response.text)\n",
    "        \n",
    "    time.sleep(1)"
   ]
  },
  {
   "cell_type": "markdown",
   "id": "b3a67110",
   "metadata": {},
   "source": [
    "# 1.3. Parse Pages"
   ]
  },
  {
   "cell_type": "code",
   "execution_count": null,
   "id": "05956a7c",
   "metadata": {},
   "outputs": [],
   "source": [
    "all_htmls = read_htmls_in('./pages')"
   ]
  },
  {
   "cell_type": "code",
   "execution_count": null,
   "id": "ddb8fd25",
   "metadata": {},
   "outputs": [],
   "source": [
    "all_places = parse_htmls(htmls)"
   ]
  },
  {
   "cell_type": "code",
   "execution_count": null,
   "id": "d263fed0",
   "metadata": {},
   "outputs": [],
   "source": [
    "tsv_path = write_places_to_tsv('./', all_places)"
   ]
  },
  {
   "cell_type": "markdown",
   "id": "f723937d",
   "metadata": {},
   "source": [
    "The [PlaceService](service/place.py) is a class that allows the user to fetch places that were loaded by the service. We use this to have a common interface for fetching place information based on their ID."
   ]
  },
  {
   "cell_type": "code",
   "execution_count": 37,
   "id": "4fdb537d",
   "metadata": {},
   "outputs": [],
   "source": [
    "place_service = PlaceService()\n",
    "place_service.load('./resources/places.tsv')"
   ]
  },
  {
   "cell_type": "markdown",
   "id": "0b3e465e",
   "metadata": {},
   "source": [
    "---"
   ]
  },
  {
   "cell_type": "markdown",
   "id": "8a1b1318",
   "metadata": {},
   "source": [
    "# 2. Search Engine\n",
    "The search engine is represented by the [SearchEngine](service/engine.py) class which operates on an [index](index) and a [place service](service/place.py). The search engine is responsible for accepting search queries and running them on the index it points to.\n",
    "\n",
    "## 2.1. Conjunctive Index\n",
    "The conjunctive index is an index that allows for conjunctive queries, i.e. where the returned documents contain **ALL** the words in the query."
   ]
  },
  {
   "cell_type": "markdown",
   "id": "83c2128c",
   "metadata": {},
   "source": [
    "## 2.1.1. Create Index\n",
    "The index can either be created from the parsed and saved files or from an already saved index.\n",
    "\n",
    "### Create from saved `.tsv` file.\n",
    "We create the inverted index from previously saved **place IDs** and the **place descriptions**. The inverted index is a python dictionary where each entry is a **word** mapped to a list of **document IDs** of documents where the word appears in.\n",
    "\n",
    "```python\n",
    "index[word] = [place_id_1, ...]\n",
    "```\n",
    "\n",
    "The algorithm for creating the index is as follows. For each place ID and description string:\n",
    "\n",
    "1. Preprocess the description string\n",
    "    1. tokenise the description\n",
    "    1. lower case tokens\n",
    "    1. remove stop words\n",
    "    1. stem words\n",
    "    1. remove duplicate words\n",
    "1. For each word in the preprocessed description, add the ID to the list of IDs that the word maps to in the dictionary."
   ]
  },
  {
   "cell_type": "code",
   "execution_count": 38,
   "id": "70e3ba06",
   "metadata": {},
   "outputs": [],
   "source": [
    "ids, descriptions = read_place_desc('./resources/places.tsv')\n",
    "index = Index.create_from(ids, descriptions)"
   ]
  },
  {
   "cell_type": "markdown",
   "id": "ce7cfc21",
   "metadata": {},
   "source": [
    "### Load saved index"
   ]
  },
  {
   "cell_type": "code",
   "execution_count": 39,
   "id": "5bbf1b5d",
   "metadata": {},
   "outputs": [],
   "source": [
    "index = Index.load_from('./resources/index.pickle')"
   ]
  },
  {
   "cell_type": "markdown",
   "id": "a4e17528",
   "metadata": {},
   "source": [
    "### 2.1.2. Create Search Engine and Run Search\n",
    "Here, we create the `SearchEngine` with the previously created `conjunctive index` and `place service`. "
   ]
  },
  {
   "cell_type": "code",
   "execution_count": 40,
   "id": "713c4356",
   "metadata": {},
   "outputs": [],
   "source": [
    "search_engine = SearchEngine(index, place_service)"
   ]
  },
  {
   "cell_type": "markdown",
   "id": "d93de612",
   "metadata": {},
   "source": [
    "Querying the **conjunctive index** with `american muesum` returns **244** documents. The query works as follows:\n",
    "\n",
    "1. Preprocess the query in the same way as when creating the index.\n",
    "1. Find the list of place IDs for each word.\n",
    "1. Get the intersection of all lists.\n",
    "1. Use the `place service` to find the places with the found place IDs."
   ]
  },
  {
   "cell_type": "code",
   "execution_count": 41,
   "id": "1dd10032",
   "metadata": {},
   "outputs": [
    {
     "data": {
      "text/html": [
       "<div>\n",
       "<style scoped>\n",
       "    .dataframe tbody tr th:only-of-type {\n",
       "        vertical-align: middle;\n",
       "    }\n",
       "\n",
       "    .dataframe tbody tr th {\n",
       "        vertical-align: top;\n",
       "    }\n",
       "\n",
       "    .dataframe thead th {\n",
       "        text-align: right;\n",
       "    }\n",
       "</style>\n",
       "<table border=\"1\" class=\"dataframe\">\n",
       "  <thead>\n",
       "    <tr style=\"text-align: right;\">\n",
       "      <th></th>\n",
       "      <th>name</th>\n",
       "      <th>desc</th>\n",
       "      <th>url</th>\n",
       "    </tr>\n",
       "  </thead>\n",
       "  <tbody>\n",
       "    <tr>\n",
       "      <th>1804</th>\n",
       "      <td>Uncommon Objects</td>\n",
       "      <td>Like an elegant antiques mall gone horribly wr...</td>\n",
       "      <td>https://www.atlasobscura.com/places/uncommon-o...</td>\n",
       "    </tr>\n",
       "    <tr>\n",
       "      <th>2458</th>\n",
       "      <td>Tamástslikt Cultural Institute</td>\n",
       "      <td>The Tamástslikt Cultural Institute, situated o...</td>\n",
       "      <td>https://www.atlasobscura.com/places/tamastslik...</td>\n",
       "    </tr>\n",
       "    <tr>\n",
       "      <th>349</th>\n",
       "      <td>Mitsitam Native Foods Cafe</td>\n",
       "      <td>A visit to the National Mall in Washington, D....</td>\n",
       "      <td>https://www.atlasobscura.com/places/mitsitam-n...</td>\n",
       "    </tr>\n",
       "    <tr>\n",
       "      <th>3701</th>\n",
       "      <td>Museum of Chinese in America</td>\n",
       "      <td>The Museum of Chinese in America is nestled—al...</td>\n",
       "      <td>https://www.atlasobscura.com/places/museum-of-...</td>\n",
       "    </tr>\n",
       "    <tr>\n",
       "      <th>1087</th>\n",
       "      <td>Museum of Mourning Art</td>\n",
       "      <td>Mourning and personal response to death are un...</td>\n",
       "      <td>https://www.atlasobscura.com/places/museum-of-...</td>\n",
       "    </tr>\n",
       "    <tr>\n",
       "      <th>...</th>\n",
       "      <td>...</td>\n",
       "      <td>...</td>\n",
       "      <td>...</td>\n",
       "    </tr>\n",
       "    <tr>\n",
       "      <th>6473</th>\n",
       "      <td>Museum of the American Cocktail</td>\n",
       "      <td>They say that New Orleans is the home of the f...</td>\n",
       "      <td>https://www.atlasobscura.com/places/museum-ame...</td>\n",
       "    </tr>\n",
       "    <tr>\n",
       "      <th>1934</th>\n",
       "      <td>Unto These Hills Cherokee Theatre</td>\n",
       "      <td>Since 1950, members of the local Cherokee trib...</td>\n",
       "      <td>https://www.atlasobscura.com/places/unto-these...</td>\n",
       "    </tr>\n",
       "    <tr>\n",
       "      <th>984</th>\n",
       "      <td>Theodore Roosevelt Birthplace Museum</td>\n",
       "      <td>Behind an otherwise innocuous (if immaculately...</td>\n",
       "      <td>https://www.atlasobscura.com/places/theodore-r...</td>\n",
       "    </tr>\n",
       "    <tr>\n",
       "      <th>620</th>\n",
       "      <td>Canyons of the Ancients</td>\n",
       "      <td>Ripe for quiet reflection and simply awe-inspi...</td>\n",
       "      <td>https://www.atlasobscura.com/places/canyons-of...</td>\n",
       "    </tr>\n",
       "    <tr>\n",
       "      <th>5850</th>\n",
       "      <td>Wilbur D. May Museum</td>\n",
       "      <td>There is only one place in Nevada where you wi...</td>\n",
       "      <td>https://www.atlasobscura.com/places/wilbur-d-m...</td>\n",
       "    </tr>\n",
       "  </tbody>\n",
       "</table>\n",
       "<p>244 rows × 3 columns</p>\n",
       "</div>"
      ],
      "text/plain": [
       "                                      name  \\\n",
       "1804                      Uncommon Objects   \n",
       "2458        Tamástslikt Cultural Institute   \n",
       "349             Mitsitam Native Foods Cafe   \n",
       "3701          Museum of Chinese in America   \n",
       "1087                Museum of Mourning Art   \n",
       "...                                    ...   \n",
       "6473       Museum of the American Cocktail   \n",
       "1934     Unto These Hills Cherokee Theatre   \n",
       "984   Theodore Roosevelt Birthplace Museum   \n",
       "620                Canyons of the Ancients   \n",
       "5850                  Wilbur D. May Museum   \n",
       "\n",
       "                                                   desc  \\\n",
       "1804  Like an elegant antiques mall gone horribly wr...   \n",
       "2458  The Tamástslikt Cultural Institute, situated o...   \n",
       "349   A visit to the National Mall in Washington, D....   \n",
       "3701  The Museum of Chinese in America is nestled—al...   \n",
       "1087  Mourning and personal response to death are un...   \n",
       "...                                                 ...   \n",
       "6473  They say that New Orleans is the home of the f...   \n",
       "1934  Since 1950, members of the local Cherokee trib...   \n",
       "984   Behind an otherwise innocuous (if immaculately...   \n",
       "620   Ripe for quiet reflection and simply awe-inspi...   \n",
       "5850  There is only one place in Nevada where you wi...   \n",
       "\n",
       "                                                    url  \n",
       "1804  https://www.atlasobscura.com/places/uncommon-o...  \n",
       "2458  https://www.atlasobscura.com/places/tamastslik...  \n",
       "349   https://www.atlasobscura.com/places/mitsitam-n...  \n",
       "3701  https://www.atlasobscura.com/places/museum-of-...  \n",
       "1087  https://www.atlasobscura.com/places/museum-of-...  \n",
       "...                                                 ...  \n",
       "6473  https://www.atlasobscura.com/places/museum-ame...  \n",
       "1934  https://www.atlasobscura.com/places/unto-these...  \n",
       "984   https://www.atlasobscura.com/places/theodore-r...  \n",
       "620   https://www.atlasobscura.com/places/canyons-of...  \n",
       "5850  https://www.atlasobscura.com/places/wilbur-d-m...  \n",
       "\n",
       "[244 rows x 3 columns]"
      ]
     },
     "execution_count": 41,
     "metadata": {},
     "output_type": "execute_result"
    }
   ],
   "source": [
    "search_engine.query('american museum')"
   ]
  },
  {
   "cell_type": "markdown",
   "id": "f3a0e312",
   "metadata": {},
   "source": [
    "## 2.2. TF-IDF Index\n",
    "The TF-IDF index is an index that saves a TF-IDF score alongside each place ID. \n",
    "\n",
    "```python\n",
    "index[word] = [(tf_idf, place_id), ...]\n",
    "```\n",
    "\n",
    "The TF-IDF is a product that consists out of:\n",
    "\n",
    "1. Term Frequency. $TF (n_w) = \\frac{n_w}{|D|}$ where $n_w$ is the number times the word $w$ appears in the description $D$ and $|D|$ is the number of words in the description $D$.\n",
    "1. Inverse Document Frequency. $IDF (w) = log \\frac{N}{|w \\in D|}$ where where $N$ is the total number of descriptions and $|w \\in D|$ is the number of documents that the word $w$ appears in.\n",
    "\n",
    "The final number is a score that tells us how important a word is in a description and the entire corpus of descriptions.\n",
    "\n",
    "### 2.2.1. Create TF-IDF Index\n",
    "The index can either be created from the parsed and saved files or from an already saved index."
   ]
  },
  {
   "cell_type": "markdown",
   "id": "625dcb6e",
   "metadata": {},
   "source": [
    "### Ceate from saved `.tsv` file\n",
    "Similarly to the [conjunctive index](#2.1.-Conjunctive-Index) when creating the [TF-IDF index](index/tf_idf_index.py), we create the index from a list of **place IDs** and **place descriptions**.\n",
    "\n",
    "The algorithm to create the TF-IDF index is as follows:\n",
    "\n",
    "1. **preprocess** the descriptions as we did for the [conjunctive index](#2.1.-Conjunctive-Index)\n",
    "1. For each word calculate the $TF$ score and save it in the index. We use a [dedicated class](index/tf_idf_index.py) with overridden operators to store the tuple of the `score` and `place ID` so that we can easily compare the tuples without having to unpack everytime. \n",
    "1. For each word calculate the $IDF$ and multiply it with the previously stored $TF$ score to create the `TF-IDF` score."
   ]
  },
  {
   "cell_type": "code",
   "execution_count": 42,
   "id": "7991f5bf",
   "metadata": {},
   "outputs": [],
   "source": [
    "tf_idf_index = TfIdfIndex.create_from(ids, descriptions)"
   ]
  },
  {
   "cell_type": "markdown",
   "id": "da4eabba",
   "metadata": {},
   "source": [
    "### Load saved index"
   ]
  },
  {
   "cell_type": "code",
   "execution_count": 43,
   "id": "94bb6e4a",
   "metadata": {},
   "outputs": [],
   "source": [
    "tf_idf_index = TfIdfIndex.load_from('./resources/tf_idf_index.pickle')"
   ]
  },
  {
   "cell_type": "markdown",
   "id": "1b3d7c3f",
   "metadata": {},
   "source": [
    "### 2.2.2. Create TF-IDF Search Engine and Run Search\n",
    "This time we create the `SearchEngine` with the previously created `tf_idf_index` and run a query for the **top 10** places that match `american museum`.\n",
    "\n",
    "The query is a bit more complex than the conjunctive query we did before. The general idea is that we fetch the list of `(TF-IDF, place ID)` tuples for each word in the query, create one pointer per list, walk through the lists simultaneously, and save the `cosine similarity` of the query TF-IDF and the TF-IDF of the place **IF** all pointers are pointing to the same place tuple. \n",
    "\n",
    "1. preprocess the query\n",
    "1. calculated `TF-IDF` score for query.\n",
    "1. create a priority queue to hold the **top 10** place IDs and their scores.\n",
    "1. for each word in the query, get all (TF-IDF, place ID) tuples.\n",
    "1. create one pointer per list of tuples.\n",
    "1. if all pointers point to the same place:\n",
    "    1. calculate `cosine similarity` between the `query TF-IDF` and the `place TF-IDF`.\n",
    "    1. if the priority queue is full:\n",
    "        1. pop the priority queue\n",
    "        1. add the $max$ of the popped score and the newly calculated `cosine similarity` back into the queue.\n",
    "    1. add the newly calculated `cosine similarity` into the queue.\n",
    "1. increase the lowest pointer by 1.\n",
    "1. stop if the lowest pointer has reached the last item in its list.\n",
    "1. return the items from the priority queue\n",
    "\n",
    "We see that the **top 10** scores are very close to $1$, meaning that their TF-IDF scores are very similar to the ones of the query."
   ]
  },
  {
   "cell_type": "code",
   "execution_count": 44,
   "id": "826d850c",
   "metadata": {},
   "outputs": [
    {
     "data": {
      "text/html": [
       "<div>\n",
       "<style scoped>\n",
       "    .dataframe tbody tr th:only-of-type {\n",
       "        vertical-align: middle;\n",
       "    }\n",
       "\n",
       "    .dataframe tbody tr th {\n",
       "        vertical-align: top;\n",
       "    }\n",
       "\n",
       "    .dataframe thead th {\n",
       "        text-align: right;\n",
       "    }\n",
       "</style>\n",
       "<table border=\"1\" class=\"dataframe\">\n",
       "  <thead>\n",
       "    <tr style=\"text-align: right;\">\n",
       "      <th></th>\n",
       "      <th>name</th>\n",
       "      <th>desc</th>\n",
       "      <th>url</th>\n",
       "      <th>similarity</th>\n",
       "    </tr>\n",
       "  </thead>\n",
       "  <tbody>\n",
       "    <tr>\n",
       "      <th>3926</th>\n",
       "      <td>Smithsonian Sushi Collection</td>\n",
       "      <td>The American History Museum has collected an a...</td>\n",
       "      <td>https://www.atlasobscura.com/places/smithsonia...</td>\n",
       "      <td>0.999944</td>\n",
       "    </tr>\n",
       "    <tr>\n",
       "      <th>6489</th>\n",
       "      <td>Mercer Museum and Fonthill Castle</td>\n",
       "      <td>Henry Chapman Mercer, a renowned archaeologist...</td>\n",
       "      <td>https://www.atlasobscura.com/places/fonthill</td>\n",
       "      <td>0.998837</td>\n",
       "    </tr>\n",
       "    <tr>\n",
       "      <th>2458</th>\n",
       "      <td>Tamástslikt Cultural Institute</td>\n",
       "      <td>The Tamástslikt Cultural Institute, situated o...</td>\n",
       "      <td>https://www.atlasobscura.com/places/tamastslik...</td>\n",
       "      <td>0.998837</td>\n",
       "    </tr>\n",
       "    <tr>\n",
       "      <th>4697</th>\n",
       "      <td>Zippo/Case Museum</td>\n",
       "      <td>Invented in and still proudly manufactured in ...</td>\n",
       "      <td>https://www.atlasobscura.com/places/zippo-case...</td>\n",
       "      <td>0.998837</td>\n",
       "    </tr>\n",
       "    <tr>\n",
       "      <th>238</th>\n",
       "      <td>Off the Rez Cafe</td>\n",
       "      <td>The U.S. government’s forced relocation of Nat...</td>\n",
       "      <td>https://www.atlasobscura.com/places/off-the-re...</td>\n",
       "      <td>0.998837</td>\n",
       "    </tr>\n",
       "    <tr>\n",
       "      <th>6238</th>\n",
       "      <td>Oak Ridge &amp;quot;The Secret City&amp;quot;</td>\n",
       "      <td>The city of Oak Ridge was established by the U...</td>\n",
       "      <td>https://www.atlasobscura.com/places/the-secret...</td>\n",
       "      <td>0.998837</td>\n",
       "    </tr>\n",
       "    <tr>\n",
       "      <th>5429</th>\n",
       "      <td>Old Time Wooden Nickel Company</td>\n",
       "      <td>The adage goes, “don’t take any wooden nickels...</td>\n",
       "      <td>https://www.atlasobscura.com/places/old-time-w...</td>\n",
       "      <td>0.994973</td>\n",
       "    </tr>\n",
       "    <tr>\n",
       "      <th>5068</th>\n",
       "      <td>Self-Taught Genius Gallery</td>\n",
       "      <td>In 2017, the American Folk Art Museum in Manha...</td>\n",
       "      <td>https://www.atlasobscura.com/places/self-taugh...</td>\n",
       "      <td>0.992310</td>\n",
       "    </tr>\n",
       "    <tr>\n",
       "      <th>5517</th>\n",
       "      <td>Niles Essanay Silent Film Museum</td>\n",
       "      <td>It was Spring in San Francisco. One quiet Apri...</td>\n",
       "      <td>https://www.atlasobscura.com/places/niles-essa...</td>\n",
       "      <td>0.988467</td>\n",
       "    </tr>\n",
       "    <tr>\n",
       "      <th>343</th>\n",
       "      <td>Gillette Castle State Park</td>\n",
       "      <td>High above the Connecticut River, Gillette Cas...</td>\n",
       "      <td>https://www.atlasobscura.com/places/gillettes-...</td>\n",
       "      <td>0.988467</td>\n",
       "    </tr>\n",
       "  </tbody>\n",
       "</table>\n",
       "</div>"
      ],
      "text/plain": [
       "                                       name  \\\n",
       "3926           Smithsonian Sushi Collection   \n",
       "6489      Mercer Museum and Fonthill Castle   \n",
       "2458         Tamástslikt Cultural Institute   \n",
       "4697                      Zippo/Case Museum   \n",
       "238                        Off the Rez Cafe   \n",
       "6238  Oak Ridge &quot;The Secret City&quot;   \n",
       "5429         Old Time Wooden Nickel Company   \n",
       "5068             Self-Taught Genius Gallery   \n",
       "5517       Niles Essanay Silent Film Museum   \n",
       "343              Gillette Castle State Park   \n",
       "\n",
       "                                                   desc  \\\n",
       "3926  The American History Museum has collected an a...   \n",
       "6489  Henry Chapman Mercer, a renowned archaeologist...   \n",
       "2458  The Tamástslikt Cultural Institute, situated o...   \n",
       "4697  Invented in and still proudly manufactured in ...   \n",
       "238   The U.S. government’s forced relocation of Nat...   \n",
       "6238  The city of Oak Ridge was established by the U...   \n",
       "5429  The adage goes, “don’t take any wooden nickels...   \n",
       "5068  In 2017, the American Folk Art Museum in Manha...   \n",
       "5517  It was Spring in San Francisco. One quiet Apri...   \n",
       "343   High above the Connecticut River, Gillette Cas...   \n",
       "\n",
       "                                                    url  similarity  \n",
       "3926  https://www.atlasobscura.com/places/smithsonia...    0.999944  \n",
       "6489       https://www.atlasobscura.com/places/fonthill    0.998837  \n",
       "2458  https://www.atlasobscura.com/places/tamastslik...    0.998837  \n",
       "4697  https://www.atlasobscura.com/places/zippo-case...    0.998837  \n",
       "238   https://www.atlasobscura.com/places/off-the-re...    0.998837  \n",
       "6238  https://www.atlasobscura.com/places/the-secret...    0.998837  \n",
       "5429  https://www.atlasobscura.com/places/old-time-w...    0.994973  \n",
       "5068  https://www.atlasobscura.com/places/self-taugh...    0.992310  \n",
       "5517  https://www.atlasobscura.com/places/niles-essa...    0.988467  \n",
       "343   https://www.atlasobscura.com/places/gillettes-...    0.988467  "
      ]
     },
     "execution_count": 44,
     "metadata": {},
     "output_type": "execute_result"
    }
   ],
   "source": [
    "tf_idf_search_engine = SearchEngine(tf_idf_index, place_service)\n",
    "tf_idf_search_engine.query_top_k(\"american museum\", 10)[['name', 'desc', 'url', 'similarity']]"
   ]
  },
  {
   "cell_type": "markdown",
   "id": "222d04b4",
   "metadata": {},
   "source": [
    "---"
   ]
  },
  {
   "cell_type": "markdown",
   "id": "524f0606",
   "metadata": {},
   "source": [
    "# 3. Own Score\n",
    "For our own score, we decided to give the users three ways to rank the places:\n",
    "\n",
    "1. [Proximity](#3.1.-Proximity)\n",
    "1. [Popularity](#3.2.-Popularity)\n",
    "1. [Proximity & Popularity](#3.3.-Proximity-&-Popularity)\n",
    "\n",
    "## 3.1. Proximity\n",
    "We chose to give the user an option for ranking places according to proximity to the user's location because wanting to know what places are close to your location might be relevant when you are exploring a new city as a tourist for example.\n",
    "\n",
    "The proximity score is based on the user's current location. Places that are closer to the user's location are ranked higher than places that are further away. To user's location is obtained by fetching the currently used IP address and finding the latitudes and longitudes associated with it. Although not exact and prone to manipulation (a VPN could be used to \"change\" location), we avoid having to clean and parse more user input.\n",
    "\n",
    "The similarity score for a place is calculated by subtracting the distance between the user location from the maximum possible distance, and normalising it over the maximum possible distance. Given a distance function $dist(p_1, p_2)$ that returns the distance between two positions on the surface of the earth, the proximity score is defined as:\n",
    "\n",
    "$$proximity(place) = \\frac{max\\_distance - dist(place, user)}{max\\_distance}$$\n",
    "\n",
    "The $max\\_distance$ is simply the earth's circumference divided by two, as this is the maximum possible distance between any two points on the surface of the earth.\n",
    "\n",
    "The reason for subtracting the distance between the user and the place from the maximum distance is so that scores closer to 1 correspond to a higher similarity and scores closer to 0 to lower similarity. More formally:\n",
    "\n",
    "$$\\lim_{dist(place, user) \\to 0} proximity(place) = 1$$\n",
    "\n",
    "$$\\lim_{dist(place, user) \\to max\\_distance} proximity(place) = 0$$"
   ]
  },
  {
   "cell_type": "code",
   "execution_count": 45,
   "id": "f1dbaeed",
   "metadata": {},
   "outputs": [
    {
     "data": {
      "text/html": [
       "<div>\n",
       "<style scoped>\n",
       "    .dataframe tbody tr th:only-of-type {\n",
       "        vertical-align: middle;\n",
       "    }\n",
       "\n",
       "    .dataframe tbody tr th {\n",
       "        vertical-align: top;\n",
       "    }\n",
       "\n",
       "    .dataframe thead th {\n",
       "        text-align: right;\n",
       "    }\n",
       "</style>\n",
       "<table border=\"1\" class=\"dataframe\">\n",
       "  <thead>\n",
       "    <tr style=\"text-align: right;\">\n",
       "      <th></th>\n",
       "      <th>name</th>\n",
       "      <th>desc</th>\n",
       "      <th>address</th>\n",
       "      <th>similarity</th>\n",
       "    </tr>\n",
       "  </thead>\n",
       "  <tbody>\n",
       "    <tr>\n",
       "      <th>4392</th>\n",
       "      <td>Museo Atlántico</td>\n",
       "      <td>Completely submerged under the Atlantic Ocean,...</td>\n",
       "      <td>C. Las Palmas, 131, Costa de Playa Blanca, Pla...</td>\n",
       "      <td>0.824581</td>\n",
       "    </tr>\n",
       "    <tr>\n",
       "      <th>3446</th>\n",
       "      <td>Jardin Majorelle</td>\n",
       "      <td>The Jardin Majorelle, or Majorelle Garden, is ...</td>\n",
       "      <td>Rue Yves St Laurent, Marrakesh, Morocco</td>\n",
       "      <td>0.820223</td>\n",
       "    </tr>\n",
       "    <tr>\n",
       "      <th>3324</th>\n",
       "      <td>Metropol Parasol</td>\n",
       "      <td>When Jürgen Mayer-Hermann designed and began c...</td>\n",
       "      <td>La Encarnacion Square, Seville, 41003, Spain</td>\n",
       "      <td>0.791101</td>\n",
       "    </tr>\n",
       "    <tr>\n",
       "      <th>5179</th>\n",
       "      <td>White Desert</td>\n",
       "      <td>Just a few hours from the bursting metropolis ...</td>\n",
       "      <td>Al Farafrah, Egypt</td>\n",
       "      <td>0.788727</td>\n",
       "    </tr>\n",
       "    <tr>\n",
       "      <th>3619</th>\n",
       "      <td>Mina de São Domingos (Sao Domingos Mines)</td>\n",
       "      <td>With its derelict abandoned buildings, blood-r...</td>\n",
       "      <td>N265, 7750, Portugal</td>\n",
       "      <td>0.788321</td>\n",
       "    </tr>\n",
       "    <tr>\n",
       "      <th>3514</th>\n",
       "      <td>Bourke&amp;#39;s Luck Potholes</td>\n",
       "      <td>At the confluence of the Blyde River and the T...</td>\n",
       "      <td>Unnamed Road, Ehlanzeni, South Africa</td>\n",
       "      <td>0.785515</td>\n",
       "    </tr>\n",
       "    <tr>\n",
       "      <th>3729</th>\n",
       "      <td>Electricity Museum</td>\n",
       "      <td>Whether it is art or industrial history that S...</td>\n",
       "      <td>Av. Brasília, Lisbon, 1300-598, Portugal</td>\n",
       "      <td>0.781075</td>\n",
       "    </tr>\n",
       "    <tr>\n",
       "      <th>5438</th>\n",
       "      <td>National Coach Museum</td>\n",
       "      <td>Created by Queen Amélia of Portugal in 1905, t...</td>\n",
       "      <td>136 Av. da Índia, Lisbon, 1300-300, Portugal</td>\n",
       "      <td>0.781069</td>\n",
       "    </tr>\n",
       "    <tr>\n",
       "      <th>6130</th>\n",
       "      <td>Carmo Convent Ruins</td>\n",
       "      <td>“Come, ye philosophers, who cry, ‘All’s well,’...</td>\n",
       "      <td>Carmo Archaeological Museum, Largo do Carmo 92...</td>\n",
       "      <td>0.781049</td>\n",
       "    </tr>\n",
       "    <tr>\n",
       "      <th>1560</th>\n",
       "      <td>Bordallo Pinheiro Garden</td>\n",
       "      <td>A beautiful small garden in the Museum of the ...</td>\n",
       "      <td>Campo Grande 245, Lisbon, 1700-091, Portugal</td>\n",
       "      <td>0.780783</td>\n",
       "    </tr>\n",
       "  </tbody>\n",
       "</table>\n",
       "</div>"
      ],
      "text/plain": [
       "                                           name  \\\n",
       "4392                            Museo Atlántico   \n",
       "3446                           Jardin Majorelle   \n",
       "3324                           Metropol Parasol   \n",
       "5179                               White Desert   \n",
       "3619  Mina de São Domingos (Sao Domingos Mines)   \n",
       "3514                 Bourke&#39;s Luck Potholes   \n",
       "3729                         Electricity Museum   \n",
       "5438                      National Coach Museum   \n",
       "6130                        Carmo Convent Ruins   \n",
       "1560                   Bordallo Pinheiro Garden   \n",
       "\n",
       "                                                   desc  \\\n",
       "4392  Completely submerged under the Atlantic Ocean,...   \n",
       "3446  The Jardin Majorelle, or Majorelle Garden, is ...   \n",
       "3324  When Jürgen Mayer-Hermann designed and began c...   \n",
       "5179  Just a few hours from the bursting metropolis ...   \n",
       "3619  With its derelict abandoned buildings, blood-r...   \n",
       "3514  At the confluence of the Blyde River and the T...   \n",
       "3729  Whether it is art or industrial history that S...   \n",
       "5438  Created by Queen Amélia of Portugal in 1905, t...   \n",
       "6130  “Come, ye philosophers, who cry, ‘All’s well,’...   \n",
       "1560  A beautiful small garden in the Museum of the ...   \n",
       "\n",
       "                                                address  similarity  \n",
       "4392  C. Las Palmas, 131, Costa de Playa Blanca, Pla...    0.824581  \n",
       "3446            Rue Yves St Laurent, Marrakesh, Morocco    0.820223  \n",
       "3324       La Encarnacion Square, Seville, 41003, Spain    0.791101  \n",
       "5179                                 Al Farafrah, Egypt    0.788727  \n",
       "3619                               N265, 7750, Portugal    0.788321  \n",
       "3514              Unnamed Road, Ehlanzeni, South Africa    0.785515  \n",
       "3729           Av. Brasília, Lisbon, 1300-598, Portugal    0.781075  \n",
       "5438       136 Av. da Índia, Lisbon, 1300-300, Portugal    0.781069  \n",
       "6130  Carmo Archaeological Museum, Largo do Carmo 92...    0.781049  \n",
       "1560       Campo Grande 245, Lisbon, 1700-091, Portugal    0.780783  "
      ]
     },
     "execution_count": 45,
     "metadata": {},
     "output_type": "execute_result"
    }
   ],
   "source": [
    "search_engine.query_custom('museum', top_k=10, proximity=True, popularity=False)[[\"name\",\"desc\",\"address\",\"similarity\"]]"
   ]
  },
  {
   "cell_type": "markdown",
   "id": "1dbb301a",
   "metadata": {},
   "source": [
    "## 3.2. Popularity\n",
    "Popularity also plays a role in relevance. Popular places are often must-sees, so it is important for the user to know which these places are.\n",
    "\n",
    "The popularity score ranks places by popularity, with more popular places being above less popular places. The popularity of a place is calculated using the number of people that have visited it and the number of people that want to go. We chose these two variables, because the very meaning of popularity is that many people are interested in a place. If many people want to go to a place or have visited it, it therefore means that is popular.\n",
    "\n",
    "For the number of people that went and number of people that want to go, we calculate their ratio over the total number of people that visited all places and the total number, sum them, and equally weigh the two ratios. \n",
    "\n",
    "$$popularity = \\frac{1}{2} \\times \\left(\\frac{num\\_people\\_went}{total\\_people\\_went} + \\frac{num\\_people\\_want}{total\\_people\\_want}\\right)$$\n",
    "\n"
   ]
  },
  {
   "cell_type": "code",
   "execution_count": 46,
   "id": "036b9a00",
   "metadata": {},
   "outputs": [
    {
     "data": {
      "text/html": [
       "<div>\n",
       "<style scoped>\n",
       "    .dataframe tbody tr th:only-of-type {\n",
       "        vertical-align: middle;\n",
       "    }\n",
       "\n",
       "    .dataframe tbody tr th {\n",
       "        vertical-align: top;\n",
       "    }\n",
       "\n",
       "    .dataframe thead th {\n",
       "        text-align: right;\n",
       "    }\n",
       "</style>\n",
       "<table border=\"1\" class=\"dataframe\">\n",
       "  <thead>\n",
       "    <tr style=\"text-align: right;\">\n",
       "      <th></th>\n",
       "      <th>name</th>\n",
       "      <th>desc</th>\n",
       "      <th>address</th>\n",
       "      <th>similarity</th>\n",
       "    </tr>\n",
       "  </thead>\n",
       "  <tbody>\n",
       "    <tr>\n",
       "      <th>2000</th>\n",
       "      <td>Mütter Museum</td>\n",
       "      <td>Located inside the headquarters of the College...</td>\n",
       "      <td>19 South 22nd Street, Philadelphia, Pennsylvan...</td>\n",
       "      <td>0.005018</td>\n",
       "    </tr>\n",
       "    <tr>\n",
       "      <th>6820</th>\n",
       "      <td>Museum of Pop Culture</td>\n",
       "      <td>In Seattle, where art seems to spring from the...</td>\n",
       "      <td>325 5th Avenue North, Seattle, Washington, 981...</td>\n",
       "      <td>0.004714</td>\n",
       "    </tr>\n",
       "    <tr>\n",
       "      <th>0</th>\n",
       "      <td>City Hall Station</td>\n",
       "      <td>The first New York City subway was built and o...</td>\n",
       "      <td>31 Centre St, New York, New York, 10007, Unite...</td>\n",
       "      <td>0.004609</td>\n",
       "    </tr>\n",
       "    <tr>\n",
       "      <th>614</th>\n",
       "      <td>Natural History Museum of London</td>\n",
       "      <td>Established in 1881, the Natural History Museu...</td>\n",
       "      <td>Cromwell Road, London, England, SW7 2DD, Unite...</td>\n",
       "      <td>0.004500</td>\n",
       "    </tr>\n",
       "    <tr>\n",
       "      <th>14</th>\n",
       "      <td>The Evolution Store</td>\n",
       "      <td>Evolution stands out among the clothing stores...</td>\n",
       "      <td>687 Broadway, New York, New York, 10012, Unite...</td>\n",
       "      <td>0.004283</td>\n",
       "    </tr>\n",
       "    <tr>\n",
       "      <th>5999</th>\n",
       "      <td>The Witch House of Salem</td>\n",
       "      <td>The Salem witchcraft trials took place between...</td>\n",
       "      <td>310 1/2 Essex Street, Salem, Massachusetts, 01...</td>\n",
       "      <td>0.003955</td>\n",
       "    </tr>\n",
       "    <tr>\n",
       "      <th>825</th>\n",
       "      <td>Casa Batlló</td>\n",
       "      <td>One of Gaudí’s most iconic works, Casa Batlló ...</td>\n",
       "      <td>43 Passeig de Gràcia, Barcelona, 08007, Spain</td>\n",
       "      <td>0.003873</td>\n",
       "    </tr>\n",
       "    <tr>\n",
       "      <th>5011</th>\n",
       "      <td>Park Güell</td>\n",
       "      <td>At Park Güell, stone, tile, plants, and Medite...</td>\n",
       "      <td>s/n Carrer d'Olot, Barcelona, 08024, Spain</td>\n",
       "      <td>0.003774</td>\n",
       "    </tr>\n",
       "    <tr>\n",
       "      <th>4411</th>\n",
       "      <td>Centre Pompidou</td>\n",
       "      <td>Located in Paris’ 4th arrondissement, Centre G...</td>\n",
       "      <td>Centre Georges Pompidou, Paris, 75004, France</td>\n",
       "      <td>0.003709</td>\n",
       "    </tr>\n",
       "    <tr>\n",
       "      <th>1010</th>\n",
       "      <td>La Brea Tar Pits Dragonfly Fossils</td>\n",
       "      <td>The landmarked La Brea Tar Pits and Museum is ...</td>\n",
       "      <td>La Brea Tar Pits and Museum, 5801 Wilshire Bou...</td>\n",
       "      <td>0.003677</td>\n",
       "    </tr>\n",
       "  </tbody>\n",
       "</table>\n",
       "</div>"
      ],
      "text/plain": [
       "                                    name  \\\n",
       "2000                       Mütter Museum   \n",
       "6820               Museum of Pop Culture   \n",
       "0                      City Hall Station   \n",
       "614     Natural History Museum of London   \n",
       "14                   The Evolution Store   \n",
       "5999            The Witch House of Salem   \n",
       "825                          Casa Batlló   \n",
       "5011                          Park Güell   \n",
       "4411                     Centre Pompidou   \n",
       "1010  La Brea Tar Pits Dragonfly Fossils   \n",
       "\n",
       "                                                   desc  \\\n",
       "2000  Located inside the headquarters of the College...   \n",
       "6820  In Seattle, where art seems to spring from the...   \n",
       "0     The first New York City subway was built and o...   \n",
       "614   Established in 1881, the Natural History Museu...   \n",
       "14    Evolution stands out among the clothing stores...   \n",
       "5999  The Salem witchcraft trials took place between...   \n",
       "825   One of Gaudí’s most iconic works, Casa Batlló ...   \n",
       "5011  At Park Güell, stone, tile, plants, and Medite...   \n",
       "4411  Located in Paris’ 4th arrondissement, Centre G...   \n",
       "1010  The landmarked La Brea Tar Pits and Museum is ...   \n",
       "\n",
       "                                                address  similarity  \n",
       "2000  19 South 22nd Street, Philadelphia, Pennsylvan...    0.005018  \n",
       "6820  325 5th Avenue North, Seattle, Washington, 981...    0.004714  \n",
       "0     31 Centre St, New York, New York, 10007, Unite...    0.004609  \n",
       "614   Cromwell Road, London, England, SW7 2DD, Unite...    0.004500  \n",
       "14    687 Broadway, New York, New York, 10012, Unite...    0.004283  \n",
       "5999  310 1/2 Essex Street, Salem, Massachusetts, 01...    0.003955  \n",
       "825       43 Passeig de Gràcia, Barcelona, 08007, Spain    0.003873  \n",
       "5011         s/n Carrer d'Olot, Barcelona, 08024, Spain    0.003774  \n",
       "4411      Centre Georges Pompidou, Paris, 75004, France    0.003709  \n",
       "1010  La Brea Tar Pits and Museum, 5801 Wilshire Bou...    0.003677  "
      ]
     },
     "execution_count": 46,
     "metadata": {},
     "output_type": "execute_result"
    }
   ],
   "source": [
    "search_engine.query_custom(\"museum\", top_k=10, proximity=False, popularity=True)[[\"name\",\"desc\",\"address\",\"similarity\"]]"
   ]
  },
  {
   "cell_type": "markdown",
   "id": "e1144db0",
   "metadata": {},
   "source": [
    "## 3.3. Proximity & Popularity\n",
    "For the combination of proximity and popularity, the two scores are simply multiplied together.\n",
    "\n",
    "$$proximity \\times popularity$$"
   ]
  },
  {
   "cell_type": "code",
   "execution_count": 47,
   "id": "00697624",
   "metadata": {},
   "outputs": [
    {
     "data": {
      "text/html": [
       "<div>\n",
       "<style scoped>\n",
       "    .dataframe tbody tr th:only-of-type {\n",
       "        vertical-align: middle;\n",
       "    }\n",
       "\n",
       "    .dataframe tbody tr th {\n",
       "        vertical-align: top;\n",
       "    }\n",
       "\n",
       "    .dataframe thead th {\n",
       "        text-align: right;\n",
       "    }\n",
       "</style>\n",
       "<table border=\"1\" class=\"dataframe\">\n",
       "  <thead>\n",
       "    <tr style=\"text-align: right;\">\n",
       "      <th></th>\n",
       "      <th>name</th>\n",
       "      <th>desc</th>\n",
       "      <th>address</th>\n",
       "      <th>similarity</th>\n",
       "    </tr>\n",
       "  </thead>\n",
       "  <tbody>\n",
       "    <tr>\n",
       "      <th>614</th>\n",
       "      <td>Natural History Museum of London</td>\n",
       "      <td>Established in 1881, the Natural History Museu...</td>\n",
       "      <td>Cromwell Road, London, England, SW7 2DD, Unite...</td>\n",
       "      <td>0.003218</td>\n",
       "    </tr>\n",
       "    <tr>\n",
       "      <th>825</th>\n",
       "      <td>Casa Batlló</td>\n",
       "      <td>One of Gaudí’s most iconic works, Casa Batlló ...</td>\n",
       "      <td>43 Passeig de Gràcia, Barcelona, 08007, Spain</td>\n",
       "      <td>0.002986</td>\n",
       "    </tr>\n",
       "    <tr>\n",
       "      <th>5011</th>\n",
       "      <td>Park Güell</td>\n",
       "      <td>At Park Güell, stone, tile, plants, and Medite...</td>\n",
       "      <td>s/n Carrer d'Olot, Barcelona, 08024, Spain</td>\n",
       "      <td>0.002909</td>\n",
       "    </tr>\n",
       "    <tr>\n",
       "      <th>2000</th>\n",
       "      <td>Mütter Museum</td>\n",
       "      <td>Located inside the headquarters of the College...</td>\n",
       "      <td>19 South 22nd Street, Philadelphia, Pennsylvan...</td>\n",
       "      <td>0.002827</td>\n",
       "    </tr>\n",
       "    <tr>\n",
       "      <th>4411</th>\n",
       "      <td>Centre Pompidou</td>\n",
       "      <td>Located in Paris’ 4th arrondissement, Centre G...</td>\n",
       "      <td>Centre Georges Pompidou, Paris, 75004, France</td>\n",
       "      <td>0.002706</td>\n",
       "    </tr>\n",
       "    <tr>\n",
       "      <th>0</th>\n",
       "      <td>City Hall Station</td>\n",
       "      <td>The first New York City subway was built and o...</td>\n",
       "      <td>31 Centre St, New York, New York, 10007, Unite...</td>\n",
       "      <td>0.002615</td>\n",
       "    </tr>\n",
       "    <tr>\n",
       "      <th>14</th>\n",
       "      <td>The Evolution Store</td>\n",
       "      <td>Evolution stands out among the clothing stores...</td>\n",
       "      <td>687 Broadway, New York, New York, 10012, Unite...</td>\n",
       "      <td>0.002431</td>\n",
       "    </tr>\n",
       "    <tr>\n",
       "      <th>5999</th>\n",
       "      <td>The Witch House of Salem</td>\n",
       "      <td>The Salem witchcraft trials took place between...</td>\n",
       "      <td>310 1/2 Essex Street, Salem, Massachusetts, 01...</td>\n",
       "      <td>0.002286</td>\n",
       "    </tr>\n",
       "    <tr>\n",
       "      <th>7008</th>\n",
       "      <td>221b Baker Street</td>\n",
       "      <td>Beeton’s Christmas Annual was a hugely popular...</td>\n",
       "      <td>237 Baker Street, Devon, London, England, NW1 ...</td>\n",
       "      <td>0.002025</td>\n",
       "    </tr>\n",
       "    <tr>\n",
       "      <th>426</th>\n",
       "      <td>International Spy Museum</td>\n",
       "      <td>Lipstick pistols and the Enigma cipher machine...</td>\n",
       "      <td>700 L'Enfant Plaza SW, Washington, District of...</td>\n",
       "      <td>0.001990</td>\n",
       "    </tr>\n",
       "  </tbody>\n",
       "</table>\n",
       "</div>"
      ],
      "text/plain": [
       "                                  name  \\\n",
       "614   Natural History Museum of London   \n",
       "825                        Casa Batlló   \n",
       "5011                        Park Güell   \n",
       "2000                     Mütter Museum   \n",
       "4411                   Centre Pompidou   \n",
       "0                    City Hall Station   \n",
       "14                 The Evolution Store   \n",
       "5999          The Witch House of Salem   \n",
       "7008                 221b Baker Street   \n",
       "426           International Spy Museum   \n",
       "\n",
       "                                                   desc  \\\n",
       "614   Established in 1881, the Natural History Museu...   \n",
       "825   One of Gaudí’s most iconic works, Casa Batlló ...   \n",
       "5011  At Park Güell, stone, tile, plants, and Medite...   \n",
       "2000  Located inside the headquarters of the College...   \n",
       "4411  Located in Paris’ 4th arrondissement, Centre G...   \n",
       "0     The first New York City subway was built and o...   \n",
       "14    Evolution stands out among the clothing stores...   \n",
       "5999  The Salem witchcraft trials took place between...   \n",
       "7008  Beeton’s Christmas Annual was a hugely popular...   \n",
       "426   Lipstick pistols and the Enigma cipher machine...   \n",
       "\n",
       "                                                address  similarity  \n",
       "614   Cromwell Road, London, England, SW7 2DD, Unite...    0.003218  \n",
       "825       43 Passeig de Gràcia, Barcelona, 08007, Spain    0.002986  \n",
       "5011         s/n Carrer d'Olot, Barcelona, 08024, Spain    0.002909  \n",
       "2000  19 South 22nd Street, Philadelphia, Pennsylvan...    0.002827  \n",
       "4411      Centre Georges Pompidou, Paris, 75004, France    0.002706  \n",
       "0     31 Centre St, New York, New York, 10007, Unite...    0.002615  \n",
       "14    687 Broadway, New York, New York, 10012, Unite...    0.002431  \n",
       "5999  310 1/2 Essex Street, Salem, Massachusetts, 01...    0.002286  \n",
       "7008  237 Baker Street, Devon, London, England, NW1 ...    0.002025  \n",
       "426   700 L'Enfant Plaza SW, Washington, District of...    0.001990  "
      ]
     },
     "execution_count": 47,
     "metadata": {},
     "output_type": "execute_result"
    }
   ],
   "source": [
    "search_engine.query_custom(\"museum\" , top_k=10, proximity=True, popularity=True)[[\"name\",\"desc\",\"address\",\"similarity\"]]"
   ]
  },
  {
   "cell_type": "markdown",
   "id": "90cbbda8",
   "metadata": {},
   "source": [
    "## 3.4. Score Evaluation\n",
    "Comparing the cosine similarity with our own function is not clear cut, as they operate according to different metrics and cater to different needs. Therefore it is not trivial to say which one is better or worse.\n",
    "\n",
    "The cosine similarity is good for checking document similarity based on the actual content, whereas the other scores take into account other variables that the user might be interested in."
   ]
  },
  {
   "cell_type": "markdown",
   "id": "b9c4628e",
   "metadata": {},
   "source": [
    "---"
   ]
  },
  {
   "cell_type": "markdown",
   "id": "8d1baeca",
   "metadata": {},
   "source": [
    "# 4. Visualizing the most relevant places"
   ]
  },
  {
   "cell_type": "code",
   "execution_count": 48,
   "id": "a2a91cbb",
   "metadata": {},
   "outputs": [],
   "source": [
    "d_cosine = tf_idf_search_engine.query_top_k(\"american museum\", 10)\n",
    "d_proximity = search_engine.query_custom('american museum', top_k=10, proximity=True, popularity=False)\n",
    "d_popularity = search_engine.query_custom(\"american museum\", top_k=10, proximity=False, popularity=True)\n",
    "d_combination = search_engine.query_custom(\"american museum\" , top_k=10, proximity=True, popularity=True)"
   ]
  },
  {
   "cell_type": "code",
   "execution_count": 49,
   "id": "9ec8f6b7",
   "metadata": {},
   "outputs": [
    {
     "data": {
      "application/vnd.plotly.v1+json": {
       "config": {
        "plotlyServerURL": "https://plot.ly"
       },
       "data": [
        {
         "customdata": [
          [
           "Smithsonian Sushi Collection",
           "14th Streed and Constitution Avenue NW,, Washington, District of Columbia, United States",
           117,
           529
          ],
          [
           "Mercer Museum and Fonthill Castle",
           "525 E Court St & Route 313, Doylestown, Pennsylvania, 18901, United States",
           776,
           1308
          ],
          [
           "Tamástslikt Cultural Institute",
           "47106 Wildhorse Blvd, Pendleton, Oregon, United States",
           109,
           649
          ],
          [
           "Zippo/Case Museum",
           "1932 Zippo Drive, Bradford, Pennsylvania, 16701, United States",
           222,
           479
          ],
          [
           "Off the Rez Cafe",
           "4300 15th Ave NE, Seattle, Washington, 98105, United States",
           194,
           991
          ],
          [
           "Oak Ridge &quot;The Secret City&quot;",
           "Oak Ridge, Tennessee, 37830, United States",
           579,
           1460
          ],
          [
           "Old Time Wooden Nickel Company",
           "345 Old Austin Rd, San Antonio, Texas, United States",
           136,
           439
          ],
          [
           "Self-Taught Genius Gallery",
           "32-23 48th Ave, Queens, New York, 11101, United States",
           51,
           457
          ],
          [
           "Niles Essanay Silent Film Museum",
           "37417 Niles Blvd, Fremont, California, 94536, United States",
           148,
           434
          ],
          [
           "Gillette Castle State Park",
           "67 River Rd, East Haddam, Connecticut, 06423, United States",
           892,
           962
          ]
         ],
         "hovertemplate": "similarity=%{marker.color}<br>lat=%{lat}<br>lon=%{lon}<br>name=%{customdata[0]}<br>address=%{customdata[1]}<br>num_people_visited=%{customdata[2]}<br>num_people_want=%{customdata[3]}<extra></extra>",
         "lat": [
          38.890729,
          40.306903,
          45.65371,
          41.943399,
          47.660263,
          36.00888,
          29.456517,
          40.740928,
          37.577097,
          41.422983
         ],
         "legendgroup": "",
         "lon": [
          -77.030003,
          -75.128278,
          -118.663375,
          -78.650932,
          -122.311556,
          -84.257149,
          -98.456341,
          -73.93338,
          -121.980132,
          -72.428414
         ],
         "marker": {
          "color": [
           0.9999440444478744,
           0.9988368275010288,
           0.9988368275010288,
           0.9988368275010288,
           0.9988368275010286,
           0.9988368275010286,
           0.9949729339942093,
           0.9923103037561561,
           0.9884667730909569,
           0.9884667730909569
          ],
          "coloraxis": "coloraxis",
          "size": [
           0.9999440444478744,
           0.9988368275010288,
           0.9988368275010288,
           0.9988368275010288,
           0.9988368275010286,
           0.9988368275010286,
           0.9949729339942093,
           0.9923103037561561,
           0.9884667730909569,
           0.9884667730909569
          ],
          "sizemode": "area",
          "sizeref": 0.002499860111119686
         },
         "mode": "markers",
         "name": "",
         "showlegend": false,
         "subplot": "mapbox",
         "type": "scattermapbox"
        }
       ],
       "layout": {
        "coloraxis": {
         "colorbar": {
          "title": {
           "text": "similarity"
          }
         },
         "colorscale": [
          [
           0,
           "#0d0887"
          ],
          [
           0.1111111111111111,
           "#46039f"
          ],
          [
           0.2222222222222222,
           "#7201a8"
          ],
          [
           0.3333333333333333,
           "#9c179e"
          ],
          [
           0.4444444444444444,
           "#bd3786"
          ],
          [
           0.5555555555555556,
           "#d8576b"
          ],
          [
           0.6666666666666666,
           "#ed7953"
          ],
          [
           0.7777777777777778,
           "#fb9f3a"
          ],
          [
           0.8888888888888888,
           "#fdca26"
          ],
          [
           1,
           "#f0f921"
          ]
         ]
        },
        "height": 600,
        "legend": {
         "itemsizing": "constant",
         "tracegroupgap": 0
        },
        "mapbox": {
         "center": {
          "lat": 40.77,
          "lon": -73.96
         },
         "domain": {
          "x": [
           0,
           1
          ],
          "y": [
           0,
           1
          ]
         },
         "style": "stamen-toner",
         "zoom": 0.7
        },
        "margin": {
         "t": 60
        },
        "template": {
         "data": {
          "bar": [
           {
            "error_x": {
             "color": "#2a3f5f"
            },
            "error_y": {
             "color": "#2a3f5f"
            },
            "marker": {
             "line": {
              "color": "#E5ECF6",
              "width": 0.5
             },
             "pattern": {
              "fillmode": "overlay",
              "size": 10,
              "solidity": 0.2
             }
            },
            "type": "bar"
           }
          ],
          "barpolar": [
           {
            "marker": {
             "line": {
              "color": "#E5ECF6",
              "width": 0.5
             },
             "pattern": {
              "fillmode": "overlay",
              "size": 10,
              "solidity": 0.2
             }
            },
            "type": "barpolar"
           }
          ],
          "carpet": [
           {
            "aaxis": {
             "endlinecolor": "#2a3f5f",
             "gridcolor": "white",
             "linecolor": "white",
             "minorgridcolor": "white",
             "startlinecolor": "#2a3f5f"
            },
            "baxis": {
             "endlinecolor": "#2a3f5f",
             "gridcolor": "white",
             "linecolor": "white",
             "minorgridcolor": "white",
             "startlinecolor": "#2a3f5f"
            },
            "type": "carpet"
           }
          ],
          "choropleth": [
           {
            "colorbar": {
             "outlinewidth": 0,
             "ticks": ""
            },
            "type": "choropleth"
           }
          ],
          "contour": [
           {
            "colorbar": {
             "outlinewidth": 0,
             "ticks": ""
            },
            "colorscale": [
             [
              0,
              "#0d0887"
             ],
             [
              0.1111111111111111,
              "#46039f"
             ],
             [
              0.2222222222222222,
              "#7201a8"
             ],
             [
              0.3333333333333333,
              "#9c179e"
             ],
             [
              0.4444444444444444,
              "#bd3786"
             ],
             [
              0.5555555555555556,
              "#d8576b"
             ],
             [
              0.6666666666666666,
              "#ed7953"
             ],
             [
              0.7777777777777778,
              "#fb9f3a"
             ],
             [
              0.8888888888888888,
              "#fdca26"
             ],
             [
              1,
              "#f0f921"
             ]
            ],
            "type": "contour"
           }
          ],
          "contourcarpet": [
           {
            "colorbar": {
             "outlinewidth": 0,
             "ticks": ""
            },
            "type": "contourcarpet"
           }
          ],
          "heatmap": [
           {
            "colorbar": {
             "outlinewidth": 0,
             "ticks": ""
            },
            "colorscale": [
             [
              0,
              "#0d0887"
             ],
             [
              0.1111111111111111,
              "#46039f"
             ],
             [
              0.2222222222222222,
              "#7201a8"
             ],
             [
              0.3333333333333333,
              "#9c179e"
             ],
             [
              0.4444444444444444,
              "#bd3786"
             ],
             [
              0.5555555555555556,
              "#d8576b"
             ],
             [
              0.6666666666666666,
              "#ed7953"
             ],
             [
              0.7777777777777778,
              "#fb9f3a"
             ],
             [
              0.8888888888888888,
              "#fdca26"
             ],
             [
              1,
              "#f0f921"
             ]
            ],
            "type": "heatmap"
           }
          ],
          "heatmapgl": [
           {
            "colorbar": {
             "outlinewidth": 0,
             "ticks": ""
            },
            "colorscale": [
             [
              0,
              "#0d0887"
             ],
             [
              0.1111111111111111,
              "#46039f"
             ],
             [
              0.2222222222222222,
              "#7201a8"
             ],
             [
              0.3333333333333333,
              "#9c179e"
             ],
             [
              0.4444444444444444,
              "#bd3786"
             ],
             [
              0.5555555555555556,
              "#d8576b"
             ],
             [
              0.6666666666666666,
              "#ed7953"
             ],
             [
              0.7777777777777778,
              "#fb9f3a"
             ],
             [
              0.8888888888888888,
              "#fdca26"
             ],
             [
              1,
              "#f0f921"
             ]
            ],
            "type": "heatmapgl"
           }
          ],
          "histogram": [
           {
            "marker": {
             "pattern": {
              "fillmode": "overlay",
              "size": 10,
              "solidity": 0.2
             }
            },
            "type": "histogram"
           }
          ],
          "histogram2d": [
           {
            "colorbar": {
             "outlinewidth": 0,
             "ticks": ""
            },
            "colorscale": [
             [
              0,
              "#0d0887"
             ],
             [
              0.1111111111111111,
              "#46039f"
             ],
             [
              0.2222222222222222,
              "#7201a8"
             ],
             [
              0.3333333333333333,
              "#9c179e"
             ],
             [
              0.4444444444444444,
              "#bd3786"
             ],
             [
              0.5555555555555556,
              "#d8576b"
             ],
             [
              0.6666666666666666,
              "#ed7953"
             ],
             [
              0.7777777777777778,
              "#fb9f3a"
             ],
             [
              0.8888888888888888,
              "#fdca26"
             ],
             [
              1,
              "#f0f921"
             ]
            ],
            "type": "histogram2d"
           }
          ],
          "histogram2dcontour": [
           {
            "colorbar": {
             "outlinewidth": 0,
             "ticks": ""
            },
            "colorscale": [
             [
              0,
              "#0d0887"
             ],
             [
              0.1111111111111111,
              "#46039f"
             ],
             [
              0.2222222222222222,
              "#7201a8"
             ],
             [
              0.3333333333333333,
              "#9c179e"
             ],
             [
              0.4444444444444444,
              "#bd3786"
             ],
             [
              0.5555555555555556,
              "#d8576b"
             ],
             [
              0.6666666666666666,
              "#ed7953"
             ],
             [
              0.7777777777777778,
              "#fb9f3a"
             ],
             [
              0.8888888888888888,
              "#fdca26"
             ],
             [
              1,
              "#f0f921"
             ]
            ],
            "type": "histogram2dcontour"
           }
          ],
          "mesh3d": [
           {
            "colorbar": {
             "outlinewidth": 0,
             "ticks": ""
            },
            "type": "mesh3d"
           }
          ],
          "parcoords": [
           {
            "line": {
             "colorbar": {
              "outlinewidth": 0,
              "ticks": ""
             }
            },
            "type": "parcoords"
           }
          ],
          "pie": [
           {
            "automargin": true,
            "type": "pie"
           }
          ],
          "scatter": [
           {
            "fillpattern": {
             "fillmode": "overlay",
             "size": 10,
             "solidity": 0.2
            },
            "type": "scatter"
           }
          ],
          "scatter3d": [
           {
            "line": {
             "colorbar": {
              "outlinewidth": 0,
              "ticks": ""
             }
            },
            "marker": {
             "colorbar": {
              "outlinewidth": 0,
              "ticks": ""
             }
            },
            "type": "scatter3d"
           }
          ],
          "scattercarpet": [
           {
            "marker": {
             "colorbar": {
              "outlinewidth": 0,
              "ticks": ""
             }
            },
            "type": "scattercarpet"
           }
          ],
          "scattergeo": [
           {
            "marker": {
             "colorbar": {
              "outlinewidth": 0,
              "ticks": ""
             }
            },
            "type": "scattergeo"
           }
          ],
          "scattergl": [
           {
            "marker": {
             "colorbar": {
              "outlinewidth": 0,
              "ticks": ""
             }
            },
            "type": "scattergl"
           }
          ],
          "scattermapbox": [
           {
            "marker": {
             "colorbar": {
              "outlinewidth": 0,
              "ticks": ""
             }
            },
            "type": "scattermapbox"
           }
          ],
          "scatterpolar": [
           {
            "marker": {
             "colorbar": {
              "outlinewidth": 0,
              "ticks": ""
             }
            },
            "type": "scatterpolar"
           }
          ],
          "scatterpolargl": [
           {
            "marker": {
             "colorbar": {
              "outlinewidth": 0,
              "ticks": ""
             }
            },
            "type": "scatterpolargl"
           }
          ],
          "scatterternary": [
           {
            "marker": {
             "colorbar": {
              "outlinewidth": 0,
              "ticks": ""
             }
            },
            "type": "scatterternary"
           }
          ],
          "surface": [
           {
            "colorbar": {
             "outlinewidth": 0,
             "ticks": ""
            },
            "colorscale": [
             [
              0,
              "#0d0887"
             ],
             [
              0.1111111111111111,
              "#46039f"
             ],
             [
              0.2222222222222222,
              "#7201a8"
             ],
             [
              0.3333333333333333,
              "#9c179e"
             ],
             [
              0.4444444444444444,
              "#bd3786"
             ],
             [
              0.5555555555555556,
              "#d8576b"
             ],
             [
              0.6666666666666666,
              "#ed7953"
             ],
             [
              0.7777777777777778,
              "#fb9f3a"
             ],
             [
              0.8888888888888888,
              "#fdca26"
             ],
             [
              1,
              "#f0f921"
             ]
            ],
            "type": "surface"
           }
          ],
          "table": [
           {
            "cells": {
             "fill": {
              "color": "#EBF0F8"
             },
             "line": {
              "color": "white"
             }
            },
            "header": {
             "fill": {
              "color": "#C8D4E3"
             },
             "line": {
              "color": "white"
             }
            },
            "type": "table"
           }
          ]
         },
         "layout": {
          "annotationdefaults": {
           "arrowcolor": "#2a3f5f",
           "arrowhead": 0,
           "arrowwidth": 1
          },
          "autotypenumbers": "strict",
          "coloraxis": {
           "colorbar": {
            "outlinewidth": 0,
            "ticks": ""
           }
          },
          "colorscale": {
           "diverging": [
            [
             0,
             "#8e0152"
            ],
            [
             0.1,
             "#c51b7d"
            ],
            [
             0.2,
             "#de77ae"
            ],
            [
             0.3,
             "#f1b6da"
            ],
            [
             0.4,
             "#fde0ef"
            ],
            [
             0.5,
             "#f7f7f7"
            ],
            [
             0.6,
             "#e6f5d0"
            ],
            [
             0.7,
             "#b8e186"
            ],
            [
             0.8,
             "#7fbc41"
            ],
            [
             0.9,
             "#4d9221"
            ],
            [
             1,
             "#276419"
            ]
           ],
           "sequential": [
            [
             0,
             "#0d0887"
            ],
            [
             0.1111111111111111,
             "#46039f"
            ],
            [
             0.2222222222222222,
             "#7201a8"
            ],
            [
             0.3333333333333333,
             "#9c179e"
            ],
            [
             0.4444444444444444,
             "#bd3786"
            ],
            [
             0.5555555555555556,
             "#d8576b"
            ],
            [
             0.6666666666666666,
             "#ed7953"
            ],
            [
             0.7777777777777778,
             "#fb9f3a"
            ],
            [
             0.8888888888888888,
             "#fdca26"
            ],
            [
             1,
             "#f0f921"
            ]
           ],
           "sequentialminus": [
            [
             0,
             "#0d0887"
            ],
            [
             0.1111111111111111,
             "#46039f"
            ],
            [
             0.2222222222222222,
             "#7201a8"
            ],
            [
             0.3333333333333333,
             "#9c179e"
            ],
            [
             0.4444444444444444,
             "#bd3786"
            ],
            [
             0.5555555555555556,
             "#d8576b"
            ],
            [
             0.6666666666666666,
             "#ed7953"
            ],
            [
             0.7777777777777778,
             "#fb9f3a"
            ],
            [
             0.8888888888888888,
             "#fdca26"
            ],
            [
             1,
             "#f0f921"
            ]
           ]
          },
          "colorway": [
           "#636efa",
           "#EF553B",
           "#00cc96",
           "#ab63fa",
           "#FFA15A",
           "#19d3f3",
           "#FF6692",
           "#B6E880",
           "#FF97FF",
           "#FECB52"
          ],
          "font": {
           "color": "#2a3f5f"
          },
          "geo": {
           "bgcolor": "white",
           "lakecolor": "white",
           "landcolor": "#E5ECF6",
           "showlakes": true,
           "showland": true,
           "subunitcolor": "white"
          },
          "hoverlabel": {
           "align": "left"
          },
          "hovermode": "closest",
          "mapbox": {
           "style": "light"
          },
          "paper_bgcolor": "white",
          "plot_bgcolor": "#E5ECF6",
          "polar": {
           "angularaxis": {
            "gridcolor": "white",
            "linecolor": "white",
            "ticks": ""
           },
           "bgcolor": "#E5ECF6",
           "radialaxis": {
            "gridcolor": "white",
            "linecolor": "white",
            "ticks": ""
           }
          },
          "scene": {
           "xaxis": {
            "backgroundcolor": "#E5ECF6",
            "gridcolor": "white",
            "gridwidth": 2,
            "linecolor": "white",
            "showbackground": true,
            "ticks": "",
            "zerolinecolor": "white"
           },
           "yaxis": {
            "backgroundcolor": "#E5ECF6",
            "gridcolor": "white",
            "gridwidth": 2,
            "linecolor": "white",
            "showbackground": true,
            "ticks": "",
            "zerolinecolor": "white"
           },
           "zaxis": {
            "backgroundcolor": "#E5ECF6",
            "gridcolor": "white",
            "gridwidth": 2,
            "linecolor": "white",
            "showbackground": true,
            "ticks": "",
            "zerolinecolor": "white"
           }
          },
          "shapedefaults": {
           "line": {
            "color": "#2a3f5f"
           }
          },
          "ternary": {
           "aaxis": {
            "gridcolor": "white",
            "linecolor": "white",
            "ticks": ""
           },
           "baxis": {
            "gridcolor": "white",
            "linecolor": "white",
            "ticks": ""
           },
           "bgcolor": "#E5ECF6",
           "caxis": {
            "gridcolor": "white",
            "linecolor": "white",
            "ticks": ""
           }
          },
          "title": {
           "x": 0.05
          },
          "xaxis": {
           "automargin": true,
           "gridcolor": "white",
           "linecolor": "white",
           "ticks": "",
           "title": {
            "standoff": 15
           },
           "zerolinecolor": "white",
           "zerolinewidth": 2
          },
          "yaxis": {
           "automargin": true,
           "gridcolor": "white",
           "linecolor": "white",
           "ticks": "",
           "title": {
            "standoff": 15
           },
           "zerolinecolor": "white",
           "zerolinewidth": 2
          }
         }
        },
        "title": {
         "text": "Maps visualization of the most relevant place according to cosine similarity",
         "x": 0.45,
         "xanchor": "center",
         "y": 0.95,
         "yanchor": "top"
        },
        "width": 1000
       }
      },
      "text/html": [
       "<div>                            <div id=\"499563c1-d5de-493c-aaf0-74a3289f66c0\" class=\"plotly-graph-div\" style=\"height:600px; width:1000px;\"></div>            <script type=\"text/javascript\">                require([\"plotly\"], function(Plotly) {                    window.PLOTLYENV=window.PLOTLYENV || {};                                    if (document.getElementById(\"499563c1-d5de-493c-aaf0-74a3289f66c0\")) {                    Plotly.newPlot(                        \"499563c1-d5de-493c-aaf0-74a3289f66c0\",                        [{\"customdata\":[[\"Smithsonian Sushi Collection\",\"14th Streed and Constitution Avenue NW,, Washington, District of Columbia, United States\",117,529],[\"Mercer Museum and Fonthill Castle\",\"525 E Court St & Route 313, Doylestown, Pennsylvania, 18901, United States\",776,1308],[\"Tam\\u00e1stslikt Cultural Institute\",\"47106 Wildhorse Blvd, Pendleton, Oregon, United States\",109,649],[\"Zippo/Case Museum\",\"1932 Zippo Drive, Bradford, Pennsylvania, 16701, United States\",222,479],[\"Off the Rez Cafe\",\"4300 15th Ave NE, Seattle, Washington, 98105, United States\",194,991],[\"Oak Ridge &quot;The Secret City&quot;\",\"Oak Ridge, Tennessee, 37830, United States\",579,1460],[\"Old Time Wooden Nickel Company\",\"345 Old Austin Rd, San Antonio, Texas, United States\",136,439],[\"Self-Taught Genius Gallery\",\"32-23 48th Ave, Queens, New York, 11101, United States\",51,457],[\"Niles Essanay Silent Film Museum\",\"37417 Niles Blvd, Fremont, California, 94536, United States\",148,434],[\"Gillette Castle State Park\",\"67 River Rd, East Haddam, Connecticut, 06423, United States\",892,962]],\"hovertemplate\":\"similarity=%{marker.color}<br>lat=%{lat}<br>lon=%{lon}<br>name=%{customdata[0]}<br>address=%{customdata[1]}<br>num_people_visited=%{customdata[2]}<br>num_people_want=%{customdata[3]}<extra></extra>\",\"lat\":[38.890729,40.306903,45.65371,41.943399,47.660263,36.00888,29.456517,40.740928,37.577097,41.422983],\"legendgroup\":\"\",\"lon\":[-77.030003,-75.128278,-118.663375,-78.650932,-122.311556,-84.257149,-98.456341,-73.93338,-121.980132,-72.428414],\"marker\":{\"color\":[0.9999440444478744,0.9988368275010288,0.9988368275010288,0.9988368275010288,0.9988368275010286,0.9988368275010286,0.9949729339942093,0.9923103037561561,0.9884667730909569,0.9884667730909569],\"coloraxis\":\"coloraxis\",\"size\":[0.9999440444478744,0.9988368275010288,0.9988368275010288,0.9988368275010288,0.9988368275010286,0.9988368275010286,0.9949729339942093,0.9923103037561561,0.9884667730909569,0.9884667730909569],\"sizemode\":\"area\",\"sizeref\":0.002499860111119686},\"mode\":\"markers\",\"name\":\"\",\"showlegend\":false,\"subplot\":\"mapbox\",\"type\":\"scattermapbox\"}],                        {\"template\":{\"data\":{\"histogram2dcontour\":[{\"type\":\"histogram2dcontour\",\"colorbar\":{\"outlinewidth\":0,\"ticks\":\"\"},\"colorscale\":[[0.0,\"#0d0887\"],[0.1111111111111111,\"#46039f\"],[0.2222222222222222,\"#7201a8\"],[0.3333333333333333,\"#9c179e\"],[0.4444444444444444,\"#bd3786\"],[0.5555555555555556,\"#d8576b\"],[0.6666666666666666,\"#ed7953\"],[0.7777777777777778,\"#fb9f3a\"],[0.8888888888888888,\"#fdca26\"],[1.0,\"#f0f921\"]]}],\"choropleth\":[{\"type\":\"choropleth\",\"colorbar\":{\"outlinewidth\":0,\"ticks\":\"\"}}],\"histogram2d\":[{\"type\":\"histogram2d\",\"colorbar\":{\"outlinewidth\":0,\"ticks\":\"\"},\"colorscale\":[[0.0,\"#0d0887\"],[0.1111111111111111,\"#46039f\"],[0.2222222222222222,\"#7201a8\"],[0.3333333333333333,\"#9c179e\"],[0.4444444444444444,\"#bd3786\"],[0.5555555555555556,\"#d8576b\"],[0.6666666666666666,\"#ed7953\"],[0.7777777777777778,\"#fb9f3a\"],[0.8888888888888888,\"#fdca26\"],[1.0,\"#f0f921\"]]}],\"heatmap\":[{\"type\":\"heatmap\",\"colorbar\":{\"outlinewidth\":0,\"ticks\":\"\"},\"colorscale\":[[0.0,\"#0d0887\"],[0.1111111111111111,\"#46039f\"],[0.2222222222222222,\"#7201a8\"],[0.3333333333333333,\"#9c179e\"],[0.4444444444444444,\"#bd3786\"],[0.5555555555555556,\"#d8576b\"],[0.6666666666666666,\"#ed7953\"],[0.7777777777777778,\"#fb9f3a\"],[0.8888888888888888,\"#fdca26\"],[1.0,\"#f0f921\"]]}],\"heatmapgl\":[{\"type\":\"heatmapgl\",\"colorbar\":{\"outlinewidth\":0,\"ticks\":\"\"},\"colorscale\":[[0.0,\"#0d0887\"],[0.1111111111111111,\"#46039f\"],[0.2222222222222222,\"#7201a8\"],[0.3333333333333333,\"#9c179e\"],[0.4444444444444444,\"#bd3786\"],[0.5555555555555556,\"#d8576b\"],[0.6666666666666666,\"#ed7953\"],[0.7777777777777778,\"#fb9f3a\"],[0.8888888888888888,\"#fdca26\"],[1.0,\"#f0f921\"]]}],\"contourcarpet\":[{\"type\":\"contourcarpet\",\"colorbar\":{\"outlinewidth\":0,\"ticks\":\"\"}}],\"contour\":[{\"type\":\"contour\",\"colorbar\":{\"outlinewidth\":0,\"ticks\":\"\"},\"colorscale\":[[0.0,\"#0d0887\"],[0.1111111111111111,\"#46039f\"],[0.2222222222222222,\"#7201a8\"],[0.3333333333333333,\"#9c179e\"],[0.4444444444444444,\"#bd3786\"],[0.5555555555555556,\"#d8576b\"],[0.6666666666666666,\"#ed7953\"],[0.7777777777777778,\"#fb9f3a\"],[0.8888888888888888,\"#fdca26\"],[1.0,\"#f0f921\"]]}],\"surface\":[{\"type\":\"surface\",\"colorbar\":{\"outlinewidth\":0,\"ticks\":\"\"},\"colorscale\":[[0.0,\"#0d0887\"],[0.1111111111111111,\"#46039f\"],[0.2222222222222222,\"#7201a8\"],[0.3333333333333333,\"#9c179e\"],[0.4444444444444444,\"#bd3786\"],[0.5555555555555556,\"#d8576b\"],[0.6666666666666666,\"#ed7953\"],[0.7777777777777778,\"#fb9f3a\"],[0.8888888888888888,\"#fdca26\"],[1.0,\"#f0f921\"]]}],\"mesh3d\":[{\"type\":\"mesh3d\",\"colorbar\":{\"outlinewidth\":0,\"ticks\":\"\"}}],\"scatter\":[{\"fillpattern\":{\"fillmode\":\"overlay\",\"size\":10,\"solidity\":0.2},\"type\":\"scatter\"}],\"parcoords\":[{\"type\":\"parcoords\",\"line\":{\"colorbar\":{\"outlinewidth\":0,\"ticks\":\"\"}}}],\"scatterpolargl\":[{\"type\":\"scatterpolargl\",\"marker\":{\"colorbar\":{\"outlinewidth\":0,\"ticks\":\"\"}}}],\"bar\":[{\"error_x\":{\"color\":\"#2a3f5f\"},\"error_y\":{\"color\":\"#2a3f5f\"},\"marker\":{\"line\":{\"color\":\"#E5ECF6\",\"width\":0.5},\"pattern\":{\"fillmode\":\"overlay\",\"size\":10,\"solidity\":0.2}},\"type\":\"bar\"}],\"scattergeo\":[{\"type\":\"scattergeo\",\"marker\":{\"colorbar\":{\"outlinewidth\":0,\"ticks\":\"\"}}}],\"scatterpolar\":[{\"type\":\"scatterpolar\",\"marker\":{\"colorbar\":{\"outlinewidth\":0,\"ticks\":\"\"}}}],\"histogram\":[{\"marker\":{\"pattern\":{\"fillmode\":\"overlay\",\"size\":10,\"solidity\":0.2}},\"type\":\"histogram\"}],\"scattergl\":[{\"type\":\"scattergl\",\"marker\":{\"colorbar\":{\"outlinewidth\":0,\"ticks\":\"\"}}}],\"scatter3d\":[{\"type\":\"scatter3d\",\"line\":{\"colorbar\":{\"outlinewidth\":0,\"ticks\":\"\"}},\"marker\":{\"colorbar\":{\"outlinewidth\":0,\"ticks\":\"\"}}}],\"scattermapbox\":[{\"type\":\"scattermapbox\",\"marker\":{\"colorbar\":{\"outlinewidth\":0,\"ticks\":\"\"}}}],\"scatterternary\":[{\"type\":\"scatterternary\",\"marker\":{\"colorbar\":{\"outlinewidth\":0,\"ticks\":\"\"}}}],\"scattercarpet\":[{\"type\":\"scattercarpet\",\"marker\":{\"colorbar\":{\"outlinewidth\":0,\"ticks\":\"\"}}}],\"carpet\":[{\"aaxis\":{\"endlinecolor\":\"#2a3f5f\",\"gridcolor\":\"white\",\"linecolor\":\"white\",\"minorgridcolor\":\"white\",\"startlinecolor\":\"#2a3f5f\"},\"baxis\":{\"endlinecolor\":\"#2a3f5f\",\"gridcolor\":\"white\",\"linecolor\":\"white\",\"minorgridcolor\":\"white\",\"startlinecolor\":\"#2a3f5f\"},\"type\":\"carpet\"}],\"table\":[{\"cells\":{\"fill\":{\"color\":\"#EBF0F8\"},\"line\":{\"color\":\"white\"}},\"header\":{\"fill\":{\"color\":\"#C8D4E3\"},\"line\":{\"color\":\"white\"}},\"type\":\"table\"}],\"barpolar\":[{\"marker\":{\"line\":{\"color\":\"#E5ECF6\",\"width\":0.5},\"pattern\":{\"fillmode\":\"overlay\",\"size\":10,\"solidity\":0.2}},\"type\":\"barpolar\"}],\"pie\":[{\"automargin\":true,\"type\":\"pie\"}]},\"layout\":{\"autotypenumbers\":\"strict\",\"colorway\":[\"#636efa\",\"#EF553B\",\"#00cc96\",\"#ab63fa\",\"#FFA15A\",\"#19d3f3\",\"#FF6692\",\"#B6E880\",\"#FF97FF\",\"#FECB52\"],\"font\":{\"color\":\"#2a3f5f\"},\"hovermode\":\"closest\",\"hoverlabel\":{\"align\":\"left\"},\"paper_bgcolor\":\"white\",\"plot_bgcolor\":\"#E5ECF6\",\"polar\":{\"bgcolor\":\"#E5ECF6\",\"angularaxis\":{\"gridcolor\":\"white\",\"linecolor\":\"white\",\"ticks\":\"\"},\"radialaxis\":{\"gridcolor\":\"white\",\"linecolor\":\"white\",\"ticks\":\"\"}},\"ternary\":{\"bgcolor\":\"#E5ECF6\",\"aaxis\":{\"gridcolor\":\"white\",\"linecolor\":\"white\",\"ticks\":\"\"},\"baxis\":{\"gridcolor\":\"white\",\"linecolor\":\"white\",\"ticks\":\"\"},\"caxis\":{\"gridcolor\":\"white\",\"linecolor\":\"white\",\"ticks\":\"\"}},\"coloraxis\":{\"colorbar\":{\"outlinewidth\":0,\"ticks\":\"\"}},\"colorscale\":{\"sequential\":[[0.0,\"#0d0887\"],[0.1111111111111111,\"#46039f\"],[0.2222222222222222,\"#7201a8\"],[0.3333333333333333,\"#9c179e\"],[0.4444444444444444,\"#bd3786\"],[0.5555555555555556,\"#d8576b\"],[0.6666666666666666,\"#ed7953\"],[0.7777777777777778,\"#fb9f3a\"],[0.8888888888888888,\"#fdca26\"],[1.0,\"#f0f921\"]],\"sequentialminus\":[[0.0,\"#0d0887\"],[0.1111111111111111,\"#46039f\"],[0.2222222222222222,\"#7201a8\"],[0.3333333333333333,\"#9c179e\"],[0.4444444444444444,\"#bd3786\"],[0.5555555555555556,\"#d8576b\"],[0.6666666666666666,\"#ed7953\"],[0.7777777777777778,\"#fb9f3a\"],[0.8888888888888888,\"#fdca26\"],[1.0,\"#f0f921\"]],\"diverging\":[[0,\"#8e0152\"],[0.1,\"#c51b7d\"],[0.2,\"#de77ae\"],[0.3,\"#f1b6da\"],[0.4,\"#fde0ef\"],[0.5,\"#f7f7f7\"],[0.6,\"#e6f5d0\"],[0.7,\"#b8e186\"],[0.8,\"#7fbc41\"],[0.9,\"#4d9221\"],[1,\"#276419\"]]},\"xaxis\":{\"gridcolor\":\"white\",\"linecolor\":\"white\",\"ticks\":\"\",\"title\":{\"standoff\":15},\"zerolinecolor\":\"white\",\"automargin\":true,\"zerolinewidth\":2},\"yaxis\":{\"gridcolor\":\"white\",\"linecolor\":\"white\",\"ticks\":\"\",\"title\":{\"standoff\":15},\"zerolinecolor\":\"white\",\"automargin\":true,\"zerolinewidth\":2},\"scene\":{\"xaxis\":{\"backgroundcolor\":\"#E5ECF6\",\"gridcolor\":\"white\",\"linecolor\":\"white\",\"showbackground\":true,\"ticks\":\"\",\"zerolinecolor\":\"white\",\"gridwidth\":2},\"yaxis\":{\"backgroundcolor\":\"#E5ECF6\",\"gridcolor\":\"white\",\"linecolor\":\"white\",\"showbackground\":true,\"ticks\":\"\",\"zerolinecolor\":\"white\",\"gridwidth\":2},\"zaxis\":{\"backgroundcolor\":\"#E5ECF6\",\"gridcolor\":\"white\",\"linecolor\":\"white\",\"showbackground\":true,\"ticks\":\"\",\"zerolinecolor\":\"white\",\"gridwidth\":2}},\"shapedefaults\":{\"line\":{\"color\":\"#2a3f5f\"}},\"annotationdefaults\":{\"arrowcolor\":\"#2a3f5f\",\"arrowhead\":0,\"arrowwidth\":1},\"geo\":{\"bgcolor\":\"white\",\"landcolor\":\"#E5ECF6\",\"subunitcolor\":\"white\",\"showland\":true,\"showlakes\":true,\"lakecolor\":\"white\"},\"title\":{\"x\":0.05},\"mapbox\":{\"style\":\"light\"}}},\"mapbox\":{\"domain\":{\"x\":[0.0,1.0],\"y\":[0.0,1.0]},\"center\":{\"lat\":40.77,\"lon\":-73.96},\"zoom\":0.7,\"style\":\"stamen-toner\"},\"coloraxis\":{\"colorbar\":{\"title\":{\"text\":\"similarity\"}},\"colorscale\":[[0.0,\"#0d0887\"],[0.1111111111111111,\"#46039f\"],[0.2222222222222222,\"#7201a8\"],[0.3333333333333333,\"#9c179e\"],[0.4444444444444444,\"#bd3786\"],[0.5555555555555556,\"#d8576b\"],[0.6666666666666666,\"#ed7953\"],[0.7777777777777778,\"#fb9f3a\"],[0.8888888888888888,\"#fdca26\"],[1.0,\"#f0f921\"]]},\"legend\":{\"tracegroupgap\":0,\"itemsizing\":\"constant\"},\"margin\":{\"t\":60},\"height\":600,\"width\":1000,\"title\":{\"text\":\"Maps visualization of the most relevant place according to cosine similarity\",\"y\":0.95,\"x\":0.45,\"xanchor\":\"center\",\"yanchor\":\"top\"}},                        {\"responsive\": true}                    ).then(function(){\n",
       "                            \n",
       "var gd = document.getElementById('499563c1-d5de-493c-aaf0-74a3289f66c0');\n",
       "var x = new MutationObserver(function (mutations, observer) {{\n",
       "        var display = window.getComputedStyle(gd).display;\n",
       "        if (!display || display === 'none') {{\n",
       "            console.log([gd, 'removed!']);\n",
       "            Plotly.purge(gd);\n",
       "            observer.disconnect();\n",
       "        }}\n",
       "}});\n",
       "\n",
       "// Listen for the removal of the full notebook cells\n",
       "var notebookContainer = gd.closest('#notebook-container');\n",
       "if (notebookContainer) {{\n",
       "    x.observe(notebookContainer, {childList: true});\n",
       "}}\n",
       "\n",
       "// Listen for the clearing of the current output cell\n",
       "var outputEl = gd.closest('.output');\n",
       "if (outputEl) {{\n",
       "    x.observe(outputEl, {childList: true});\n",
       "}}\n",
       "\n",
       "                        })                };                });            </script>        </div>"
      ]
     },
     "metadata": {},
     "output_type": "display_data"
    }
   ],
   "source": [
    "plot_map(d_cosine, \"Maps visualization of the most relevant place according to cosine similarity\")"
   ]
  },
  {
   "cell_type": "code",
   "execution_count": 50,
   "id": "326a633c",
   "metadata": {},
   "outputs": [
    {
     "data": {
      "application/vnd.plotly.v1+json": {
       "config": {
        "plotlyServerURL": "https://plot.ly"
       },
       "data": [
        {
         "customdata": [
          [
           "The Witch House of Salem",
           "310 1/2 Essex Street, Salem, Massachusetts, 01970, United States",
           3177,
           3972
          ],
          [
           "Blue Mustang",
           "Peña Blvd, Denver, Colorado, 80249, United States",
           3500,
           1181
          ],
          [
           "Crazy Horse Memorial",
           "12151 Avenue of the Chiefs, Custer, South Dakota, 57730, United States",
           2606,
           1398
          ],
          [
           "The Natural Bridge",
           "15 Appledore Lane, Natural Bridge, Virginia, 24578, United States",
           1724,
           2269
          ],
          [
           "Uncommon Objects",
           "1602 Fortview, Austin, Texas, 78704, United States",
           1467,
           2248
          ],
          [
           "Museum of the Weird",
           "Museum of the Weird, 412 E 6th St., Austin, Texas, 78701, United States",
           1017,
           2966
          ],
          [
           "National Atomic Testing Museum",
           "755 E Flamingo Rd, Las Vegas, Nevada, 89119, United States",
           1097,
           2808
          ],
          [
           "U-505",
           "5700 S. Lake Shore Drive, Chicago, Illinois, 60637, United States",
           2061,
           748
          ],
          [
           "Biosphere of Montreal",
           "160, Chemin Tour-de-l'Isle, Île Sainte-Hélène, Montreal, Québec, H3C 0K7, Canada",
           1550,
           1407
          ],
          [
           "Petra",
           "On the slope of Mount Hor, Arabah, Jordan",
           1073,
           2050
          ]
         ],
         "hovertemplate": "similarity=%{marker.color}<br>lat=%{lat}<br>lon=%{lon}<br>name=%{customdata[0]}<br>address=%{customdata[1]}<br>num_people_visited=%{customdata[2]}<br>num_people_want=%{customdata[3]}<extra></extra>",
         "lat": [
          42.521507,
          39.834223,
          43.836789,
          37.6282,
          30.229086,
          30.267022,
          36.114064,
          41.790609,
          45.518988,
          30.328467
         ],
         "legendgroup": "",
         "lon": [
          -70.898894,
          -104.675916,
          -103.624386,
          -79.544653,
          -97.783036,
          -97.738744,
          -115.148354,
          -87.583059,
          -73.534194,
          35.442662
         ],
         "marker": {
          "color": [
           0.023958238495832954,
           0.018338614617387786,
           0.014962157592016318,
           0.013287358026669822,
           0.012106483607682909,
           0.01194187831389032,
           0.011894603160726795,
           0.01093134795728396,
           0.01035026277454396,
           0.009878054956258561
          ],
          "coloraxis": "coloraxis",
          "size": [
           0.023958238495832954,
           0.018338614617387786,
           0.014962157592016318,
           0.013287358026669822,
           0.012106483607682909,
           0.01194187831389032,
           0.011894603160726795,
           0.01093134795728396,
           0.01035026277454396,
           0.009878054956258561
          ],
          "sizemode": "area",
          "sizeref": 5.989559623958239e-05
         },
         "mode": "markers",
         "name": "",
         "showlegend": false,
         "subplot": "mapbox",
         "type": "scattermapbox"
        }
       ],
       "layout": {
        "coloraxis": {
         "colorbar": {
          "title": {
           "text": "similarity"
          }
         },
         "colorscale": [
          [
           0,
           "#0d0887"
          ],
          [
           0.1111111111111111,
           "#46039f"
          ],
          [
           0.2222222222222222,
           "#7201a8"
          ],
          [
           0.3333333333333333,
           "#9c179e"
          ],
          [
           0.4444444444444444,
           "#bd3786"
          ],
          [
           0.5555555555555556,
           "#d8576b"
          ],
          [
           0.6666666666666666,
           "#ed7953"
          ],
          [
           0.7777777777777778,
           "#fb9f3a"
          ],
          [
           0.8888888888888888,
           "#fdca26"
          ],
          [
           1,
           "#f0f921"
          ]
         ]
        },
        "height": 600,
        "legend": {
         "itemsizing": "constant",
         "tracegroupgap": 0
        },
        "mapbox": {
         "center": {
          "lat": 40.77,
          "lon": -73.96
         },
         "domain": {
          "x": [
           0,
           1
          ],
          "y": [
           0,
           1
          ]
         },
         "style": "stamen-toner",
         "zoom": 0.7
        },
        "margin": {
         "t": 60
        },
        "template": {
         "data": {
          "bar": [
           {
            "error_x": {
             "color": "#2a3f5f"
            },
            "error_y": {
             "color": "#2a3f5f"
            },
            "marker": {
             "line": {
              "color": "#E5ECF6",
              "width": 0.5
             },
             "pattern": {
              "fillmode": "overlay",
              "size": 10,
              "solidity": 0.2
             }
            },
            "type": "bar"
           }
          ],
          "barpolar": [
           {
            "marker": {
             "line": {
              "color": "#E5ECF6",
              "width": 0.5
             },
             "pattern": {
              "fillmode": "overlay",
              "size": 10,
              "solidity": 0.2
             }
            },
            "type": "barpolar"
           }
          ],
          "carpet": [
           {
            "aaxis": {
             "endlinecolor": "#2a3f5f",
             "gridcolor": "white",
             "linecolor": "white",
             "minorgridcolor": "white",
             "startlinecolor": "#2a3f5f"
            },
            "baxis": {
             "endlinecolor": "#2a3f5f",
             "gridcolor": "white",
             "linecolor": "white",
             "minorgridcolor": "white",
             "startlinecolor": "#2a3f5f"
            },
            "type": "carpet"
           }
          ],
          "choropleth": [
           {
            "colorbar": {
             "outlinewidth": 0,
             "ticks": ""
            },
            "type": "choropleth"
           }
          ],
          "contour": [
           {
            "colorbar": {
             "outlinewidth": 0,
             "ticks": ""
            },
            "colorscale": [
             [
              0,
              "#0d0887"
             ],
             [
              0.1111111111111111,
              "#46039f"
             ],
             [
              0.2222222222222222,
              "#7201a8"
             ],
             [
              0.3333333333333333,
              "#9c179e"
             ],
             [
              0.4444444444444444,
              "#bd3786"
             ],
             [
              0.5555555555555556,
              "#d8576b"
             ],
             [
              0.6666666666666666,
              "#ed7953"
             ],
             [
              0.7777777777777778,
              "#fb9f3a"
             ],
             [
              0.8888888888888888,
              "#fdca26"
             ],
             [
              1,
              "#f0f921"
             ]
            ],
            "type": "contour"
           }
          ],
          "contourcarpet": [
           {
            "colorbar": {
             "outlinewidth": 0,
             "ticks": ""
            },
            "type": "contourcarpet"
           }
          ],
          "heatmap": [
           {
            "colorbar": {
             "outlinewidth": 0,
             "ticks": ""
            },
            "colorscale": [
             [
              0,
              "#0d0887"
             ],
             [
              0.1111111111111111,
              "#46039f"
             ],
             [
              0.2222222222222222,
              "#7201a8"
             ],
             [
              0.3333333333333333,
              "#9c179e"
             ],
             [
              0.4444444444444444,
              "#bd3786"
             ],
             [
              0.5555555555555556,
              "#d8576b"
             ],
             [
              0.6666666666666666,
              "#ed7953"
             ],
             [
              0.7777777777777778,
              "#fb9f3a"
             ],
             [
              0.8888888888888888,
              "#fdca26"
             ],
             [
              1,
              "#f0f921"
             ]
            ],
            "type": "heatmap"
           }
          ],
          "heatmapgl": [
           {
            "colorbar": {
             "outlinewidth": 0,
             "ticks": ""
            },
            "colorscale": [
             [
              0,
              "#0d0887"
             ],
             [
              0.1111111111111111,
              "#46039f"
             ],
             [
              0.2222222222222222,
              "#7201a8"
             ],
             [
              0.3333333333333333,
              "#9c179e"
             ],
             [
              0.4444444444444444,
              "#bd3786"
             ],
             [
              0.5555555555555556,
              "#d8576b"
             ],
             [
              0.6666666666666666,
              "#ed7953"
             ],
             [
              0.7777777777777778,
              "#fb9f3a"
             ],
             [
              0.8888888888888888,
              "#fdca26"
             ],
             [
              1,
              "#f0f921"
             ]
            ],
            "type": "heatmapgl"
           }
          ],
          "histogram": [
           {
            "marker": {
             "pattern": {
              "fillmode": "overlay",
              "size": 10,
              "solidity": 0.2
             }
            },
            "type": "histogram"
           }
          ],
          "histogram2d": [
           {
            "colorbar": {
             "outlinewidth": 0,
             "ticks": ""
            },
            "colorscale": [
             [
              0,
              "#0d0887"
             ],
             [
              0.1111111111111111,
              "#46039f"
             ],
             [
              0.2222222222222222,
              "#7201a8"
             ],
             [
              0.3333333333333333,
              "#9c179e"
             ],
             [
              0.4444444444444444,
              "#bd3786"
             ],
             [
              0.5555555555555556,
              "#d8576b"
             ],
             [
              0.6666666666666666,
              "#ed7953"
             ],
             [
              0.7777777777777778,
              "#fb9f3a"
             ],
             [
              0.8888888888888888,
              "#fdca26"
             ],
             [
              1,
              "#f0f921"
             ]
            ],
            "type": "histogram2d"
           }
          ],
          "histogram2dcontour": [
           {
            "colorbar": {
             "outlinewidth": 0,
             "ticks": ""
            },
            "colorscale": [
             [
              0,
              "#0d0887"
             ],
             [
              0.1111111111111111,
              "#46039f"
             ],
             [
              0.2222222222222222,
              "#7201a8"
             ],
             [
              0.3333333333333333,
              "#9c179e"
             ],
             [
              0.4444444444444444,
              "#bd3786"
             ],
             [
              0.5555555555555556,
              "#d8576b"
             ],
             [
              0.6666666666666666,
              "#ed7953"
             ],
             [
              0.7777777777777778,
              "#fb9f3a"
             ],
             [
              0.8888888888888888,
              "#fdca26"
             ],
             [
              1,
              "#f0f921"
             ]
            ],
            "type": "histogram2dcontour"
           }
          ],
          "mesh3d": [
           {
            "colorbar": {
             "outlinewidth": 0,
             "ticks": ""
            },
            "type": "mesh3d"
           }
          ],
          "parcoords": [
           {
            "line": {
             "colorbar": {
              "outlinewidth": 0,
              "ticks": ""
             }
            },
            "type": "parcoords"
           }
          ],
          "pie": [
           {
            "automargin": true,
            "type": "pie"
           }
          ],
          "scatter": [
           {
            "fillpattern": {
             "fillmode": "overlay",
             "size": 10,
             "solidity": 0.2
            },
            "type": "scatter"
           }
          ],
          "scatter3d": [
           {
            "line": {
             "colorbar": {
              "outlinewidth": 0,
              "ticks": ""
             }
            },
            "marker": {
             "colorbar": {
              "outlinewidth": 0,
              "ticks": ""
             }
            },
            "type": "scatter3d"
           }
          ],
          "scattercarpet": [
           {
            "marker": {
             "colorbar": {
              "outlinewidth": 0,
              "ticks": ""
             }
            },
            "type": "scattercarpet"
           }
          ],
          "scattergeo": [
           {
            "marker": {
             "colorbar": {
              "outlinewidth": 0,
              "ticks": ""
             }
            },
            "type": "scattergeo"
           }
          ],
          "scattergl": [
           {
            "marker": {
             "colorbar": {
              "outlinewidth": 0,
              "ticks": ""
             }
            },
            "type": "scattergl"
           }
          ],
          "scattermapbox": [
           {
            "marker": {
             "colorbar": {
              "outlinewidth": 0,
              "ticks": ""
             }
            },
            "type": "scattermapbox"
           }
          ],
          "scatterpolar": [
           {
            "marker": {
             "colorbar": {
              "outlinewidth": 0,
              "ticks": ""
             }
            },
            "type": "scatterpolar"
           }
          ],
          "scatterpolargl": [
           {
            "marker": {
             "colorbar": {
              "outlinewidth": 0,
              "ticks": ""
             }
            },
            "type": "scatterpolargl"
           }
          ],
          "scatterternary": [
           {
            "marker": {
             "colorbar": {
              "outlinewidth": 0,
              "ticks": ""
             }
            },
            "type": "scatterternary"
           }
          ],
          "surface": [
           {
            "colorbar": {
             "outlinewidth": 0,
             "ticks": ""
            },
            "colorscale": [
             [
              0,
              "#0d0887"
             ],
             [
              0.1111111111111111,
              "#46039f"
             ],
             [
              0.2222222222222222,
              "#7201a8"
             ],
             [
              0.3333333333333333,
              "#9c179e"
             ],
             [
              0.4444444444444444,
              "#bd3786"
             ],
             [
              0.5555555555555556,
              "#d8576b"
             ],
             [
              0.6666666666666666,
              "#ed7953"
             ],
             [
              0.7777777777777778,
              "#fb9f3a"
             ],
             [
              0.8888888888888888,
              "#fdca26"
             ],
             [
              1,
              "#f0f921"
             ]
            ],
            "type": "surface"
           }
          ],
          "table": [
           {
            "cells": {
             "fill": {
              "color": "#EBF0F8"
             },
             "line": {
              "color": "white"
             }
            },
            "header": {
             "fill": {
              "color": "#C8D4E3"
             },
             "line": {
              "color": "white"
             }
            },
            "type": "table"
           }
          ]
         },
         "layout": {
          "annotationdefaults": {
           "arrowcolor": "#2a3f5f",
           "arrowhead": 0,
           "arrowwidth": 1
          },
          "autotypenumbers": "strict",
          "coloraxis": {
           "colorbar": {
            "outlinewidth": 0,
            "ticks": ""
           }
          },
          "colorscale": {
           "diverging": [
            [
             0,
             "#8e0152"
            ],
            [
             0.1,
             "#c51b7d"
            ],
            [
             0.2,
             "#de77ae"
            ],
            [
             0.3,
             "#f1b6da"
            ],
            [
             0.4,
             "#fde0ef"
            ],
            [
             0.5,
             "#f7f7f7"
            ],
            [
             0.6,
             "#e6f5d0"
            ],
            [
             0.7,
             "#b8e186"
            ],
            [
             0.8,
             "#7fbc41"
            ],
            [
             0.9,
             "#4d9221"
            ],
            [
             1,
             "#276419"
            ]
           ],
           "sequential": [
            [
             0,
             "#0d0887"
            ],
            [
             0.1111111111111111,
             "#46039f"
            ],
            [
             0.2222222222222222,
             "#7201a8"
            ],
            [
             0.3333333333333333,
             "#9c179e"
            ],
            [
             0.4444444444444444,
             "#bd3786"
            ],
            [
             0.5555555555555556,
             "#d8576b"
            ],
            [
             0.6666666666666666,
             "#ed7953"
            ],
            [
             0.7777777777777778,
             "#fb9f3a"
            ],
            [
             0.8888888888888888,
             "#fdca26"
            ],
            [
             1,
             "#f0f921"
            ]
           ],
           "sequentialminus": [
            [
             0,
             "#0d0887"
            ],
            [
             0.1111111111111111,
             "#46039f"
            ],
            [
             0.2222222222222222,
             "#7201a8"
            ],
            [
             0.3333333333333333,
             "#9c179e"
            ],
            [
             0.4444444444444444,
             "#bd3786"
            ],
            [
             0.5555555555555556,
             "#d8576b"
            ],
            [
             0.6666666666666666,
             "#ed7953"
            ],
            [
             0.7777777777777778,
             "#fb9f3a"
            ],
            [
             0.8888888888888888,
             "#fdca26"
            ],
            [
             1,
             "#f0f921"
            ]
           ]
          },
          "colorway": [
           "#636efa",
           "#EF553B",
           "#00cc96",
           "#ab63fa",
           "#FFA15A",
           "#19d3f3",
           "#FF6692",
           "#B6E880",
           "#FF97FF",
           "#FECB52"
          ],
          "font": {
           "color": "#2a3f5f"
          },
          "geo": {
           "bgcolor": "white",
           "lakecolor": "white",
           "landcolor": "#E5ECF6",
           "showlakes": true,
           "showland": true,
           "subunitcolor": "white"
          },
          "hoverlabel": {
           "align": "left"
          },
          "hovermode": "closest",
          "mapbox": {
           "style": "light"
          },
          "paper_bgcolor": "white",
          "plot_bgcolor": "#E5ECF6",
          "polar": {
           "angularaxis": {
            "gridcolor": "white",
            "linecolor": "white",
            "ticks": ""
           },
           "bgcolor": "#E5ECF6",
           "radialaxis": {
            "gridcolor": "white",
            "linecolor": "white",
            "ticks": ""
           }
          },
          "scene": {
           "xaxis": {
            "backgroundcolor": "#E5ECF6",
            "gridcolor": "white",
            "gridwidth": 2,
            "linecolor": "white",
            "showbackground": true,
            "ticks": "",
            "zerolinecolor": "white"
           },
           "yaxis": {
            "backgroundcolor": "#E5ECF6",
            "gridcolor": "white",
            "gridwidth": 2,
            "linecolor": "white",
            "showbackground": true,
            "ticks": "",
            "zerolinecolor": "white"
           },
           "zaxis": {
            "backgroundcolor": "#E5ECF6",
            "gridcolor": "white",
            "gridwidth": 2,
            "linecolor": "white",
            "showbackground": true,
            "ticks": "",
            "zerolinecolor": "white"
           }
          },
          "shapedefaults": {
           "line": {
            "color": "#2a3f5f"
           }
          },
          "ternary": {
           "aaxis": {
            "gridcolor": "white",
            "linecolor": "white",
            "ticks": ""
           },
           "baxis": {
            "gridcolor": "white",
            "linecolor": "white",
            "ticks": ""
           },
           "bgcolor": "#E5ECF6",
           "caxis": {
            "gridcolor": "white",
            "linecolor": "white",
            "ticks": ""
           }
          },
          "title": {
           "x": 0.05
          },
          "xaxis": {
           "automargin": true,
           "gridcolor": "white",
           "linecolor": "white",
           "ticks": "",
           "title": {
            "standoff": 15
           },
           "zerolinecolor": "white",
           "zerolinewidth": 2
          },
          "yaxis": {
           "automargin": true,
           "gridcolor": "white",
           "linecolor": "white",
           "ticks": "",
           "title": {
            "standoff": 15
           },
           "zerolinecolor": "white",
           "zerolinewidth": 2
          }
         }
        },
        "title": {
         "text": "Maps visualization of the most relevant place according to popularity",
         "x": 0.45,
         "xanchor": "center",
         "y": 0.95,
         "yanchor": "top"
        },
        "width": 1000
       }
      },
      "text/html": [
       "<div>                            <div id=\"a8a5205d-420f-436b-be14-509f8c64e6ad\" class=\"plotly-graph-div\" style=\"height:600px; width:1000px;\"></div>            <script type=\"text/javascript\">                require([\"plotly\"], function(Plotly) {                    window.PLOTLYENV=window.PLOTLYENV || {};                                    if (document.getElementById(\"a8a5205d-420f-436b-be14-509f8c64e6ad\")) {                    Plotly.newPlot(                        \"a8a5205d-420f-436b-be14-509f8c64e6ad\",                        [{\"customdata\":[[\"The Witch House of Salem\",\"310 1/2 Essex Street, Salem, Massachusetts, 01970, United States\",3177,3972],[\"Blue Mustang\",\"Pe\\u00f1a Blvd, Denver, Colorado, 80249, United States\",3500,1181],[\"Crazy Horse Memorial\",\"12151 Avenue of the Chiefs, Custer, South Dakota, 57730, United States\",2606,1398],[\"The Natural Bridge\",\"15 Appledore Lane, Natural Bridge, Virginia, 24578, United States\",1724,2269],[\"Uncommon Objects\",\"1602 Fortview, Austin, Texas, 78704, United States\",1467,2248],[\"Museum of the Weird\",\"Museum of the Weird, 412 E 6th St., Austin, Texas, 78701, United States\",1017,2966],[\"National Atomic Testing Museum\",\"755 E Flamingo Rd, Las Vegas, Nevada, 89119, United States\",1097,2808],[\"U-505\",\"5700 S. Lake Shore Drive, Chicago, Illinois, 60637, United States\",2061,748],[\"Biosphere of Montreal\",\"160, Chemin Tour-de-l'Isle, \\u00cele Sainte-H\\u00e9l\\u00e8ne, Montreal, Qu\\u00e9bec, H3C 0K7, Canada\",1550,1407],[\"Petra\",\"On the slope of Mount Hor, Arabah, Jordan\",1073,2050]],\"hovertemplate\":\"similarity=%{marker.color}<br>lat=%{lat}<br>lon=%{lon}<br>name=%{customdata[0]}<br>address=%{customdata[1]}<br>num_people_visited=%{customdata[2]}<br>num_people_want=%{customdata[3]}<extra></extra>\",\"lat\":[42.521507,39.834223,43.836789,37.6282,30.229086,30.267022,36.114064,41.790609,45.518988,30.328467],\"legendgroup\":\"\",\"lon\":[-70.898894,-104.675916,-103.624386,-79.544653,-97.783036,-97.738744,-115.148354,-87.583059,-73.534194,35.442662],\"marker\":{\"color\":[0.023958238495832954,0.018338614617387786,0.014962157592016318,0.013287358026669822,0.012106483607682909,0.01194187831389032,0.011894603160726795,0.01093134795728396,0.01035026277454396,0.009878054956258561],\"coloraxis\":\"coloraxis\",\"size\":[0.023958238495832954,0.018338614617387786,0.014962157592016318,0.013287358026669822,0.012106483607682909,0.01194187831389032,0.011894603160726795,0.01093134795728396,0.01035026277454396,0.009878054956258561],\"sizemode\":\"area\",\"sizeref\":5.989559623958239e-05},\"mode\":\"markers\",\"name\":\"\",\"showlegend\":false,\"subplot\":\"mapbox\",\"type\":\"scattermapbox\"}],                        {\"template\":{\"data\":{\"histogram2dcontour\":[{\"type\":\"histogram2dcontour\",\"colorbar\":{\"outlinewidth\":0,\"ticks\":\"\"},\"colorscale\":[[0.0,\"#0d0887\"],[0.1111111111111111,\"#46039f\"],[0.2222222222222222,\"#7201a8\"],[0.3333333333333333,\"#9c179e\"],[0.4444444444444444,\"#bd3786\"],[0.5555555555555556,\"#d8576b\"],[0.6666666666666666,\"#ed7953\"],[0.7777777777777778,\"#fb9f3a\"],[0.8888888888888888,\"#fdca26\"],[1.0,\"#f0f921\"]]}],\"choropleth\":[{\"type\":\"choropleth\",\"colorbar\":{\"outlinewidth\":0,\"ticks\":\"\"}}],\"histogram2d\":[{\"type\":\"histogram2d\",\"colorbar\":{\"outlinewidth\":0,\"ticks\":\"\"},\"colorscale\":[[0.0,\"#0d0887\"],[0.1111111111111111,\"#46039f\"],[0.2222222222222222,\"#7201a8\"],[0.3333333333333333,\"#9c179e\"],[0.4444444444444444,\"#bd3786\"],[0.5555555555555556,\"#d8576b\"],[0.6666666666666666,\"#ed7953\"],[0.7777777777777778,\"#fb9f3a\"],[0.8888888888888888,\"#fdca26\"],[1.0,\"#f0f921\"]]}],\"heatmap\":[{\"type\":\"heatmap\",\"colorbar\":{\"outlinewidth\":0,\"ticks\":\"\"},\"colorscale\":[[0.0,\"#0d0887\"],[0.1111111111111111,\"#46039f\"],[0.2222222222222222,\"#7201a8\"],[0.3333333333333333,\"#9c179e\"],[0.4444444444444444,\"#bd3786\"],[0.5555555555555556,\"#d8576b\"],[0.6666666666666666,\"#ed7953\"],[0.7777777777777778,\"#fb9f3a\"],[0.8888888888888888,\"#fdca26\"],[1.0,\"#f0f921\"]]}],\"heatmapgl\":[{\"type\":\"heatmapgl\",\"colorbar\":{\"outlinewidth\":0,\"ticks\":\"\"},\"colorscale\":[[0.0,\"#0d0887\"],[0.1111111111111111,\"#46039f\"],[0.2222222222222222,\"#7201a8\"],[0.3333333333333333,\"#9c179e\"],[0.4444444444444444,\"#bd3786\"],[0.5555555555555556,\"#d8576b\"],[0.6666666666666666,\"#ed7953\"],[0.7777777777777778,\"#fb9f3a\"],[0.8888888888888888,\"#fdca26\"],[1.0,\"#f0f921\"]]}],\"contourcarpet\":[{\"type\":\"contourcarpet\",\"colorbar\":{\"outlinewidth\":0,\"ticks\":\"\"}}],\"contour\":[{\"type\":\"contour\",\"colorbar\":{\"outlinewidth\":0,\"ticks\":\"\"},\"colorscale\":[[0.0,\"#0d0887\"],[0.1111111111111111,\"#46039f\"],[0.2222222222222222,\"#7201a8\"],[0.3333333333333333,\"#9c179e\"],[0.4444444444444444,\"#bd3786\"],[0.5555555555555556,\"#d8576b\"],[0.6666666666666666,\"#ed7953\"],[0.7777777777777778,\"#fb9f3a\"],[0.8888888888888888,\"#fdca26\"],[1.0,\"#f0f921\"]]}],\"surface\":[{\"type\":\"surface\",\"colorbar\":{\"outlinewidth\":0,\"ticks\":\"\"},\"colorscale\":[[0.0,\"#0d0887\"],[0.1111111111111111,\"#46039f\"],[0.2222222222222222,\"#7201a8\"],[0.3333333333333333,\"#9c179e\"],[0.4444444444444444,\"#bd3786\"],[0.5555555555555556,\"#d8576b\"],[0.6666666666666666,\"#ed7953\"],[0.7777777777777778,\"#fb9f3a\"],[0.8888888888888888,\"#fdca26\"],[1.0,\"#f0f921\"]]}],\"mesh3d\":[{\"type\":\"mesh3d\",\"colorbar\":{\"outlinewidth\":0,\"ticks\":\"\"}}],\"scatter\":[{\"fillpattern\":{\"fillmode\":\"overlay\",\"size\":10,\"solidity\":0.2},\"type\":\"scatter\"}],\"parcoords\":[{\"type\":\"parcoords\",\"line\":{\"colorbar\":{\"outlinewidth\":0,\"ticks\":\"\"}}}],\"scatterpolargl\":[{\"type\":\"scatterpolargl\",\"marker\":{\"colorbar\":{\"outlinewidth\":0,\"ticks\":\"\"}}}],\"bar\":[{\"error_x\":{\"color\":\"#2a3f5f\"},\"error_y\":{\"color\":\"#2a3f5f\"},\"marker\":{\"line\":{\"color\":\"#E5ECF6\",\"width\":0.5},\"pattern\":{\"fillmode\":\"overlay\",\"size\":10,\"solidity\":0.2}},\"type\":\"bar\"}],\"scattergeo\":[{\"type\":\"scattergeo\",\"marker\":{\"colorbar\":{\"outlinewidth\":0,\"ticks\":\"\"}}}],\"scatterpolar\":[{\"type\":\"scatterpolar\",\"marker\":{\"colorbar\":{\"outlinewidth\":0,\"ticks\":\"\"}}}],\"histogram\":[{\"marker\":{\"pattern\":{\"fillmode\":\"overlay\",\"size\":10,\"solidity\":0.2}},\"type\":\"histogram\"}],\"scattergl\":[{\"type\":\"scattergl\",\"marker\":{\"colorbar\":{\"outlinewidth\":0,\"ticks\":\"\"}}}],\"scatter3d\":[{\"type\":\"scatter3d\",\"line\":{\"colorbar\":{\"outlinewidth\":0,\"ticks\":\"\"}},\"marker\":{\"colorbar\":{\"outlinewidth\":0,\"ticks\":\"\"}}}],\"scattermapbox\":[{\"type\":\"scattermapbox\",\"marker\":{\"colorbar\":{\"outlinewidth\":0,\"ticks\":\"\"}}}],\"scatterternary\":[{\"type\":\"scatterternary\",\"marker\":{\"colorbar\":{\"outlinewidth\":0,\"ticks\":\"\"}}}],\"scattercarpet\":[{\"type\":\"scattercarpet\",\"marker\":{\"colorbar\":{\"outlinewidth\":0,\"ticks\":\"\"}}}],\"carpet\":[{\"aaxis\":{\"endlinecolor\":\"#2a3f5f\",\"gridcolor\":\"white\",\"linecolor\":\"white\",\"minorgridcolor\":\"white\",\"startlinecolor\":\"#2a3f5f\"},\"baxis\":{\"endlinecolor\":\"#2a3f5f\",\"gridcolor\":\"white\",\"linecolor\":\"white\",\"minorgridcolor\":\"white\",\"startlinecolor\":\"#2a3f5f\"},\"type\":\"carpet\"}],\"table\":[{\"cells\":{\"fill\":{\"color\":\"#EBF0F8\"},\"line\":{\"color\":\"white\"}},\"header\":{\"fill\":{\"color\":\"#C8D4E3\"},\"line\":{\"color\":\"white\"}},\"type\":\"table\"}],\"barpolar\":[{\"marker\":{\"line\":{\"color\":\"#E5ECF6\",\"width\":0.5},\"pattern\":{\"fillmode\":\"overlay\",\"size\":10,\"solidity\":0.2}},\"type\":\"barpolar\"}],\"pie\":[{\"automargin\":true,\"type\":\"pie\"}]},\"layout\":{\"autotypenumbers\":\"strict\",\"colorway\":[\"#636efa\",\"#EF553B\",\"#00cc96\",\"#ab63fa\",\"#FFA15A\",\"#19d3f3\",\"#FF6692\",\"#B6E880\",\"#FF97FF\",\"#FECB52\"],\"font\":{\"color\":\"#2a3f5f\"},\"hovermode\":\"closest\",\"hoverlabel\":{\"align\":\"left\"},\"paper_bgcolor\":\"white\",\"plot_bgcolor\":\"#E5ECF6\",\"polar\":{\"bgcolor\":\"#E5ECF6\",\"angularaxis\":{\"gridcolor\":\"white\",\"linecolor\":\"white\",\"ticks\":\"\"},\"radialaxis\":{\"gridcolor\":\"white\",\"linecolor\":\"white\",\"ticks\":\"\"}},\"ternary\":{\"bgcolor\":\"#E5ECF6\",\"aaxis\":{\"gridcolor\":\"white\",\"linecolor\":\"white\",\"ticks\":\"\"},\"baxis\":{\"gridcolor\":\"white\",\"linecolor\":\"white\",\"ticks\":\"\"},\"caxis\":{\"gridcolor\":\"white\",\"linecolor\":\"white\",\"ticks\":\"\"}},\"coloraxis\":{\"colorbar\":{\"outlinewidth\":0,\"ticks\":\"\"}},\"colorscale\":{\"sequential\":[[0.0,\"#0d0887\"],[0.1111111111111111,\"#46039f\"],[0.2222222222222222,\"#7201a8\"],[0.3333333333333333,\"#9c179e\"],[0.4444444444444444,\"#bd3786\"],[0.5555555555555556,\"#d8576b\"],[0.6666666666666666,\"#ed7953\"],[0.7777777777777778,\"#fb9f3a\"],[0.8888888888888888,\"#fdca26\"],[1.0,\"#f0f921\"]],\"sequentialminus\":[[0.0,\"#0d0887\"],[0.1111111111111111,\"#46039f\"],[0.2222222222222222,\"#7201a8\"],[0.3333333333333333,\"#9c179e\"],[0.4444444444444444,\"#bd3786\"],[0.5555555555555556,\"#d8576b\"],[0.6666666666666666,\"#ed7953\"],[0.7777777777777778,\"#fb9f3a\"],[0.8888888888888888,\"#fdca26\"],[1.0,\"#f0f921\"]],\"diverging\":[[0,\"#8e0152\"],[0.1,\"#c51b7d\"],[0.2,\"#de77ae\"],[0.3,\"#f1b6da\"],[0.4,\"#fde0ef\"],[0.5,\"#f7f7f7\"],[0.6,\"#e6f5d0\"],[0.7,\"#b8e186\"],[0.8,\"#7fbc41\"],[0.9,\"#4d9221\"],[1,\"#276419\"]]},\"xaxis\":{\"gridcolor\":\"white\",\"linecolor\":\"white\",\"ticks\":\"\",\"title\":{\"standoff\":15},\"zerolinecolor\":\"white\",\"automargin\":true,\"zerolinewidth\":2},\"yaxis\":{\"gridcolor\":\"white\",\"linecolor\":\"white\",\"ticks\":\"\",\"title\":{\"standoff\":15},\"zerolinecolor\":\"white\",\"automargin\":true,\"zerolinewidth\":2},\"scene\":{\"xaxis\":{\"backgroundcolor\":\"#E5ECF6\",\"gridcolor\":\"white\",\"linecolor\":\"white\",\"showbackground\":true,\"ticks\":\"\",\"zerolinecolor\":\"white\",\"gridwidth\":2},\"yaxis\":{\"backgroundcolor\":\"#E5ECF6\",\"gridcolor\":\"white\",\"linecolor\":\"white\",\"showbackground\":true,\"ticks\":\"\",\"zerolinecolor\":\"white\",\"gridwidth\":2},\"zaxis\":{\"backgroundcolor\":\"#E5ECF6\",\"gridcolor\":\"white\",\"linecolor\":\"white\",\"showbackground\":true,\"ticks\":\"\",\"zerolinecolor\":\"white\",\"gridwidth\":2}},\"shapedefaults\":{\"line\":{\"color\":\"#2a3f5f\"}},\"annotationdefaults\":{\"arrowcolor\":\"#2a3f5f\",\"arrowhead\":0,\"arrowwidth\":1},\"geo\":{\"bgcolor\":\"white\",\"landcolor\":\"#E5ECF6\",\"subunitcolor\":\"white\",\"showland\":true,\"showlakes\":true,\"lakecolor\":\"white\"},\"title\":{\"x\":0.05},\"mapbox\":{\"style\":\"light\"}}},\"mapbox\":{\"domain\":{\"x\":[0.0,1.0],\"y\":[0.0,1.0]},\"center\":{\"lat\":40.77,\"lon\":-73.96},\"zoom\":0.7,\"style\":\"stamen-toner\"},\"coloraxis\":{\"colorbar\":{\"title\":{\"text\":\"similarity\"}},\"colorscale\":[[0.0,\"#0d0887\"],[0.1111111111111111,\"#46039f\"],[0.2222222222222222,\"#7201a8\"],[0.3333333333333333,\"#9c179e\"],[0.4444444444444444,\"#bd3786\"],[0.5555555555555556,\"#d8576b\"],[0.6666666666666666,\"#ed7953\"],[0.7777777777777778,\"#fb9f3a\"],[0.8888888888888888,\"#fdca26\"],[1.0,\"#f0f921\"]]},\"legend\":{\"tracegroupgap\":0,\"itemsizing\":\"constant\"},\"margin\":{\"t\":60},\"height\":600,\"width\":1000,\"title\":{\"text\":\"Maps visualization of the most relevant place according to popularity\",\"y\":0.95,\"x\":0.45,\"xanchor\":\"center\",\"yanchor\":\"top\"}},                        {\"responsive\": true}                    ).then(function(){\n",
       "                            \n",
       "var gd = document.getElementById('a8a5205d-420f-436b-be14-509f8c64e6ad');\n",
       "var x = new MutationObserver(function (mutations, observer) {{\n",
       "        var display = window.getComputedStyle(gd).display;\n",
       "        if (!display || display === 'none') {{\n",
       "            console.log([gd, 'removed!']);\n",
       "            Plotly.purge(gd);\n",
       "            observer.disconnect();\n",
       "        }}\n",
       "}});\n",
       "\n",
       "// Listen for the removal of the full notebook cells\n",
       "var notebookContainer = gd.closest('#notebook-container');\n",
       "if (notebookContainer) {{\n",
       "    x.observe(notebookContainer, {childList: true});\n",
       "}}\n",
       "\n",
       "// Listen for the clearing of the current output cell\n",
       "var outputEl = gd.closest('.output');\n",
       "if (outputEl) {{\n",
       "    x.observe(outputEl, {childList: true});\n",
       "}}\n",
       "\n",
       "                        })                };                });            </script>        </div>"
      ]
     },
     "metadata": {},
     "output_type": "display_data"
    }
   ],
   "source": [
    "plot_map(d_popularity, \"Maps visualization of the most relevant place according to popularity\")"
   ]
  },
  {
   "cell_type": "code",
   "execution_count": 51,
   "id": "e0cd2890",
   "metadata": {},
   "outputs": [
    {
     "data": {
      "application/vnd.plotly.v1+json": {
       "config": {
        "plotlyServerURL": "https://plot.ly"
       },
       "data": [
        {
         "customdata": [
          [
           "The Athenian Agora",
           "46 Adrianou, Athens, 105 55, Greece",
           1572,
           768
          ],
          [
           "Antikythera Mechanism",
           "44, Patission Str., National Archaeological Museum of Athens, Athens, 106 82, Greece",
           478,
           869
          ],
          [
           "Petra",
           "On the slope of Mount Hor, Arabah, Jordan",
           1073,
           2050
          ],
          [
           "Cesare Lombroso&#39;s Museum of Criminal Anthropology",
           "University of Turin, Via Pietro Giuria 15, Turin, 10126, Italy",
           133,
           605
          ],
          [
           "Deutsches Jagd und Fischereimuseum (German Museum of Hunting and Fishing)",
           "Neuhauser Straße 2, Munich, 80331, Germany",
           217,
           486
          ],
          [
           "Zwack Unicum Museum",
           "1 Dandár u., Budapest, 1095, Hungary",
           202,
           418
          ],
          [
           "Horniman Museum and Gardens",
           "100 London Rd, Forest Hill, London, England, SE23 3PQ, United Kingdom",
           745,
           1400
          ],
          [
           "PsychoBarn",
           "49-50 Piccadilly, Mayfair, London, England, United Kingdom",
           99,
           493
          ],
          [
           "The Monty Python Foot",
           "National Gallery, Trafalgar Square, London, England, WC2H, United Kingdom",
           455,
           1310
          ],
          [
           "Cabaret Mechanical Theatre",
           "London, England, WC1R, United Kingdom",
           116,
           836
          ]
         ],
         "hovertemplate": "similarity=%{marker.color}<br>lat=%{lat}<br>lon=%{lon}<br>name=%{customdata[0]}<br>address=%{customdata[1]}<br>num_people_visited=%{customdata[2]}<br>num_people_want=%{customdata[3]}<extra></extra>",
         "lat": [
          37.975764,
          37.989167,
          30.328467,
          45.049399,
          48.13845,
          47.475926,
          51.441035,
          51.508858,
          51.508929,
          51.519691
         ],
         "legendgroup": "",
         "lon": [
          23.724734,
          23.7325,
          35.442662,
          7.679334,
          11.57135,
          19.069707,
          -0.061009,
          -0.139271,
          -0.128299,
          -0.116913
         ],
         "marker": {
          "color": [
           0.7575704978509704,
           0.7574903299335733,
           0.7488613041654061,
           0.7480911087538313,
           0.7280240636973123,
           0.7217233285186092,
           0.7154757397095693,
           0.7150985480149852,
           0.7150982676224112,
           0.7150386201389748
          ],
          "coloraxis": "coloraxis",
          "size": [
           0.7575704978509704,
           0.7574903299335733,
           0.7488613041654061,
           0.7480911087538313,
           0.7280240636973123,
           0.7217233285186092,
           0.7154757397095693,
           0.7150985480149852,
           0.7150982676224112,
           0.7150386201389748
          ],
          "sizemode": "area",
          "sizeref": 0.001893926244627426
         },
         "mode": "markers",
         "name": "",
         "showlegend": false,
         "subplot": "mapbox",
         "type": "scattermapbox"
        }
       ],
       "layout": {
        "coloraxis": {
         "colorbar": {
          "title": {
           "text": "similarity"
          }
         },
         "colorscale": [
          [
           0,
           "#0d0887"
          ],
          [
           0.1111111111111111,
           "#46039f"
          ],
          [
           0.2222222222222222,
           "#7201a8"
          ],
          [
           0.3333333333333333,
           "#9c179e"
          ],
          [
           0.4444444444444444,
           "#bd3786"
          ],
          [
           0.5555555555555556,
           "#d8576b"
          ],
          [
           0.6666666666666666,
           "#ed7953"
          ],
          [
           0.7777777777777778,
           "#fb9f3a"
          ],
          [
           0.8888888888888888,
           "#fdca26"
          ],
          [
           1,
           "#f0f921"
          ]
         ]
        },
        "height": 600,
        "legend": {
         "itemsizing": "constant",
         "tracegroupgap": 0
        },
        "mapbox": {
         "center": {
          "lat": 40.77,
          "lon": -73.96
         },
         "domain": {
          "x": [
           0,
           1
          ],
          "y": [
           0,
           1
          ]
         },
         "style": "stamen-toner",
         "zoom": 0.7
        },
        "margin": {
         "t": 60
        },
        "template": {
         "data": {
          "bar": [
           {
            "error_x": {
             "color": "#2a3f5f"
            },
            "error_y": {
             "color": "#2a3f5f"
            },
            "marker": {
             "line": {
              "color": "#E5ECF6",
              "width": 0.5
             },
             "pattern": {
              "fillmode": "overlay",
              "size": 10,
              "solidity": 0.2
             }
            },
            "type": "bar"
           }
          ],
          "barpolar": [
           {
            "marker": {
             "line": {
              "color": "#E5ECF6",
              "width": 0.5
             },
             "pattern": {
              "fillmode": "overlay",
              "size": 10,
              "solidity": 0.2
             }
            },
            "type": "barpolar"
           }
          ],
          "carpet": [
           {
            "aaxis": {
             "endlinecolor": "#2a3f5f",
             "gridcolor": "white",
             "linecolor": "white",
             "minorgridcolor": "white",
             "startlinecolor": "#2a3f5f"
            },
            "baxis": {
             "endlinecolor": "#2a3f5f",
             "gridcolor": "white",
             "linecolor": "white",
             "minorgridcolor": "white",
             "startlinecolor": "#2a3f5f"
            },
            "type": "carpet"
           }
          ],
          "choropleth": [
           {
            "colorbar": {
             "outlinewidth": 0,
             "ticks": ""
            },
            "type": "choropleth"
           }
          ],
          "contour": [
           {
            "colorbar": {
             "outlinewidth": 0,
             "ticks": ""
            },
            "colorscale": [
             [
              0,
              "#0d0887"
             ],
             [
              0.1111111111111111,
              "#46039f"
             ],
             [
              0.2222222222222222,
              "#7201a8"
             ],
             [
              0.3333333333333333,
              "#9c179e"
             ],
             [
              0.4444444444444444,
              "#bd3786"
             ],
             [
              0.5555555555555556,
              "#d8576b"
             ],
             [
              0.6666666666666666,
              "#ed7953"
             ],
             [
              0.7777777777777778,
              "#fb9f3a"
             ],
             [
              0.8888888888888888,
              "#fdca26"
             ],
             [
              1,
              "#f0f921"
             ]
            ],
            "type": "contour"
           }
          ],
          "contourcarpet": [
           {
            "colorbar": {
             "outlinewidth": 0,
             "ticks": ""
            },
            "type": "contourcarpet"
           }
          ],
          "heatmap": [
           {
            "colorbar": {
             "outlinewidth": 0,
             "ticks": ""
            },
            "colorscale": [
             [
              0,
              "#0d0887"
             ],
             [
              0.1111111111111111,
              "#46039f"
             ],
             [
              0.2222222222222222,
              "#7201a8"
             ],
             [
              0.3333333333333333,
              "#9c179e"
             ],
             [
              0.4444444444444444,
              "#bd3786"
             ],
             [
              0.5555555555555556,
              "#d8576b"
             ],
             [
              0.6666666666666666,
              "#ed7953"
             ],
             [
              0.7777777777777778,
              "#fb9f3a"
             ],
             [
              0.8888888888888888,
              "#fdca26"
             ],
             [
              1,
              "#f0f921"
             ]
            ],
            "type": "heatmap"
           }
          ],
          "heatmapgl": [
           {
            "colorbar": {
             "outlinewidth": 0,
             "ticks": ""
            },
            "colorscale": [
             [
              0,
              "#0d0887"
             ],
             [
              0.1111111111111111,
              "#46039f"
             ],
             [
              0.2222222222222222,
              "#7201a8"
             ],
             [
              0.3333333333333333,
              "#9c179e"
             ],
             [
              0.4444444444444444,
              "#bd3786"
             ],
             [
              0.5555555555555556,
              "#d8576b"
             ],
             [
              0.6666666666666666,
              "#ed7953"
             ],
             [
              0.7777777777777778,
              "#fb9f3a"
             ],
             [
              0.8888888888888888,
              "#fdca26"
             ],
             [
              1,
              "#f0f921"
             ]
            ],
            "type": "heatmapgl"
           }
          ],
          "histogram": [
           {
            "marker": {
             "pattern": {
              "fillmode": "overlay",
              "size": 10,
              "solidity": 0.2
             }
            },
            "type": "histogram"
           }
          ],
          "histogram2d": [
           {
            "colorbar": {
             "outlinewidth": 0,
             "ticks": ""
            },
            "colorscale": [
             [
              0,
              "#0d0887"
             ],
             [
              0.1111111111111111,
              "#46039f"
             ],
             [
              0.2222222222222222,
              "#7201a8"
             ],
             [
              0.3333333333333333,
              "#9c179e"
             ],
             [
              0.4444444444444444,
              "#bd3786"
             ],
             [
              0.5555555555555556,
              "#d8576b"
             ],
             [
              0.6666666666666666,
              "#ed7953"
             ],
             [
              0.7777777777777778,
              "#fb9f3a"
             ],
             [
              0.8888888888888888,
              "#fdca26"
             ],
             [
              1,
              "#f0f921"
             ]
            ],
            "type": "histogram2d"
           }
          ],
          "histogram2dcontour": [
           {
            "colorbar": {
             "outlinewidth": 0,
             "ticks": ""
            },
            "colorscale": [
             [
              0,
              "#0d0887"
             ],
             [
              0.1111111111111111,
              "#46039f"
             ],
             [
              0.2222222222222222,
              "#7201a8"
             ],
             [
              0.3333333333333333,
              "#9c179e"
             ],
             [
              0.4444444444444444,
              "#bd3786"
             ],
             [
              0.5555555555555556,
              "#d8576b"
             ],
             [
              0.6666666666666666,
              "#ed7953"
             ],
             [
              0.7777777777777778,
              "#fb9f3a"
             ],
             [
              0.8888888888888888,
              "#fdca26"
             ],
             [
              1,
              "#f0f921"
             ]
            ],
            "type": "histogram2dcontour"
           }
          ],
          "mesh3d": [
           {
            "colorbar": {
             "outlinewidth": 0,
             "ticks": ""
            },
            "type": "mesh3d"
           }
          ],
          "parcoords": [
           {
            "line": {
             "colorbar": {
              "outlinewidth": 0,
              "ticks": ""
             }
            },
            "type": "parcoords"
           }
          ],
          "pie": [
           {
            "automargin": true,
            "type": "pie"
           }
          ],
          "scatter": [
           {
            "fillpattern": {
             "fillmode": "overlay",
             "size": 10,
             "solidity": 0.2
            },
            "type": "scatter"
           }
          ],
          "scatter3d": [
           {
            "line": {
             "colorbar": {
              "outlinewidth": 0,
              "ticks": ""
             }
            },
            "marker": {
             "colorbar": {
              "outlinewidth": 0,
              "ticks": ""
             }
            },
            "type": "scatter3d"
           }
          ],
          "scattercarpet": [
           {
            "marker": {
             "colorbar": {
              "outlinewidth": 0,
              "ticks": ""
             }
            },
            "type": "scattercarpet"
           }
          ],
          "scattergeo": [
           {
            "marker": {
             "colorbar": {
              "outlinewidth": 0,
              "ticks": ""
             }
            },
            "type": "scattergeo"
           }
          ],
          "scattergl": [
           {
            "marker": {
             "colorbar": {
              "outlinewidth": 0,
              "ticks": ""
             }
            },
            "type": "scattergl"
           }
          ],
          "scattermapbox": [
           {
            "marker": {
             "colorbar": {
              "outlinewidth": 0,
              "ticks": ""
             }
            },
            "type": "scattermapbox"
           }
          ],
          "scatterpolar": [
           {
            "marker": {
             "colorbar": {
              "outlinewidth": 0,
              "ticks": ""
             }
            },
            "type": "scatterpolar"
           }
          ],
          "scatterpolargl": [
           {
            "marker": {
             "colorbar": {
              "outlinewidth": 0,
              "ticks": ""
             }
            },
            "type": "scatterpolargl"
           }
          ],
          "scatterternary": [
           {
            "marker": {
             "colorbar": {
              "outlinewidth": 0,
              "ticks": ""
             }
            },
            "type": "scatterternary"
           }
          ],
          "surface": [
           {
            "colorbar": {
             "outlinewidth": 0,
             "ticks": ""
            },
            "colorscale": [
             [
              0,
              "#0d0887"
             ],
             [
              0.1111111111111111,
              "#46039f"
             ],
             [
              0.2222222222222222,
              "#7201a8"
             ],
             [
              0.3333333333333333,
              "#9c179e"
             ],
             [
              0.4444444444444444,
              "#bd3786"
             ],
             [
              0.5555555555555556,
              "#d8576b"
             ],
             [
              0.6666666666666666,
              "#ed7953"
             ],
             [
              0.7777777777777778,
              "#fb9f3a"
             ],
             [
              0.8888888888888888,
              "#fdca26"
             ],
             [
              1,
              "#f0f921"
             ]
            ],
            "type": "surface"
           }
          ],
          "table": [
           {
            "cells": {
             "fill": {
              "color": "#EBF0F8"
             },
             "line": {
              "color": "white"
             }
            },
            "header": {
             "fill": {
              "color": "#C8D4E3"
             },
             "line": {
              "color": "white"
             }
            },
            "type": "table"
           }
          ]
         },
         "layout": {
          "annotationdefaults": {
           "arrowcolor": "#2a3f5f",
           "arrowhead": 0,
           "arrowwidth": 1
          },
          "autotypenumbers": "strict",
          "coloraxis": {
           "colorbar": {
            "outlinewidth": 0,
            "ticks": ""
           }
          },
          "colorscale": {
           "diverging": [
            [
             0,
             "#8e0152"
            ],
            [
             0.1,
             "#c51b7d"
            ],
            [
             0.2,
             "#de77ae"
            ],
            [
             0.3,
             "#f1b6da"
            ],
            [
             0.4,
             "#fde0ef"
            ],
            [
             0.5,
             "#f7f7f7"
            ],
            [
             0.6,
             "#e6f5d0"
            ],
            [
             0.7,
             "#b8e186"
            ],
            [
             0.8,
             "#7fbc41"
            ],
            [
             0.9,
             "#4d9221"
            ],
            [
             1,
             "#276419"
            ]
           ],
           "sequential": [
            [
             0,
             "#0d0887"
            ],
            [
             0.1111111111111111,
             "#46039f"
            ],
            [
             0.2222222222222222,
             "#7201a8"
            ],
            [
             0.3333333333333333,
             "#9c179e"
            ],
            [
             0.4444444444444444,
             "#bd3786"
            ],
            [
             0.5555555555555556,
             "#d8576b"
            ],
            [
             0.6666666666666666,
             "#ed7953"
            ],
            [
             0.7777777777777778,
             "#fb9f3a"
            ],
            [
             0.8888888888888888,
             "#fdca26"
            ],
            [
             1,
             "#f0f921"
            ]
           ],
           "sequentialminus": [
            [
             0,
             "#0d0887"
            ],
            [
             0.1111111111111111,
             "#46039f"
            ],
            [
             0.2222222222222222,
             "#7201a8"
            ],
            [
             0.3333333333333333,
             "#9c179e"
            ],
            [
             0.4444444444444444,
             "#bd3786"
            ],
            [
             0.5555555555555556,
             "#d8576b"
            ],
            [
             0.6666666666666666,
             "#ed7953"
            ],
            [
             0.7777777777777778,
             "#fb9f3a"
            ],
            [
             0.8888888888888888,
             "#fdca26"
            ],
            [
             1,
             "#f0f921"
            ]
           ]
          },
          "colorway": [
           "#636efa",
           "#EF553B",
           "#00cc96",
           "#ab63fa",
           "#FFA15A",
           "#19d3f3",
           "#FF6692",
           "#B6E880",
           "#FF97FF",
           "#FECB52"
          ],
          "font": {
           "color": "#2a3f5f"
          },
          "geo": {
           "bgcolor": "white",
           "lakecolor": "white",
           "landcolor": "#E5ECF6",
           "showlakes": true,
           "showland": true,
           "subunitcolor": "white"
          },
          "hoverlabel": {
           "align": "left"
          },
          "hovermode": "closest",
          "mapbox": {
           "style": "light"
          },
          "paper_bgcolor": "white",
          "plot_bgcolor": "#E5ECF6",
          "polar": {
           "angularaxis": {
            "gridcolor": "white",
            "linecolor": "white",
            "ticks": ""
           },
           "bgcolor": "#E5ECF6",
           "radialaxis": {
            "gridcolor": "white",
            "linecolor": "white",
            "ticks": ""
           }
          },
          "scene": {
           "xaxis": {
            "backgroundcolor": "#E5ECF6",
            "gridcolor": "white",
            "gridwidth": 2,
            "linecolor": "white",
            "showbackground": true,
            "ticks": "",
            "zerolinecolor": "white"
           },
           "yaxis": {
            "backgroundcolor": "#E5ECF6",
            "gridcolor": "white",
            "gridwidth": 2,
            "linecolor": "white",
            "showbackground": true,
            "ticks": "",
            "zerolinecolor": "white"
           },
           "zaxis": {
            "backgroundcolor": "#E5ECF6",
            "gridcolor": "white",
            "gridwidth": 2,
            "linecolor": "white",
            "showbackground": true,
            "ticks": "",
            "zerolinecolor": "white"
           }
          },
          "shapedefaults": {
           "line": {
            "color": "#2a3f5f"
           }
          },
          "ternary": {
           "aaxis": {
            "gridcolor": "white",
            "linecolor": "white",
            "ticks": ""
           },
           "baxis": {
            "gridcolor": "white",
            "linecolor": "white",
            "ticks": ""
           },
           "bgcolor": "#E5ECF6",
           "caxis": {
            "gridcolor": "white",
            "linecolor": "white",
            "ticks": ""
           }
          },
          "title": {
           "x": 0.05
          },
          "xaxis": {
           "automargin": true,
           "gridcolor": "white",
           "linecolor": "white",
           "ticks": "",
           "title": {
            "standoff": 15
           },
           "zerolinecolor": "white",
           "zerolinewidth": 2
          },
          "yaxis": {
           "automargin": true,
           "gridcolor": "white",
           "linecolor": "white",
           "ticks": "",
           "title": {
            "standoff": 15
           },
           "zerolinecolor": "white",
           "zerolinewidth": 2
          }
         }
        },
        "title": {
         "text": "Maps visualization of the most relevant place according to proximity",
         "x": 0.45,
         "xanchor": "center",
         "y": 0.95,
         "yanchor": "top"
        },
        "width": 1000
       }
      },
      "text/html": [
       "<div>                            <div id=\"103d40b3-79fe-4b5c-92bf-cdafc13cadf3\" class=\"plotly-graph-div\" style=\"height:600px; width:1000px;\"></div>            <script type=\"text/javascript\">                require([\"plotly\"], function(Plotly) {                    window.PLOTLYENV=window.PLOTLYENV || {};                                    if (document.getElementById(\"103d40b3-79fe-4b5c-92bf-cdafc13cadf3\")) {                    Plotly.newPlot(                        \"103d40b3-79fe-4b5c-92bf-cdafc13cadf3\",                        [{\"customdata\":[[\"The Athenian Agora\",\"46 Adrianou, Athens, 105 55, Greece\",1572,768],[\"Antikythera Mechanism\",\"44, Patission Str., National Archaeological Museum of Athens, Athens, 106 82, Greece\",478,869],[\"Petra\",\"On the slope of Mount Hor, Arabah, Jordan\",1073,2050],[\"Cesare Lombroso&#39;s Museum of Criminal Anthropology\",\"University of Turin, Via Pietro Giuria 15, Turin, 10126, Italy\",133,605],[\"Deutsches Jagd und Fischereimuseum (German Museum of Hunting and Fishing)\",\"Neuhauser Stra\\u00dfe 2, Munich, 80331, Germany\",217,486],[\"Zwack Unicum Museum\",\"1 Dand\\u00e1r u., Budapest, 1095, Hungary\",202,418],[\"Horniman Museum and Gardens\",\"100 London Rd, Forest Hill, London, England, SE23 3PQ, United Kingdom\",745,1400],[\"PsychoBarn\",\"49-50 Piccadilly, Mayfair, London, England, United Kingdom\",99,493],[\"The Monty Python Foot\",\"National Gallery, Trafalgar Square, London, England, WC2H, United Kingdom\",455,1310],[\"Cabaret Mechanical Theatre\",\"London, England, WC1R, United Kingdom\",116,836]],\"hovertemplate\":\"similarity=%{marker.color}<br>lat=%{lat}<br>lon=%{lon}<br>name=%{customdata[0]}<br>address=%{customdata[1]}<br>num_people_visited=%{customdata[2]}<br>num_people_want=%{customdata[3]}<extra></extra>\",\"lat\":[37.975764,37.989167,30.328467,45.049399,48.13845,47.475926,51.441035,51.508858,51.508929,51.519691],\"legendgroup\":\"\",\"lon\":[23.724734,23.7325,35.442662,7.679334,11.57135,19.069707,-0.061009,-0.139271,-0.128299,-0.116913],\"marker\":{\"color\":[0.7575704978509704,0.7574903299335733,0.7488613041654061,0.7480911087538313,0.7280240636973123,0.7217233285186092,0.7154757397095693,0.7150985480149852,0.7150982676224112,0.7150386201389748],\"coloraxis\":\"coloraxis\",\"size\":[0.7575704978509704,0.7574903299335733,0.7488613041654061,0.7480911087538313,0.7280240636973123,0.7217233285186092,0.7154757397095693,0.7150985480149852,0.7150982676224112,0.7150386201389748],\"sizemode\":\"area\",\"sizeref\":0.001893926244627426},\"mode\":\"markers\",\"name\":\"\",\"showlegend\":false,\"subplot\":\"mapbox\",\"type\":\"scattermapbox\"}],                        {\"template\":{\"data\":{\"histogram2dcontour\":[{\"type\":\"histogram2dcontour\",\"colorbar\":{\"outlinewidth\":0,\"ticks\":\"\"},\"colorscale\":[[0.0,\"#0d0887\"],[0.1111111111111111,\"#46039f\"],[0.2222222222222222,\"#7201a8\"],[0.3333333333333333,\"#9c179e\"],[0.4444444444444444,\"#bd3786\"],[0.5555555555555556,\"#d8576b\"],[0.6666666666666666,\"#ed7953\"],[0.7777777777777778,\"#fb9f3a\"],[0.8888888888888888,\"#fdca26\"],[1.0,\"#f0f921\"]]}],\"choropleth\":[{\"type\":\"choropleth\",\"colorbar\":{\"outlinewidth\":0,\"ticks\":\"\"}}],\"histogram2d\":[{\"type\":\"histogram2d\",\"colorbar\":{\"outlinewidth\":0,\"ticks\":\"\"},\"colorscale\":[[0.0,\"#0d0887\"],[0.1111111111111111,\"#46039f\"],[0.2222222222222222,\"#7201a8\"],[0.3333333333333333,\"#9c179e\"],[0.4444444444444444,\"#bd3786\"],[0.5555555555555556,\"#d8576b\"],[0.6666666666666666,\"#ed7953\"],[0.7777777777777778,\"#fb9f3a\"],[0.8888888888888888,\"#fdca26\"],[1.0,\"#f0f921\"]]}],\"heatmap\":[{\"type\":\"heatmap\",\"colorbar\":{\"outlinewidth\":0,\"ticks\":\"\"},\"colorscale\":[[0.0,\"#0d0887\"],[0.1111111111111111,\"#46039f\"],[0.2222222222222222,\"#7201a8\"],[0.3333333333333333,\"#9c179e\"],[0.4444444444444444,\"#bd3786\"],[0.5555555555555556,\"#d8576b\"],[0.6666666666666666,\"#ed7953\"],[0.7777777777777778,\"#fb9f3a\"],[0.8888888888888888,\"#fdca26\"],[1.0,\"#f0f921\"]]}],\"heatmapgl\":[{\"type\":\"heatmapgl\",\"colorbar\":{\"outlinewidth\":0,\"ticks\":\"\"},\"colorscale\":[[0.0,\"#0d0887\"],[0.1111111111111111,\"#46039f\"],[0.2222222222222222,\"#7201a8\"],[0.3333333333333333,\"#9c179e\"],[0.4444444444444444,\"#bd3786\"],[0.5555555555555556,\"#d8576b\"],[0.6666666666666666,\"#ed7953\"],[0.7777777777777778,\"#fb9f3a\"],[0.8888888888888888,\"#fdca26\"],[1.0,\"#f0f921\"]]}],\"contourcarpet\":[{\"type\":\"contourcarpet\",\"colorbar\":{\"outlinewidth\":0,\"ticks\":\"\"}}],\"contour\":[{\"type\":\"contour\",\"colorbar\":{\"outlinewidth\":0,\"ticks\":\"\"},\"colorscale\":[[0.0,\"#0d0887\"],[0.1111111111111111,\"#46039f\"],[0.2222222222222222,\"#7201a8\"],[0.3333333333333333,\"#9c179e\"],[0.4444444444444444,\"#bd3786\"],[0.5555555555555556,\"#d8576b\"],[0.6666666666666666,\"#ed7953\"],[0.7777777777777778,\"#fb9f3a\"],[0.8888888888888888,\"#fdca26\"],[1.0,\"#f0f921\"]]}],\"surface\":[{\"type\":\"surface\",\"colorbar\":{\"outlinewidth\":0,\"ticks\":\"\"},\"colorscale\":[[0.0,\"#0d0887\"],[0.1111111111111111,\"#46039f\"],[0.2222222222222222,\"#7201a8\"],[0.3333333333333333,\"#9c179e\"],[0.4444444444444444,\"#bd3786\"],[0.5555555555555556,\"#d8576b\"],[0.6666666666666666,\"#ed7953\"],[0.7777777777777778,\"#fb9f3a\"],[0.8888888888888888,\"#fdca26\"],[1.0,\"#f0f921\"]]}],\"mesh3d\":[{\"type\":\"mesh3d\",\"colorbar\":{\"outlinewidth\":0,\"ticks\":\"\"}}],\"scatter\":[{\"fillpattern\":{\"fillmode\":\"overlay\",\"size\":10,\"solidity\":0.2},\"type\":\"scatter\"}],\"parcoords\":[{\"type\":\"parcoords\",\"line\":{\"colorbar\":{\"outlinewidth\":0,\"ticks\":\"\"}}}],\"scatterpolargl\":[{\"type\":\"scatterpolargl\",\"marker\":{\"colorbar\":{\"outlinewidth\":0,\"ticks\":\"\"}}}],\"bar\":[{\"error_x\":{\"color\":\"#2a3f5f\"},\"error_y\":{\"color\":\"#2a3f5f\"},\"marker\":{\"line\":{\"color\":\"#E5ECF6\",\"width\":0.5},\"pattern\":{\"fillmode\":\"overlay\",\"size\":10,\"solidity\":0.2}},\"type\":\"bar\"}],\"scattergeo\":[{\"type\":\"scattergeo\",\"marker\":{\"colorbar\":{\"outlinewidth\":0,\"ticks\":\"\"}}}],\"scatterpolar\":[{\"type\":\"scatterpolar\",\"marker\":{\"colorbar\":{\"outlinewidth\":0,\"ticks\":\"\"}}}],\"histogram\":[{\"marker\":{\"pattern\":{\"fillmode\":\"overlay\",\"size\":10,\"solidity\":0.2}},\"type\":\"histogram\"}],\"scattergl\":[{\"type\":\"scattergl\",\"marker\":{\"colorbar\":{\"outlinewidth\":0,\"ticks\":\"\"}}}],\"scatter3d\":[{\"type\":\"scatter3d\",\"line\":{\"colorbar\":{\"outlinewidth\":0,\"ticks\":\"\"}},\"marker\":{\"colorbar\":{\"outlinewidth\":0,\"ticks\":\"\"}}}],\"scattermapbox\":[{\"type\":\"scattermapbox\",\"marker\":{\"colorbar\":{\"outlinewidth\":0,\"ticks\":\"\"}}}],\"scatterternary\":[{\"type\":\"scatterternary\",\"marker\":{\"colorbar\":{\"outlinewidth\":0,\"ticks\":\"\"}}}],\"scattercarpet\":[{\"type\":\"scattercarpet\",\"marker\":{\"colorbar\":{\"outlinewidth\":0,\"ticks\":\"\"}}}],\"carpet\":[{\"aaxis\":{\"endlinecolor\":\"#2a3f5f\",\"gridcolor\":\"white\",\"linecolor\":\"white\",\"minorgridcolor\":\"white\",\"startlinecolor\":\"#2a3f5f\"},\"baxis\":{\"endlinecolor\":\"#2a3f5f\",\"gridcolor\":\"white\",\"linecolor\":\"white\",\"minorgridcolor\":\"white\",\"startlinecolor\":\"#2a3f5f\"},\"type\":\"carpet\"}],\"table\":[{\"cells\":{\"fill\":{\"color\":\"#EBF0F8\"},\"line\":{\"color\":\"white\"}},\"header\":{\"fill\":{\"color\":\"#C8D4E3\"},\"line\":{\"color\":\"white\"}},\"type\":\"table\"}],\"barpolar\":[{\"marker\":{\"line\":{\"color\":\"#E5ECF6\",\"width\":0.5},\"pattern\":{\"fillmode\":\"overlay\",\"size\":10,\"solidity\":0.2}},\"type\":\"barpolar\"}],\"pie\":[{\"automargin\":true,\"type\":\"pie\"}]},\"layout\":{\"autotypenumbers\":\"strict\",\"colorway\":[\"#636efa\",\"#EF553B\",\"#00cc96\",\"#ab63fa\",\"#FFA15A\",\"#19d3f3\",\"#FF6692\",\"#B6E880\",\"#FF97FF\",\"#FECB52\"],\"font\":{\"color\":\"#2a3f5f\"},\"hovermode\":\"closest\",\"hoverlabel\":{\"align\":\"left\"},\"paper_bgcolor\":\"white\",\"plot_bgcolor\":\"#E5ECF6\",\"polar\":{\"bgcolor\":\"#E5ECF6\",\"angularaxis\":{\"gridcolor\":\"white\",\"linecolor\":\"white\",\"ticks\":\"\"},\"radialaxis\":{\"gridcolor\":\"white\",\"linecolor\":\"white\",\"ticks\":\"\"}},\"ternary\":{\"bgcolor\":\"#E5ECF6\",\"aaxis\":{\"gridcolor\":\"white\",\"linecolor\":\"white\",\"ticks\":\"\"},\"baxis\":{\"gridcolor\":\"white\",\"linecolor\":\"white\",\"ticks\":\"\"},\"caxis\":{\"gridcolor\":\"white\",\"linecolor\":\"white\",\"ticks\":\"\"}},\"coloraxis\":{\"colorbar\":{\"outlinewidth\":0,\"ticks\":\"\"}},\"colorscale\":{\"sequential\":[[0.0,\"#0d0887\"],[0.1111111111111111,\"#46039f\"],[0.2222222222222222,\"#7201a8\"],[0.3333333333333333,\"#9c179e\"],[0.4444444444444444,\"#bd3786\"],[0.5555555555555556,\"#d8576b\"],[0.6666666666666666,\"#ed7953\"],[0.7777777777777778,\"#fb9f3a\"],[0.8888888888888888,\"#fdca26\"],[1.0,\"#f0f921\"]],\"sequentialminus\":[[0.0,\"#0d0887\"],[0.1111111111111111,\"#46039f\"],[0.2222222222222222,\"#7201a8\"],[0.3333333333333333,\"#9c179e\"],[0.4444444444444444,\"#bd3786\"],[0.5555555555555556,\"#d8576b\"],[0.6666666666666666,\"#ed7953\"],[0.7777777777777778,\"#fb9f3a\"],[0.8888888888888888,\"#fdca26\"],[1.0,\"#f0f921\"]],\"diverging\":[[0,\"#8e0152\"],[0.1,\"#c51b7d\"],[0.2,\"#de77ae\"],[0.3,\"#f1b6da\"],[0.4,\"#fde0ef\"],[0.5,\"#f7f7f7\"],[0.6,\"#e6f5d0\"],[0.7,\"#b8e186\"],[0.8,\"#7fbc41\"],[0.9,\"#4d9221\"],[1,\"#276419\"]]},\"xaxis\":{\"gridcolor\":\"white\",\"linecolor\":\"white\",\"ticks\":\"\",\"title\":{\"standoff\":15},\"zerolinecolor\":\"white\",\"automargin\":true,\"zerolinewidth\":2},\"yaxis\":{\"gridcolor\":\"white\",\"linecolor\":\"white\",\"ticks\":\"\",\"title\":{\"standoff\":15},\"zerolinecolor\":\"white\",\"automargin\":true,\"zerolinewidth\":2},\"scene\":{\"xaxis\":{\"backgroundcolor\":\"#E5ECF6\",\"gridcolor\":\"white\",\"linecolor\":\"white\",\"showbackground\":true,\"ticks\":\"\",\"zerolinecolor\":\"white\",\"gridwidth\":2},\"yaxis\":{\"backgroundcolor\":\"#E5ECF6\",\"gridcolor\":\"white\",\"linecolor\":\"white\",\"showbackground\":true,\"ticks\":\"\",\"zerolinecolor\":\"white\",\"gridwidth\":2},\"zaxis\":{\"backgroundcolor\":\"#E5ECF6\",\"gridcolor\":\"white\",\"linecolor\":\"white\",\"showbackground\":true,\"ticks\":\"\",\"zerolinecolor\":\"white\",\"gridwidth\":2}},\"shapedefaults\":{\"line\":{\"color\":\"#2a3f5f\"}},\"annotationdefaults\":{\"arrowcolor\":\"#2a3f5f\",\"arrowhead\":0,\"arrowwidth\":1},\"geo\":{\"bgcolor\":\"white\",\"landcolor\":\"#E5ECF6\",\"subunitcolor\":\"white\",\"showland\":true,\"showlakes\":true,\"lakecolor\":\"white\"},\"title\":{\"x\":0.05},\"mapbox\":{\"style\":\"light\"}}},\"mapbox\":{\"domain\":{\"x\":[0.0,1.0],\"y\":[0.0,1.0]},\"center\":{\"lat\":40.77,\"lon\":-73.96},\"zoom\":0.7,\"style\":\"stamen-toner\"},\"coloraxis\":{\"colorbar\":{\"title\":{\"text\":\"similarity\"}},\"colorscale\":[[0.0,\"#0d0887\"],[0.1111111111111111,\"#46039f\"],[0.2222222222222222,\"#7201a8\"],[0.3333333333333333,\"#9c179e\"],[0.4444444444444444,\"#bd3786\"],[0.5555555555555556,\"#d8576b\"],[0.6666666666666666,\"#ed7953\"],[0.7777777777777778,\"#fb9f3a\"],[0.8888888888888888,\"#fdca26\"],[1.0,\"#f0f921\"]]},\"legend\":{\"tracegroupgap\":0,\"itemsizing\":\"constant\"},\"margin\":{\"t\":60},\"height\":600,\"width\":1000,\"title\":{\"text\":\"Maps visualization of the most relevant place according to proximity\",\"y\":0.95,\"x\":0.45,\"xanchor\":\"center\",\"yanchor\":\"top\"}},                        {\"responsive\": true}                    ).then(function(){\n",
       "                            \n",
       "var gd = document.getElementById('103d40b3-79fe-4b5c-92bf-cdafc13cadf3');\n",
       "var x = new MutationObserver(function (mutations, observer) {{\n",
       "        var display = window.getComputedStyle(gd).display;\n",
       "        if (!display || display === 'none') {{\n",
       "            console.log([gd, 'removed!']);\n",
       "            Plotly.purge(gd);\n",
       "            observer.disconnect();\n",
       "        }}\n",
       "}});\n",
       "\n",
       "// Listen for the removal of the full notebook cells\n",
       "var notebookContainer = gd.closest('#notebook-container');\n",
       "if (notebookContainer) {{\n",
       "    x.observe(notebookContainer, {childList: true});\n",
       "}}\n",
       "\n",
       "// Listen for the clearing of the current output cell\n",
       "var outputEl = gd.closest('.output');\n",
       "if (outputEl) {{\n",
       "    x.observe(outputEl, {childList: true});\n",
       "}}\n",
       "\n",
       "                        })                };                });            </script>        </div>"
      ]
     },
     "metadata": {},
     "output_type": "display_data"
    }
   ],
   "source": [
    "plot_map(d_proximity, \"Maps visualization of the most relevant place according to proximity\")"
   ]
  },
  {
   "cell_type": "code",
   "execution_count": 52,
   "id": "9089a187",
   "metadata": {
    "scrolled": true
   },
   "outputs": [
    {
     "data": {
      "application/vnd.plotly.v1+json": {
       "config": {
        "plotlyServerURL": "https://plot.ly"
       },
       "data": [
        {
         "customdata": [
          [
           "The Witch House of Salem",
           "310 1/2 Essex Street, Salem, Massachusetts, 01970, United States",
           3177,
           3972
          ],
          [
           "Blue Mustang",
           "Peña Blvd, Denver, Colorado, 80249, United States",
           3500,
           1181
          ],
          [
           "Petra",
           "On the slope of Mount Hor, Arabah, Jordan",
           1073,
           2050
          ],
          [
           "The Natural Bridge",
           "15 Appledore Lane, Natural Bridge, Virginia, 24578, United States",
           1724,
           2269
          ],
          [
           "The Athenian Agora",
           "46 Adrianou, Athens, 105 55, Greece",
           1572,
           768
          ],
          [
           "Crazy Horse Memorial",
           "12151 Avenue of the Chiefs, Custer, South Dakota, 57730, United States",
           2606,
           1398
          ],
          [
           "Biosphere of Montreal",
           "160, Chemin Tour-de-l'Isle, Île Sainte-Hélène, Montreal, Québec, H3C 0K7, Canada",
           1550,
           1407
          ],
          [
           "KattenKabinet",
           "497 Herengracht, Amsterdam, Netherlands",
           617,
           2186
          ],
          [
           "Uncommon Objects",
           "1602 Fortview, Austin, Texas, 78704, United States",
           1467,
           2248
          ],
          [
           "U-505",
           "5700 S. Lake Shore Drive, Chicago, Illinois, 60637, United States",
           2061,
           748
          ]
         ],
         "hovertemplate": "similarity=%{marker.color}<br>lat=%{lat}<br>lon=%{lon}<br>name=%{customdata[0]}<br>address=%{customdata[1]}<br>num_people_visited=%{customdata[2]}<br>num_people_want=%{customdata[3]}<extra></extra>",
         "lat": [
          42.521507,
          39.834223,
          30.328467,
          37.6282,
          37.975764,
          43.836789,
          45.518988,
          52.365629,
          30.229086,
          41.790609
         ],
         "legendgroup": "",
         "lon": [
          -70.898894,
          -104.675916,
          35.442662,
          -79.544653,
          23.724734,
          -103.624386,
          -73.534194,
          4.891552,
          -97.783036,
          -87.583059
         ],
         "marker": {
          "color": [
           0.013849254353369762,
           0.008031323993459285,
           0.007397293117161339,
           0.007258640796616202,
           0.006693624658640214,
           0.006672783601587576,
           0.005839523008297077,
           0.0058313897282582655,
           0.00560351452730959,
           0.005579314351379705
          ],
          "coloraxis": "coloraxis",
          "size": [
           0.013849254353369762,
           0.008031323993459285,
           0.007397293117161339,
           0.007258640796616202,
           0.006693624658640214,
           0.006672783601587576,
           0.005839523008297077,
           0.0058313897282582655,
           0.00560351452730959,
           0.005579314351379705
          ],
          "sizemode": "area",
          "sizeref": 3.46231358834244e-05
         },
         "mode": "markers",
         "name": "",
         "showlegend": false,
         "subplot": "mapbox",
         "type": "scattermapbox"
        }
       ],
       "layout": {
        "coloraxis": {
         "colorbar": {
          "title": {
           "text": "similarity"
          }
         },
         "colorscale": [
          [
           0,
           "#0d0887"
          ],
          [
           0.1111111111111111,
           "#46039f"
          ],
          [
           0.2222222222222222,
           "#7201a8"
          ],
          [
           0.3333333333333333,
           "#9c179e"
          ],
          [
           0.4444444444444444,
           "#bd3786"
          ],
          [
           0.5555555555555556,
           "#d8576b"
          ],
          [
           0.6666666666666666,
           "#ed7953"
          ],
          [
           0.7777777777777778,
           "#fb9f3a"
          ],
          [
           0.8888888888888888,
           "#fdca26"
          ],
          [
           1,
           "#f0f921"
          ]
         ]
        },
        "height": 600,
        "legend": {
         "itemsizing": "constant",
         "tracegroupgap": 0
        },
        "mapbox": {
         "center": {
          "lat": 40.77,
          "lon": -73.96
         },
         "domain": {
          "x": [
           0,
           1
          ],
          "y": [
           0,
           1
          ]
         },
         "style": "stamen-toner",
         "zoom": 0.7
        },
        "margin": {
         "t": 60
        },
        "template": {
         "data": {
          "bar": [
           {
            "error_x": {
             "color": "#2a3f5f"
            },
            "error_y": {
             "color": "#2a3f5f"
            },
            "marker": {
             "line": {
              "color": "#E5ECF6",
              "width": 0.5
             },
             "pattern": {
              "fillmode": "overlay",
              "size": 10,
              "solidity": 0.2
             }
            },
            "type": "bar"
           }
          ],
          "barpolar": [
           {
            "marker": {
             "line": {
              "color": "#E5ECF6",
              "width": 0.5
             },
             "pattern": {
              "fillmode": "overlay",
              "size": 10,
              "solidity": 0.2
             }
            },
            "type": "barpolar"
           }
          ],
          "carpet": [
           {
            "aaxis": {
             "endlinecolor": "#2a3f5f",
             "gridcolor": "white",
             "linecolor": "white",
             "minorgridcolor": "white",
             "startlinecolor": "#2a3f5f"
            },
            "baxis": {
             "endlinecolor": "#2a3f5f",
             "gridcolor": "white",
             "linecolor": "white",
             "minorgridcolor": "white",
             "startlinecolor": "#2a3f5f"
            },
            "type": "carpet"
           }
          ],
          "choropleth": [
           {
            "colorbar": {
             "outlinewidth": 0,
             "ticks": ""
            },
            "type": "choropleth"
           }
          ],
          "contour": [
           {
            "colorbar": {
             "outlinewidth": 0,
             "ticks": ""
            },
            "colorscale": [
             [
              0,
              "#0d0887"
             ],
             [
              0.1111111111111111,
              "#46039f"
             ],
             [
              0.2222222222222222,
              "#7201a8"
             ],
             [
              0.3333333333333333,
              "#9c179e"
             ],
             [
              0.4444444444444444,
              "#bd3786"
             ],
             [
              0.5555555555555556,
              "#d8576b"
             ],
             [
              0.6666666666666666,
              "#ed7953"
             ],
             [
              0.7777777777777778,
              "#fb9f3a"
             ],
             [
              0.8888888888888888,
              "#fdca26"
             ],
             [
              1,
              "#f0f921"
             ]
            ],
            "type": "contour"
           }
          ],
          "contourcarpet": [
           {
            "colorbar": {
             "outlinewidth": 0,
             "ticks": ""
            },
            "type": "contourcarpet"
           }
          ],
          "heatmap": [
           {
            "colorbar": {
             "outlinewidth": 0,
             "ticks": ""
            },
            "colorscale": [
             [
              0,
              "#0d0887"
             ],
             [
              0.1111111111111111,
              "#46039f"
             ],
             [
              0.2222222222222222,
              "#7201a8"
             ],
             [
              0.3333333333333333,
              "#9c179e"
             ],
             [
              0.4444444444444444,
              "#bd3786"
             ],
             [
              0.5555555555555556,
              "#d8576b"
             ],
             [
              0.6666666666666666,
              "#ed7953"
             ],
             [
              0.7777777777777778,
              "#fb9f3a"
             ],
             [
              0.8888888888888888,
              "#fdca26"
             ],
             [
              1,
              "#f0f921"
             ]
            ],
            "type": "heatmap"
           }
          ],
          "heatmapgl": [
           {
            "colorbar": {
             "outlinewidth": 0,
             "ticks": ""
            },
            "colorscale": [
             [
              0,
              "#0d0887"
             ],
             [
              0.1111111111111111,
              "#46039f"
             ],
             [
              0.2222222222222222,
              "#7201a8"
             ],
             [
              0.3333333333333333,
              "#9c179e"
             ],
             [
              0.4444444444444444,
              "#bd3786"
             ],
             [
              0.5555555555555556,
              "#d8576b"
             ],
             [
              0.6666666666666666,
              "#ed7953"
             ],
             [
              0.7777777777777778,
              "#fb9f3a"
             ],
             [
              0.8888888888888888,
              "#fdca26"
             ],
             [
              1,
              "#f0f921"
             ]
            ],
            "type": "heatmapgl"
           }
          ],
          "histogram": [
           {
            "marker": {
             "pattern": {
              "fillmode": "overlay",
              "size": 10,
              "solidity": 0.2
             }
            },
            "type": "histogram"
           }
          ],
          "histogram2d": [
           {
            "colorbar": {
             "outlinewidth": 0,
             "ticks": ""
            },
            "colorscale": [
             [
              0,
              "#0d0887"
             ],
             [
              0.1111111111111111,
              "#46039f"
             ],
             [
              0.2222222222222222,
              "#7201a8"
             ],
             [
              0.3333333333333333,
              "#9c179e"
             ],
             [
              0.4444444444444444,
              "#bd3786"
             ],
             [
              0.5555555555555556,
              "#d8576b"
             ],
             [
              0.6666666666666666,
              "#ed7953"
             ],
             [
              0.7777777777777778,
              "#fb9f3a"
             ],
             [
              0.8888888888888888,
              "#fdca26"
             ],
             [
              1,
              "#f0f921"
             ]
            ],
            "type": "histogram2d"
           }
          ],
          "histogram2dcontour": [
           {
            "colorbar": {
             "outlinewidth": 0,
             "ticks": ""
            },
            "colorscale": [
             [
              0,
              "#0d0887"
             ],
             [
              0.1111111111111111,
              "#46039f"
             ],
             [
              0.2222222222222222,
              "#7201a8"
             ],
             [
              0.3333333333333333,
              "#9c179e"
             ],
             [
              0.4444444444444444,
              "#bd3786"
             ],
             [
              0.5555555555555556,
              "#d8576b"
             ],
             [
              0.6666666666666666,
              "#ed7953"
             ],
             [
              0.7777777777777778,
              "#fb9f3a"
             ],
             [
              0.8888888888888888,
              "#fdca26"
             ],
             [
              1,
              "#f0f921"
             ]
            ],
            "type": "histogram2dcontour"
           }
          ],
          "mesh3d": [
           {
            "colorbar": {
             "outlinewidth": 0,
             "ticks": ""
            },
            "type": "mesh3d"
           }
          ],
          "parcoords": [
           {
            "line": {
             "colorbar": {
              "outlinewidth": 0,
              "ticks": ""
             }
            },
            "type": "parcoords"
           }
          ],
          "pie": [
           {
            "automargin": true,
            "type": "pie"
           }
          ],
          "scatter": [
           {
            "fillpattern": {
             "fillmode": "overlay",
             "size": 10,
             "solidity": 0.2
            },
            "type": "scatter"
           }
          ],
          "scatter3d": [
           {
            "line": {
             "colorbar": {
              "outlinewidth": 0,
              "ticks": ""
             }
            },
            "marker": {
             "colorbar": {
              "outlinewidth": 0,
              "ticks": ""
             }
            },
            "type": "scatter3d"
           }
          ],
          "scattercarpet": [
           {
            "marker": {
             "colorbar": {
              "outlinewidth": 0,
              "ticks": ""
             }
            },
            "type": "scattercarpet"
           }
          ],
          "scattergeo": [
           {
            "marker": {
             "colorbar": {
              "outlinewidth": 0,
              "ticks": ""
             }
            },
            "type": "scattergeo"
           }
          ],
          "scattergl": [
           {
            "marker": {
             "colorbar": {
              "outlinewidth": 0,
              "ticks": ""
             }
            },
            "type": "scattergl"
           }
          ],
          "scattermapbox": [
           {
            "marker": {
             "colorbar": {
              "outlinewidth": 0,
              "ticks": ""
             }
            },
            "type": "scattermapbox"
           }
          ],
          "scatterpolar": [
           {
            "marker": {
             "colorbar": {
              "outlinewidth": 0,
              "ticks": ""
             }
            },
            "type": "scatterpolar"
           }
          ],
          "scatterpolargl": [
           {
            "marker": {
             "colorbar": {
              "outlinewidth": 0,
              "ticks": ""
             }
            },
            "type": "scatterpolargl"
           }
          ],
          "scatterternary": [
           {
            "marker": {
             "colorbar": {
              "outlinewidth": 0,
              "ticks": ""
             }
            },
            "type": "scatterternary"
           }
          ],
          "surface": [
           {
            "colorbar": {
             "outlinewidth": 0,
             "ticks": ""
            },
            "colorscale": [
             [
              0,
              "#0d0887"
             ],
             [
              0.1111111111111111,
              "#46039f"
             ],
             [
              0.2222222222222222,
              "#7201a8"
             ],
             [
              0.3333333333333333,
              "#9c179e"
             ],
             [
              0.4444444444444444,
              "#bd3786"
             ],
             [
              0.5555555555555556,
              "#d8576b"
             ],
             [
              0.6666666666666666,
              "#ed7953"
             ],
             [
              0.7777777777777778,
              "#fb9f3a"
             ],
             [
              0.8888888888888888,
              "#fdca26"
             ],
             [
              1,
              "#f0f921"
             ]
            ],
            "type": "surface"
           }
          ],
          "table": [
           {
            "cells": {
             "fill": {
              "color": "#EBF0F8"
             },
             "line": {
              "color": "white"
             }
            },
            "header": {
             "fill": {
              "color": "#C8D4E3"
             },
             "line": {
              "color": "white"
             }
            },
            "type": "table"
           }
          ]
         },
         "layout": {
          "annotationdefaults": {
           "arrowcolor": "#2a3f5f",
           "arrowhead": 0,
           "arrowwidth": 1
          },
          "autotypenumbers": "strict",
          "coloraxis": {
           "colorbar": {
            "outlinewidth": 0,
            "ticks": ""
           }
          },
          "colorscale": {
           "diverging": [
            [
             0,
             "#8e0152"
            ],
            [
             0.1,
             "#c51b7d"
            ],
            [
             0.2,
             "#de77ae"
            ],
            [
             0.3,
             "#f1b6da"
            ],
            [
             0.4,
             "#fde0ef"
            ],
            [
             0.5,
             "#f7f7f7"
            ],
            [
             0.6,
             "#e6f5d0"
            ],
            [
             0.7,
             "#b8e186"
            ],
            [
             0.8,
             "#7fbc41"
            ],
            [
             0.9,
             "#4d9221"
            ],
            [
             1,
             "#276419"
            ]
           ],
           "sequential": [
            [
             0,
             "#0d0887"
            ],
            [
             0.1111111111111111,
             "#46039f"
            ],
            [
             0.2222222222222222,
             "#7201a8"
            ],
            [
             0.3333333333333333,
             "#9c179e"
            ],
            [
             0.4444444444444444,
             "#bd3786"
            ],
            [
             0.5555555555555556,
             "#d8576b"
            ],
            [
             0.6666666666666666,
             "#ed7953"
            ],
            [
             0.7777777777777778,
             "#fb9f3a"
            ],
            [
             0.8888888888888888,
             "#fdca26"
            ],
            [
             1,
             "#f0f921"
            ]
           ],
           "sequentialminus": [
            [
             0,
             "#0d0887"
            ],
            [
             0.1111111111111111,
             "#46039f"
            ],
            [
             0.2222222222222222,
             "#7201a8"
            ],
            [
             0.3333333333333333,
             "#9c179e"
            ],
            [
             0.4444444444444444,
             "#bd3786"
            ],
            [
             0.5555555555555556,
             "#d8576b"
            ],
            [
             0.6666666666666666,
             "#ed7953"
            ],
            [
             0.7777777777777778,
             "#fb9f3a"
            ],
            [
             0.8888888888888888,
             "#fdca26"
            ],
            [
             1,
             "#f0f921"
            ]
           ]
          },
          "colorway": [
           "#636efa",
           "#EF553B",
           "#00cc96",
           "#ab63fa",
           "#FFA15A",
           "#19d3f3",
           "#FF6692",
           "#B6E880",
           "#FF97FF",
           "#FECB52"
          ],
          "font": {
           "color": "#2a3f5f"
          },
          "geo": {
           "bgcolor": "white",
           "lakecolor": "white",
           "landcolor": "#E5ECF6",
           "showlakes": true,
           "showland": true,
           "subunitcolor": "white"
          },
          "hoverlabel": {
           "align": "left"
          },
          "hovermode": "closest",
          "mapbox": {
           "style": "light"
          },
          "paper_bgcolor": "white",
          "plot_bgcolor": "#E5ECF6",
          "polar": {
           "angularaxis": {
            "gridcolor": "white",
            "linecolor": "white",
            "ticks": ""
           },
           "bgcolor": "#E5ECF6",
           "radialaxis": {
            "gridcolor": "white",
            "linecolor": "white",
            "ticks": ""
           }
          },
          "scene": {
           "xaxis": {
            "backgroundcolor": "#E5ECF6",
            "gridcolor": "white",
            "gridwidth": 2,
            "linecolor": "white",
            "showbackground": true,
            "ticks": "",
            "zerolinecolor": "white"
           },
           "yaxis": {
            "backgroundcolor": "#E5ECF6",
            "gridcolor": "white",
            "gridwidth": 2,
            "linecolor": "white",
            "showbackground": true,
            "ticks": "",
            "zerolinecolor": "white"
           },
           "zaxis": {
            "backgroundcolor": "#E5ECF6",
            "gridcolor": "white",
            "gridwidth": 2,
            "linecolor": "white",
            "showbackground": true,
            "ticks": "",
            "zerolinecolor": "white"
           }
          },
          "shapedefaults": {
           "line": {
            "color": "#2a3f5f"
           }
          },
          "ternary": {
           "aaxis": {
            "gridcolor": "white",
            "linecolor": "white",
            "ticks": ""
           },
           "baxis": {
            "gridcolor": "white",
            "linecolor": "white",
            "ticks": ""
           },
           "bgcolor": "#E5ECF6",
           "caxis": {
            "gridcolor": "white",
            "linecolor": "white",
            "ticks": ""
           }
          },
          "title": {
           "x": 0.05
          },
          "xaxis": {
           "automargin": true,
           "gridcolor": "white",
           "linecolor": "white",
           "ticks": "",
           "title": {
            "standoff": 15
           },
           "zerolinecolor": "white",
           "zerolinewidth": 2
          },
          "yaxis": {
           "automargin": true,
           "gridcolor": "white",
           "linecolor": "white",
           "ticks": "",
           "title": {
            "standoff": 15
           },
           "zerolinecolor": "white",
           "zerolinewidth": 2
          }
         }
        },
        "title": {
         "text": "Maps visualization of the most relevant place according to proximity and popularity",
         "x": 0.45,
         "xanchor": "center",
         "y": 0.95,
         "yanchor": "top"
        },
        "width": 1000
       }
      },
      "text/html": [
       "<div>                            <div id=\"02a31715-b09e-4335-a64e-ac60c0ceece7\" class=\"plotly-graph-div\" style=\"height:600px; width:1000px;\"></div>            <script type=\"text/javascript\">                require([\"plotly\"], function(Plotly) {                    window.PLOTLYENV=window.PLOTLYENV || {};                                    if (document.getElementById(\"02a31715-b09e-4335-a64e-ac60c0ceece7\")) {                    Plotly.newPlot(                        \"02a31715-b09e-4335-a64e-ac60c0ceece7\",                        [{\"customdata\":[[\"The Witch House of Salem\",\"310 1/2 Essex Street, Salem, Massachusetts, 01970, United States\",3177,3972],[\"Blue Mustang\",\"Pe\\u00f1a Blvd, Denver, Colorado, 80249, United States\",3500,1181],[\"Petra\",\"On the slope of Mount Hor, Arabah, Jordan\",1073,2050],[\"The Natural Bridge\",\"15 Appledore Lane, Natural Bridge, Virginia, 24578, United States\",1724,2269],[\"The Athenian Agora\",\"46 Adrianou, Athens, 105 55, Greece\",1572,768],[\"Crazy Horse Memorial\",\"12151 Avenue of the Chiefs, Custer, South Dakota, 57730, United States\",2606,1398],[\"Biosphere of Montreal\",\"160, Chemin Tour-de-l'Isle, \\u00cele Sainte-H\\u00e9l\\u00e8ne, Montreal, Qu\\u00e9bec, H3C 0K7, Canada\",1550,1407],[\"KattenKabinet\",\"497 Herengracht, Amsterdam, Netherlands\",617,2186],[\"Uncommon Objects\",\"1602 Fortview, Austin, Texas, 78704, United States\",1467,2248],[\"U-505\",\"5700 S. Lake Shore Drive, Chicago, Illinois, 60637, United States\",2061,748]],\"hovertemplate\":\"similarity=%{marker.color}<br>lat=%{lat}<br>lon=%{lon}<br>name=%{customdata[0]}<br>address=%{customdata[1]}<br>num_people_visited=%{customdata[2]}<br>num_people_want=%{customdata[3]}<extra></extra>\",\"lat\":[42.521507,39.834223,30.328467,37.6282,37.975764,43.836789,45.518988,52.365629,30.229086,41.790609],\"legendgroup\":\"\",\"lon\":[-70.898894,-104.675916,35.442662,-79.544653,23.724734,-103.624386,-73.534194,4.891552,-97.783036,-87.583059],\"marker\":{\"color\":[0.013849254353369762,0.008031323993459285,0.007397293117161339,0.007258640796616202,0.006693624658640214,0.006672783601587576,0.005839523008297077,0.0058313897282582655,0.00560351452730959,0.005579314351379705],\"coloraxis\":\"coloraxis\",\"size\":[0.013849254353369762,0.008031323993459285,0.007397293117161339,0.007258640796616202,0.006693624658640214,0.006672783601587576,0.005839523008297077,0.0058313897282582655,0.00560351452730959,0.005579314351379705],\"sizemode\":\"area\",\"sizeref\":3.46231358834244e-05},\"mode\":\"markers\",\"name\":\"\",\"showlegend\":false,\"subplot\":\"mapbox\",\"type\":\"scattermapbox\"}],                        {\"template\":{\"data\":{\"histogram2dcontour\":[{\"type\":\"histogram2dcontour\",\"colorbar\":{\"outlinewidth\":0,\"ticks\":\"\"},\"colorscale\":[[0.0,\"#0d0887\"],[0.1111111111111111,\"#46039f\"],[0.2222222222222222,\"#7201a8\"],[0.3333333333333333,\"#9c179e\"],[0.4444444444444444,\"#bd3786\"],[0.5555555555555556,\"#d8576b\"],[0.6666666666666666,\"#ed7953\"],[0.7777777777777778,\"#fb9f3a\"],[0.8888888888888888,\"#fdca26\"],[1.0,\"#f0f921\"]]}],\"choropleth\":[{\"type\":\"choropleth\",\"colorbar\":{\"outlinewidth\":0,\"ticks\":\"\"}}],\"histogram2d\":[{\"type\":\"histogram2d\",\"colorbar\":{\"outlinewidth\":0,\"ticks\":\"\"},\"colorscale\":[[0.0,\"#0d0887\"],[0.1111111111111111,\"#46039f\"],[0.2222222222222222,\"#7201a8\"],[0.3333333333333333,\"#9c179e\"],[0.4444444444444444,\"#bd3786\"],[0.5555555555555556,\"#d8576b\"],[0.6666666666666666,\"#ed7953\"],[0.7777777777777778,\"#fb9f3a\"],[0.8888888888888888,\"#fdca26\"],[1.0,\"#f0f921\"]]}],\"heatmap\":[{\"type\":\"heatmap\",\"colorbar\":{\"outlinewidth\":0,\"ticks\":\"\"},\"colorscale\":[[0.0,\"#0d0887\"],[0.1111111111111111,\"#46039f\"],[0.2222222222222222,\"#7201a8\"],[0.3333333333333333,\"#9c179e\"],[0.4444444444444444,\"#bd3786\"],[0.5555555555555556,\"#d8576b\"],[0.6666666666666666,\"#ed7953\"],[0.7777777777777778,\"#fb9f3a\"],[0.8888888888888888,\"#fdca26\"],[1.0,\"#f0f921\"]]}],\"heatmapgl\":[{\"type\":\"heatmapgl\",\"colorbar\":{\"outlinewidth\":0,\"ticks\":\"\"},\"colorscale\":[[0.0,\"#0d0887\"],[0.1111111111111111,\"#46039f\"],[0.2222222222222222,\"#7201a8\"],[0.3333333333333333,\"#9c179e\"],[0.4444444444444444,\"#bd3786\"],[0.5555555555555556,\"#d8576b\"],[0.6666666666666666,\"#ed7953\"],[0.7777777777777778,\"#fb9f3a\"],[0.8888888888888888,\"#fdca26\"],[1.0,\"#f0f921\"]]}],\"contourcarpet\":[{\"type\":\"contourcarpet\",\"colorbar\":{\"outlinewidth\":0,\"ticks\":\"\"}}],\"contour\":[{\"type\":\"contour\",\"colorbar\":{\"outlinewidth\":0,\"ticks\":\"\"},\"colorscale\":[[0.0,\"#0d0887\"],[0.1111111111111111,\"#46039f\"],[0.2222222222222222,\"#7201a8\"],[0.3333333333333333,\"#9c179e\"],[0.4444444444444444,\"#bd3786\"],[0.5555555555555556,\"#d8576b\"],[0.6666666666666666,\"#ed7953\"],[0.7777777777777778,\"#fb9f3a\"],[0.8888888888888888,\"#fdca26\"],[1.0,\"#f0f921\"]]}],\"surface\":[{\"type\":\"surface\",\"colorbar\":{\"outlinewidth\":0,\"ticks\":\"\"},\"colorscale\":[[0.0,\"#0d0887\"],[0.1111111111111111,\"#46039f\"],[0.2222222222222222,\"#7201a8\"],[0.3333333333333333,\"#9c179e\"],[0.4444444444444444,\"#bd3786\"],[0.5555555555555556,\"#d8576b\"],[0.6666666666666666,\"#ed7953\"],[0.7777777777777778,\"#fb9f3a\"],[0.8888888888888888,\"#fdca26\"],[1.0,\"#f0f921\"]]}],\"mesh3d\":[{\"type\":\"mesh3d\",\"colorbar\":{\"outlinewidth\":0,\"ticks\":\"\"}}],\"scatter\":[{\"fillpattern\":{\"fillmode\":\"overlay\",\"size\":10,\"solidity\":0.2},\"type\":\"scatter\"}],\"parcoords\":[{\"type\":\"parcoords\",\"line\":{\"colorbar\":{\"outlinewidth\":0,\"ticks\":\"\"}}}],\"scatterpolargl\":[{\"type\":\"scatterpolargl\",\"marker\":{\"colorbar\":{\"outlinewidth\":0,\"ticks\":\"\"}}}],\"bar\":[{\"error_x\":{\"color\":\"#2a3f5f\"},\"error_y\":{\"color\":\"#2a3f5f\"},\"marker\":{\"line\":{\"color\":\"#E5ECF6\",\"width\":0.5},\"pattern\":{\"fillmode\":\"overlay\",\"size\":10,\"solidity\":0.2}},\"type\":\"bar\"}],\"scattergeo\":[{\"type\":\"scattergeo\",\"marker\":{\"colorbar\":{\"outlinewidth\":0,\"ticks\":\"\"}}}],\"scatterpolar\":[{\"type\":\"scatterpolar\",\"marker\":{\"colorbar\":{\"outlinewidth\":0,\"ticks\":\"\"}}}],\"histogram\":[{\"marker\":{\"pattern\":{\"fillmode\":\"overlay\",\"size\":10,\"solidity\":0.2}},\"type\":\"histogram\"}],\"scattergl\":[{\"type\":\"scattergl\",\"marker\":{\"colorbar\":{\"outlinewidth\":0,\"ticks\":\"\"}}}],\"scatter3d\":[{\"type\":\"scatter3d\",\"line\":{\"colorbar\":{\"outlinewidth\":0,\"ticks\":\"\"}},\"marker\":{\"colorbar\":{\"outlinewidth\":0,\"ticks\":\"\"}}}],\"scattermapbox\":[{\"type\":\"scattermapbox\",\"marker\":{\"colorbar\":{\"outlinewidth\":0,\"ticks\":\"\"}}}],\"scatterternary\":[{\"type\":\"scatterternary\",\"marker\":{\"colorbar\":{\"outlinewidth\":0,\"ticks\":\"\"}}}],\"scattercarpet\":[{\"type\":\"scattercarpet\",\"marker\":{\"colorbar\":{\"outlinewidth\":0,\"ticks\":\"\"}}}],\"carpet\":[{\"aaxis\":{\"endlinecolor\":\"#2a3f5f\",\"gridcolor\":\"white\",\"linecolor\":\"white\",\"minorgridcolor\":\"white\",\"startlinecolor\":\"#2a3f5f\"},\"baxis\":{\"endlinecolor\":\"#2a3f5f\",\"gridcolor\":\"white\",\"linecolor\":\"white\",\"minorgridcolor\":\"white\",\"startlinecolor\":\"#2a3f5f\"},\"type\":\"carpet\"}],\"table\":[{\"cells\":{\"fill\":{\"color\":\"#EBF0F8\"},\"line\":{\"color\":\"white\"}},\"header\":{\"fill\":{\"color\":\"#C8D4E3\"},\"line\":{\"color\":\"white\"}},\"type\":\"table\"}],\"barpolar\":[{\"marker\":{\"line\":{\"color\":\"#E5ECF6\",\"width\":0.5},\"pattern\":{\"fillmode\":\"overlay\",\"size\":10,\"solidity\":0.2}},\"type\":\"barpolar\"}],\"pie\":[{\"automargin\":true,\"type\":\"pie\"}]},\"layout\":{\"autotypenumbers\":\"strict\",\"colorway\":[\"#636efa\",\"#EF553B\",\"#00cc96\",\"#ab63fa\",\"#FFA15A\",\"#19d3f3\",\"#FF6692\",\"#B6E880\",\"#FF97FF\",\"#FECB52\"],\"font\":{\"color\":\"#2a3f5f\"},\"hovermode\":\"closest\",\"hoverlabel\":{\"align\":\"left\"},\"paper_bgcolor\":\"white\",\"plot_bgcolor\":\"#E5ECF6\",\"polar\":{\"bgcolor\":\"#E5ECF6\",\"angularaxis\":{\"gridcolor\":\"white\",\"linecolor\":\"white\",\"ticks\":\"\"},\"radialaxis\":{\"gridcolor\":\"white\",\"linecolor\":\"white\",\"ticks\":\"\"}},\"ternary\":{\"bgcolor\":\"#E5ECF6\",\"aaxis\":{\"gridcolor\":\"white\",\"linecolor\":\"white\",\"ticks\":\"\"},\"baxis\":{\"gridcolor\":\"white\",\"linecolor\":\"white\",\"ticks\":\"\"},\"caxis\":{\"gridcolor\":\"white\",\"linecolor\":\"white\",\"ticks\":\"\"}},\"coloraxis\":{\"colorbar\":{\"outlinewidth\":0,\"ticks\":\"\"}},\"colorscale\":{\"sequential\":[[0.0,\"#0d0887\"],[0.1111111111111111,\"#46039f\"],[0.2222222222222222,\"#7201a8\"],[0.3333333333333333,\"#9c179e\"],[0.4444444444444444,\"#bd3786\"],[0.5555555555555556,\"#d8576b\"],[0.6666666666666666,\"#ed7953\"],[0.7777777777777778,\"#fb9f3a\"],[0.8888888888888888,\"#fdca26\"],[1.0,\"#f0f921\"]],\"sequentialminus\":[[0.0,\"#0d0887\"],[0.1111111111111111,\"#46039f\"],[0.2222222222222222,\"#7201a8\"],[0.3333333333333333,\"#9c179e\"],[0.4444444444444444,\"#bd3786\"],[0.5555555555555556,\"#d8576b\"],[0.6666666666666666,\"#ed7953\"],[0.7777777777777778,\"#fb9f3a\"],[0.8888888888888888,\"#fdca26\"],[1.0,\"#f0f921\"]],\"diverging\":[[0,\"#8e0152\"],[0.1,\"#c51b7d\"],[0.2,\"#de77ae\"],[0.3,\"#f1b6da\"],[0.4,\"#fde0ef\"],[0.5,\"#f7f7f7\"],[0.6,\"#e6f5d0\"],[0.7,\"#b8e186\"],[0.8,\"#7fbc41\"],[0.9,\"#4d9221\"],[1,\"#276419\"]]},\"xaxis\":{\"gridcolor\":\"white\",\"linecolor\":\"white\",\"ticks\":\"\",\"title\":{\"standoff\":15},\"zerolinecolor\":\"white\",\"automargin\":true,\"zerolinewidth\":2},\"yaxis\":{\"gridcolor\":\"white\",\"linecolor\":\"white\",\"ticks\":\"\",\"title\":{\"standoff\":15},\"zerolinecolor\":\"white\",\"automargin\":true,\"zerolinewidth\":2},\"scene\":{\"xaxis\":{\"backgroundcolor\":\"#E5ECF6\",\"gridcolor\":\"white\",\"linecolor\":\"white\",\"showbackground\":true,\"ticks\":\"\",\"zerolinecolor\":\"white\",\"gridwidth\":2},\"yaxis\":{\"backgroundcolor\":\"#E5ECF6\",\"gridcolor\":\"white\",\"linecolor\":\"white\",\"showbackground\":true,\"ticks\":\"\",\"zerolinecolor\":\"white\",\"gridwidth\":2},\"zaxis\":{\"backgroundcolor\":\"#E5ECF6\",\"gridcolor\":\"white\",\"linecolor\":\"white\",\"showbackground\":true,\"ticks\":\"\",\"zerolinecolor\":\"white\",\"gridwidth\":2}},\"shapedefaults\":{\"line\":{\"color\":\"#2a3f5f\"}},\"annotationdefaults\":{\"arrowcolor\":\"#2a3f5f\",\"arrowhead\":0,\"arrowwidth\":1},\"geo\":{\"bgcolor\":\"white\",\"landcolor\":\"#E5ECF6\",\"subunitcolor\":\"white\",\"showland\":true,\"showlakes\":true,\"lakecolor\":\"white\"},\"title\":{\"x\":0.05},\"mapbox\":{\"style\":\"light\"}}},\"mapbox\":{\"domain\":{\"x\":[0.0,1.0],\"y\":[0.0,1.0]},\"center\":{\"lat\":40.77,\"lon\":-73.96},\"zoom\":0.7,\"style\":\"stamen-toner\"},\"coloraxis\":{\"colorbar\":{\"title\":{\"text\":\"similarity\"}},\"colorscale\":[[0.0,\"#0d0887\"],[0.1111111111111111,\"#46039f\"],[0.2222222222222222,\"#7201a8\"],[0.3333333333333333,\"#9c179e\"],[0.4444444444444444,\"#bd3786\"],[0.5555555555555556,\"#d8576b\"],[0.6666666666666666,\"#ed7953\"],[0.7777777777777778,\"#fb9f3a\"],[0.8888888888888888,\"#fdca26\"],[1.0,\"#f0f921\"]]},\"legend\":{\"tracegroupgap\":0,\"itemsizing\":\"constant\"},\"margin\":{\"t\":60},\"height\":600,\"width\":1000,\"title\":{\"text\":\"Maps visualization of the most relevant place according to proximity and popularity\",\"y\":0.95,\"x\":0.45,\"xanchor\":\"center\",\"yanchor\":\"top\"}},                        {\"responsive\": true}                    ).then(function(){\n",
       "                            \n",
       "var gd = document.getElementById('02a31715-b09e-4335-a64e-ac60c0ceece7');\n",
       "var x = new MutationObserver(function (mutations, observer) {{\n",
       "        var display = window.getComputedStyle(gd).display;\n",
       "        if (!display || display === 'none') {{\n",
       "            console.log([gd, 'removed!']);\n",
       "            Plotly.purge(gd);\n",
       "            observer.disconnect();\n",
       "        }}\n",
       "}});\n",
       "\n",
       "// Listen for the removal of the full notebook cells\n",
       "var notebookContainer = gd.closest('#notebook-container');\n",
       "if (notebookContainer) {{\n",
       "    x.observe(notebookContainer, {childList: true});\n",
       "}}\n",
       "\n",
       "// Listen for the clearing of the current output cell\n",
       "var outputEl = gd.closest('.output');\n",
       "if (outputEl) {{\n",
       "    x.observe(outputEl, {childList: true});\n",
       "}}\n",
       "\n",
       "                        })                };                });            </script>        </div>"
      ]
     },
     "metadata": {},
     "output_type": "display_data"
    }
   ],
   "source": [
    "plot_map(d_combination, \"Maps visualization of the most relevant place according to proximity and popularity\")"
   ]
  },
  {
   "cell_type": "markdown",
   "id": "0c94d337",
   "metadata": {},
   "source": [
    "---"
   ]
  },
  {
   "cell_type": "markdown",
   "id": "03d5e87d",
   "metadata": {},
   "source": [
    "# 7. Theoretical Question"
   ]
  },
  {
   "cell_type": "code",
   "execution_count": 65,
   "id": "cd69c747",
   "metadata": {},
   "outputs": [],
   "source": [
    "from parse import parse_students_from\n",
    "from util import write_students"
   ]
  },
  {
   "cell_type": "code",
   "execution_count": 66,
   "id": "30262e95",
   "metadata": {},
   "outputs": [],
   "source": [
    "students = parse_students_from('ApplicantsInfo.txt')"
   ]
  },
  {
   "cell_type": "markdown",
   "id": "98efd543",
   "metadata": {},
   "source": [
    "## 7.1. Bubble Sort"
   ]
  },
  {
   "cell_type": "code",
   "execution_count": 67,
   "id": "8c430e7b",
   "metadata": {},
   "outputs": [],
   "source": [
    "def bubble_sort(arr):\n",
    "    \"\"\"In place implementation of ascending bubble sort O(n^2). \"\"\"\n",
    "    for i in range(len(arr)):\n",
    "        \n",
    "        for j in range(len(arr) - i - 1):\n",
    "            \n",
    "            if arr[j] > arr[j + 1]:\n",
    "                arr[j], arr[j + 1] = arr[j + 1], arr[j]"
   ]
  },
  {
   "cell_type": "markdown",
   "id": "20665567",
   "metadata": {},
   "source": [
    "### 7.1.1. Time Complexity\n",
    "\n",
    "The time complexity of the Bubble sort is $\\Theta(N^2)$.\n",
    "\n",
    "Bubble sort is a simple sorting algorithm that goes through the elements of the list and compares the current element with the one after it, then if the first one is bigger it swaps the two. After the first iteration we have the bigger element of the list in the last position. \n",
    "\n",
    "So in general, in the $i^{th}$ iteration we go through the elements of the list and we swap as needed up until the $(N-i)^{th}$ element. After N iterations we obtain the sorted list.\n",
    "\n",
    "```python\n",
    "    for i in range(len(arr)):                               #N times (N=length of arr)\n",
    "        for j in range(len(arr) - i - 1):                   #N-i-1 times, i=0,...,N\n",
    "            if arr[j] > arr[j + 1]:                         #θ(1)\n",
    "                arr[j], arr[j + 1] = arr[j + 1], arr[j]     #θ(1)\n",
    "```"
   ]
  },
  {
   "cell_type": "markdown",
   "id": "8cbc70e6",
   "metadata": {},
   "source": [
    "---"
   ]
  },
  {
   "cell_type": "markdown",
   "id": "d0eea5b1",
   "metadata": {},
   "source": [
    "## 7.2. Merge Sort\n",
    "Inspired by https://www.javatpoint.com/merge-sort"
   ]
  },
  {
   "cell_type": "code",
   "execution_count": 68,
   "id": "f6695f18",
   "metadata": {},
   "outputs": [],
   "source": [
    "def merge(arr, left, middle, right):\n",
    "    \"\"\"Merges two arrays\"\"\"\n",
    "    \n",
    "    # Get all items belonging to the left and right arrays\n",
    "    left_arr = [arr[left + i] for i in range(middle - left + 1)]\n",
    "    right_arr = [arr[middle + 1 + i] for i in range(right - middle)]\n",
    "\n",
    "    # indeces to keep track of\n",
    "    main_index = left\n",
    "    left_index = 0\n",
    "    right_index = 0\n",
    "\n",
    "    while len(left_arr) > left_index and len(right_arr) > right_index:\n",
    "\n",
    "        left = left_arr[left_index]\n",
    "        right = right_arr[right_index]\n",
    "\n",
    "        if left < right:\n",
    "            arr[main_index] = left\n",
    "            left_index += 1\n",
    "\n",
    "        else:\n",
    "            arr[main_index] = right\n",
    "            right_index += 1\n",
    "\n",
    "        main_index += 1\n",
    "    \n",
    "    # add items that are leftover in the left array\n",
    "    while left_index < len(left_arr):\n",
    "        arr[main_index] = left_arr[left_index]\n",
    "        main_index += 1\n",
    "        left_index += 1\n",
    "\n",
    "    # add items that are leftover in the right array\n",
    "    while right_index < len(right_arr):\n",
    "        arr[main_index] = right_arr[right_index]\n",
    "        main_index += 1\n",
    "        right_index += 1"
   ]
  },
  {
   "cell_type": "code",
   "execution_count": 69,
   "id": "bcfa00ef",
   "metadata": {},
   "outputs": [],
   "source": [
    "def merge_sort(arr, left, right):\n",
    "    \"\"\"In place implementation of merge sort in ascending order.\"\"\"\n",
    "    if left < right:\n",
    "        middle = (left + right) // 2\n",
    "        \n",
    "        # sort the left part of the array\n",
    "        merge_sort(arr, left, middle)\n",
    "        \n",
    "        # sort the right part of the array\n",
    "        merge_sort(arr, middle + 1, right)\n",
    "        \n",
    "        # merge the two sorted arrays\n",
    "        merge(arr, left, middle, right)\n",
    "    "
   ]
  },
  {
   "cell_type": "markdown",
   "id": "1a7c84c6",
   "metadata": {},
   "source": [
    "### 7.2.1. Time Complexity\n",
    "The computational time of the Merge sort is $\\theta(n log(n))$.\n",
    "\n",
    "The idea behind the merge sort is to divide the problems into subproblems, solve them and combine the solutions.\n",
    "\n",
    "The array of size n will be divided into two arrays of size n/2, these two array will be divided further into 4 arrays of size n/4, and so on until each subarray reach a single element. Then we combine all the arrays in a way that results are sorted.\n",
    "\n",
    "The computational cost can be splitted in two parts:\n",
    "\n",
    "* The cost of recursevely sort an array of size \n",
    "* The cost of combine two array into one\n",
    "\n",
    "\n",
    "\n",
    "Time complexity in the worst case:\n",
    "\n",
    "\\begin{cases}\n",
    "  T(n)  = c if n = 1\\\\\n",
    "  T(n)  = 2 T(\\frac{n}{2}) + 2cn \\hspace{0.5cm}   if n \\geq 1 \n",
    "\\end{cases}\n",
    "\n",
    "$ T(n) = 2 T(\\frac{n}{2}) + 2cn $  Cost at level 1\n",
    "\n",
    "\n",
    "$ 4 T(\\frac{n}{4}) + 4 + 4cn   $\n",
    "\n",
    "in general:\n",
    "\n",
    "$$ T(\\frac{n}{2^{k}}) = 2^{k} T(\\frac{n}{2^{k}}) + kcn $$\n",
    "\n",
    "\n",
    "it will end when $\\frac{n} {2^{k}} $ is equal to 1 , $k = \\log(n) $\n",
    "\n",
    "it will get:\n",
    "\n",
    "$$ T(n) = 2^{log(n)} T(1) + log(n) cn + c $$\n",
    "\n",
    "since $T(1) = c$  and $ 2^{log(n)} = n$ time complexity will be : \n",
    "\n",
    "$$ T(n) = \\Theta(n + nlog(n)) =\\Theta(n log(n)) $$\n",
    "\n",
    "\n",
    "The computational time of the merge sort is the same in the best, worst or random case. "
   ]
  },
  {
   "cell_type": "markdown",
   "id": "93a49a47",
   "metadata": {},
   "source": [
    "---"
   ]
  },
  {
   "cell_type": "markdown",
   "id": "2bdb65c9",
   "metadata": {},
   "source": [
    "## 7.3. Quick Sort"
   ]
  },
  {
   "cell_type": "code",
   "execution_count": 70,
   "id": "fe2a8e6d",
   "metadata": {
    "scrolled": true
   },
   "outputs": [],
   "source": [
    "import random \n",
    "def quick_sort(arr):\n",
    "\n",
    "    if len(arr) == 0 or len(arr)==1:\n",
    "        return arr\n",
    "    else:\n",
    "        idx = random.randint(0,len(arr) -1)\n",
    "        arr_1=partion_1(arr, idx)\n",
    "        arr_2=partion_2(arr, arr[idx])\n",
    "        a_1=quick_sort(arr_1)\n",
    "        a_2=quick_sort(arr_2)\n",
    "    return a_1 + [arr[idx]] + a_2\n",
    "       "
   ]
  },
  {
   "cell_type": "code",
   "execution_count": 71,
   "id": "8e29197c",
   "metadata": {},
   "outputs": [],
   "source": [
    "def partion_1(a,pivot):\n",
    "    arr=[]\n",
    "    for i,l in enumerate(a):\n",
    "        if l <= a[pivot] and i != pivot:\n",
    "            arr.append(l)\n",
    "            \n",
    "    return arr"
   ]
  },
  {
   "cell_type": "code",
   "execution_count": 72,
   "id": "1ad1c42d",
   "metadata": {},
   "outputs": [],
   "source": [
    "def partion_2(a,pivot):\n",
    "    arr=[]\n",
    "    for x in a:\n",
    "        if x > pivot:\n",
    "            arr.append(x)\n",
    "            \n",
    "    return arr"
   ]
  },
  {
   "cell_type": "markdown",
   "id": "02a631f4",
   "metadata": {},
   "source": [
    "### 7.3.1. Time Complexity\n",
    "The time complexity of the Quicksort is, on average, $\\Theta(N \\cdot log(N))$ while in the worst case the time complexity is $\\Theta(N^2)$.\n",
    "\n",
    "Quicksort works by selecting a random 'pivot' element from the list and partitioning the other elements into two sub-lists, the first list containing the elements smaller than the pivot, the second one containing the largest elements. The sub-lists are then sorted recursively. \n",
    "\n",
    "The time complexity of the base case is $\\Theta(1)$.\n",
    "\n",
    "In the worst case:\n",
    "\n",
    "$T(N)=\\Theta(N)+ T(N-1) \\hspace{0.5cm}   if\\ n > 1$\n",
    "\n",
    "$T(N) = \\Theta(N)+ T(N-1)= \\Theta(N)+ \\Theta(N-1)+ T(N-2)= \\sum_\\limits{k=0}^{N-1} \\Theta(N) +T(1)= \\Theta(N^2)$\n",
    "\n",
    "The worst case occurs when one of the sub-lists is of size N-1. This happens when the pivot is the smallest or the largest element in the list. If this happens repeatedly in each partition the time complexity would be $\\Theta(N^2)$.\n",
    "\n",
    "In the average case:\n",
    "\n",
    "$T(N)=\\Theta(N)+ 2 \\cdot T(\\frac{N}{2}) \\hspace{0.5cm}   if\\ n > 1$\n",
    "\n",
    "We know that as in the Merge sort, in this case, $T(N)=\\Theta(N \\cdot log(N))$.\n",
    "\n",
    "In the average case, each time we perform a partition we divide the list into two sub-lists with lenght around $\\frac{N}{2}$."
   ]
  },
  {
   "cell_type": "markdown",
   "id": "ddeec06a",
   "metadata": {},
   "source": [
    "---"
   ]
  },
  {
   "cell_type": "markdown",
   "id": "1f79362f",
   "metadata": {},
   "source": [
    "## 7.4. MapReduce Sort\n",
    "The map reduce sorting algorithm we implemented is a merge sort that creates a new sorted array."
   ]
  },
  {
   "cell_type": "code",
   "execution_count": 73,
   "id": "7268c816",
   "metadata": {},
   "outputs": [],
   "source": [
    "def mr_merge(left, right):\n",
    "    \"\"\"Merges two arrays into a new array.\"\"\"\n",
    "\n",
    "    sorted_arr = [0] * (len(left) + len(right))\n",
    "    # indeces to keep track of\n",
    "    main_index = 0\n",
    "    left_index = 0\n",
    "    right_index = 0\n",
    "\n",
    "    while len(left) > left_index and len(right) > right_index:\n",
    "\n",
    "        left_el = left[left_index]\n",
    "        right_el = right[right_index]\n",
    "\n",
    "        if left_el < right_el:\n",
    "            sorted_arr[main_index] = left_el\n",
    "            left_index += 1\n",
    "\n",
    "        else:\n",
    "            sorted_arr[main_index] = right_el\n",
    "            right_index += 1\n",
    "\n",
    "        main_index += 1\n",
    "\n",
    "    # add items that are leftover in the left array\n",
    "    while left_index < len(left):\n",
    "        sorted_arr[main_index] = left[left_index]\n",
    "        main_index += 1\n",
    "        left_index += 1\n",
    "\n",
    "    # add items that are leftover in the right array\n",
    "    while right_index < len(right):\n",
    "        sorted_arr[main_index] = right[right_index]\n",
    "        main_index += 1\n",
    "        right_index += 1\n",
    "\n",
    "    return sorted_arr"
   ]
  },
  {
   "cell_type": "code",
   "execution_count": 74,
   "id": "0cd939d8",
   "metadata": {},
   "outputs": [],
   "source": [
    "def map_reduce_sort(arr):\n",
    "    \"\"\"Sorts the array using Spark's map and reduce functions.\"\"\"\n",
    "    sc = pyspark.SparkContext(appName=\"sort\")\n",
    "\n",
    "    spark_arr = sc.parallelize(arr)\n",
    "        #distData.sortBy(keyfunc=lambda e: e).collect()\n",
    "    sorted_arr = spark_arr.map(lambda element : [element]).reduce(mr_merge)\n",
    "        # map needs to split the array into sub arrays of size 1\n",
    "    sc.stop()\n",
    "    \n",
    "    return sorted_arr"
   ]
  },
  {
   "cell_type": "markdown",
   "id": "0f38f60b",
   "metadata": {},
   "source": [
    "## 7.5. Sort Students"
   ]
  },
  {
   "cell_type": "code",
   "execution_count": 75,
   "id": "9aded445",
   "metadata": {},
   "outputs": [],
   "source": [
    "students = quick_sort(students)[::-1]"
   ]
  },
  {
   "cell_type": "code",
   "execution_count": 76,
   "id": "6692d9e2",
   "metadata": {},
   "outputs": [],
   "source": [
    "merge_sort(students,0 , len(students)-1)\n",
    "students = students[::-1]"
   ]
  },
  {
   "cell_type": "code",
   "execution_count": 77,
   "id": "a50d4b38",
   "metadata": {},
   "outputs": [],
   "source": [
    "bubble_sort(students)\n",
    "students = students[::-1]"
   ]
  },
  {
   "cell_type": "markdown",
   "id": "d708432b",
   "metadata": {},
   "source": [
    "## 7.6. Save Students"
   ]
  },
  {
   "cell_type": "code",
   "execution_count": 78,
   "id": "1dab7de4",
   "metadata": {},
   "outputs": [],
   "source": [
    "write_students(students, './')"
   ]
  },
  {
   "cell_type": "markdown",
   "id": "e244022e",
   "metadata": {},
   "source": [
    "## 7.7. Evaluate Algorithms"
   ]
  },
  {
   "cell_type": "code",
   "execution_count": 79,
   "id": "21de8fd0",
   "metadata": {},
   "outputs": [],
   "source": [
    "def quick_time(nu):\n",
    "    start_time = time.monotonic()\n",
    "    quick_sort(students[:nu])\n",
    "    end_time = time.monotonic()\n",
    "    return end_time - start_time"
   ]
  },
  {
   "cell_type": "code",
   "execution_count": 80,
   "id": "2adbdcba",
   "metadata": {},
   "outputs": [],
   "source": [
    "def merge_time(nu):\n",
    "\n",
    "    start_time = time.monotonic()\n",
    "    merge_sort(students[:nu], 0, len(students[:nu])-1) \n",
    "    end_time = time.monotonic()\n",
    "    return end_time - start_time\n",
    "    "
   ]
  },
  {
   "cell_type": "code",
   "execution_count": 81,
   "id": "2d00f376",
   "metadata": {},
   "outputs": [],
   "source": [
    "def bubble_time(nu):\n",
    "    start_time = time.monotonic()\n",
    "    bubble_sort(students[:nu])\n",
    "    end_time = time.monotonic()\n",
    "    return end_time - start_time\n",
    "    "
   ]
  },
  {
   "cell_type": "code",
   "execution_count": 82,
   "id": "38a92103",
   "metadata": {},
   "outputs": [],
   "source": [
    "from datetime import timedelta\n",
    "import time\n",
    "import math\n"
   ]
  },
  {
   "cell_type": "code",
   "execution_count": 27,
   "id": "56370881",
   "metadata": {
    "scrolled": false
   },
   "outputs": [
    {
     "data": {
      "image/png": "[encoded data removed]",
      "text/plain": [
       "<Figure size 1008x576 with 1 Axes>"
      ]
     },
     "metadata": {
      "needs_background": "light"
     },
     "output_type": "display_data"
    }
   ],
   "source": [
    "from matplotlib import pyplot as plt\n",
    "from matplotlib.pyplot import figure\n",
    "import timeit\n",
    "\n",
    "ns1 = range(2, 250, 10)\n",
    "q_time = [quick_time(n) for n in ns1 ]\n",
    "m_time = [merge_time(n) for n in ns1 ]\n",
    "b_time = [bubble_time(n) for n in ns1 ]\n",
    "\n",
    "\n",
    "\n",
    "figure(figsize=(14, 8))\n",
    "plt.plot(ns1, q_time, '-r', label= 'quick sort')\n",
    "plt.plot(ns1, m_time, '-b', label= 'merge sort')\n",
    "plt.plot(ns1, b_time, '-y', label= 'bubble sort')\n",
    "\n",
    "\n",
    "plt.xlabel('') \n",
    "plt.ylabel('The running time of the algorithm') \n",
    "plt.title('The running time of the sorting algorithms ')\n",
    "plt.legend()\n",
    "plt.show()"
   ]
  },
  {
   "cell_type": "markdown",
   "id": "8cf48bb7",
   "metadata": {},
   "source": [
    "### 7.7.1. Time Complexity\n",
    "\n",
    "Merge sort is the best algorithm we can choose, by the way, quick sort and merge sort have the same behavior as $\\Theta(nlog(n))$.\n",
    "The point is that the efficiency of quicksort is extremely related to how we select the pivot. If the partitions created are very unbalanced, quicksort becomes very slow and inefficient.\n",
    "\n",
    "Basically, the main idea is the same, both algorithms partition the array, merge sort always of size $\\frac{n}{2}$ while quick sort doesn't necessarily do that.\n",
    "\n",
    "Merge sort performs fewer comparisons than Quicksort in both the average and worst cases.\n",
    "\n",
    "### 7.7.2. Space Complexity\n",
    "\n",
    "Merge sort requires creating subarrays in addition to the original array. and hence, the algorithm must create n items in memory. Therefore, the complexity of the space is $\\Theta(n)$\n",
    "\n",
    "Quicksort is an in-place sorting algorithm. Its memory complexity is O(1).\n",
    "\n",
    "### 7.7.3. Conclusion\n",
    "\n",
    "Merge sort is very efficient for any particular list, but if the cost of allocating new memory is very high, we should always prefer quicksort.\n",
    "\n",
    "Quicksort is very efficient at sorting small datasets. If the dataset to be sorted is too large to fit in memory all at once, using quicksort would not be possible."
   ]
  }
 ],
 "metadata": {
  "kernelspec": {
   "display_name": "Python 3 (ipykernel)",
   "language": "python",
   "name": "python3"
  },
  "language_info": {
   "codemirror_mode": {
    "name": "ipython",
    "version": 3
   },
   "file_extension": ".py",
   "mimetype": "text/x-python",
   "name": "python",
   "nbconvert_exporter": "python",
   "pygments_lexer": "ipython3",
   "version": "3.9.0"
  }
 },
 "nbformat": 4,
 "nbformat_minor": 5
}
