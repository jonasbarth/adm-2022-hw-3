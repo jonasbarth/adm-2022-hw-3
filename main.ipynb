{
 "cells": [
  {
   "cell_type": "code",
   "execution_count": 1,
   "id": "64c71e64",
   "metadata": {},
   "outputs": [],
   "source": [
    "import pandas as pd\n",
    "from parse import PlaceParser\n",
    "from reader import read_place_desc, read_html_from\n",
    "from service import PlaceService, SearchEngine\n",
    "from writer import write_place_to_tsv\n",
    "from index import preprocess, ConjunctiveIndex\n",
    "\n",
    "from os import listdir\n",
    "\n",
    "from os.path import isfile, join\n",
    "import requests\n",
    "from bs4 import BeautifulSoup\n",
    "from tqdm import tqdm\n",
    "import os\n",
    "import time\n"
   ]
  },
  {
   "cell_type": "markdown",
   "id": "39ba5f60",
   "metadata": {},
   "source": [
    "# Data collection\n",
    "##  1.1. Get the list of places\n",
    "\n",
    "\n",
    "\n"
   ]
  },
  {
   "cell_type": "code",
   "execution_count": null,
   "id": "5f80fc83",
   "metadata": {},
   "outputs": [],
   "source": [
    "with open('most_popular_places.txt', 'w') as file:\n",
    "    for i in tqdm(range(300)):\n",
    "        \n",
    "        url = 'https://www.atlasobscura.com/places?page='+str(i+1)+'&sort=likes_count'\n",
    "        list_page = requests.get(url)\n",
    "        list_soup = BeautifulSoup(list_page.text)\n",
    "        list_places = [x['href'] for x in list_soup.find_all('a', {'class':\"content-card content-card-place\"})]\n",
    "        for place in tqdm(list_places):\n",
    "            file.write('https://www.atlasobscura.com' + str(place))\n",
    "            file.write('\\n')"
   ]
  },
  {
   "cell_type": "markdown",
   "id": "767196a7",
   "metadata": {},
   "source": [
    "## 1.2. Crawl places"
   ]
  },
  {
   "cell_type": "code",
   "execution_count": null,
   "id": "64f19d0d",
   "metadata": {},
   "outputs": [],
   "source": [
    "f= open('most_popular_places.txt', 'r')\n",
    "for j, url in enumerate(f):\n",
    "    \n",
    "    if j %18 == 0:\n",
    "        dir_path = f'page{j//18+1}'\n",
    "        if not os.path.isdir(dir_path):\n",
    "            os.mkdir(dir_path)\n",
    "            \n",
    "    response = requests.get(url.strip())\n",
    "    with open(f'{dir_path}/{j+1}.html','w') as file:\n",
    "        print()\n",
    "        file.write(response.text)\n",
    "        \n",
    "    time.sleep(1)"
   ]
  },
  {
   "cell_type": "markdown",
   "id": "b3a67110",
   "metadata": {},
   "source": [
    "# Parse Pages"
   ]
  },
  {
   "cell_type": "code",
   "execution_count": 4,
   "id": "b39425d0",
   "metadata": {},
   "outputs": [],
   "source": [
    "htmls = [read_html_from(f'./pages/{file}') for file in listdir('./pages') if isfile(join('./pages', file))]\n",
    "   \n",
    "places = [PlaceParser(html).parse() for html in htmls]\n",
    "\n",
    "tsv_path = write_place_to_tsv('./', places)\n",
    "\n",
    "names, descriptions = read_place_desc(tsv_path)\n"
   ]
  },
  {
   "cell_type": "markdown",
   "id": "8a1b1318",
   "metadata": {},
   "source": [
    "# Create Index"
   ]
  },
  {
   "cell_type": "code",
   "execution_count": 5,
   "id": "70e3ba06",
   "metadata": {},
   "outputs": [],
   "source": [
    "index = ConjunctiveIndex()\n",
    "for name, desc in zip(names.values, descriptions.values):\n",
    "    desc = preprocess(desc)\n",
    "\n",
    "    for token in desc:\n",
    "        index.put(token, name)"
   ]
  },
  {
   "cell_type": "markdown",
   "id": "7ee73ed7",
   "metadata": {},
   "source": [
    "# Create Search Engine"
   ]
  },
  {
   "cell_type": "code",
   "execution_count": 6,
   "id": "67d51a74",
   "metadata": {},
   "outputs": [],
   "source": [
    "place_service = PlaceService()\n",
    "place_service.load('./places.tsv')\n",
    "\n",
    "search_engine = SearchEngine(index, place_service)"
   ]
  },
  {
   "cell_type": "markdown",
   "id": "a4e17528",
   "metadata": {},
   "source": [
    "# Run Search"
   ]
  },
  {
   "cell_type": "code",
   "execution_count": 10,
   "id": "1dd10032",
   "metadata": {},
   "outputs": [
    {
     "data": {
      "text/html": [
       "<div>\n",
       "<style scoped>\n",
       "    .dataframe tbody tr th:only-of-type {\n",
       "        vertical-align: middle;\n",
       "    }\n",
       "\n",
       "    .dataframe tbody tr th {\n",
       "        vertical-align: top;\n",
       "    }\n",
       "\n",
       "    .dataframe thead th {\n",
       "        text-align: right;\n",
       "    }\n",
       "</style>\n",
       "<table border=\"1\" class=\"dataframe\">\n",
       "  <thead>\n",
       "    <tr style=\"text-align: right;\">\n",
       "      <th></th>\n",
       "      <th>name</th>\n",
       "      <th>tags</th>\n",
       "      <th>num_people_visited</th>\n",
       "      <th>num_people_want</th>\n",
       "      <th>desc</th>\n",
       "      <th>short_desc</th>\n",
       "      <th>nearby</th>\n",
       "      <th>address</th>\n",
       "      <th>lat</th>\n",
       "      <th>lon</th>\n",
       "      <th>editors</th>\n",
       "      <th>publication_date</th>\n",
       "      <th>appears_in</th>\n",
       "      <th>related_places</th>\n",
       "      <th>url</th>\n",
       "    </tr>\n",
       "  </thead>\n",
       "  <tbody>\n",
       "    <tr>\n",
       "      <th>1</th>\n",
       "      <td>Clock Tower Building</td>\n",
       "      <td>astounding timepieces,architectural oddities,a...</td>\n",
       "      <td>205</td>\n",
       "      <td>859</td>\n",
       "      <td>Opened in 1898, the Clock Tower Building was o...</td>\n",
       "      <td>A historic 1890s architectural masterpiece wit...</td>\n",
       "      <td>Mmuseumm,African Burial Ground National Monume...</td>\n",
       "      <td>125 Worth St, New York, New York, 10013, Unite...</td>\n",
       "      <td>40.7157</td>\n",
       "      <td>-74.0025</td>\n",
       "      <td>dlc31723,hrnick,mbison,cait7911,Zia Ahasan</td>\n",
       "      <td>2009-09-18 00:00:00</td>\n",
       "      <td>19 Amazing Clock Towers</td>\n",
       "      <td>The Temple of Abu Simbel,Jantar Mantar,Prague ...</td>\n",
       "      <td>NaN</td>\n",
       "    </tr>\n",
       "  </tbody>\n",
       "</table>\n",
       "</div>"
      ],
      "text/plain": [
       "                   name                                               tags  \\\n",
       "1  Clock Tower Building  astounding timepieces,architectural oddities,a...   \n",
       "\n",
       "   num_people_visited  num_people_want  \\\n",
       "1                 205              859   \n",
       "\n",
       "                                                desc  \\\n",
       "1  Opened in 1898, the Clock Tower Building was o...   \n",
       "\n",
       "                                          short_desc  \\\n",
       "1  A historic 1890s architectural masterpiece wit...   \n",
       "\n",
       "                                              nearby  \\\n",
       "1  Mmuseumm,African Burial Ground National Monume...   \n",
       "\n",
       "                                             address      lat      lon  \\\n",
       "1  125 Worth St, New York, New York, 10013, Unite...  40.7157 -74.0025   \n",
       "\n",
       "                                      editors     publication_date  \\\n",
       "1  dlc31723,hrnick,mbison,cait7911,Zia Ahasan  2009-09-18 00:00:00   \n",
       "\n",
       "                appears_in                                     related_places  \\\n",
       "1  19 Amazing Clock Towers  The Temple of Abu Simbel,Jantar Mantar,Prague ...   \n",
       "\n",
       "   url  \n",
       "1  NaN  "
      ]
     },
     "execution_count": 10,
     "metadata": {},
     "output_type": "execute_result"
    }
   ],
   "source": [
    "search_engine.query('the Clock Tower Building')"
   ]
  }
 ],
 "metadata": {
  "kernelspec": {
   "display_name": "Python 3 (ipykernel)",
   "language": "python",
   "name": "python3"
  },
  "language_info": {
   "codemirror_mode": {
    "name": "ipython",
    "version": 3
   },
   "file_extension": ".py",
   "mimetype": "text/x-python",
   "name": "python",
   "nbconvert_exporter": "python",
   "pygments_lexer": "ipython3",
   "version": "3.9.12"
  }
 },
 "nbformat": 4,
 "nbformat_minor": 5
}
