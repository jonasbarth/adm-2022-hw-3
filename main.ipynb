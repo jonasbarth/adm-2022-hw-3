{
 "cells": [
  {
   "cell_type": "code",
   "execution_count": 26,
   "id": "64c71e64",
   "metadata": {},
   "outputs": [],
   "source": [
    "import pandas as pd\n",
    "from parse import parse_htmls\n",
    "from util import read_place_desc, read_htmls_in, write_places_to_tsv, read_places\n",
    "from service import PlaceService, SearchEngine\n",
    "from index import preprocess, Index, TfIdfIndex\n",
    "\n",
    "import requests\n",
    "from tqdm import tqdm\n",
    "import os\n",
    "import time\n",
    "import util"
   ]
  },
  {
   "cell_type": "markdown",
   "id": "39ba5f60",
   "metadata": {},
   "source": [
    "# Data collection\n",
    "##  1.1. Get the list of places\n",
    "\n",
    "\n",
    "\n"
   ]
  },
  {
   "cell_type": "code",
   "execution_count": null,
   "id": "5f80fc83",
   "metadata": {},
   "outputs": [],
   "source": [
    "with open('most_popular_places.txt', 'w') as file:\n",
    "    for i in tqdm(range(300)):\n",
    "        \n",
    "        url = 'https://www.atlasobscura.com/places?page='+str(i+1)+'&sort=likes_count'\n",
    "        list_page = requests.get(url)\n",
    "        list_soup = BeautifulSoup(list_page.text)\n",
    "        list_places = [x['href'] for x in list_soup.find_all('a', {'class':\"content-card content-card-place\"})]\n",
    "        for place in tqdm(list_places):\n",
    "            file.write('https://www.atlasobscura.com' + str(place))\n",
    "            file.write('\\n')"
   ]
  },
  {
   "cell_type": "markdown",
   "id": "767196a7",
   "metadata": {},
   "source": [
    "## 1.2. Crawl places"
   ]
  },
  {
   "cell_type": "code",
   "execution_count": null,
   "id": "64f19d0d",
   "metadata": {},
   "outputs": [],
   "source": [
    "f= open('most_popular_places.txt', 'r')\n",
    "for j, url in enumerate(f):\n",
    "    \n",
    "    if j %18 == 0:\n",
    "        dir_path = f'page{j//18+1}'\n",
    "        if not os.path.isdir(dir_path):\n",
    "            os.mkdir(dir_path)\n",
    "            \n",
    "    response = requests.get(url.strip())\n",
    "    with open(f'{dir_path}/{j+1}.html','w') as file:\n",
    "        print()\n",
    "        file.write(response.text)\n",
    "        \n",
    "    time.sleep(1)"
   ]
  },
  {
   "cell_type": "markdown",
   "id": "b3a67110",
   "metadata": {},
   "source": [
    "# 1.3 Parse Pages"
   ]
  },
  {
   "cell_type": "code",
   "execution_count": 3,
   "id": "05956a7c",
   "metadata": {},
   "outputs": [],
   "source": [
    "#all_htmls = read_htmls_in('./pages')"
   ]
  },
  {
   "cell_type": "code",
   "execution_count": 2,
   "id": "2f7bfc03",
   "metadata": {},
   "outputs": [],
   "source": [
    "#%store -r htmls"
   ]
  },
  {
   "cell_type": "code",
   "execution_count": 4,
   "id": "ddb8fd25",
   "metadata": {},
   "outputs": [],
   "source": [
    "#all_places = parse_htmls(htmls)"
   ]
  },
  {
   "cell_type": "code",
   "execution_count": 5,
   "id": "d263fed0",
   "metadata": {},
   "outputs": [],
   "source": [
    "#tsv_path = write_places_to_tsv('./', all_places)"
   ]
  },
  {
   "cell_type": "code",
   "execution_count": 263,
   "id": "1e7799d1",
   "metadata": {},
   "outputs": [
    {
     "name": "stdout",
     "output_type": "stream",
     "text": [
      "Stored 'htmls' (list)\n"
     ]
    }
   ],
   "source": [
    "#%store htmls"
   ]
  },
  {
   "cell_type": "code",
   "execution_count": 27,
   "id": "4fdb537d",
   "metadata": {},
   "outputs": [],
   "source": [
    "ids, descriptions = read_place_desc('./places.tsv')\n",
    "place_service = PlaceService()\n",
    "place_service.load('./places.tsv')"
   ]
  },
  {
   "cell_type": "markdown",
   "id": "8a1b1318",
   "metadata": {},
   "source": [
    "# Create Conjunctive Index"
   ]
  },
  {
   "cell_type": "code",
   "execution_count": 3,
   "id": "70e3ba06",
   "metadata": {},
   "outputs": [],
   "source": [
    "index = Index.create_from(ids, descriptions)"
   ]
  },
  {
   "cell_type": "markdown",
   "id": "7ee73ed7",
   "metadata": {},
   "source": [
    "# Create Search Engine"
   ]
  },
  {
   "cell_type": "code",
   "execution_count": 4,
   "id": "67d51a74",
   "metadata": {},
   "outputs": [],
   "source": [
    "search_engine = SearchEngine(index, place_service)"
   ]
  },
  {
   "cell_type": "markdown",
   "id": "a4e17528",
   "metadata": {},
   "source": [
    "# Run Search"
   ]
  },
  {
   "cell_type": "code",
   "execution_count": 5,
   "id": "1dd10032",
   "metadata": {},
   "outputs": [
    {
     "data": {
      "text/html": [
       "<div>\n",
       "<style scoped>\n",
       "    .dataframe tbody tr th:only-of-type {\n",
       "        vertical-align: middle;\n",
       "    }\n",
       "\n",
       "    .dataframe tbody tr th {\n",
       "        vertical-align: top;\n",
       "    }\n",
       "\n",
       "    .dataframe thead th {\n",
       "        text-align: right;\n",
       "    }\n",
       "</style>\n",
       "<table border=\"1\" class=\"dataframe\">\n",
       "  <thead>\n",
       "    <tr style=\"text-align: right;\">\n",
       "      <th></th>\n",
       "      <th>name</th>\n",
       "      <th>desc</th>\n",
       "      <th>url</th>\n",
       "    </tr>\n",
       "  </thead>\n",
       "  <tbody>\n",
       "    <tr>\n",
       "      <th>6638</th>\n",
       "      <td>Thorne Miniature Rooms</td>\n",
       "      <td>In the depths of the Museum of the Art Institu...</td>\n",
       "      <td>https://www.atlasobscura.com/places/thorne-min...</td>\n",
       "    </tr>\n",
       "    <tr>\n",
       "      <th>2920</th>\n",
       "      <td>Grace Hopper&amp;#39;s Bug</td>\n",
       "      <td>On September 9, 1947, Harvard’s Mark II Aiken ...</td>\n",
       "      <td>https://www.atlasobscura.com/places/grace-hopp...</td>\n",
       "    </tr>\n",
       "    <tr>\n",
       "      <th>6306</th>\n",
       "      <td>Biosphere of Montreal</td>\n",
       "      <td>As their contribution to Montreal’s 1967 World...</td>\n",
       "      <td>https://www.atlasobscura.com/places/biosphere-...</td>\n",
       "    </tr>\n",
       "    <tr>\n",
       "      <th>5999</th>\n",
       "      <td>The Witch House of Salem</td>\n",
       "      <td>The Salem witchcraft trials took place between...</td>\n",
       "      <td>https://www.atlasobscura.com/places/witch-hous...</td>\n",
       "    </tr>\n",
       "    <tr>\n",
       "      <th>4745</th>\n",
       "      <td>Susanna Dickinson Museum</td>\n",
       "      <td>According to a plaque outside her last survivi...</td>\n",
       "      <td>https://www.atlasobscura.com/places/susanna-di...</td>\n",
       "    </tr>\n",
       "    <tr>\n",
       "      <th>...</th>\n",
       "      <td>...</td>\n",
       "      <td>...</td>\n",
       "      <td>...</td>\n",
       "    </tr>\n",
       "    <tr>\n",
       "      <th>576</th>\n",
       "      <td>Truth or Consequences</td>\n",
       "      <td>Located along the Rio Grande in middle of the ...</td>\n",
       "      <td>https://www.atlasobscura.com/places/truth-or-c...</td>\n",
       "    </tr>\n",
       "    <tr>\n",
       "      <th>718</th>\n",
       "      <td>Basilica of Saint Lawrence, Asheville</td>\n",
       "      <td>The turn of the 20th century was a time of pro...</td>\n",
       "      <td>https://www.atlasobscura.com/places/basilica-o...</td>\n",
       "    </tr>\n",
       "    <tr>\n",
       "      <th>359</th>\n",
       "      <td>Stained Glass at Navy Pier</td>\n",
       "      <td>The very first American exhibit dedicated sole...</td>\n",
       "      <td>https://www.atlasobscura.com/places/stained-gl...</td>\n",
       "    </tr>\n",
       "    <tr>\n",
       "      <th>516</th>\n",
       "      <td>Abandoned Comet Diner</td>\n",
       "      <td>Just down the street from Mark Twain’s house a...</td>\n",
       "      <td>https://www.atlasobscura.com/places/abandoned-...</td>\n",
       "    </tr>\n",
       "    <tr>\n",
       "      <th>2165</th>\n",
       "      <td>Birthplace of the Banana Split</td>\n",
       "      <td>David Strickler was just a 23-year-old pharmac...</td>\n",
       "      <td>https://www.atlasobscura.com/places/birthplace...</td>\n",
       "    </tr>\n",
       "  </tbody>\n",
       "</table>\n",
       "<p>244 rows × 3 columns</p>\n",
       "</div>"
      ],
      "text/plain": [
       "                                       name  \\\n",
       "6638                 Thorne Miniature Rooms   \n",
       "2920                 Grace Hopper&#39;s Bug   \n",
       "6306                  Biosphere of Montreal   \n",
       "5999               The Witch House of Salem   \n",
       "4745               Susanna Dickinson Museum   \n",
       "...                                     ...   \n",
       "576                   Truth or Consequences   \n",
       "718   Basilica of Saint Lawrence, Asheville   \n",
       "359              Stained Glass at Navy Pier   \n",
       "516                   Abandoned Comet Diner   \n",
       "2165         Birthplace of the Banana Split   \n",
       "\n",
       "                                                   desc  \\\n",
       "6638  In the depths of the Museum of the Art Institu...   \n",
       "2920  On September 9, 1947, Harvard’s Mark II Aiken ...   \n",
       "6306  As their contribution to Montreal’s 1967 World...   \n",
       "5999  The Salem witchcraft trials took place between...   \n",
       "4745  According to a plaque outside her last survivi...   \n",
       "...                                                 ...   \n",
       "576   Located along the Rio Grande in middle of the ...   \n",
       "718   The turn of the 20th century was a time of pro...   \n",
       "359   The very first American exhibit dedicated sole...   \n",
       "516   Just down the street from Mark Twain’s house a...   \n",
       "2165  David Strickler was just a 23-year-old pharmac...   \n",
       "\n",
       "                                                    url  \n",
       "6638  https://www.atlasobscura.com/places/thorne-min...  \n",
       "2920  https://www.atlasobscura.com/places/grace-hopp...  \n",
       "6306  https://www.atlasobscura.com/places/biosphere-...  \n",
       "5999  https://www.atlasobscura.com/places/witch-hous...  \n",
       "4745  https://www.atlasobscura.com/places/susanna-di...  \n",
       "...                                                 ...  \n",
       "576   https://www.atlasobscura.com/places/truth-or-c...  \n",
       "718   https://www.atlasobscura.com/places/basilica-o...  \n",
       "359   https://www.atlasobscura.com/places/stained-gl...  \n",
       "516   https://www.atlasobscura.com/places/abandoned-...  \n",
       "2165  https://www.atlasobscura.com/places/birthplace...  \n",
       "\n",
       "[244 rows x 3 columns]"
      ]
     },
     "execution_count": 5,
     "metadata": {},
     "output_type": "execute_result"
    }
   ],
   "source": [
    "search_engine.query('american museum')"
   ]
  },
  {
   "cell_type": "markdown",
   "id": "f3a0e312",
   "metadata": {},
   "source": [
    "# Create TF-IDF Index"
   ]
  },
  {
   "cell_type": "code",
   "execution_count": 28,
   "id": "7991f5bf",
   "metadata": {},
   "outputs": [],
   "source": [
    "tf_idf_index = TfIdfIndex.create_from(ids, descriptions)"
   ]
  },
  {
   "cell_type": "markdown",
   "id": "896ef690",
   "metadata": {},
   "source": [
    "# Create TF-IDF Search Engine"
   ]
  },
  {
   "cell_type": "code",
   "execution_count": 29,
   "id": "aad9d61a",
   "metadata": {},
   "outputs": [],
   "source": [
    "tf_idf_search_engine = SearchEngine(tf_idf_index, place_service)"
   ]
  },
  {
   "cell_type": "code",
   "execution_count": 30,
   "id": "826d850c",
   "metadata": {},
   "outputs": [
    {
     "data": {
      "text/html": [
       "<div>\n",
       "<style scoped>\n",
       "    .dataframe tbody tr th:only-of-type {\n",
       "        vertical-align: middle;\n",
       "    }\n",
       "\n",
       "    .dataframe tbody tr th {\n",
       "        vertical-align: top;\n",
       "    }\n",
       "\n",
       "    .dataframe thead th {\n",
       "        text-align: right;\n",
       "    }\n",
       "</style>\n",
       "<table border=\"1\" class=\"dataframe\">\n",
       "  <thead>\n",
       "    <tr style=\"text-align: right;\">\n",
       "      <th></th>\n",
       "      <th>name</th>\n",
       "      <th>desc</th>\n",
       "      <th>url</th>\n",
       "      <th>similarity</th>\n",
       "    </tr>\n",
       "  </thead>\n",
       "  <tbody>\n",
       "    <tr>\n",
       "      <th>3926</th>\n",
       "      <td>Smithsonian Sushi Collection</td>\n",
       "      <td>The American History Museum has collected an a...</td>\n",
       "      <td>https://www.atlasobscura.com/places/smithsonia...</td>\n",
       "      <td>0.999944</td>\n",
       "    </tr>\n",
       "    <tr>\n",
       "      <th>4697</th>\n",
       "      <td>Zippo/Case Museum</td>\n",
       "      <td>Invented in and still proudly manufactured in ...</td>\n",
       "      <td>https://www.atlasobscura.com/places/zippo-case...</td>\n",
       "      <td>0.998837</td>\n",
       "    </tr>\n",
       "    <tr>\n",
       "      <th>2458</th>\n",
       "      <td>Tamástslikt Cultural Institute</td>\n",
       "      <td>The Tamástslikt Cultural Institute, situated o...</td>\n",
       "      <td>https://www.atlasobscura.com/places/tamastslik...</td>\n",
       "      <td>0.998837</td>\n",
       "    </tr>\n",
       "    <tr>\n",
       "      <th>6489</th>\n",
       "      <td>Mercer Museum and Fonthill Castle</td>\n",
       "      <td>Henry Chapman Mercer, a renowned archaeologist...</td>\n",
       "      <td>https://www.atlasobscura.com/places/fonthill</td>\n",
       "      <td>0.998837</td>\n",
       "    </tr>\n",
       "    <tr>\n",
       "      <th>6238</th>\n",
       "      <td>Oak Ridge &amp;quot;The Secret City&amp;quot;</td>\n",
       "      <td>The city of Oak Ridge was established by the U...</td>\n",
       "      <td>https://www.atlasobscura.com/places/the-secret...</td>\n",
       "      <td>0.998837</td>\n",
       "    </tr>\n",
       "    <tr>\n",
       "      <th>238</th>\n",
       "      <td>Off the Rez Cafe</td>\n",
       "      <td>The U.S. government’s forced relocation of Nat...</td>\n",
       "      <td>https://www.atlasobscura.com/places/off-the-re...</td>\n",
       "      <td>0.998837</td>\n",
       "    </tr>\n",
       "    <tr>\n",
       "      <th>5429</th>\n",
       "      <td>Old Time Wooden Nickel Company</td>\n",
       "      <td>The adage goes, “don’t take any wooden nickels...</td>\n",
       "      <td>https://www.atlasobscura.com/places/old-time-w...</td>\n",
       "      <td>0.994973</td>\n",
       "    </tr>\n",
       "    <tr>\n",
       "      <th>5068</th>\n",
       "      <td>Self-Taught Genius Gallery</td>\n",
       "      <td>In 2017, the American Folk Art Museum in Manha...</td>\n",
       "      <td>https://www.atlasobscura.com/places/self-taugh...</td>\n",
       "      <td>0.992310</td>\n",
       "    </tr>\n",
       "    <tr>\n",
       "      <th>5802</th>\n",
       "      <td>Maryhill Museum and Stonehenge</td>\n",
       "      <td>“What in Sam Hill?” This odd expression, of wh...</td>\n",
       "      <td>https://www.atlasobscura.com/places/maryhill-m...</td>\n",
       "      <td>0.988467</td>\n",
       "    </tr>\n",
       "    <tr>\n",
       "      <th>3701</th>\n",
       "      <td>Museum of Chinese in America</td>\n",
       "      <td>The Museum of Chinese in America is nestled—al...</td>\n",
       "      <td>https://www.atlasobscura.com/places/museum-of-...</td>\n",
       "      <td>0.988467</td>\n",
       "    </tr>\n",
       "  </tbody>\n",
       "</table>\n",
       "</div>"
      ],
      "text/plain": [
       "                                       name  \\\n",
       "3926           Smithsonian Sushi Collection   \n",
       "4697                      Zippo/Case Museum   \n",
       "2458         Tamástslikt Cultural Institute   \n",
       "6489      Mercer Museum and Fonthill Castle   \n",
       "6238  Oak Ridge &quot;The Secret City&quot;   \n",
       "238                        Off the Rez Cafe   \n",
       "5429         Old Time Wooden Nickel Company   \n",
       "5068             Self-Taught Genius Gallery   \n",
       "5802         Maryhill Museum and Stonehenge   \n",
       "3701           Museum of Chinese in America   \n",
       "\n",
       "                                                   desc  \\\n",
       "3926  The American History Museum has collected an a...   \n",
       "4697  Invented in and still proudly manufactured in ...   \n",
       "2458  The Tamástslikt Cultural Institute, situated o...   \n",
       "6489  Henry Chapman Mercer, a renowned archaeologist...   \n",
       "6238  The city of Oak Ridge was established by the U...   \n",
       "238   The U.S. government’s forced relocation of Nat...   \n",
       "5429  The adage goes, “don’t take any wooden nickels...   \n",
       "5068  In 2017, the American Folk Art Museum in Manha...   \n",
       "5802  “What in Sam Hill?” This odd expression, of wh...   \n",
       "3701  The Museum of Chinese in America is nestled—al...   \n",
       "\n",
       "                                                    url  similarity  \n",
       "3926  https://www.atlasobscura.com/places/smithsonia...    0.999944  \n",
       "4697  https://www.atlasobscura.com/places/zippo-case...    0.998837  \n",
       "2458  https://www.atlasobscura.com/places/tamastslik...    0.998837  \n",
       "6489       https://www.atlasobscura.com/places/fonthill    0.998837  \n",
       "6238  https://www.atlasobscura.com/places/the-secret...    0.998837  \n",
       "238   https://www.atlasobscura.com/places/off-the-re...    0.998837  \n",
       "5429  https://www.atlasobscura.com/places/old-time-w...    0.994973  \n",
       "5068  https://www.atlasobscura.com/places/self-taugh...    0.992310  \n",
       "5802  https://www.atlasobscura.com/places/maryhill-m...    0.988467  \n",
       "3701  https://www.atlasobscura.com/places/museum-of-...    0.988467  "
      ]
     },
     "execution_count": 30,
     "metadata": {},
     "output_type": "execute_result"
    }
   ],
   "source": [
    "tf_idf_search_engine.query_top_k(\"american museum\", 10)"
   ]
  }
 ],
 "metadata": {
  "kernelspec": {
   "display_name": "Python 3 (ipykernel)",
   "language": "python",
   "name": "python3"
  },
  "language_info": {
   "codemirror_mode": {
    "name": "ipython",
    "version": 3
   },
   "file_extension": ".py",
   "mimetype": "text/x-python",
   "name": "python",
   "nbconvert_exporter": "python",
   "pygments_lexer": "ipython3",
   "version": "3.9.0"
  }
 },
 "nbformat": 4,
 "nbformat_minor": 5
}
