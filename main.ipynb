{
 "cells": [
  {
   "cell_type": "code",
   "execution_count": 1,
   "id": "64c71e64",
   "metadata": {},
   "outputs": [],
   "source": [
    "import pandas as pd\n",
    "from parse import parse_htmls\n",
    "from util import read_place_desc, read_htmls_in, write_places_to_tsv, read_places\n",
    "from service import PlaceService, SearchEngine\n",
    "from index import preprocess, Index, TfIdfIndex\n",
    "\n",
    "import requests\n",
    "from tqdm import tqdm\n",
    "import os\n",
    "import time\n",
    "import util"
   ]
  },
  {
   "cell_type": "markdown",
   "id": "39ba5f60",
   "metadata": {},
   "source": [
    "# Data collection\n",
    "##  1.1. Get the list of places\n",
    "\n",
    "\n",
    "\n"
   ]
  },
  {
   "cell_type": "code",
   "execution_count": null,
   "id": "5f80fc83",
   "metadata": {},
   "outputs": [],
   "source": [
    "with open('most_popular_places.txt', 'w') as file:\n",
    "    for i in tqdm(range(300)):\n",
    "        \n",
    "        url = 'https://www.atlasobscura.com/places?page='+str(i+1)+'&sort=likes_count'\n",
    "        list_page = requests.get(url)\n",
    "        list_soup = BeautifulSoup(list_page.text)\n",
    "        list_places = [x['href'] for x in list_soup.find_all('a', {'class':\"content-card content-card-place\"})]\n",
    "        for place in tqdm(list_places):\n",
    "            file.write('https://www.atlasobscura.com' + str(place))\n",
    "            file.write('\\n')"
   ]
  },
  {
   "cell_type": "markdown",
   "id": "767196a7",
   "metadata": {},
   "source": [
    "## 1.2. Crawl places"
   ]
  },
  {
   "cell_type": "code",
   "execution_count": null,
   "id": "64f19d0d",
   "metadata": {},
   "outputs": [],
   "source": [
    "f= open('most_popular_places.txt', 'r')\n",
    "for j, url in enumerate(f):\n",
    "    \n",
    "    if j %18 == 0:\n",
    "        dir_path = f'page{j//18+1}'\n",
    "        if not os.path.isdir(dir_path):\n",
    "            os.mkdir(dir_path)\n",
    "            \n",
    "    response = requests.get(url.strip())\n",
    "    with open(f'{dir_path}/{j+1}.html','w') as file:\n",
    "        print()\n",
    "        file.write(response.text)\n",
    "        \n",
    "    time.sleep(1)"
   ]
  },
  {
   "cell_type": "markdown",
   "id": "b3a67110",
   "metadata": {},
   "source": [
    "# 1.3 Parse Pages"
   ]
  },
  {
   "cell_type": "code",
   "execution_count": 3,
   "id": "05956a7c",
   "metadata": {},
   "outputs": [],
   "source": [
    "#all_htmls = read_htmls_in('./pages')"
   ]
  },
  {
   "cell_type": "code",
   "execution_count": 2,
   "id": "2f7bfc03",
   "metadata": {},
   "outputs": [],
   "source": [
    "#%store -r htmls"
   ]
  },
  {
   "cell_type": "code",
   "execution_count": 4,
   "id": "ddb8fd25",
   "metadata": {},
   "outputs": [],
   "source": [
    "#all_places = parse_htmls(htmls)"
   ]
  },
  {
   "cell_type": "code",
   "execution_count": 5,
   "id": "d263fed0",
   "metadata": {},
   "outputs": [],
   "source": [
    "#tsv_path = write_places_to_tsv('./', all_places)"
   ]
  },
  {
   "cell_type": "code",
   "execution_count": 263,
   "id": "1e7799d1",
   "metadata": {},
   "outputs": [
    {
     "name": "stdout",
     "output_type": "stream",
     "text": [
      "Stored 'htmls' (list)\n"
     ]
    }
   ],
   "source": [
    "#%store htmls"
   ]
  },
  {
   "cell_type": "code",
   "execution_count": 4,
   "id": "4fdb537d",
   "metadata": {},
   "outputs": [],
   "source": [
    "ids, descriptions = read_place_desc('./places.tsv')\n",
    "place_service = PlaceService()\n",
    "place_service.load('./places.tsv')"
   ]
  },
  {
   "cell_type": "markdown",
   "id": "8a1b1318",
   "metadata": {},
   "source": [
    "# Create Conjunctive Index"
   ]
  },
  {
   "cell_type": "markdown",
   "id": "7b757ff4",
   "metadata": {},
   "source": [
    "## Create from saved `.tsv` file."
   ]
  },
  {
   "cell_type": "code",
   "execution_count": 3,
   "id": "70e3ba06",
   "metadata": {},
   "outputs": [],
   "source": [
    "index = Index.create_from(ids, descriptions)"
   ]
  },
  {
   "cell_type": "markdown",
   "id": "7af2206d",
   "metadata": {},
   "source": [
    "## Load saved index"
   ]
  },
  {
   "cell_type": "code",
   "execution_count": 8,
   "id": "f16a6fa2",
   "metadata": {},
   "outputs": [],
   "source": [
    "index = Index.load_from('./resources/index.pickle')"
   ]
  },
  {
   "cell_type": "markdown",
   "id": "7ee73ed7",
   "metadata": {},
   "source": [
    "# Create Search Engine"
   ]
  },
  {
   "cell_type": "code",
   "execution_count": 9,
   "id": "67d51a74",
   "metadata": {},
   "outputs": [],
   "source": [
    "search_engine = SearchEngine(index, place_service)"
   ]
  },
  {
   "cell_type": "markdown",
   "id": "a4e17528",
   "metadata": {},
   "source": [
    "# Run Search"
   ]
  },
  {
   "cell_type": "code",
   "execution_count": 10,
   "id": "1dd10032",
   "metadata": {},
   "outputs": [
    {
     "data": {
      "text/html": [
       "<div>\n",
       "<style scoped>\n",
       "    .dataframe tbody tr th:only-of-type {\n",
       "        vertical-align: middle;\n",
       "    }\n",
       "\n",
       "    .dataframe tbody tr th {\n",
       "        vertical-align: top;\n",
       "    }\n",
       "\n",
       "    .dataframe thead th {\n",
       "        text-align: right;\n",
       "    }\n",
       "</style>\n",
       "<table border=\"1\" class=\"dataframe\">\n",
       "  <thead>\n",
       "    <tr style=\"text-align: right;\">\n",
       "      <th></th>\n",
       "      <th>name</th>\n",
       "      <th>desc</th>\n",
       "      <th>url</th>\n",
       "    </tr>\n",
       "  </thead>\n",
       "  <tbody>\n",
       "    <tr>\n",
       "      <th>1804</th>\n",
       "      <td>Uncommon Objects</td>\n",
       "      <td>Like an elegant antiques mall gone horribly wr...</td>\n",
       "      <td>https://www.atlasobscura.com/places/uncommon-o...</td>\n",
       "    </tr>\n",
       "    <tr>\n",
       "      <th>2458</th>\n",
       "      <td>Tamástslikt Cultural Institute</td>\n",
       "      <td>The Tamástslikt Cultural Institute, situated o...</td>\n",
       "      <td>https://www.atlasobscura.com/places/tamastslik...</td>\n",
       "    </tr>\n",
       "    <tr>\n",
       "      <th>349</th>\n",
       "      <td>Mitsitam Native Foods Cafe</td>\n",
       "      <td>A visit to the National Mall in Washington, D....</td>\n",
       "      <td>https://www.atlasobscura.com/places/mitsitam-n...</td>\n",
       "    </tr>\n",
       "    <tr>\n",
       "      <th>3701</th>\n",
       "      <td>Museum of Chinese in America</td>\n",
       "      <td>The Museum of Chinese in America is nestled—al...</td>\n",
       "      <td>https://www.atlasobscura.com/places/museum-of-...</td>\n",
       "    </tr>\n",
       "    <tr>\n",
       "      <th>1087</th>\n",
       "      <td>Museum of Mourning Art</td>\n",
       "      <td>Mourning and personal response to death are un...</td>\n",
       "      <td>https://www.atlasobscura.com/places/museum-of-...</td>\n",
       "    </tr>\n",
       "    <tr>\n",
       "      <th>...</th>\n",
       "      <td>...</td>\n",
       "      <td>...</td>\n",
       "      <td>...</td>\n",
       "    </tr>\n",
       "    <tr>\n",
       "      <th>6473</th>\n",
       "      <td>Museum of the American Cocktail</td>\n",
       "      <td>They say that New Orleans is the home of the f...</td>\n",
       "      <td>https://www.atlasobscura.com/places/museum-ame...</td>\n",
       "    </tr>\n",
       "    <tr>\n",
       "      <th>1934</th>\n",
       "      <td>Unto These Hills Cherokee Theatre</td>\n",
       "      <td>Since 1950, members of the local Cherokee trib...</td>\n",
       "      <td>https://www.atlasobscura.com/places/unto-these...</td>\n",
       "    </tr>\n",
       "    <tr>\n",
       "      <th>984</th>\n",
       "      <td>Theodore Roosevelt Birthplace Museum</td>\n",
       "      <td>Behind an otherwise innocuous (if immaculately...</td>\n",
       "      <td>https://www.atlasobscura.com/places/theodore-r...</td>\n",
       "    </tr>\n",
       "    <tr>\n",
       "      <th>620</th>\n",
       "      <td>Canyons of the Ancients</td>\n",
       "      <td>Ripe for quiet reflection and simply awe-inspi...</td>\n",
       "      <td>https://www.atlasobscura.com/places/canyons-of...</td>\n",
       "    </tr>\n",
       "    <tr>\n",
       "      <th>5850</th>\n",
       "      <td>Wilbur D. May Museum</td>\n",
       "      <td>There is only one place in Nevada where you wi...</td>\n",
       "      <td>https://www.atlasobscura.com/places/wilbur-d-m...</td>\n",
       "    </tr>\n",
       "  </tbody>\n",
       "</table>\n",
       "<p>244 rows × 3 columns</p>\n",
       "</div>"
      ],
      "text/plain": [
       "                                      name  \\\n",
       "1804                      Uncommon Objects   \n",
       "2458        Tamástslikt Cultural Institute   \n",
       "349             Mitsitam Native Foods Cafe   \n",
       "3701          Museum of Chinese in America   \n",
       "1087                Museum of Mourning Art   \n",
       "...                                    ...   \n",
       "6473       Museum of the American Cocktail   \n",
       "1934     Unto These Hills Cherokee Theatre   \n",
       "984   Theodore Roosevelt Birthplace Museum   \n",
       "620                Canyons of the Ancients   \n",
       "5850                  Wilbur D. May Museum   \n",
       "\n",
       "                                                   desc  \\\n",
       "1804  Like an elegant antiques mall gone horribly wr...   \n",
       "2458  The Tamástslikt Cultural Institute, situated o...   \n",
       "349   A visit to the National Mall in Washington, D....   \n",
       "3701  The Museum of Chinese in America is nestled—al...   \n",
       "1087  Mourning and personal response to death are un...   \n",
       "...                                                 ...   \n",
       "6473  They say that New Orleans is the home of the f...   \n",
       "1934  Since 1950, members of the local Cherokee trib...   \n",
       "984   Behind an otherwise innocuous (if immaculately...   \n",
       "620   Ripe for quiet reflection and simply awe-inspi...   \n",
       "5850  There is only one place in Nevada where you wi...   \n",
       "\n",
       "                                                    url  \n",
       "1804  https://www.atlasobscura.com/places/uncommon-o...  \n",
       "2458  https://www.atlasobscura.com/places/tamastslik...  \n",
       "349   https://www.atlasobscura.com/places/mitsitam-n...  \n",
       "3701  https://www.atlasobscura.com/places/museum-of-...  \n",
       "1087  https://www.atlasobscura.com/places/museum-of-...  \n",
       "...                                                 ...  \n",
       "6473  https://www.atlasobscura.com/places/museum-ame...  \n",
       "1934  https://www.atlasobscura.com/places/unto-these...  \n",
       "984   https://www.atlasobscura.com/places/theodore-r...  \n",
       "620   https://www.atlasobscura.com/places/canyons-of...  \n",
       "5850  https://www.atlasobscura.com/places/wilbur-d-m...  \n",
       "\n",
       "[244 rows x 3 columns]"
      ]
     },
     "execution_count": 10,
     "metadata": {},
     "output_type": "execute_result"
    }
   ],
   "source": [
    "search_engine.query('american museum')"
   ]
  },
  {
   "cell_type": "markdown",
   "id": "f3a0e312",
   "metadata": {},
   "source": [
    "# Create TF-IDF Index"
   ]
  },
  {
   "cell_type": "markdown",
   "id": "a65e4cce",
   "metadata": {},
   "source": [
    "## Ceate from saved `.tsv` file"
   ]
  },
  {
   "cell_type": "code",
   "execution_count": 11,
   "id": "7991f5bf",
   "metadata": {},
   "outputs": [
    {
     "ename": "KeyboardInterrupt",
     "evalue": "",
     "output_type": "error",
     "traceback": [
      "\u001b[1;31m---------------------------------------------------------------------------\u001b[0m",
      "\u001b[1;31mKeyboardInterrupt\u001b[0m                         Traceback (most recent call last)",
      "Cell \u001b[1;32mIn [11], line 1\u001b[0m\n\u001b[1;32m----> 1\u001b[0m tf_idf_index \u001b[38;5;241m=\u001b[39m \u001b[43mTfIdfIndex\u001b[49m\u001b[38;5;241;43m.\u001b[39;49m\u001b[43mcreate_from\u001b[49m\u001b[43m(\u001b[49m\u001b[43mids\u001b[49m\u001b[43m,\u001b[49m\u001b[43m \u001b[49m\u001b[43mdescriptions\u001b[49m\u001b[43m)\u001b[49m\n",
      "File \u001b[1;32m~\\Desktop\\Uni\\MSc\\Year 1\\ADM\\homework_3\\adm-2022-hw-3\\index\\tf_idf_index.py:58\u001b[0m, in \u001b[0;36mTfIdfIndex.create_from\u001b[1;34m(document_ids, words)\u001b[0m\n\u001b[0;32m     55\u001b[0m index \u001b[38;5;241m=\u001b[39m TfIdfIndex(\u001b[38;5;28mlen\u001b[39m(document_ids))\n\u001b[0;32m     56\u001b[0m \u001b[38;5;28;01mfor\u001b[39;00m name, desc \u001b[38;5;129;01min\u001b[39;00m \u001b[38;5;28mzip\u001b[39m(document_ids, words):\n\u001b[1;32m---> 58\u001b[0m     desc \u001b[38;5;241m=\u001b[39m \u001b[43mpreprocess\u001b[49m\u001b[43m(\u001b[49m\u001b[43mdesc\u001b[49m\u001b[43m,\u001b[49m\u001b[43m \u001b[49m\u001b[43munique\u001b[49m\u001b[38;5;241;43m=\u001b[39;49m\u001b[38;5;28;43;01mFalse\u001b[39;49;00m\u001b[43m)\u001b[49m\n\u001b[0;32m     60\u001b[0m     counter \u001b[38;5;241m=\u001b[39m Counter(desc)\n\u001b[0;32m     62\u001b[0m     \u001b[38;5;28;01mfor\u001b[39;00m token \u001b[38;5;129;01min\u001b[39;00m desc:\n",
      "File \u001b[1;32m~\\Desktop\\Uni\\MSc\\Year 1\\ADM\\homework_3\\adm-2022-hw-3\\index\\preprocess.py:28\u001b[0m, in \u001b[0;36mpreprocess\u001b[1;34m(desc, unique)\u001b[0m\n\u001b[0;32m     25\u001b[0m no_stop_words_desc \u001b[38;5;241m=\u001b[39m \u001b[38;5;28mlist\u001b[39m(\u001b[38;5;28mfilter\u001b[39m(\u001b[38;5;28;01mlambda\u001b[39;00m word: word \u001b[38;5;129;01mnot\u001b[39;00m \u001b[38;5;129;01min\u001b[39;00m stop_words, lower_desc))\n\u001b[0;32m     26\u001b[0m cleaned_desc \u001b[38;5;241m=\u001b[39m \u001b[38;5;28mlist\u001b[39m(\u001b[38;5;28mfilter\u001b[39m(\u001b[38;5;28;01mlambda\u001b[39;00m word: word \u001b[38;5;129;01mnot\u001b[39;00m \u001b[38;5;129;01min\u001b[39;00m string\u001b[38;5;241m.\u001b[39mpunctuation, no_stop_words_desc))\n\u001b[1;32m---> 28\u001b[0m stemmed \u001b[38;5;241m=\u001b[39m \u001b[38;5;28;43mlist\u001b[39;49m\u001b[43m(\u001b[49m\u001b[43mstemmer\u001b[49m\u001b[38;5;241;43m.\u001b[39;49m\u001b[43mstem\u001b[49m\u001b[43m(\u001b[49m\u001b[43mword\u001b[49m\u001b[43m)\u001b[49m\u001b[43m \u001b[49m\u001b[38;5;28;43;01mfor\u001b[39;49;00m\u001b[43m \u001b[49m\u001b[43mword\u001b[49m\u001b[43m \u001b[49m\u001b[38;5;129;43;01min\u001b[39;49;00m\u001b[43m \u001b[49m\u001b[43mcleaned_desc\u001b[49m\u001b[43m)\u001b[49m\n\u001b[0;32m     30\u001b[0m \u001b[38;5;28;01mif\u001b[39;00m unique:\n\u001b[0;32m     31\u001b[0m     stemmed \u001b[38;5;241m=\u001b[39m \u001b[38;5;28mset\u001b[39m(stemmed)\n",
      "File \u001b[1;32m~\\Desktop\\Uni\\MSc\\Year 1\\ADM\\homework_3\\adm-2022-hw-3\\index\\preprocess.py:28\u001b[0m, in \u001b[0;36m<genexpr>\u001b[1;34m(.0)\u001b[0m\n\u001b[0;32m     25\u001b[0m no_stop_words_desc \u001b[38;5;241m=\u001b[39m \u001b[38;5;28mlist\u001b[39m(\u001b[38;5;28mfilter\u001b[39m(\u001b[38;5;28;01mlambda\u001b[39;00m word: word \u001b[38;5;129;01mnot\u001b[39;00m \u001b[38;5;129;01min\u001b[39;00m stop_words, lower_desc))\n\u001b[0;32m     26\u001b[0m cleaned_desc \u001b[38;5;241m=\u001b[39m \u001b[38;5;28mlist\u001b[39m(\u001b[38;5;28mfilter\u001b[39m(\u001b[38;5;28;01mlambda\u001b[39;00m word: word \u001b[38;5;129;01mnot\u001b[39;00m \u001b[38;5;129;01min\u001b[39;00m string\u001b[38;5;241m.\u001b[39mpunctuation, no_stop_words_desc))\n\u001b[1;32m---> 28\u001b[0m stemmed \u001b[38;5;241m=\u001b[39m \u001b[38;5;28mlist\u001b[39m(\u001b[43mstemmer\u001b[49m\u001b[38;5;241;43m.\u001b[39;49m\u001b[43mstem\u001b[49m\u001b[43m(\u001b[49m\u001b[43mword\u001b[49m\u001b[43m)\u001b[49m \u001b[38;5;28;01mfor\u001b[39;00m word \u001b[38;5;129;01min\u001b[39;00m cleaned_desc)\n\u001b[0;32m     30\u001b[0m \u001b[38;5;28;01mif\u001b[39;00m unique:\n\u001b[0;32m     31\u001b[0m     stemmed \u001b[38;5;241m=\u001b[39m \u001b[38;5;28mset\u001b[39m(stemmed)\n",
      "File \u001b[1;32mc:\\users\\jonas\\desktop\\uni\\msc\\year 1\\adm\\homework_3\\adm-2022-hw-3\\env\\lib\\site-packages\\nltk\\stem\\porter.py:674\u001b[0m, in \u001b[0;36mPorterStemmer.stem\u001b[1;34m(self, word, to_lowercase)\u001b[0m\n\u001b[0;32m    672\u001b[0m stem \u001b[38;5;241m=\u001b[39m \u001b[38;5;28mself\u001b[39m\u001b[38;5;241m.\u001b[39m_step2(stem)\n\u001b[0;32m    673\u001b[0m stem \u001b[38;5;241m=\u001b[39m \u001b[38;5;28mself\u001b[39m\u001b[38;5;241m.\u001b[39m_step3(stem)\n\u001b[1;32m--> 674\u001b[0m stem \u001b[38;5;241m=\u001b[39m \u001b[38;5;28;43mself\u001b[39;49m\u001b[38;5;241;43m.\u001b[39;49m\u001b[43m_step4\u001b[49m\u001b[43m(\u001b[49m\u001b[43mstem\u001b[49m\u001b[43m)\u001b[49m\n\u001b[0;32m    675\u001b[0m stem \u001b[38;5;241m=\u001b[39m \u001b[38;5;28mself\u001b[39m\u001b[38;5;241m.\u001b[39m_step5a(stem)\n\u001b[0;32m    676\u001b[0m stem \u001b[38;5;241m=\u001b[39m \u001b[38;5;28mself\u001b[39m\u001b[38;5;241m.\u001b[39m_step5b(stem)\n",
      "File \u001b[1;32mc:\\users\\jonas\\desktop\\uni\\msc\\year 1\\adm\\homework_3\\adm-2022-hw-3\\env\\lib\\site-packages\\nltk\\stem\\porter.py:573\u001b[0m, in \u001b[0;36mPorterStemmer._step4\u001b[1;34m(self, word)\u001b[0m\n\u001b[0;32m    544\u001b[0m \u001b[38;5;124;03m\"\"\"Implements Step 4 from \"An algorithm for suffix stripping\"\u001b[39;00m\n\u001b[0;32m    545\u001b[0m \n\u001b[0;32m    546\u001b[0m \u001b[38;5;124;03mStep 4\u001b[39;00m\n\u001b[1;32m   (...)\u001b[0m\n\u001b[0;32m    569\u001b[0m \u001b[38;5;124;03mtidying up.\u001b[39;00m\n\u001b[0;32m    570\u001b[0m \u001b[38;5;124;03m\"\"\"\u001b[39;00m\n\u001b[0;32m    571\u001b[0m measure_gt_1 \u001b[38;5;241m=\u001b[39m \u001b[38;5;28;01mlambda\u001b[39;00m stem: \u001b[38;5;28mself\u001b[39m\u001b[38;5;241m.\u001b[39m_measure(stem) \u001b[38;5;241m>\u001b[39m \u001b[38;5;241m1\u001b[39m\n\u001b[1;32m--> 573\u001b[0m \u001b[38;5;28;01mreturn\u001b[39;00m \u001b[38;5;28;43mself\u001b[39;49m\u001b[38;5;241;43m.\u001b[39;49m\u001b[43m_apply_rule_list\u001b[49m\u001b[43m(\u001b[49m\n\u001b[0;32m    574\u001b[0m \u001b[43m    \u001b[49m\u001b[43mword\u001b[49m\u001b[43m,\u001b[49m\n\u001b[0;32m    575\u001b[0m \u001b[43m    \u001b[49m\u001b[43m[\u001b[49m\n\u001b[0;32m    576\u001b[0m \u001b[43m        \u001b[49m\u001b[43m(\u001b[49m\u001b[38;5;124;43m\"\u001b[39;49m\u001b[38;5;124;43mal\u001b[39;49m\u001b[38;5;124;43m\"\u001b[39;49m\u001b[43m,\u001b[49m\u001b[43m \u001b[49m\u001b[38;5;124;43m\"\u001b[39;49m\u001b[38;5;124;43m\"\u001b[39;49m\u001b[43m,\u001b[49m\u001b[43m \u001b[49m\u001b[43mmeasure_gt_1\u001b[49m\u001b[43m)\u001b[49m\u001b[43m,\u001b[49m\n\u001b[0;32m    577\u001b[0m \u001b[43m        \u001b[49m\u001b[43m(\u001b[49m\u001b[38;5;124;43m\"\u001b[39;49m\u001b[38;5;124;43mance\u001b[39;49m\u001b[38;5;124;43m\"\u001b[39;49m\u001b[43m,\u001b[49m\u001b[43m \u001b[49m\u001b[38;5;124;43m\"\u001b[39;49m\u001b[38;5;124;43m\"\u001b[39;49m\u001b[43m,\u001b[49m\u001b[43m \u001b[49m\u001b[43mmeasure_gt_1\u001b[49m\u001b[43m)\u001b[49m\u001b[43m,\u001b[49m\n\u001b[0;32m    578\u001b[0m \u001b[43m        \u001b[49m\u001b[43m(\u001b[49m\u001b[38;5;124;43m\"\u001b[39;49m\u001b[38;5;124;43mence\u001b[39;49m\u001b[38;5;124;43m\"\u001b[39;49m\u001b[43m,\u001b[49m\u001b[43m \u001b[49m\u001b[38;5;124;43m\"\u001b[39;49m\u001b[38;5;124;43m\"\u001b[39;49m\u001b[43m,\u001b[49m\u001b[43m \u001b[49m\u001b[43mmeasure_gt_1\u001b[49m\u001b[43m)\u001b[49m\u001b[43m,\u001b[49m\n\u001b[0;32m    579\u001b[0m \u001b[43m        \u001b[49m\u001b[43m(\u001b[49m\u001b[38;5;124;43m\"\u001b[39;49m\u001b[38;5;124;43mer\u001b[39;49m\u001b[38;5;124;43m\"\u001b[39;49m\u001b[43m,\u001b[49m\u001b[43m \u001b[49m\u001b[38;5;124;43m\"\u001b[39;49m\u001b[38;5;124;43m\"\u001b[39;49m\u001b[43m,\u001b[49m\u001b[43m \u001b[49m\u001b[43mmeasure_gt_1\u001b[49m\u001b[43m)\u001b[49m\u001b[43m,\u001b[49m\n\u001b[0;32m    580\u001b[0m \u001b[43m        \u001b[49m\u001b[43m(\u001b[49m\u001b[38;5;124;43m\"\u001b[39;49m\u001b[38;5;124;43mic\u001b[39;49m\u001b[38;5;124;43m\"\u001b[39;49m\u001b[43m,\u001b[49m\u001b[43m \u001b[49m\u001b[38;5;124;43m\"\u001b[39;49m\u001b[38;5;124;43m\"\u001b[39;49m\u001b[43m,\u001b[49m\u001b[43m \u001b[49m\u001b[43mmeasure_gt_1\u001b[49m\u001b[43m)\u001b[49m\u001b[43m,\u001b[49m\n\u001b[0;32m    581\u001b[0m \u001b[43m        \u001b[49m\u001b[43m(\u001b[49m\u001b[38;5;124;43m\"\u001b[39;49m\u001b[38;5;124;43mable\u001b[39;49m\u001b[38;5;124;43m\"\u001b[39;49m\u001b[43m,\u001b[49m\u001b[43m \u001b[49m\u001b[38;5;124;43m\"\u001b[39;49m\u001b[38;5;124;43m\"\u001b[39;49m\u001b[43m,\u001b[49m\u001b[43m \u001b[49m\u001b[43mmeasure_gt_1\u001b[49m\u001b[43m)\u001b[49m\u001b[43m,\u001b[49m\n\u001b[0;32m    582\u001b[0m \u001b[43m        \u001b[49m\u001b[43m(\u001b[49m\u001b[38;5;124;43m\"\u001b[39;49m\u001b[38;5;124;43mible\u001b[39;49m\u001b[38;5;124;43m\"\u001b[39;49m\u001b[43m,\u001b[49m\u001b[43m \u001b[49m\u001b[38;5;124;43m\"\u001b[39;49m\u001b[38;5;124;43m\"\u001b[39;49m\u001b[43m,\u001b[49m\u001b[43m \u001b[49m\u001b[43mmeasure_gt_1\u001b[49m\u001b[43m)\u001b[49m\u001b[43m,\u001b[49m\n\u001b[0;32m    583\u001b[0m \u001b[43m        \u001b[49m\u001b[43m(\u001b[49m\u001b[38;5;124;43m\"\u001b[39;49m\u001b[38;5;124;43mant\u001b[39;49m\u001b[38;5;124;43m\"\u001b[39;49m\u001b[43m,\u001b[49m\u001b[43m \u001b[49m\u001b[38;5;124;43m\"\u001b[39;49m\u001b[38;5;124;43m\"\u001b[39;49m\u001b[43m,\u001b[49m\u001b[43m \u001b[49m\u001b[43mmeasure_gt_1\u001b[49m\u001b[43m)\u001b[49m\u001b[43m,\u001b[49m\n\u001b[0;32m    584\u001b[0m \u001b[43m        \u001b[49m\u001b[43m(\u001b[49m\u001b[38;5;124;43m\"\u001b[39;49m\u001b[38;5;124;43mement\u001b[39;49m\u001b[38;5;124;43m\"\u001b[39;49m\u001b[43m,\u001b[49m\u001b[43m \u001b[49m\u001b[38;5;124;43m\"\u001b[39;49m\u001b[38;5;124;43m\"\u001b[39;49m\u001b[43m,\u001b[49m\u001b[43m \u001b[49m\u001b[43mmeasure_gt_1\u001b[49m\u001b[43m)\u001b[49m\u001b[43m,\u001b[49m\n\u001b[0;32m    585\u001b[0m \u001b[43m        \u001b[49m\u001b[43m(\u001b[49m\u001b[38;5;124;43m\"\u001b[39;49m\u001b[38;5;124;43mment\u001b[39;49m\u001b[38;5;124;43m\"\u001b[39;49m\u001b[43m,\u001b[49m\u001b[43m \u001b[49m\u001b[38;5;124;43m\"\u001b[39;49m\u001b[38;5;124;43m\"\u001b[39;49m\u001b[43m,\u001b[49m\u001b[43m \u001b[49m\u001b[43mmeasure_gt_1\u001b[49m\u001b[43m)\u001b[49m\u001b[43m,\u001b[49m\n\u001b[0;32m    586\u001b[0m \u001b[43m        \u001b[49m\u001b[43m(\u001b[49m\u001b[38;5;124;43m\"\u001b[39;49m\u001b[38;5;124;43ment\u001b[39;49m\u001b[38;5;124;43m\"\u001b[39;49m\u001b[43m,\u001b[49m\u001b[43m \u001b[49m\u001b[38;5;124;43m\"\u001b[39;49m\u001b[38;5;124;43m\"\u001b[39;49m\u001b[43m,\u001b[49m\u001b[43m \u001b[49m\u001b[43mmeasure_gt_1\u001b[49m\u001b[43m)\u001b[49m\u001b[43m,\u001b[49m\n\u001b[0;32m    587\u001b[0m \u001b[43m        \u001b[49m\u001b[38;5;66;43;03m# (m>1 and (*S or *T)) ION ->\u001b[39;49;00m\n\u001b[0;32m    588\u001b[0m \u001b[43m        \u001b[49m\u001b[43m(\u001b[49m\n\u001b[0;32m    589\u001b[0m \u001b[43m            \u001b[49m\u001b[38;5;124;43m\"\u001b[39;49m\u001b[38;5;124;43mion\u001b[39;49m\u001b[38;5;124;43m\"\u001b[39;49m\u001b[43m,\u001b[49m\n\u001b[0;32m    590\u001b[0m \u001b[43m            \u001b[49m\u001b[38;5;124;43m\"\u001b[39;49m\u001b[38;5;124;43m\"\u001b[39;49m\u001b[43m,\u001b[49m\n\u001b[0;32m    591\u001b[0m \u001b[43m            \u001b[49m\u001b[38;5;28;43;01mlambda\u001b[39;49;00m\u001b[43m \u001b[49m\u001b[43mstem\u001b[49m\u001b[43m:\u001b[49m\u001b[43m \u001b[49m\u001b[38;5;28;43mself\u001b[39;49m\u001b[38;5;241;43m.\u001b[39;49m\u001b[43m_measure\u001b[49m\u001b[43m(\u001b[49m\u001b[43mstem\u001b[49m\u001b[43m)\u001b[49m\u001b[43m \u001b[49m\u001b[38;5;241;43m>\u001b[39;49m\u001b[43m \u001b[49m\u001b[38;5;241;43m1\u001b[39;49m\u001b[43m \u001b[49m\u001b[38;5;129;43;01mand\u001b[39;49;00m\u001b[43m \u001b[49m\u001b[43mstem\u001b[49m\u001b[43m[\u001b[49m\u001b[38;5;241;43m-\u001b[39;49m\u001b[38;5;241;43m1\u001b[39;49m\u001b[43m]\u001b[49m\u001b[43m \u001b[49m\u001b[38;5;129;43;01min\u001b[39;49;00m\u001b[43m \u001b[49m\u001b[43m(\u001b[49m\u001b[38;5;124;43m\"\u001b[39;49m\u001b[38;5;124;43ms\u001b[39;49m\u001b[38;5;124;43m\"\u001b[39;49m\u001b[43m,\u001b[49m\u001b[43m \u001b[49m\u001b[38;5;124;43m\"\u001b[39;49m\u001b[38;5;124;43mt\u001b[39;49m\u001b[38;5;124;43m\"\u001b[39;49m\u001b[43m)\u001b[49m\u001b[43m,\u001b[49m\n\u001b[0;32m    592\u001b[0m \u001b[43m        \u001b[49m\u001b[43m)\u001b[49m\u001b[43m,\u001b[49m\n\u001b[0;32m    593\u001b[0m \u001b[43m        \u001b[49m\u001b[43m(\u001b[49m\u001b[38;5;124;43m\"\u001b[39;49m\u001b[38;5;124;43mou\u001b[39;49m\u001b[38;5;124;43m\"\u001b[39;49m\u001b[43m,\u001b[49m\u001b[43m \u001b[49m\u001b[38;5;124;43m\"\u001b[39;49m\u001b[38;5;124;43m\"\u001b[39;49m\u001b[43m,\u001b[49m\u001b[43m \u001b[49m\u001b[43mmeasure_gt_1\u001b[49m\u001b[43m)\u001b[49m\u001b[43m,\u001b[49m\n\u001b[0;32m    594\u001b[0m \u001b[43m        \u001b[49m\u001b[43m(\u001b[49m\u001b[38;5;124;43m\"\u001b[39;49m\u001b[38;5;124;43mism\u001b[39;49m\u001b[38;5;124;43m\"\u001b[39;49m\u001b[43m,\u001b[49m\u001b[43m \u001b[49m\u001b[38;5;124;43m\"\u001b[39;49m\u001b[38;5;124;43m\"\u001b[39;49m\u001b[43m,\u001b[49m\u001b[43m \u001b[49m\u001b[43mmeasure_gt_1\u001b[49m\u001b[43m)\u001b[49m\u001b[43m,\u001b[49m\n\u001b[0;32m    595\u001b[0m \u001b[43m        \u001b[49m\u001b[43m(\u001b[49m\u001b[38;5;124;43m\"\u001b[39;49m\u001b[38;5;124;43mate\u001b[39;49m\u001b[38;5;124;43m\"\u001b[39;49m\u001b[43m,\u001b[49m\u001b[43m \u001b[49m\u001b[38;5;124;43m\"\u001b[39;49m\u001b[38;5;124;43m\"\u001b[39;49m\u001b[43m,\u001b[49m\u001b[43m \u001b[49m\u001b[43mmeasure_gt_1\u001b[49m\u001b[43m)\u001b[49m\u001b[43m,\u001b[49m\n\u001b[0;32m    596\u001b[0m \u001b[43m        \u001b[49m\u001b[43m(\u001b[49m\u001b[38;5;124;43m\"\u001b[39;49m\u001b[38;5;124;43miti\u001b[39;49m\u001b[38;5;124;43m\"\u001b[39;49m\u001b[43m,\u001b[49m\u001b[43m \u001b[49m\u001b[38;5;124;43m\"\u001b[39;49m\u001b[38;5;124;43m\"\u001b[39;49m\u001b[43m,\u001b[49m\u001b[43m \u001b[49m\u001b[43mmeasure_gt_1\u001b[49m\u001b[43m)\u001b[49m\u001b[43m,\u001b[49m\n\u001b[0;32m    597\u001b[0m \u001b[43m        \u001b[49m\u001b[43m(\u001b[49m\u001b[38;5;124;43m\"\u001b[39;49m\u001b[38;5;124;43mous\u001b[39;49m\u001b[38;5;124;43m\"\u001b[39;49m\u001b[43m,\u001b[49m\u001b[43m \u001b[49m\u001b[38;5;124;43m\"\u001b[39;49m\u001b[38;5;124;43m\"\u001b[39;49m\u001b[43m,\u001b[49m\u001b[43m \u001b[49m\u001b[43mmeasure_gt_1\u001b[49m\u001b[43m)\u001b[49m\u001b[43m,\u001b[49m\n\u001b[0;32m    598\u001b[0m \u001b[43m        \u001b[49m\u001b[43m(\u001b[49m\u001b[38;5;124;43m\"\u001b[39;49m\u001b[38;5;124;43mive\u001b[39;49m\u001b[38;5;124;43m\"\u001b[39;49m\u001b[43m,\u001b[49m\u001b[43m \u001b[49m\u001b[38;5;124;43m\"\u001b[39;49m\u001b[38;5;124;43m\"\u001b[39;49m\u001b[43m,\u001b[49m\u001b[43m \u001b[49m\u001b[43mmeasure_gt_1\u001b[49m\u001b[43m)\u001b[49m\u001b[43m,\u001b[49m\n\u001b[0;32m    599\u001b[0m \u001b[43m        \u001b[49m\u001b[43m(\u001b[49m\u001b[38;5;124;43m\"\u001b[39;49m\u001b[38;5;124;43mize\u001b[39;49m\u001b[38;5;124;43m\"\u001b[39;49m\u001b[43m,\u001b[49m\u001b[43m \u001b[49m\u001b[38;5;124;43m\"\u001b[39;49m\u001b[38;5;124;43m\"\u001b[39;49m\u001b[43m,\u001b[49m\u001b[43m \u001b[49m\u001b[43mmeasure_gt_1\u001b[49m\u001b[43m)\u001b[49m\u001b[43m,\u001b[49m\n\u001b[0;32m    600\u001b[0m \u001b[43m    \u001b[49m\u001b[43m]\u001b[49m\u001b[43m,\u001b[49m\n\u001b[0;32m    601\u001b[0m \u001b[43m\u001b[49m\u001b[43m)\u001b[49m\n",
      "File \u001b[1;32mc:\\users\\jonas\\desktop\\uni\\msc\\year 1\\adm\\homework_3\\adm-2022-hw-3\\env\\lib\\site-packages\\nltk\\stem\\porter.py:258\u001b[0m, in \u001b[0;36mPorterStemmer._apply_rule_list\u001b[1;34m(self, word, rules)\u001b[0m\n\u001b[0;32m    249\u001b[0m \u001b[38;5;124;03m\"\"\"Applies the first applicable suffix-removal rule to the word\u001b[39;00m\n\u001b[0;32m    250\u001b[0m \n\u001b[0;32m    251\u001b[0m \u001b[38;5;124;03mTakes a word and a list of suffix-removal rules represented as\u001b[39;00m\n\u001b[1;32m   (...)\u001b[0m\n\u001b[0;32m    255\u001b[0m \u001b[38;5;124;03mor None if the rule is unconditional.\u001b[39;00m\n\u001b[0;32m    256\u001b[0m \u001b[38;5;124;03m\"\"\"\u001b[39;00m\n\u001b[0;32m    257\u001b[0m \u001b[38;5;28;01mfor\u001b[39;00m rule \u001b[38;5;129;01min\u001b[39;00m rules:\n\u001b[1;32m--> 258\u001b[0m     suffix, replacement, condition \u001b[38;5;241m=\u001b[39m rule\n\u001b[0;32m    259\u001b[0m     \u001b[38;5;28;01mif\u001b[39;00m suffix \u001b[38;5;241m==\u001b[39m \u001b[38;5;124m\"\u001b[39m\u001b[38;5;124m*d\u001b[39m\u001b[38;5;124m\"\u001b[39m \u001b[38;5;129;01mand\u001b[39;00m \u001b[38;5;28mself\u001b[39m\u001b[38;5;241m.\u001b[39m_ends_double_consonant(word):\n\u001b[0;32m    260\u001b[0m         stem \u001b[38;5;241m=\u001b[39m word[:\u001b[38;5;241m-\u001b[39m\u001b[38;5;241m2\u001b[39m]\n",
      "\u001b[1;31mKeyboardInterrupt\u001b[0m: "
     ]
    }
   ],
   "source": [
    "tf_idf_index = TfIdfIndex.create_from(ids, descriptions)"
   ]
  },
  {
   "cell_type": "markdown",
   "id": "e34bc17e",
   "metadata": {},
   "source": [
    "## Load saved index"
   ]
  },
  {
   "cell_type": "code",
   "execution_count": 12,
   "id": "27ecf0b6",
   "metadata": {},
   "outputs": [],
   "source": [
    "tf_idf_index = TfIdfIndex.load_from('./resources/tf_idf_index.pickle')"
   ]
  },
  {
   "cell_type": "markdown",
   "id": "c6cea382",
   "metadata": {},
   "source": [
    "---"
   ]
  },
  {
   "cell_type": "markdown",
   "id": "896ef690",
   "metadata": {},
   "source": [
    "# Create TF-IDF Search Engine"
   ]
  },
  {
   "cell_type": "code",
   "execution_count": 13,
   "id": "aad9d61a",
   "metadata": {},
   "outputs": [],
   "source": [
    "tf_idf_search_engine = SearchEngine(tf_idf_index, place_service)"
   ]
  },
  {
   "cell_type": "code",
   "execution_count": 14,
   "id": "826d850c",
   "metadata": {},
   "outputs": [
    {
     "data": {
      "text/html": [
       "<div>\n",
       "<style scoped>\n",
       "    .dataframe tbody tr th:only-of-type {\n",
       "        vertical-align: middle;\n",
       "    }\n",
       "\n",
       "    .dataframe tbody tr th {\n",
       "        vertical-align: top;\n",
       "    }\n",
       "\n",
       "    .dataframe thead th {\n",
       "        text-align: right;\n",
       "    }\n",
       "</style>\n",
       "<table border=\"1\" class=\"dataframe\">\n",
       "  <thead>\n",
       "    <tr style=\"text-align: right;\">\n",
       "      <th></th>\n",
       "      <th>name</th>\n",
       "      <th>desc</th>\n",
       "      <th>url</th>\n",
       "      <th>similarity</th>\n",
       "    </tr>\n",
       "  </thead>\n",
       "  <tbody>\n",
       "    <tr>\n",
       "      <th>3926</th>\n",
       "      <td>Smithsonian Sushi Collection</td>\n",
       "      <td>The American History Museum has collected an a...</td>\n",
       "      <td>https://www.atlasobscura.com/places/smithsonia...</td>\n",
       "      <td>0.999944</td>\n",
       "    </tr>\n",
       "    <tr>\n",
       "      <th>6489</th>\n",
       "      <td>Mercer Museum and Fonthill Castle</td>\n",
       "      <td>Henry Chapman Mercer, a renowned archaeologist...</td>\n",
       "      <td>https://www.atlasobscura.com/places/fonthill</td>\n",
       "      <td>0.998837</td>\n",
       "    </tr>\n",
       "    <tr>\n",
       "      <th>2458</th>\n",
       "      <td>Tamástslikt Cultural Institute</td>\n",
       "      <td>The Tamástslikt Cultural Institute, situated o...</td>\n",
       "      <td>https://www.atlasobscura.com/places/tamastslik...</td>\n",
       "      <td>0.998837</td>\n",
       "    </tr>\n",
       "    <tr>\n",
       "      <th>4697</th>\n",
       "      <td>Zippo/Case Museum</td>\n",
       "      <td>Invented in and still proudly manufactured in ...</td>\n",
       "      <td>https://www.atlasobscura.com/places/zippo-case...</td>\n",
       "      <td>0.998837</td>\n",
       "    </tr>\n",
       "    <tr>\n",
       "      <th>238</th>\n",
       "      <td>Off the Rez Cafe</td>\n",
       "      <td>The U.S. government’s forced relocation of Nat...</td>\n",
       "      <td>https://www.atlasobscura.com/places/off-the-re...</td>\n",
       "      <td>0.998837</td>\n",
       "    </tr>\n",
       "    <tr>\n",
       "      <th>6238</th>\n",
       "      <td>Oak Ridge &amp;quot;The Secret City&amp;quot;</td>\n",
       "      <td>The city of Oak Ridge was established by the U...</td>\n",
       "      <td>https://www.atlasobscura.com/places/the-secret...</td>\n",
       "      <td>0.998837</td>\n",
       "    </tr>\n",
       "    <tr>\n",
       "      <th>5429</th>\n",
       "      <td>Old Time Wooden Nickel Company</td>\n",
       "      <td>The adage goes, “don’t take any wooden nickels...</td>\n",
       "      <td>https://www.atlasobscura.com/places/old-time-w...</td>\n",
       "      <td>0.994973</td>\n",
       "    </tr>\n",
       "    <tr>\n",
       "      <th>5068</th>\n",
       "      <td>Self-Taught Genius Gallery</td>\n",
       "      <td>In 2017, the American Folk Art Museum in Manha...</td>\n",
       "      <td>https://www.atlasobscura.com/places/self-taugh...</td>\n",
       "      <td>0.992310</td>\n",
       "    </tr>\n",
       "    <tr>\n",
       "      <th>5517</th>\n",
       "      <td>Niles Essanay Silent Film Museum</td>\n",
       "      <td>It was Spring in San Francisco. One quiet Apri...</td>\n",
       "      <td>https://www.atlasobscura.com/places/niles-essa...</td>\n",
       "      <td>0.988467</td>\n",
       "    </tr>\n",
       "    <tr>\n",
       "      <th>343</th>\n",
       "      <td>Gillette Castle State Park</td>\n",
       "      <td>High above the Connecticut River, Gillette Cas...</td>\n",
       "      <td>https://www.atlasobscura.com/places/gillettes-...</td>\n",
       "      <td>0.988467</td>\n",
       "    </tr>\n",
       "  </tbody>\n",
       "</table>\n",
       "</div>"
      ],
      "text/plain": [
       "                                       name  \\\n",
       "3926           Smithsonian Sushi Collection   \n",
       "6489      Mercer Museum and Fonthill Castle   \n",
       "2458         Tamástslikt Cultural Institute   \n",
       "4697                      Zippo/Case Museum   \n",
       "238                        Off the Rez Cafe   \n",
       "6238  Oak Ridge &quot;The Secret City&quot;   \n",
       "5429         Old Time Wooden Nickel Company   \n",
       "5068             Self-Taught Genius Gallery   \n",
       "5517       Niles Essanay Silent Film Museum   \n",
       "343              Gillette Castle State Park   \n",
       "\n",
       "                                                   desc  \\\n",
       "3926  The American History Museum has collected an a...   \n",
       "6489  Henry Chapman Mercer, a renowned archaeologist...   \n",
       "2458  The Tamástslikt Cultural Institute, situated o...   \n",
       "4697  Invented in and still proudly manufactured in ...   \n",
       "238   The U.S. government’s forced relocation of Nat...   \n",
       "6238  The city of Oak Ridge was established by the U...   \n",
       "5429  The adage goes, “don’t take any wooden nickels...   \n",
       "5068  In 2017, the American Folk Art Museum in Manha...   \n",
       "5517  It was Spring in San Francisco. One quiet Apri...   \n",
       "343   High above the Connecticut River, Gillette Cas...   \n",
       "\n",
       "                                                    url  similarity  \n",
       "3926  https://www.atlasobscura.com/places/smithsonia...    0.999944  \n",
       "6489       https://www.atlasobscura.com/places/fonthill    0.998837  \n",
       "2458  https://www.atlasobscura.com/places/tamastslik...    0.998837  \n",
       "4697  https://www.atlasobscura.com/places/zippo-case...    0.998837  \n",
       "238   https://www.atlasobscura.com/places/off-the-re...    0.998837  \n",
       "6238  https://www.atlasobscura.com/places/the-secret...    0.998837  \n",
       "5429  https://www.atlasobscura.com/places/old-time-w...    0.994973  \n",
       "5068  https://www.atlasobscura.com/places/self-taugh...    0.992310  \n",
       "5517  https://www.atlasobscura.com/places/niles-essa...    0.988467  \n",
       "343   https://www.atlasobscura.com/places/gillettes-...    0.988467  "
      ]
     },
     "execution_count": 14,
     "metadata": {},
     "output_type": "execute_result"
    }
   ],
   "source": [
    "tf_idf_search_engine.query_top_k(\"american museum\", 10)"
   ]
  },
  {
   "cell_type": "markdown",
   "id": "524f0606",
   "metadata": {},
   "source": [
    "## Own Score"
   ]
  },
  {
   "cell_type": "code",
   "execution_count": 20,
   "id": "f1dbaeed",
   "metadata": {},
   "outputs": [
    {
     "data": {
      "text/html": [
       "<div>\n",
       "<style scoped>\n",
       "    .dataframe tbody tr th:only-of-type {\n",
       "        vertical-align: middle;\n",
       "    }\n",
       "\n",
       "    .dataframe tbody tr th {\n",
       "        vertical-align: top;\n",
       "    }\n",
       "\n",
       "    .dataframe thead th {\n",
       "        text-align: right;\n",
       "    }\n",
       "</style>\n",
       "<table border=\"1\" class=\"dataframe\">\n",
       "  <thead>\n",
       "    <tr style=\"text-align: right;\">\n",
       "      <th></th>\n",
       "      <th>name</th>\n",
       "      <th>desc</th>\n",
       "      <th>address</th>\n",
       "      <th>similarity</th>\n",
       "    </tr>\n",
       "  </thead>\n",
       "  <tbody>\n",
       "    <tr>\n",
       "      <th>5427</th>\n",
       "      <td>Palazzo Naiadi Roman Baths</td>\n",
       "      <td>Amid the construction of the luxury Palazzo Na...</td>\n",
       "      <td>Piazza della Repubblica, 47, Rome, Italy</td>\n",
       "      <td>-1.901117</td>\n",
       "    </tr>\n",
       "    <tr>\n",
       "      <th>5783</th>\n",
       "      <td>Mirabilia Gallery</td>\n",
       "      <td>This gallery, founded in 2016, is nestled betw...</td>\n",
       "      <td>14 Via di S. Teodoro, Rome, 00186, Italy</td>\n",
       "      <td>-2.328042</td>\n",
       "    </tr>\n",
       "    <tr>\n",
       "      <th>2093</th>\n",
       "      <td>Mamertine Prison</td>\n",
       "      <td>While jails and prisons were not a common feat...</td>\n",
       "      <td>Via Clivo Argentario, 1, Rome, 00186, Italy</td>\n",
       "      <td>-2.347713</td>\n",
       "    </tr>\n",
       "    <tr>\n",
       "      <th>4982</th>\n",
       "      <td>Rome&amp;#39;s Gladiator School</td>\n",
       "      <td>Tucked away on a side-street of the Appian Way...</td>\n",
       "      <td>Via Appia Antica 18, Rome, 00179, Italy</td>\n",
       "      <td>-2.535834</td>\n",
       "    </tr>\n",
       "    <tr>\n",
       "      <th>2781</th>\n",
       "      <td>Vicus Caprarius</td>\n",
       "      <td>The Trevi Fountain is one of Rome’s most notab...</td>\n",
       "      <td>25 Vicolo del Puttarello, Rome, 00187, Italy</td>\n",
       "      <td>-2.614343</td>\n",
       "    </tr>\n",
       "    <tr>\n",
       "      <th>2640</th>\n",
       "      <td>Keats-Shelley Memorial House</td>\n",
       "      <td>“This Grave / contains all that was Mortal / o...</td>\n",
       "      <td>Piazza di Spagna 26, Roma, Rome, 00187, Italy</td>\n",
       "      <td>-2.694380</td>\n",
       "    </tr>\n",
       "    <tr>\n",
       "      <th>2592</th>\n",
       "      <td>Mussolini&amp;#39;s Balcony</td>\n",
       "      <td>Benito Mussolini, known for being a powerful o...</td>\n",
       "      <td>Via del Plebiscito, Rome, Italy</td>\n",
       "      <td>-2.716135</td>\n",
       "    </tr>\n",
       "    <tr>\n",
       "      <th>281</th>\n",
       "      <td>Museum of the Holy Souls in Purgatory</td>\n",
       "      <td>Located in the back of the Chiesa del Sacro Cu...</td>\n",
       "      <td>Lungotevere Prati 12, Rome, 00193, Italy</td>\n",
       "      <td>-3.650568</td>\n",
       "    </tr>\n",
       "    <tr>\n",
       "      <th>5296</th>\n",
       "      <td>Centrale Montemartini</td>\n",
       "      <td>Industry is the backdrop for divinity at the C...</td>\n",
       "      <td>Via Ostiense 106, Rome, 00154, Italy</td>\n",
       "      <td>-3.792795</td>\n",
       "    </tr>\n",
       "    <tr>\n",
       "      <th>3692</th>\n",
       "      <td>The Criminology Museum</td>\n",
       "      <td>Operated by Italy’s federal Prison Administrat...</td>\n",
       "      <td>Via del Gonfalone 29, Rome, 00186, Italy</td>\n",
       "      <td>-3.897203</td>\n",
       "    </tr>\n",
       "  </tbody>\n",
       "</table>\n",
       "</div>"
      ],
      "text/plain": [
       "                                       name  \\\n",
       "5427             Palazzo Naiadi Roman Baths   \n",
       "5783                      Mirabilia Gallery   \n",
       "2093                       Mamertine Prison   \n",
       "4982           Rome&#39;s Gladiator School    \n",
       "2781                        Vicus Caprarius   \n",
       "2640           Keats-Shelley Memorial House   \n",
       "2592                Mussolini&#39;s Balcony   \n",
       "281   Museum of the Holy Souls in Purgatory   \n",
       "5296                  Centrale Montemartini   \n",
       "3692                 The Criminology Museum   \n",
       "\n",
       "                                                   desc  \\\n",
       "5427  Amid the construction of the luxury Palazzo Na...   \n",
       "5783  This gallery, founded in 2016, is nestled betw...   \n",
       "2093  While jails and prisons were not a common feat...   \n",
       "4982  Tucked away on a side-street of the Appian Way...   \n",
       "2781  The Trevi Fountain is one of Rome’s most notab...   \n",
       "2640  “This Grave / contains all that was Mortal / o...   \n",
       "2592  Benito Mussolini, known for being a powerful o...   \n",
       "281   Located in the back of the Chiesa del Sacro Cu...   \n",
       "5296  Industry is the backdrop for divinity at the C...   \n",
       "3692  Operated by Italy’s federal Prison Administrat...   \n",
       "\n",
       "                                            address  similarity  \n",
       "5427       Piazza della Repubblica, 47, Rome, Italy   -1.901117  \n",
       "5783       14 Via di S. Teodoro, Rome, 00186, Italy   -2.328042  \n",
       "2093    Via Clivo Argentario, 1, Rome, 00186, Italy   -2.347713  \n",
       "4982        Via Appia Antica 18, Rome, 00179, Italy   -2.535834  \n",
       "2781   25 Vicolo del Puttarello, Rome, 00187, Italy   -2.614343  \n",
       "2640  Piazza di Spagna 26, Roma, Rome, 00187, Italy   -2.694380  \n",
       "2592                Via del Plebiscito, Rome, Italy   -2.716135  \n",
       "281        Lungotevere Prati 12, Rome, 00193, Italy   -3.650568  \n",
       "5296           Via Ostiense 106, Rome, 00154, Italy   -3.792795  \n",
       "3692       Via del Gonfalone 29, Rome, 00186, Italy   -3.897203  "
      ]
     },
     "execution_count": 20,
     "metadata": {},
     "output_type": "execute_result"
    }
   ],
   "source": [
    "search_engine.query_custom('museum', 10, True)"
   ]
  },
  {
   "cell_type": "code",
   "execution_count": 21,
   "id": "7871b9e1",
   "metadata": {},
   "outputs": [],
   "source": [
    "places_df = read_places('./places.tsv')"
   ]
  },
  {
   "cell_type": "code",
   "execution_count": 27,
   "id": "f1e8a63e",
   "metadata": {},
   "outputs": [
    {
     "data": {
      "text/plain": [
       "['30 Unexpected Places to Have a Joyful Adventure in New York City',\n",
       " '10 Secrets of the New York City Subway',\n",
       " \"The World's Top 100 Wonders in 2018\",\n",
       " \"New York's Top 18 Wonders of 2018\",\n",
       " 'New York City History',\n",
       " ' Hidden In Plain Sight']"
      ]
     },
     "execution_count": 27,
     "metadata": {},
     "output_type": "execute_result"
    }
   ],
   "source": [
    "places_df.appears_in[0].split(\",\")"
   ]
  }
 ],
 "metadata": {
  "kernelspec": {
   "display_name": "Python 3 (ipykernel)",
   "language": "python",
   "name": "python3"
  },
  "language_info": {
   "codemirror_mode": {
    "name": "ipython",
    "version": 3
   },
   "file_extension": ".py",
   "mimetype": "text/x-python",
   "name": "python",
   "nbconvert_exporter": "python",
   "pygments_lexer": "ipython3",
   "version": "3.9.0"
  }
 },
 "nbformat": 4,
 "nbformat_minor": 5
}
