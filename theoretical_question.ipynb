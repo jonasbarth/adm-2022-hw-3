{
 "cells": [
  {
   "cell_type": "code",
   "execution_count": 18,
   "id": "cd69c747",
   "metadata": {},
   "outputs": [],
   "source": [
    "from functools import reduce"
   ]
  },
  {
   "cell_type": "code",
   "execution_count": 68,
   "id": "63d1b677",
   "metadata": {},
   "outputs": [],
   "source": [
    "class Student:\n",
    "    \"\"\"Represents a student.\n",
    "    \n",
    "    Attributes\n",
    "    ----------\n",
    "    name : str\n",
    "        full name of the student.\n",
    "    grades : []\n",
    "        a list of grades that the student obtained.\n",
    "    \"\"\"\n",
    "    def __init__(self, name, grades):\n",
    "        self.name = name\n",
    "        self.grades = grades\n",
    "        \n",
    "    def avg_grade(self):\n",
    "        total = reduce(lambda a, b: a + b, self.grades)\n",
    "        \n",
    "        return total / len(self.grades)\n",
    "    \n",
    "    def __lt__(self, other):\n",
    "        return self.avg_grade() < other.avg_grade()\n",
    "    \n",
    "    def __le__(self, other):\n",
    "        return self.avg_grade() <= other.avg_grade()\n",
    "    \n",
    "    def __gt__(self, other):\n",
    "        return self.avg_grade() > other.avg_grade()\n",
    "    \n",
    "    def __ge__(self, other):\n",
    "        return self.avg_grade() >= other.avg_grade()\n",
    "    \n",
    "    def __eq__(self, other):\n",
    "        return self.avg_grade() == other.avg_grade()"
   ]
  },
  {
   "cell_type": "code",
   "execution_count": 38,
   "id": "fd07fe4d",
   "metadata": {},
   "outputs": [],
   "source": [
    "students = []"
   ]
  },
  {
   "cell_type": "code",
   "execution_count": 39,
   "id": "7008d6ba",
   "metadata": {},
   "outputs": [],
   "source": [
    "with open('data/ApplicantsInfo.txt', 'r') as file:\n",
    "   \n",
    "    n_applications, n_exams = map(int, file.readline().split())\n",
    "    \n",
    "    for _ in range(n_applications):\n",
    "        student_info = file.readline().split()\n",
    "        \n",
    "        student_name = ' '.join(student_info[:2])\n",
    "        student_marks = list(map(int, student_info[2:]))\n",
    "        \n",
    "        student = Student(student_name, student_marks)\n",
    "        students.append(student)"
   ]
  },
  {
   "cell_type": "code",
   "execution_count": 81,
   "id": "8c430e7b",
   "metadata": {},
   "outputs": [],
   "source": [
    "def bubble_sort(arr):\n",
    "    \"\"\"In place implementation of bubble sort O(n^2).\"\"\"\n",
    "    for i in range(len(arr)):\n",
    "        \n",
    "        for j in range(len(arr) - i - 1):\n",
    "            \n",
    "            if arr[j] > arr[j + 1]:\n",
    "                arr[j], arr[j + 1] = arr[j + 1], arr[j]"
   ]
  },
  {
   "cell_type": "code",
   "execution_count": 89,
   "id": "a711d630",
   "metadata": {},
   "outputs": [],
   "source": [
    "to_sort = students[:1000].copy()"
   ]
  },
  {
   "cell_type": "code",
   "execution_count": 90,
   "id": "a01322d6",
   "metadata": {},
   "outputs": [],
   "source": [
    "bubble_sort(to_sort)"
   ]
  },
  {
   "cell_type": "code",
   "execution_count": 92,
   "id": "f6695f18",
   "metadata": {},
   "outputs": [],
   "source": [
    "import math\n",
    "\n",
    "def merge_sort(arr, left, right):\n",
    "    \"\"\"In place implmentation of merge sort.\"\"\"\n",
    "    if left < right:\n",
    "        middle = math.floor((left + right) / 2)\n",
    "        merge_sort(arr, left, middle)\n",
    "        merge_sort(arr, middle + 1, right)\n",
    "        merge(arr, left, middle, right) # need to write the merge function\n",
    "        "
   ]
  }
 ],
 "metadata": {
  "kernelspec": {
   "display_name": "Python 3 (ipykernel)",
   "language": "python",
   "name": "python3"
  },
  "language_info": {
   "codemirror_mode": {
    "name": "ipython",
    "version": 3
   },
   "file_extension": ".py",
   "mimetype": "text/x-python",
   "name": "python",
   "nbconvert_exporter": "python",
   "pygments_lexer": "ipython3",
   "version": "3.9.0"
  }
 },
 "nbformat": 4,
 "nbformat_minor": 5
}
