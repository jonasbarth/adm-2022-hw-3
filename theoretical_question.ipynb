{
 "cells": [
  {
   "cell_type": "code",
   "execution_count": 18,
   "id": "cd69c747",
   "metadata": {},
   "outputs": [],
   "source": [
    "from functools import reduce"
   ]
  },
  {
   "cell_type": "code",
   "execution_count": 68,
   "id": "63d1b677",
   "metadata": {},
   "outputs": [],
   "source": [
    "class Student:\n",
    "    \"\"\"Represents a student.\n",
    "    \n",
    "    Attributes\n",
    "    ----------\n",
    "    name : str\n",
    "        full name of the student.\n",
    "    grades : []\n",
    "        a list of grades that the student obtained.\n",
    "    \"\"\"\n",
    "    def __init__(self, name, grades):\n",
    "        self.name = name\n",
    "        self.grades = grades\n",
    "        \n",
    "    def avg_grade(self):\n",
    "        total = reduce(lambda a, b: a + b, self.grades)\n",
    "        \n",
    "        return total / len(self.grades)\n",
    "    \n",
    "    def __lt__(self, other):\n",
    "        return self.avg_grade() < other.avg_grade()\n",
    "    \n",
    "    def __le__(self, other):\n",
    "        return self.avg_grade() <= other.avg_grade()\n",
    "    \n",
    "    def __gt__(self, other):\n",
    "        return self.avg_grade() > other.avg_grade()\n",
    "    \n",
    "    def __ge__(self, other):\n",
    "        return self.avg_grade() >= other.avg_grade()\n",
    "    \n",
    "    def __eq__(self, other):\n",
    "        return self.avg_grade() == other.avg_grade()"
   ]
  },
  {
   "cell_type": "code",
   "execution_count": 38,
   "id": "fd07fe4d",
   "metadata": {},
   "outputs": [],
   "source": [
    "students = []"
   ]
  },
  {
   "cell_type": "code",
   "execution_count": 39,
   "id": "7008d6ba",
   "metadata": {},
   "outputs": [],
   "source": [
    "with open('data/ApplicantsInfo.txt', 'r') as file:\n",
    "   \n",
    "    n_applications, n_exams = map(int, file.readline().split())\n",
    "    \n",
    "    for _ in range(n_applications):\n",
    "        student_info = file.readline().split()\n",
    "        \n",
    "        student_name = ' '.join(student_info[:2])\n",
    "        student_marks = list(map(int, student_info[2:]))\n",
    "        \n",
    "        student = Student(student_name, student_marks)\n",
    "        students.append(student)"
   ]
  },
  {
   "cell_type": "code",
   "execution_count": 81,
   "id": "8c430e7b",
   "metadata": {},
   "outputs": [],
   "source": [
    "def bubble_sort(arr):\n",
    "    \"\"\"In place implementation of bubble sort O(n^2).\"\"\"\n",
    "    for i in range(len(arr)):\n",
    "        \n",
    "        for j in range(len(arr) - i - 1):\n",
    "            \n",
    "            if arr[j] > arr[j + 1]:\n",
    "                arr[j], arr[j + 1] = arr[j + 1], arr[j]"
   ]
  },
  {
   "cell_type": "code",
   "execution_count": 89,
   "id": "a711d630",
   "metadata": {},
   "outputs": [],
   "source": [
    "to_sort = students[:1000].copy()"
   ]
  },
  {
   "cell_type": "code",
   "execution_count": 90,
   "id": "a01322d6",
   "metadata": {},
   "outputs": [],
   "source": [
    "bubble_sort(to_sort)"
   ]
  },
  {
   "cell_type": "code",
   "execution_count": 9,
   "id": "f6695f18",
   "metadata": {},
   "outputs": [],
   "source": [
    "def merge(arr, left, middle, right):\n",
    "    \"\"\"Merges two arrays\"\"\"\n",
    "    \n",
    "    # Get all items belonging to the left and right arrays\n",
    "    left_arr = [arr[left + i] for i in range(middle - left + 1)]\n",
    "    right_arr = [arr[middle + 1 + i] for i in range(right - middle)]\n",
    "\n",
    "    # indeces to keep track of\n",
    "    main_index = left\n",
    "    left_index = 0\n",
    "    right_index = 0\n",
    "\n",
    "    while len(left_arr) > left_index and len(right_arr) > right_index:\n",
    "\n",
    "        left = left_arr[left_index]\n",
    "        right = right_arr[right_index]\n",
    "\n",
    "        if left < right:\n",
    "            arr[main_index] = left\n",
    "            left_index += 1\n",
    "\n",
    "        else:\n",
    "            arr[main_index] = right\n",
    "            right_index += 1\n",
    "\n",
    "        main_index += 1\n",
    "    \n",
    "    # add items that are leftover in the left array\n",
    "    while left_index < len(left_arr):\n",
    "        arr[main_index] = left_arr[left_index]\n",
    "        main_index += 1\n",
    "        left_index += 1\n",
    "\n",
    "    # add items that are leftover in the right array\n",
    "    while right_index < len(right_arr):\n",
    "        arr[main_index] = right_arr[right_index]\n",
    "        main_index += 1\n",
    "        right_index += 1"
   ]
  },
  {
   "cell_type": "code",
   "execution_count": 10,
   "id": "bcfa00ef",
   "metadata": {},
   "outputs": [],
   "source": [
    "def merge_sort(arr, left, right):\n",
    "    \"\"\"In place implementation of merge sort.\"\"\"\n",
    "    if left < right:\n",
    "        middle = (left + right) // 2\n",
    "        \n",
    "        # sort the left part of the array\n",
    "        merge_sort(arr, left, middle)\n",
    "        \n",
    "        # sort the right part of the array\n",
    "        merge_sort(arr, middle + 1, right)\n",
    "        \n",
    "        # merge the two sorted arrays\n",
    "        merge(arr, left, middle, right)"
   ]
  },
  {
   "cell_type": "code",
   "execution_count": 12,
   "id": "718fe7a8",
   "metadata": {},
   "outputs": [
    {
     "name": "stdout",
     "output_type": "stream",
     "text": [
      "[3, 4, 8, 10]\n"
     ]
    }
   ],
   "source": [
    "a = [8,3,10,4]\n",
    "\n",
    "merge_sort(a, 0, 3)\n",
    "print(a)"
   ]
  }
 ],
 "metadata": {
  "kernelspec": {
   "display_name": "Python 3 (ipykernel)",
   "language": "python",
   "name": "python3"
  },
  "language_info": {
   "codemirror_mode": {
    "name": "ipython",
    "version": 3
   },
   "file_extension": ".py",
   "mimetype": "text/x-python",
   "name": "python",
   "nbconvert_exporter": "python",
   "pygments_lexer": "ipython3",
   "version": "3.9.0"
  }
 },
 "nbformat": 4,
 "nbformat_minor": 5
}
