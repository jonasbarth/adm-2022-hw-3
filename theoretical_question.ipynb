{
 "cells": [
  {
   "cell_type": "code",
   "execution_count": null,
   "id": "cd69c747",
   "metadata": {},
   "outputs": [],
   "source": [
    "from functools import reduce"
   ]
  },
  {
   "cell_type": "code",
   "execution_count": 31,
   "id": "63d1b677",
   "metadata": {},
   "outputs": [],
   "source": [
    "class Student:\n",
    "    \"\"\"Represents a student.\n",
    "    \n",
    "    Attributes\n",
    "    ----------\n",
    "    name : str\n",
    "        full name of the student.\n",
    "    grades : []\n",
    "        a list of grades that the student obtained.\n",
    "    \"\"\"\n",
    "    def __init__(self, name, grades):\n",
    "        self.name = name\n",
    "        self.grades = grades\n",
    "        \n",
    "    def avg_grade(self):\n",
    "        total = reduce(lambda a, b: a + b, self.grades)\n",
    "        \n",
    "        return total / len(self.grades)\n",
    "    \n",
    "    def __lt__(self, other):\n",
    "        return self.avg_grade() < other.avg_grade()\n",
    "    \n",
    "    def __le__(self, other):\n",
    "        return self.avg_grade() <= other.avg_grade()\n",
    "    \n",
    "    def __gt__(self, other):\n",
    "        return self.avg_grade() > other.avg_grade()\n",
    "    \n",
    "    def __ge__(self, other):\n",
    "        return self.avg_grade() >= other.avg_grade()\n",
    "    \n",
    "    def __eq__(self, other):\n",
    "        return self.avg_grade() == other.avg_grade()\n",
    "    \n",
    "    def __repr__(self):\n",
    "        return f\"Name: {self.name}. Average Grade: {round(self.avg_grade(),2)}\""
   ]
  },
  {
   "cell_type": "code",
   "execution_count": 32,
   "id": "7008d6ba",
   "metadata": {
    "scrolled": false
   },
   "outputs": [
    {
     "name": "stdout",
     "output_type": "stream",
     "text": [
      "How many exams do you want to consider? 10\n",
      "How many applicants do you want to consider? 8\n"
     ]
    }
   ],
   "source": [
    "students =[]\n",
    "with open('ApplicantsInfo.txt', 'r') as file:\n",
    "   \n",
    "    n_applications, n_exams = map(int, file.readline().split())\n",
    "    k = int(input(\"How many exams do you want to consider? \")) + 2 \n",
    "    \n",
    "    for _ in range(int(input('How many applicants do you want to consider? '))):\n",
    "        student_info = file.readline().split()\n",
    "    \n",
    "        \n",
    "        student_name = ' '.join(student_info[:2])\n",
    "        student_marks = list(map(int, student_info[2:k]))\n",
    "\n",
    "        \n",
    "        student = Student(student_name, student_marks)\n",
    "        students.append(student)"
   ]
  },
  {
   "cell_type": "code",
   "execution_count": 33,
   "id": "ebcf5469",
   "metadata": {},
   "outputs": [
    {
     "data": {
      "text/plain": [
       "[Name: Richard Scott. Average Grade: 25.3,\n",
       " Name: Paula Ahmadi. Average Grade: 24.1,\n",
       " Name: Arthur Richardson. Average Grade: 21.0,\n",
       " Name: Vonda Duncan. Average Grade: 23.1,\n",
       " Name: Stephanie Ibrahim. Average Grade: 24.3,\n",
       " Name: Francis Lomax. Average Grade: 22.8,\n",
       " Name: Edna Walbridge. Average Grade: 26.1,\n",
       " Name: Ruth Ortega. Average Grade: 25.8]"
      ]
     },
     "execution_count": 33,
     "metadata": {},
     "output_type": "execute_result"
    }
   ],
   "source": [
    "students"
   ]
  },
  {
   "cell_type": "code",
   "execution_count": null,
   "id": "8c430e7b",
   "metadata": {},
   "outputs": [],
   "source": [
    "def bubble_sort(arr):\n",
    "    \"\"\"In place implementation of bubble sort O(n^2).\"\"\"\n",
    "    for i in range(len(arr)):\n",
    "        \n",
    "        for j in range(len(arr) - i - 1):\n",
    "            \n",
    "            if arr[j] > arr[j + 1]:\n",
    "                arr[j], arr[j + 1] = arr[j + 1], arr[j]"
   ]
  },
  {
   "cell_type": "code",
   "execution_count": null,
   "id": "f6695f18",
   "metadata": {},
   "outputs": [],
   "source": [
    "def merge(arr, left, middle, right):\n",
    "    \"\"\"Merges two arrays\"\"\"\n",
    "    \n",
    "    # Get all items belonging to the left and right arrays\n",
    "    left_arr = [arr[left + i] for i in range(middle - left + 1)]\n",
    "    right_arr = [arr[middle + 1 + i] for i in range(right - middle)]\n",
    "\n",
    "    # indeces to keep track of\n",
    "    main_index = left\n",
    "    left_index = 0\n",
    "    right_index = 0\n",
    "\n",
    "    while len(left_arr) > left_index and len(right_arr) > right_index:\n",
    "\n",
    "        left = left_arr[left_index]\n",
    "        right = right_arr[right_index]\n",
    "\n",
    "        if left < right:\n",
    "            arr[main_index] = left\n",
    "            left_index += 1\n",
    "\n",
    "        else:\n",
    "            arr[main_index] = right\n",
    "            right_index += 1\n",
    "\n",
    "        main_index += 1\n",
    "    \n",
    "    # add items that are leftover in the left array\n",
    "    while left_index < len(left_arr):\n",
    "        arr[main_index] = left_arr[left_index]\n",
    "        main_index += 1\n",
    "        left_index += 1\n",
    "\n",
    "    # add items that are leftover in the right array\n",
    "    while right_index < len(right_arr):\n",
    "        arr[main_index] = right_arr[right_index]\n",
    "        main_index += 1\n",
    "        right_index += 1"
   ]
  },
  {
   "cell_type": "code",
   "execution_count": null,
   "id": "bcfa00ef",
   "metadata": {},
   "outputs": [],
   "source": [
    "def merge_sort(arr, left, right):\n",
    "    \"\"\"In place implementation of merge sort.\"\"\"\n",
    "    if left < right:\n",
    "        middle = (left + right) // 2\n",
    "        \n",
    "        # sort the left part of the array\n",
    "        merge_sort(arr, left, middle)\n",
    "        \n",
    "        # sort the right part of the array\n",
    "        merge_sort(arr, middle + 1, right)\n",
    "        \n",
    "        # merge the two sorted arrays\n",
    "        merge(arr, left, middle, right)\n",
    "    "
   ]
  },
  {
   "cell_type": "code",
   "execution_count": null,
   "id": "fe2a8e6d",
   "metadata": {
    "scrolled": true
   },
   "outputs": [],
   "source": [
    "import random \n",
    "def quick_sort(arr):\n",
    "\n",
    "    if len(arr) == 0 or len(arr)==1:\n",
    "        return arr\n",
    "    else:\n",
    "        idx = random.randint(0,len(arr) -1)\n",
    "        arr_1=partion_1(arr, idx)\n",
    "        arr_2=partion_2(arr, arr[idx])\n",
    "        a_1=quick_sort(arr_1)\n",
    "        a_2=quick_sort(arr_2)\n",
    "    return a_1 + [arr[idx]] + a_2\n",
    "       "
   ]
  },
  {
   "cell_type": "code",
   "execution_count": null,
   "id": "8e29197c",
   "metadata": {},
   "outputs": [],
   "source": [
    "def partion_1(a,pivot):\n",
    "    arr=[]\n",
    "    for i,l in enumerate(a):\n",
    "        if l <= a[pivot] and i != pivot:\n",
    "            arr.append(l)\n",
    "            \n",
    "    return arr"
   ]
  },
  {
   "cell_type": "code",
   "execution_count": null,
   "id": "1ad1c42d",
   "metadata": {},
   "outputs": [],
   "source": [
    "def partion_2(a,pivot):\n",
    "    arr=[]\n",
    "    for x in a:\n",
    "        if x > pivot:\n",
    "            arr.append(x)\n",
    "            \n",
    "    return arr"
   ]
  },
  {
   "cell_type": "code",
   "execution_count": null,
   "id": "9aded445",
   "metadata": {},
   "outputs": [],
   "source": [
    "quick_sort(students)[::-1]"
   ]
  },
  {
   "cell_type": "code",
   "execution_count": null,
   "id": "6692d9e2",
   "metadata": {},
   "outputs": [],
   "source": [
    "merge_sort(students,0 , len(students)-1)\n",
    "students[::-1]"
   ]
  },
  {
   "cell_type": "code",
   "execution_count": null,
   "id": "a50d4b38",
   "metadata": {},
   "outputs": [],
   "source": [
    "bubble_sort(students)\n",
    "students[::-1]"
   ]
  },
  {
   "cell_type": "code",
   "execution_count": null,
   "id": "21de8fd0",
   "metadata": {},
   "outputs": [],
   "source": [
    "def quick_time(nu):\n",
    "    start_time = time.monotonic()\n",
    "    quick_sort(students[:nu])\n",
    "    end_time = time.monotonic()\n",
    "    return end_time - start_time"
   ]
  },
  {
   "cell_type": "code",
   "execution_count": null,
   "id": "2adbdcba",
   "metadata": {},
   "outputs": [],
   "source": [
    "def merge_time(nu):\n",
    "\n",
    "    start_time = time.monotonic()\n",
    "    merge_sort(students[:nu], 0, len(students[:nu])-1) \n",
    "    end_time = time.monotonic()\n",
    "    return end_time - start_time\n",
    "    "
   ]
  },
  {
   "cell_type": "code",
   "execution_count": null,
   "id": "2d00f376",
   "metadata": {},
   "outputs": [],
   "source": [
    "def bubble_time(nu):\n",
    "    start_time = time.monotonic()\n",
    "    bubble_sort(students[:nu])\n",
    "    end_time = time.monotonic()\n",
    "    return end_time - start_time\n",
    "    "
   ]
  },
  {
   "cell_type": "code",
   "execution_count": null,
   "id": "38a92103",
   "metadata": {},
   "outputs": [],
   "source": [
    "from datetime import timedelta\n",
    "import time\n",
    "import math\n"
   ]
  },
  {
   "cell_type": "code",
   "execution_count": 27,
   "id": "56370881",
   "metadata": {
    "scrolled": false
   },
   "outputs": [
    {
     "data": {
      "image/png": "[encoded data removed]",
      "text/plain": [
       "<Figure size 1008x576 with 1 Axes>"
      ]
     },
     "metadata": {
      "needs_background": "light"
     },
     "output_type": "display_data"
    }
   ],
   "source": [
    "from matplotlib import pyplot as plt\n",
    "from matplotlib.pyplot import figure\n",
    "import timeit\n",
    "\n",
    "ns1 = range(2, 250, 10)\n",
    "q_time = [quick_time(n) for n in ns1 ]\n",
    "m_time = [merge_time(n) for n in ns1 ]\n",
    "b_time = [bubble_time(n) for n in ns1 ]\n",
    "\n",
    "\n",
    "\n",
    "figure(figsize=(14, 8))\n",
    "plt.plot(ns1, q_time, '-r', label= 'quick sort')\n",
    "plt.plot(ns1, m_time, '-b', label= 'merge sort')\n",
    "plt.plot(ns1, b_time, '-y', label= 'bubble sort')\n",
    "\n",
    "\n",
    "plt.xlabel('') \n",
    "plt.ylabel('The running time of the algorithm') \n",
    "plt.title('The running time of the sorting algorithms ')\n",
    "plt.legend()\n",
    "plt.show()"
   ]
  },
  {
   "cell_type": "markdown",
   "id": "0fa2055d",
   "metadata": {},
   "source": [
    "# Computational Cost\n",
    "\n",
    "## Merge Sort\n",
    "The computational time of the Merge sort is $\\theta(n log(n))$.\n",
    "\n",
    "The idea behind the merge sort is to divide the problems into subproblems, solve them and combine the solutions.\n",
    "\n",
    "The array of size n will be divided into two arrays of size n/2, these two array will be divided further into 4 arrays of size n/4, and so on until each subarray reach a single element. Then we combine all the arrays in a way that results are sorted.\n",
    "\n",
    "The computational cost can be splitted in two parts:\n",
    "\n",
    "* The cost of recursevely sort an array of size \n",
    "* The cost of combine two array into one\n",
    "\n",
    "\n",
    "\n",
    "Time complexity in the worst case:\n",
    "\n",
    "\\begin{cases}\n",
    "  T(n)  = c if n = 1\\\\\n",
    "  T(n)  = 2 T(\\frac{n}{2}) + 2cn \\hspace{0.5cm}   if n \\geq 1 \n",
    "\\end{cases}\n",
    "\n",
    "$ T(n) = 2 T(\\frac{n}{2}) + 2cn $  Cost at level 1\n",
    "\n",
    "\n",
    "$ 4 T(\\frac{n}{4}) + 4 + 4cn   $\n",
    "\n",
    "in general:\n",
    "\n",
    "$$ T(\\frac{n}{2^{k}}) = 2^{k} T(\\frac{n}{2^{k}}) + kcn $$\n",
    "\n",
    "\n",
    "it will end when $\\frac{n} {2^{k}} $ is equal to 1 , $k = \\log(n) $\n",
    "\n",
    "it will get:\n",
    "\n",
    "$$ T(n) = 2^{log(n)} T(1) + log(n) cn + c $$\n",
    "\n",
    "since $T(1) = c$  and $ 2^{log(n)} = n$ time complexity will be : \n",
    "\n",
    "$$ T(n) = \\Theta(n + nlog(n)) =\\Theta(n log(n)) $$\n",
    "\n",
    "\n",
    "The computational time of the merge sort is the same in the best, worst or random case. \n",
    "\n",
    "\n",
    "\n",
    "\n",
    "\n",
    "## Bubble Sort\n",
    "\n",
    "The time complexity of the Bubble sort is $\\Theta(N^2)$.\n",
    "\n",
    "Bubble sort is a simple sorting algorithm that goes through the elements of the list and compares the current element with the one after it, then if the first one is bigger it swaps the two. After the first iteration we have the bigger element of the list in the last position. \n",
    "\n",
    "So in general, in the $i^{th}$ iteration we go through the elements of the list and we swap as needed up until the $(N-i)^{th}$ element. After N iterations we obtain the sorted list.\n",
    "\n",
    "```python\n",
    "    for i in range(len(arr)):                               #N times (N=length of arr)\n",
    "        for j in range(len(arr) - i - 1):                   #N-i-1 times, i=0,...,N\n",
    "            if arr[j] > arr[j + 1]:                         #θ(1)\n",
    "                arr[j], arr[j + 1] = arr[j + 1], arr[j]     #θ(1)\n",
    "```\n",
    "\n",
    "When we apply the Bubble sort to a vector of size N we repeat the first 'for loop' N times while the second 'for loop' is repeated N-i-1 times (with i$\\in${0,...,N}). The time complexity of the lines inside the second 'for loop' is $\\Theta(1)$. \n",
    "\n",
    "So the time complexity of the Bubble sort is $$T(N)=N \\cdot (N-i-1) \\cdot \\Theta(1)=N \\cdot \\Theta(N)= \\Theta(N^2)$$.\n",
    "\n",
    "## Quick sort\n",
    "The time complexity of the Quicksort is, on average, $\\Theta(N \\cdot log(N))$ while in the worst case the time complexity is $\\Theta(N^2)$.\n",
    "\n",
    "Quicksort works by selecting a random 'pivot' element from the list and partitioning the other elements into two sub-lists, the first list containing the elements smaller than the pivot, the second one containing the largest elements. The sub-lists are then sorted recursively. \n",
    "\n",
    "The time complexity of the base case is $\\Theta(1)$.\n",
    "\n",
    "In the worst case:\n",
    "\n",
    "$T(N)=\\Theta(N)+ T(N-1) \\hspace{0.5cm}   if\\ n > 1$\n",
    "\n",
    "$T(N) = \\Theta(N)+ T(N-1)= \\Theta(N)+ \\Theta(N-1)+ T(N-2)= \\sum_\\limits{k=0}^{N-1} \\Theta(N) +T(1)= \\Theta(N^2)$\n",
    "\n",
    "The worst case occurs when one of the sub-lists is of size N-1. This happens when the pivot is the smallest or the largest element in the list. If this happens repeatedly in each partition the time complexity would be $\\Theta(N^2)$.\n",
    "\n",
    "In the average case:\n",
    "\n",
    "$T(N)=\\Theta(N)+ 2 \\cdot T(\\frac{N}{2}) \\hspace{0.5cm}   if\\ n > 1$\n",
    "\n",
    "We know that as in the Merge sort, in this case, $T(N)=\\Theta(N \\cdot log(N))$.\n",
    "\n",
    "In the average case, each time we perform a partition we divide the list into two sub-lists with lenght around $\\frac{N}{2}$."
   ]
  },
  {
   "cell_type": "markdown",
   "id": "8cf48bb7",
   "metadata": {},
   "source": [
    "* Regarding computational time:\n",
    "\n",
    "Merge sort is the best algorithm we can choose, by the way, quick sort and merge sort have the same behavior as $\\Theta(nlog(n))$.\n",
    "The point is that the efficiency of quicksort is extremely related to how we select the pivot. If the partitions created are very unbalanced, quicksort becomes very slow and inefficient.\n",
    "\n",
    "Basically, the main idea is the same, both algorithms partition the array, merge sort always of size $\\frac{n}{2}$ while quick sort doesn't necessarily do that.\n",
    "\n",
    "Merge sort performs fewer comparisons than Quicksort in both the average and worst cases.\n",
    "\n",
    "* Regarding space requirements:\n",
    "\n",
    "Merge sort requires creating subarrays in addition to the original array. and hence, the algorithm must create n items in memory. Therefore, the complexity of the space is $\\Theta(n)$\n",
    "\n",
    "Quicksort is an in-place sorting algorithm. Its memory complexity is O(1).\n",
    "\n",
    "* In conclusion:\n",
    "\n",
    "Merge sort is very efficient for any particular list, but if the cost of allocating new memory is very high, we should always prefer quicksort.\n",
    "\n",
    "Quicksort is very efficient at sorting small datasets. If the dataset to be sorted is too large to fit in memory all at once, using quicksort would not be possible."
   ]
  }
 ],
 "metadata": {
  "kernelspec": {
   "display_name": "Python 3 (ipykernel)",
   "language": "python",
   "name": "python3"
  },
  "language_info": {
   "codemirror_mode": {
    "name": "ipython",
    "version": 3
   },
   "file_extension": ".py",
   "mimetype": "text/x-python",
   "name": "python",
   "nbconvert_exporter": "python",
   "pygments_lexer": "ipython3",
   "version": "3.9.12"
  }
 },
 "nbformat": 4,
 "nbformat_minor": 5
}
